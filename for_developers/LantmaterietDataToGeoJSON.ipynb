{
  "nbformat": 4,
  "nbformat_minor": 0,
  "metadata": {
    "colab": {
      "name": "LantmaterietDataToGeoJSON.ipynb",
      "provenance": [],
      "collapsed_sections": [],
      "authorship_tag": "ABX9TyMu+AQ7/qwAa0wVD2GZ/9D8"
    },
    "kernelspec": {
      "name": "python3",
      "display_name": "Python 3"
    }
  },
  "cells": [
    {
      "cell_type": "code",
      "metadata": {
        "id": "xuqIu16aI4Mi",
        "colab_type": "code",
        "colab": {}
      },
      "source": [
        "!pip install pyshp"
      ],
      "execution_count": 0,
      "outputs": []
    },
    {
      "cell_type": "code",
      "metadata": {
        "id": "Kk_rtwFBJS8D",
        "colab_type": "code",
        "colab": {}
      },
      "source": [
        "import shapefile\n",
        "#Läser in datamängd AK. \n",
        "#Dessa behöver tankas ner från lantmäteriet Sverigekartor 1:1 miljon. \n",
        "#Filer finns i sve_1milj_Sweref_99_TM_shape/svk/riks/ak_riks.{cpg|dbf|prj|shp|shx}\n",
        "#Ladda upp samtliga till colab.\n",
        "sf = shapefile.Reader(\"ak_riks\", encoding=\"latin1\")\n",
        "len(sf.records()) #295 kommuner\n"
      ],
      "execution_count": 0,
      "outputs": []
    },
    {
      "cell_type": "markdown",
      "metadata": {
        "id": "h38L0nsgQw5i",
        "colab_type": "text"
      },
      "source": [
        "Koden nedan hämtades från [https://gis.stackexchange.com/questions/292637/from-sweref99-to-epsg3857](https://gis.stackexchange.com/questions/292637/from-sweref99-to-epsg3857). Datan från lantmäteriet är inte lat/lng utan ett annat koordinatsystem och behöver omvandlas."
      ]
    },
    {
      "cell_type": "code",
      "metadata": {
        "id": "9B6C7NFrwOTT",
        "colab_type": "code",
        "cellView": "form",
        "colab": {}
      },
      "source": [
        "#@title Omvandling grid till lat/lng\n",
        "import math\n",
        "\n",
        "axis = None # Semi-major axis of the ellipsoid.\n",
        "flattening = None # Flattening of the ellipsoid.\n",
        "central_meridian = None # Central meridian for the projection.\n",
        "lat_of_origin = None # Latitude of origin.\n",
        "scale = None # Scale on central meridian.\n",
        "false_northing = None # Offset for origo.\n",
        "false_easting = None # Offset for origo.\n",
        "\n",
        "# Parameters for SWEREF99TM.\n",
        "# Parameter: projection (string). Must match if-statement.\n",
        "def swedish_params(projection) :\n",
        "\n",
        "    global central_meridian \n",
        "    global scale \n",
        "    global false_northing \n",
        "    global false_easting \n",
        "    global lat_of_origin\n",
        "    # SWEREF99TM and SWEREF99ddmm  parameters.\n",
        "    if (projection == \"sweref_99_tm\") :\n",
        "        sweref99_params()\n",
        "        central_meridian = 15.00\n",
        "        lat_of_origin = 0.0\n",
        "        scale = 0.9996\n",
        "        false_northing = 0.0\n",
        "        false_easting = 500000.0\n",
        "\n",
        "def sweref99_params() :\n",
        "\n",
        "    global axis \n",
        "    global flattening \n",
        "    global central_meridian \n",
        "    global lat_of_origin \n",
        "    global scale \n",
        "    global false_northing \n",
        "    global false_easting \n",
        "\n",
        "    axis = 6378137.0 # GRS 80.\n",
        "    flattening = 1.0 / 298.257222101 # GRS 80.\n",
        "    central_meridian = None\n",
        "    lat_of_origin = 0.0\n",
        "    scale = 1.0\n",
        "    false_northing = 0.0\n",
        "    false_easting = 150000.0\n",
        "\n",
        "# Conversion from grid coordinates to geodetic coordinates.\n",
        "def grid_to_geodetic(x, y) :\n",
        "    lat_lon = [0] * 2\n",
        "    if (central_meridian == None) :\n",
        "        return lat_lon\n",
        "\n",
        "    # Prepare ellipsoid-based stuff.\n",
        "    e2 = flattening * (2.0 - flattening)\n",
        "    n = flattening / (2.0 - flattening)\n",
        "    a_roof = axis / (1.0 + n) * (1.0 + n*n/4.0 + n*n*n*n/64.0)\n",
        "    delta1 = n/2.0 - 2.0*n*n/3.0 + 37.0*n*n*n/96.0 - n*n*n*n/360.0\n",
        "    delta2 = n*n/48.0 + n*n*n/15.0 - 437.0*n*n*n*n/1440.0\n",
        "    delta3 = 17.0*n*n*n/480.0 - 37*n*n*n*n/840.0\n",
        "    delta4 = 4397.0*n*n*n*n/161280.0\n",
        "\n",
        "    Astar = e2 + e2*e2 + e2*e2*e2 + e2*e2*e2*e2\n",
        "    Bstar = -(7.0*e2*e2 + 17.0*e2*e2*e2 + 30.0*e2*e2*e2*e2) / 6.0\n",
        "    Cstar = (224.0*e2*e2*e2 + 889.0*e2*e2*e2*e2) / 120.0\n",
        "    Dstar = -(4279.0*e2*e2*e2*e2) / 1260.0\n",
        "\n",
        "    # Convert.\n",
        "    deg_to_rad = math.pi / 180\n",
        "    lambda_zero = central_meridian * deg_to_rad\n",
        "    xi = (x - false_northing) / (scale * a_roof)       \n",
        "    eta = (y - false_easting) / (scale * a_roof)\n",
        "    xi_prim = xi - delta1*math.sin(2.0*xi) * math_cosh(2.0*eta) - delta2*math.sin(4.0*xi) * math_cosh(4.0*eta) - delta3*math.sin(6.0*xi) * math_cosh(6.0*eta) - delta4*math.sin(8.0*xi) * math_cosh(8.0*eta)\n",
        "    eta_prim = eta - delta1*math.cos(2.0*xi) * math_sinh(2.0*eta) - delta2*math.cos(4.0*xi) * math_sinh(4.0*eta) - delta3*math.cos(6.0*xi) * math_sinh(6.0*eta) - delta4*math.cos(8.0*xi) * math_sinh(8.0*eta)\n",
        "    phi_star = math.asin(math.sin(xi_prim) / math_cosh(eta_prim))\n",
        "    delta_lambda = math.atan(math_sinh(eta_prim) / math.cos(xi_prim))\n",
        "    lon_radian = lambda_zero + delta_lambda\n",
        "    lat_radian = phi_star + math.sin(phi_star) * math.cos(phi_star) * (Astar + Bstar*math.pow(math.sin(phi_star), 2) + Cstar*math.pow(math.sin(phi_star), 4) + Dstar*math.pow(math.sin(phi_star), 6))    \n",
        "    lat_lon[0] = lat_radian * 180.0 / math.pi\n",
        "    lat_lon[1] = lon_radian * 180.0 / math.pi\n",
        "    return lat_lon\n",
        "\n",
        "\n",
        "# Missing defs in the math library.\n",
        "def math_sinh(value) :\n",
        "    return 0.5 * (math.exp(value) - math.exp(-value))\n",
        "\n",
        "def math_cosh(value) :\n",
        "    return 0.5 * (math.exp(value) + math.exp(-value))\n",
        "\n",
        "def math_atanh(value) :\n",
        "    return 0.5 * math.log((1.0 + value) / (1.0 - value))\n",
        "\n",
        "swedish_params(\"sweref_99_tm\")"
      ],
      "execution_count": 0,
      "outputs": []
    },
    {
      "cell_type": "code",
      "metadata": {
        "id": "nn3Qdin9w1TT",
        "colab_type": "code",
        "colab": {}
      },
      "source": [
        "!pip install geojson\n",
        "from geojson import Point, Feature, FeatureCollection, dump\n",
        "\n",
        "#Exempel omvandla en lista med punkter till lat/lng\n",
        "xy = sf.shape(0).points\n",
        "latlng = [tuple(grid_to_geodetic(y,x)) for (x,y) in xy]\n",
        "\n",
        "#Omvandla hela datamängden till lat/lng\n",
        "geodata = sf.__geo_interface__\n",
        "#print(geodata['features'][0])\n",
        "for feature in geodata['features']:\n",
        "  coords = feature['geometry']['coordinates']\n",
        "  coords = list(coords)\n",
        "  coords[0] = list(coords[0])\n",
        "  for i,(x,y) in enumerate(coords[0]):\n",
        "    #GeoJSON ska sparas i lng/lat istället för lat/lng\n",
        "    coords[0][i] = grid_to_geodetic(y,x)[::-1]\n",
        "  feature['geometry']['coordinates'] = coords\n",
        "\n",
        "#Omvandla bounding box\n",
        "geodata['bbox'] = geodata['bbox'].tolist()\n",
        "bbx1,bby1,bbx2,bby2 = geodata['bbox']\n",
        "bblat1,bblng1 = grid_to_geodetic(bby1,bbx1)\n",
        "bblat2,bblng2 = grid_to_geodetic(bby2,bbx2)\n",
        "geodata['bbox'] = [bblng1,bblat1,bblng2,bblat2]\n",
        "\n",
        "\n",
        "with open('kommuner.geojson', 'w') as f:\n",
        "   dump(geodata, f)"
      ],
      "execution_count": 0,
      "outputs": []
    }
  ]
}