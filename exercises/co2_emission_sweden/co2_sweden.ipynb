{
  "nbformat": 4,
  "nbformat_minor": 0,
  "metadata": {
    "colab": {
      "name": "Co2 sweden",
      "version": "0.3.2",
      "provenance": [],
      "private_outputs": true,
      "collapsed_sections": [],
      "toc_visible": true
    },
    "kernelspec": {
      "name": "python3",
      "display_name": "Python 3"
    }
  },
  "cells": [
    {
      "cell_type": "markdown",
      "metadata": {
        "id": "k1_KrRfv6Wid",
        "colab_type": "text"
      },
      "source": [
        "# Koldioxidustläpp i Sverige\n",
        "\n",
        "I denna uppgift kommer vi kolla på hur Sveriges koldioxid ustläpp är fördelade. Hur stor del utgör exempelvis trafiken eller jordbruket? Datan vi använder är hämtad från SCB och den innehåller hur mycket växthusgaser olika kategorier släpper ut. \n",
        "\n",
        "Vi börjar med att ladda ned och packa upp datan från github genom att köra följande kod: "
      ]
    },
    {
      "cell_type": "code",
      "metadata": {
        "id": "wPhEpowv6VqV",
        "colab_type": "code",
        "colab": {}
      },
      "source": [
        "!wget https://github.com/lunduniversity/schoolprog-satellite/raw/master/exercises/co2-utsl%C3%A4pp_sverige/data.zip --no-verbose\n",
        "import zipfile\n",
        "zip_ref = zipfile.ZipFile('data.zip')\n",
        "zip_ref.extractall()\n",
        "zip_ref.close()\n",
        "    \n",
        "import matplotlib.pyplot as plt\n",
        "import numpy as np"
      ],
      "execution_count": 0,
      "outputs": []
    },
    {
      "cell_type": "markdown",
      "metadata": {
        "id": "H81nQOSm9Eve",
        "colab_type": "text"
      },
      "source": [
        "## 1. Läs in datan från filen\n",
        "All data vi behöver finns i `data.txt`.  Du kan klicka på filen i fönstret till vänster för att öppna den och se strukturen. Den har fyra tab-separerade kolumner. På översta raden står vad de olika kolumnerna innebär. \n",
        "\n",
        "**Uppdrag:** Läs in datan från filen och spara den i en `dict` `data_by_category` som ska ha kategorin som står i andra kolumnen som nycklar, och för varje kategori ska den innehålla en lista med alla koldioxidutsläpp. För att splitta en sträng vid tab kan du använda `.split(\"\\t\")`."
      ]
    },
    {
      "cell_type": "code",
      "metadata": {
        "id": "_YbyoXmV7Q3t",
        "colab_type": "code",
        "colab": {}
      },
      "source": [
        ""
      ],
      "execution_count": 0,
      "outputs": []
    },
    {
      "cell_type": "markdown",
      "metadata": {
        "id": "cn2YoPcG-o4k",
        "colab_type": "text"
      },
      "source": [
        "<details><summary markdown=\"span\">Tips</summary>\n",
        "<p>\n",
        "    Glöm inte att ta bort den översta raden, den innehåller ingen faktisk data. Tänk på att när du läser in värdena är de strängar, du måste göra om CO2-värdena med <code>float()</code>. Du kan också kolla om en nyckel redan finns, om den inte finns kan du lägga till en tom lista för det värdet och sen använda <code>.append()</code>.\n",
        "    </p>   \n",
        "</details>\n",
        "\n",
        "<details><summary markdown=\"span\">Lösning</summary>\n",
        "<p>\n",
        "<pre><code>with open(\"data.txt\", \"r\") as f:\n",
        "    data = f.read()\n",
        "data = data.split(\"\\n\")\n",
        "raw_data = []\n",
        "for line in data:\n",
        "    raw_data.append(line.split(\"\\t\"))\n",
        "raw_data = raw_data[1:]\n",
        "data_by_category = {}\n",
        "for measure in raw_data:\n",
        "    if(measure[1] not in data_by_category):\n",
        "        data_by_category[measure[1]]=[]\n",
        "    data_by_category[measure[1]].append(float(measure[3]))\n",
        "</code></pre></p>\n",
        "</details>\n",
        "\n",
        "Nu när vi har läst in all data kan vi börja plotta. Kategorin som heter `NATIONELL TOTAL (exklusive LULUCF, inklusive internationella transporter)` är det totala koldioxidutsläppet från Sverige mätt i tusen ton CO2-ekvivalenter. Anledningen till att man räknar CO2-ekvivalent är att vi släpper ut flera olika växthusgaser, men för att lättare sammanställa ett resultat jämför man hur stor påverkan olika växthusgaser har jämfört med koldioxid och beräknar hur mycket koldioxid det motsvarar. \n",
        "\n",
        "## 2. Plotta totala utsläppen\n",
        "\n",
        "**Uppdrag:** Skapa en lista `years`med åren för datan, och plotta kategorin `NATIONELL TOTAL (exklusive LULUCF, inklusive internationella transporter)` för y mellan 0 och 100000. Hur ser det ut? Hur mycket har vi släppt ut som mest, hur mycket släppte vi ut 2017?"
      ]
    },
    {
      "cell_type": "code",
      "metadata": {
        "id": "TBNp09pIDIYp",
        "colab_type": "code",
        "colab": {}
      },
      "source": [
        ""
      ],
      "execution_count": 0,
      "outputs": []
    },
    {
      "cell_type": "markdown",
      "metadata": {
        "id": "ud8fwwJFDI9e",
        "colab_type": "text"
      },
      "source": [
        "<details><summary markdown=\"span\">Tips</summary>\n",
        "<p>\n",
        "    Använd <code>plt.ylim(0, 100000)</code>.\n",
        "    </p>   \n",
        "</details>\n",
        "\n",
        "<details><summary markdown=\"span\">Lösning</summary>\n",
        "<p>\n",
        "<pre><code>years = [i for i in range(1990, 2018)]\n",
        "y = data_by_category['NATIONELL TOTAL (exklusive LULUCF, inklusive internationella transporter)']\n",
        "plt.figure(figsize=(10,10))\n",
        "plt.grid(True)\n",
        "plt.plot(years, y)\n",
        "plt.ylim(0, 100000)\n",
        "plt.show()\n",
        "</code></pre></p>\n",
        "</details>\n",
        "\n",
        "<details><summary markdown=\"span\">Svar</summary>\n",
        "<p>\n",
        "   Det är långsamt på väg nedåt, trenden pekar nedåt. Vi släppte ut mest 1996, då låg vi på ungefär 82 miljoner ton CO2-ekvivalenter medans vi idag ligger på ungefär 63 miljoner ton CO2-ekvivalenter. \n",
        "    </p>   \n",
        "</details>\n"
      ]
    },
    {
      "cell_type": "markdown",
      "metadata": {
        "id": "SMlx_LTZE3dQ",
        "colab_type": "text"
      },
      "source": [
        "## 3. Plotta sektor för sektor\n",
        "\n",
        "För att visualisera hur stor del av utsläppen som kommer från vilken sektor vill vi nu plotta ett staplat stapeldiagram. För att skapa detta behöver vi flera plottar i samma figur. Precis som vi kan plotta flera linjediagram i samma figur kan vi plotta flera stapeldiagram i samma figur. Om vi väljer varje stapels startpunkt till föregående stapels slutpunkt ser det ut som om de står på varandra. Vi vill skapa en lista `bars` som ska vara fylld med information för de olika sektorerna vi plottar. För att lägga till staplar anropar vi `plt.bar`. Den returnerar en samling av alla staplar som läggs till. För att sedan kunna märka vilken stapel som är vilken behöver vi spara informationen. Nedan instansierar vi en variabel `bars` som vi sedan vill fylla. Vi skapar även en variabel `categories` som är en lista av nycklar i form av strängar för de olika kategorierna som vi vill skapa stapeldiagram för. Vi skapar även en array av rank 1: `bottoms` som innehåller värdena där varje stapel ska börja. Vi instansierar denna som bara nollor då de första staplarna ska börja på 0."
      ]
    },
    {
      "cell_type": "code",
      "metadata": {
        "id": "qTmV0RnZE5d6",
        "colab_type": "code",
        "colab": {}
      },
      "source": [
        "bars = []\n",
        "categories = list(data_by_category.keys())\n",
        "categories = categories[1:]\n",
        "bottoms = np.zeros(28)"
      ],
      "execution_count": 0,
      "outputs": []
    },
    {
      "cell_type": "markdown",
      "metadata": {
        "id": "fI0RmW47E8Ek",
        "colab_type": "text"
      },
      "source": [
        "Vi vill nu skapa staplar för varje kategori vilket vi gör genom att anropa `plt.bar(x, height, width, bottom)`, där `x` är en lista för staplarnas x-värden, `height` är en lista med staplarnas höjder, `width` är bredden på staplarna och `bottom` är en lista med y-värden där staplarna ska börja plottas ifrån. Vi vill också spara informationen, lägg därför till den returnerade informationen från `plt.bar()` till listan `bars`. Vi kan använda 0.5 som `width`.\n",
        "\n",
        "**Uppdrag:** Lägg till staplar för varje kategori, så att staplarna hamnar på varandra och fyll listan `bars` med den returnerade informationen från `plt.bar()`."
      ]
    },
    {
      "cell_type": "code",
      "metadata": {
        "id": "d8Qq0Q3rE--P",
        "colab_type": "code",
        "colab": {}
      },
      "source": [
        ""
      ],
      "execution_count": 0,
      "outputs": []
    },
    {
      "cell_type": "markdown",
      "metadata": {
        "id": "-My-l_UCFByn",
        "colab_type": "text"
      },
      "source": [
        "<details><summary markdown=\"span\">Tips</summary>\n",
        " <p>Du kan exempelvis skapa en stapel med följande kod:<pre>\n",
        "  bar = plt.bar(years, data_by_category[category], 0.5, bottom=bottoms)</pre>\n",
        "  Där <code>category</code> motsvarar en kategori i <code>categories</code>\n",
        "  </p>\n",
        " </details> \n",
        "\n",
        "\n",
        "<details><summary markdown=\"span\">Lösning</summary>\n",
        " <p><pre>for category in categories:\n",
        "    bar = plt.bar(years, data_by_category[category], 0.5, bottom=bottoms)\n",
        "    bars.append(bar)\n",
        "    bottoms = np.array(data_by_category[category]) + bottoms\n",
        " </pre>\n",
        "  </p>\n",
        " </details> \n",
        " \n",
        " För att kunna se vilken stapel som tillhör vilken kategori behöver vi lägga till en legend. Vi har i koden nedan skapat samma diagram som tidigare fast nu valt en storlek och ylim, lagt till en grid och lagt till legender.\n",
        " \n",
        " **Uppdrag:** Kan du förstå ungefär hur koden fungerar? Testa att skapa en ny lista och använd `[::-1]`, vad händer?"
      ]
    },
    {
      "cell_type": "code",
      "metadata": {
        "id": "Wh1zv6zRFCMh",
        "colab_type": "code",
        "colab": {}
      },
      "source": [
        "bars = []\n",
        "bottoms = np.zeros(28)\n",
        "plt.figure(figsize=(15,10))\n",
        "for category in categories:\n",
        "    bar = plt.bar(years, data_by_category[category], 0.5, bottom=bottoms)\n",
        "    bars.append(bar)\n",
        "    bottoms = np.array(data_by_category[category]) + bottoms\n",
        "plt.grid(True)\n",
        "plt.ylim(0, 110000)\n",
        "plt.legend(tuple(map(lambda x:x[0], bars))[::-1], tuple(categories[::-1]))"
      ],
      "execution_count": 0,
      "outputs": []
    },
    {
      "cell_type": "markdown",
      "metadata": {
        "id": "3ym_7y1-tjK6",
        "colab_type": "text"
      },
      "source": [
        "<details><summary markdown=\"span\">Svar</summary>\n",
        " <p>För att lägga till en legend behöver vi ge en stapel och namnet på stapeln till <code>plt.legend()</code>. Det första argumentet till <code>plt.legend()</code> är en tuple av den första stapeln i varje kategori, eftersom staplarna i samma kategori plottades samtidigt får de samma färg, därför behvöver vi bara komma år en av dem. <code>tuple(map(lambda x:x[0], bars))</code> plockar ut den första stapeln i varje kategori. <code>[::-1]</code> byter sedan håll på tupeln. Det andra argumentet är namnet på alla kategorier vi plottat baklänges. Vi gör även om det till en tuple eftersom <code>plt.legend()</code> kräver detta.\n",
        "  </p>\n",
        " </details> "
      ]
    },
    {
      "cell_type": "markdown",
      "metadata": {
        "id": "4sCWUQfuFEU1",
        "colab_type": "text"
      },
      "source": [
        "**Uppdrag:**  Hur har de olika kategorierna förändrats sedan 1990? Vilken har minskat mest?"
      ]
    },
    {
      "cell_type": "markdown",
      "metadata": {
        "id": "HIylBsa7FGqm",
        "colab_type": "text"
      },
      "source": [
        "<details><summary markdown=\"span\">Svar</summary>\n",
        " <p>Uppvärmning av bostäder och lokaler har minksat mycket sedan 1990 och är idag i princip fossilfri.\n",
        "  </p>\n",
        " </details> "
      ]
    }
  ]
}