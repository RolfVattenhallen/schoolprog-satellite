{
  "nbformat": 4,
  "nbformat_minor": 0,
  "metadata": {
    "colab": {
      "name": "UPPG-CO2-ekvivalenter.ipynb",
      "provenance": [],
      "private_outputs": true,
      "collapsed_sections": [
        "PWYLhXEeZdNY"
      ]
    },
    "kernelspec": {
      "name": "python3",
      "display_name": "Python 3"
    }
  },
  "cells": [
    {
      "cell_type": "markdown",
      "metadata": {
        "id": "xZt5Va7FQcSD",
        "colab_type": "text"
      },
      "source": [
        "# Utsläpp från svenska kommuner\n",
        "# Introduktion till uppgiften\n",
        "I den här uppgiften ska vi lära oss mer om svenska kommuners utsläpp av växthusgaser. Det räknas varje år ut data för hur mycket utsläpp som sker av olika ämnen i Sveriges kommuner. \n",
        "\n",
        "Genom att undersöka den här datan närmare kan man jämföra olika kommuners utsläpp och se hur de skiljer sig åt. Vi kommer rita diagram för hur utsläppen har ändrats över tid, och även stapeldiagram för att jämföra utsläppen mellan kommuner. Du kommer också få lära dig vad koldioxidekvivalent betyder.\n",
        "\n",
        "![Bild på utsläpp av rök](https://upload.wikimedia.org/wikipedia/commons/6/64/Smoke_Pollution.jpg)\n",
        "[Foto](https://pixabay.com/sv/photos/r%C3%B6k-fabriken-f%C3%B6rorening-industrin-1580460/) av [AdinaVoicu](https://pixabay.com/sv/users/adinavoicu-485024/) / [Pixabay License](https://pixabay.com/sv/service/license/)\n",
        "\n",
        "Programmeringsmässigt handlar den här uppgiften till största del om att hantera data i listor och tabeller. Det förutsätts att du vet vad en lista är i python, samt hur man indexerar i en lista. \n",
        "\n",
        "Du kommer lära dig att indexera i tabeller eller välja ut rader eller kolumner ur tabellen. Du kommer också lära dig hur du kan använda en slice för att välja ut delar av listor."
      ]
    },
    {
      "cell_type": "markdown",
      "metadata": {
        "id": "fgQ7qzGEQ1sz",
        "colab_type": "text"
      },
      "source": [
        "## Introduktion till listor och tabeller\n",
        "\n",
        "\n"
      ]
    },
    {
      "cell_type": "markdown",
      "metadata": {
        "id": "fFPgjbHXlGeP",
        "colab_type": "text"
      },
      "source": [
        "I den här uppgiften kommer vi kolla mycket på listor och tabeller i python. Listor har vi stött på i tidigare uppgifter, de kan till exempel innehålla element som är heltal:"
      ]
    },
    {
      "cell_type": "code",
      "metadata": {
        "id": "_AP4_JQHR7jV",
        "colab_type": "code",
        "colab": {}
      },
      "source": [
        "lista = [1,5,0,-2]\n",
        "print(lista)"
      ],
      "execution_count": null,
      "outputs": []
    },
    {
      "cell_type": "markdown",
      "metadata": {
        "id": "XyAM1Y_iR70X",
        "colab_type": "text"
      },
      "source": [
        "För att skapa tabeller kommer vi använda listor där elementen i sig också är listor. På så sätt kan vi lägga till en dimension och därmed skapa en tabell:"
      ]
    },
    {
      "cell_type": "code",
      "metadata": {
        "id": "j7hqf1ouSQPT",
        "colab_type": "code",
        "colab": {}
      },
      "source": [
        "en_lista = [1,5,0,-2]\n",
        "en_annan_lista = [2,3,7,1]\n",
        "tabell = [en_lista, en_annan_lista]\n",
        "print(tabell)"
      ],
      "execution_count": null,
      "outputs": []
    },
    {
      "cell_type": "markdown",
      "metadata": {
        "id": "82OARcTRSPzb",
        "colab_type": "text"
      },
      "source": [
        "Kör koden och se vad du får för utskrift.\n",
        "\n",
        "Detta kanske inte ser ut som en tabell, men om vi istället skriver ut varje element på var sin rad ser det mer ut som en tabell:"
      ]
    },
    {
      "cell_type": "code",
      "metadata": {
        "id": "ODPm9re8Sm5r",
        "colab_type": "code",
        "colab": {}
      },
      "source": [
        "for element in tabell:\n",
        "    print(element)"
      ],
      "execution_count": null,
      "outputs": []
    },
    {
      "cell_type": "markdown",
      "metadata": {
        "id": "xAHXLWymVV0N",
        "colab_type": "text"
      },
      "source": [
        "Listorna som är element i den stora listan motsvarar en rad i tabellen."
      ]
    },
    {
      "cell_type": "markdown",
      "metadata": {
        "id": "C4ZJMLyQSnzS",
        "colab_type": "text"
      },
      "source": [
        "### Indexering"
      ]
    },
    {
      "cell_type": "markdown",
      "metadata": {
        "id": "vXshJqeLlCk8",
        "colab_type": "text"
      },
      "source": [
        "Indexering handlar om att få ut enstaka element ur listor. Om man skriver:"
      ]
    },
    {
      "cell_type": "code",
      "metadata": {
        "id": "ceqOXRezT05G",
        "colab_type": "code",
        "colab": {}
      },
      "source": [
        "print(en_lista[1])"
      ],
      "execution_count": null,
      "outputs": []
    },
    {
      "cell_type": "markdown",
      "metadata": {
        "id": "0nWbU2vKVTqZ",
        "colab_type": "text"
      },
      "source": [
        "Så får man ut det andra elementet, 5. Det är för att vi börjar räkna från 0.\n",
        "\n",
        "Man kan göra detta upprepat för att få ut element ur sin tabell. Kör koden nedan och se vilket element som skrivs ut. Förstår du varför?\n",
        "\n"
      ]
    },
    {
      "cell_type": "code",
      "metadata": {
        "id": "Z5Kldt8tVsAs",
        "colab_type": "code",
        "colab": {}
      },
      "source": [
        "print(tabell[1][2])"
      ],
      "execution_count": null,
      "outputs": []
    },
    {
      "cell_type": "markdown",
      "metadata": {
        "id": "PbGI0EFEV4Oq",
        "colab_type": "text"
      },
      "source": [
        "<details>\n",
        "<summary markdown=\"span\">\n",
        "Tips\n",
        "</summary>\n",
        "<p>\n",
        "Vad motsvarar tabell[1]? Vad händer när vi sedan gör [2] på det? \n",
        "</p>\n",
        "</details>\n",
        "\n",
        "<details>\n",
        "<summary markdown=\"span\">\n",
        "Svar\n",
        "</summary>\n",
        "<p>\n",
        "Vi får ut 7. Det är för att vi först tar den andra raden med [1] och sen det tredje elementet [2].  \n",
        "</p>\n",
        "</details>\n",
        "\n",
        "Skriv kod som skapar en tabell som har 4 kolumner och 3 rader. Kan du göra det med endast en kodrad?"
      ]
    },
    {
      "cell_type": "code",
      "metadata": {
        "id": "B1BFdsoYWEZs",
        "colab_type": "code",
        "colab": {}
      },
      "source": [
        "#Skriv din kod här:\n",
        "tabell ="
      ],
      "execution_count": null,
      "outputs": []
    },
    {
      "cell_type": "markdown",
      "metadata": {
        "id": "gzYnH05FWI0T",
        "colab_type": "text"
      },
      "source": [
        "<details>\n",
        "<summary markdown=\"span\">\n",
        "Svar\n",
        "</summary>\n",
        "<p>\n",
        "\n",
        "```python\n",
        "tabell = [[1,2,3,4], [5,6,7,8], [9,8,7,6]]\n",
        "```\n",
        "</p>\n",
        "</details>"
      ]
    },
    {
      "cell_type": "markdown",
      "metadata": {
        "id": "BKjyj1lmUNhJ",
        "colab_type": "text"
      },
      "source": [
        "Hur ska du göra för att få tillgång till det första elementet i den sista raden?"
      ]
    },
    {
      "cell_type": "code",
      "metadata": {
        "id": "zzePV_1IbKPf",
        "colab_type": "code",
        "colab": {}
      },
      "source": [
        "print(???) # Skriver ut det första elementet i den sista raden"
      ],
      "execution_count": null,
      "outputs": []
    },
    {
      "cell_type": "markdown",
      "metadata": {
        "id": "ZMLoq__5bKbg",
        "colab_type": "text"
      },
      "source": [
        "<details>\n",
        "<summary markdown=\"span\">\n",
        "Svar\n",
        "</summary>\n",
        "<p>\n",
        "\n",
        "```python\n",
        "print(tabell[2][0])\n",
        "```\n",
        "</p>\n",
        "</details>"
      ]
    },
    {
      "cell_type": "markdown",
      "metadata": {
        "id": "aZPHg_kVRGyJ",
        "colab_type": "text"
      },
      "source": [
        "## Välj ut ett län och ladda ner till colab"
      ]
    },
    {
      "cell_type": "markdown",
      "metadata": {
        "id": "nlpTkvV3YDSz",
        "colab_type": "text"
      },
      "source": [
        "I hela den här uppgiften ska vi titta på utsläpp av koldioxid och metan. Datafiler kan hämtas för alla län från SMHI, men för säkerhets skull tillhandahåller vi också nedsparade datafiler för skåne. Följ en av instruktionerna nedan."
      ]
    },
    {
      "cell_type": "markdown",
      "metadata": {
        "id": "ifrHH4HmYzvT",
        "colab_type": "text"
      },
      "source": [
        "### Ladda ner datafiler från smhi\n",
        "\n",
        "Gå in på [http://www.airviro.smhi.se/cgi-bin/RUS/apub.html_rusreport.cgi](http://www.airviro.smhi.se/cgi-bin/RUS/apub.html_rusreport.cgi), och filtrera på länet du vill arbeta med. Välj koldioxid och metan, och ladda ner datafilerna till din dator. \n",
        "\n",
        "Nu ska du ladda upp datafilerna till colab. Tryck på files i menyn i vänsterkanten, och sedan upload. Ladda upp dina två filer. \n",
        "\n",
        "Om du kan: öppna också filerna du har laddat ner och titta på innehållet (i till exempel excel eller google sheets). I det andra databladet finns en stor tabell. Datan är uppdelad över varifrån utsläppen kommer. De första raderna innehåller information om vad hela kommuner släpper ut, vilket är vad vi främst kommer kolla på här."
      ]
    },
    {
      "cell_type": "markdown",
      "metadata": {
        "id": "PWYLhXEeZdNY",
        "colab_type": "text"
      },
      "source": [
        "### Ladda ner nedsparade datafiler för skåne län\n",
        "\n",
        "Om det inte funkar att ladda ner manuellt enligt instruktionerna ovan, har vi en nödlösning här:"
      ]
    },
    {
      "cell_type": "markdown",
      "metadata": {
        "id": "jKAPPhZsBZxY",
        "colab_type": "text"
      },
      "source": [
        "Kör koden nedan."
      ]
    },
    {
      "cell_type": "code",
      "metadata": {
        "id": "6hTLIJKYE-7I",
        "colab_type": "code",
        "colab": {}
      },
      "source": [
        "!wget https://github.com/lunduniversity/schoolprog-satellite-data/raw/master/regionalemissions/lansrapport_skane_CO2.xls --quiet\n",
        "!wget https://github.com/lunduniversity/schoolprog-satellite-data/raw/master/regionalemissions/lansrapport_skane_CH4.xls --quiet"
      ],
      "execution_count": null,
      "outputs": []
    },
    {
      "cell_type": "markdown",
      "metadata": {
        "id": "kRYfRrMqFZLv",
        "colab_type": "text"
      },
      "source": [
        "Tryck på files i menyn till vänster, och kolla att filerna dykt upp där."
      ]
    },
    {
      "cell_type": "markdown",
      "metadata": {
        "id": "C19fg6joZmoc",
        "colab_type": "text"
      },
      "source": [
        "### Läs in datafilerna med python"
      ]
    },
    {
      "cell_type": "markdown",
      "metadata": {
        "id": "ZMh3IhXYk4-Y",
        "colab_type": "text"
      },
      "source": [
        "Oavsett vilket alternativ du valde ovan, borde du nu ha filer inladdade i colab. Dessa behöver läsas in av python. För att det inte ska bli för krångligt kommer här nedan en liten kodsnutt som gör det knepigaste jobbet. Kör koden. Du behöver inte förstå vad koden gör. "
      ]
    },
    {
      "cell_type": "code",
      "metadata": {
        "id": "g_F035zAa9aL",
        "colab_type": "code",
        "cellView": "both",
        "colab": {}
      },
      "source": [
        "import matplotlib.pyplot as plt\n",
        "import pandas as pd\n",
        "import numpy as np\n",
        "\n",
        "#Får ett filnamn och antal kommuner i länet. Returnerar tabell från xls-filen.\n",
        "def read_data(filename):\n",
        "  df = pd.read_excel(filename, sheet_name=1)\n",
        "  values = df.values.tolist() #Skapar en matris med innehållet från andra\n",
        "                              #databladet i excel-filen\n",
        "  num_kommuner = sum([row[0]=='alla' for row in values]) - 1\n",
        "  tabell = values[3:6+num_kommuner] #Väljer ut början av tabellen fram till och\n",
        "                                   #med sista kommunen.\n",
        "  kort_tabell = [rad[3:] for rad in tabell]\n",
        "  return kort_tabell\n",
        "\n",
        "#Skriver ut en tabell fint\n",
        "def print_table(table):\n",
        "    print(pd.DataFrame(table))"
      ],
      "execution_count": null,
      "outputs": []
    },
    {
      "cell_type": "markdown",
      "metadata": {
        "id": "u5o17Uv4bbRM",
        "colab_type": "text"
      },
      "source": [
        "Med hjälp av funktionen `read_data` i koden ovan kan vi nu läsa in filerna. Vi börjar med filen för koldioxid. Om du använder nedsparad data för skåne borde du inte behöva ändra något. Annars behöver du ändra parametern till namnet på din fil."
      ]
    },
    {
      "cell_type": "code",
      "metadata": {
        "id": "fa-PCTt-dMs8",
        "colab_type": "code",
        "colab": {}
      },
      "source": [
        "co2_filename = 'lansrapport_skane_CO2.xls' #Byt ut mig!\n",
        "co2_tabell = read_data(co2_filename)"
      ],
      "execution_count": null,
      "outputs": []
    },
    {
      "cell_type": "markdown",
      "metadata": {
        "id": "1RPNet1CdgS9",
        "colab_type": "text"
      },
      "source": [
        "Skriv ut tabellen och verifiera att den innehåller en tabell över kommunerna i länet. En vanlig print blir lång och svårtolkad. Det finns dock en funktion `print_table` som är skriven ovanför. Den kan hjälpa dig."
      ]
    },
    {
      "cell_type": "code",
      "metadata": {
        "id": "HoUNOSQ1d_Rr",
        "colab_type": "code",
        "colab": {}
      },
      "source": [
        "#Lång och svårtolkad utskrift\n",
        "#print(co2_tabell)\n",
        "\n",
        "#Lättare att se hur tabellen ser ut\n",
        "print_table(co2_tabell)"
      ],
      "execution_count": null,
      "outputs": []
    },
    {
      "cell_type": "markdown",
      "metadata": {
        "id": "WeKDsh25VtD9",
        "colab_type": "text"
      },
      "source": [
        "Det borde stå `NaN` i över vänstra hörnet. Det är bara en beteckning för 'not a number', och betyder ungefär att rutan är tom.\n",
        "\n"
      ]
    },
    {
      "cell_type": "markdown",
      "metadata": {
        "id": "ogRmZTWIRIyo",
        "colab_type": "text"
      },
      "source": [
        "## Plotta CO2-utsläpp\n"
      ]
    },
    {
      "cell_type": "markdown",
      "metadata": {
        "id": "sptzdKckkzv5",
        "colab_type": "text"
      },
      "source": [
        "Nu vill vi se hur mycket koldioxid som släppts ut i ditt län de senaste åren. SMHI har data som börjar redan 1990, men vi är intresserade av åren 2010 och framåt.\n",
        "\n",
        "Till att börja med behöver årtalslistan plockas ut från tabellen."
      ]
    },
    {
      "cell_type": "markdown",
      "metadata": {
        "id": "rcxqTSK9B8TT",
        "colab_type": "text"
      },
      "source": [
        "Vilken rad i tabellen hittar du årtalen på?\n",
        "\n",
        "<details>\n",
        "<summary markdown=\"span\">\n",
        "Svar\n",
        "</summary>\n",
        "<p>\n",
        "Årtalen är på den första raden. Titta i utskriften från uppgiften ovanför så ser du det.\n",
        "</p>\n",
        "</details>"
      ]
    },
    {
      "cell_type": "markdown",
      "metadata": {
        "id": "yjYDm4gMCVee",
        "colab_type": "text"
      },
      "source": [
        "Vilket index motsvarar detta i tabellen?\n",
        "\n",
        "<details>\n",
        "<summary markdown=\"span\">\n",
        "Svar\n",
        "</summary>\n",
        "<p>\n",
        "Index 0. Det är för att man börjar räkna från 0.\n",
        "</p>\n",
        "</details>"
      ]
    },
    {
      "cell_type": "markdown",
      "metadata": {
        "id": "UFXSDNc7CkE7",
        "colab_type": "text"
      },
      "source": [
        "Vi kan nu skapa en variabel `years` som innehåller årtalen genom att plocka ut dem från tabellen. Fyll i rätt index i koden nedan!"
      ]
    },
    {
      "cell_type": "code",
      "metadata": {
        "id": "CzYiPlgtCmxS",
        "colab_type": "code",
        "colab": {}
      },
      "source": [
        "# Rätta till kodraden nedan så att den plockar ut rätt rad i tabellen.\n",
        "years = co2_tabell[???]\n",
        "print(years)"
      ],
      "execution_count": null,
      "outputs": []
    },
    {
      "cell_type": "markdown",
      "metadata": {
        "id": "LWDpWqJXDAQg",
        "colab_type": "text"
      },
      "source": [
        "Vi behöver nu motsvarande utsläpp för åren i listan years. De sammanlagda utsläppen för hela länet ligger på den tredje raden i tabellen. Därför kan vi hämta dem med följande kod. Kör koden."
      ]
    },
    {
      "cell_type": "code",
      "metadata": {
        "id": "UKJpMIg1DFmx",
        "colab_type": "code",
        "colab": {}
      },
      "source": [
        "total_co2 = co2_tabell[2]\n",
        "print(total_co2)"
      ],
      "execution_count": null,
      "outputs": []
    },
    {
      "cell_type": "markdown",
      "metadata": {
        "id": "uEHUKvZ1D69t",
        "colab_type": "text"
      },
      "source": [
        "Nu har vi två listor: `years` som innehåller årtal och `total_co2` som innehåller mätvärden av hur mycket koldioxid som släppts ut olika år i hela länet. \n",
        "\n",
        "Som du kanske minns börjar datan med mätvärden från 1990. Efter 2010 finns det dock mätningar varje år, därför vill vi endast ta med 2010 och framåt i vårt diagram. \n",
        "\n",
        "Det första steget är att ta reda på vilken kolumn i tabellen som representerar år 2010. Kan du ta reda på det?"
      ]
    },
    {
      "cell_type": "code",
      "metadata": {
        "id": "GtibXNuEGaBi",
        "colab_type": "code",
        "colab": {}
      },
      "source": [
        "# Skriv ut något så att du kan ta reda på var 2010 är i tabellen.\n",
        "\n",
        "print(???)"
      ],
      "execution_count": null,
      "outputs": []
    },
    {
      "cell_type": "markdown",
      "metadata": {
        "id": "cEMtVI52GpEO",
        "colab_type": "text"
      },
      "source": [
        "<details>\n",
        "<summary markdown=\"span\">\n",
        "Tips\n",
        "</summary>\n",
        "<p>\n",
        "Vilken variabel innehåller information om årtalen?\n",
        "</p>\n",
        "</details>\n",
        "\n",
        "<details>\n",
        "<summary markdown=\"span\">\n",
        "Svar\n",
        "</summary>\n",
        "<p>\n",
        "Om man skriver \n",
        "\n",
        "```python\n",
        "print(years) \n",
        "````\n",
        "så kan man se att 2010 är det 5:e elementet i listan, det vill säga på index 4. \n",
        "</p>\n",
        "</details>"
      ]
    },
    {
      "cell_type": "markdown",
      "metadata": {
        "id": "-9lL0FI1HwE6",
        "colab_type": "text"
      },
      "source": [
        "Vi har nu det vi behöver för att kunna plotta vår data.\n",
        "\n",
        "Fyll i index för kolumnen med 2010. Kör sedan kodblocket nedan."
      ]
    },
    {
      "cell_type": "code",
      "metadata": {
        "id": "6LInzYahHvsK",
        "colab_type": "code",
        "colab": {}
      },
      "source": [
        "# Fyll i vilken kolumn som 2010 är i.\n",
        "\n",
        "index_of_year_2010 = ???\n",
        "\n",
        "# Plocka ut år 2010 och framåt\n",
        "years_from_2010 = years[index_of_year_2010:]\n",
        "total_co2_from_2010 = total_co2[index_of_year_2010:]\n",
        "\n",
        "#Plotta diagram:\n",
        "plt.plot(years_from_2010, total_co2_from_2010, \"o-\", label=\"Koldioxid i hela länet\")\n",
        "plt.xlabel(\"Årtal\")\n",
        "plt.ylabel(\"Ton\")\n",
        "plt.ylim(0) #Gör så att y-axeln börjar från 0.\n",
        "plt.legend()\n",
        "plt.show()"
      ],
      "execution_count": null,
      "outputs": []
    },
    {
      "cell_type": "markdown",
      "metadata": {
        "id": "jqpFRdwSHPYY",
        "colab_type": "text"
      },
      "source": [
        "<details>\n",
        "<summary markdown=\"span\">\n",
        "Lösning\n",
        "</summary>\n",
        "<p>\n",
        "Byt ut raden i början mot:\n",
        "\n",
        "```python\n",
        "index_of_year_2010 = 4\n",
        "```\n",
        "ändra inget annat.\n",
        "</p>\n",
        "</details>"
      ]
    },
    {
      "cell_type": "markdown",
      "metadata": {
        "id": "dSHXVrDlWZG4",
        "colab_type": "text"
      },
      "source": [
        "Nu ska det visas ett diagram. Om talen som ska skrivas på y-axeln är mycket stora förkortar ibland python dem. Om det till exempel står `1e6` uppe till vänster i diagrammet så betyder det att talen på y-axeln egentligen ska multipliceras med $10^6$, det vill säga 1 miljon.\n",
        "\n",
        "Har utsläppen för hela länet minskat eller ökat sen 2010?\n",
        "\n",
        "Vilket år släpptes mest koldioxid ut? Hur mycket var det? Vad är enheten?\n",
        "\n",
        "Testa att sätta ett `#` före raden `plt.ylim(0)`, så att den kommenteras ut. Vad händer med diagrammet nu? Vilket diagram är mest rättvist?\n",
        "\n",
        "<details>\n",
        "<summary markdown=\"span\">\n",
        "Svar\n",
        "</summary>\n",
        "<p>\n",
        "Diagrammet anpassas så att den nedre gränsen är vid det lägsta värdet. Detta gör att små förändringar ser större ut. I vissa fall kan detta vara bra, eftersom man ser förändringarna tydligare. Det kan dock ge en skev bild av verkligheten eftersom man kanske tror att förändringarna är mycket större än de egentligen är. \n",
        "</p>\n",
        "</details>"
      ]
    },
    {
      "cell_type": "markdown",
      "metadata": {
        "id": "VD7lByQzLu_l",
        "colab_type": "text"
      },
      "source": [
        "Nu är det din tur att plotta hur utsläppen för en enskild kommun har sett ut. Först måste du hämta ut mätvärdena för en kommun på samma sätt som listan `total_co2` hämtades innan. Skapa en lista `kommun_co2` som innehåller utsläppen för en valfri kommun. Kör först koden som skriver ut tabellen, och bestäm dig för vilken kommun du vill kolla på.\n"
      ]
    },
    {
      "cell_type": "code",
      "metadata": {
        "id": "J2XxUtRMY4dD",
        "colab_type": "code",
        "colab": {}
      },
      "source": [
        "print_table(co2_tabell)"
      ],
      "execution_count": null,
      "outputs": []
    },
    {
      "cell_type": "code",
      "metadata": {
        "id": "yTEvbWxRMc42",
        "colab_type": "code",
        "colab": {}
      },
      "source": [
        "# Fyll i koden så att kommun_co2 innehåller mätvärdena för kommunen du valt\n",
        "kommun_co2 = ???\n",
        "print(kommun_co2)"
      ],
      "execution_count": null,
      "outputs": []
    },
    {
      "cell_type": "markdown",
      "metadata": {
        "id": "rEpy7JvmOuH0",
        "colab_type": "text"
      },
      "source": [
        "<details>\n",
        "<summary markdown=\"span\">\n",
        "Tips 1\n",
        "</summary>\n",
        "<p>\n",
        "Titta på den utskrivna tabellen, hitta index för kommunen du vill kolla på där.\n",
        "\n",
        "Indexet borde vara minst 3. På index 2 låg ju data för hela länet.\n",
        "</p>\n",
        "</details>\n",
        "\n",
        "<details>\n",
        "<summary markdown=\"span\">\n",
        "Tips 2\n",
        "</summary>\n",
        "<p>\n",
        "När du vet vilket index kommunen ligger på kan du göra på samma sätt som när <code> total_co2 </code> skapades. \n",
        "</p>\n",
        "</details>\n",
        "\n",
        "<details>\n",
        "<summary markdown=\"span\">\n",
        "Lösning\n",
        "</summary>\n",
        "<p>\n",
        "Om du vill titta på kommunen som ligger på den 6:e raden i tabellen skriver du:\n",
        "<code> kommun_co2 = co2_tabell[5] </code>\n",
        "</p>\n",
        "</details>"
      ]
    },
    {
      "cell_type": "code",
      "metadata": {
        "id": "P826L6UNi1b-",
        "colab_type": "code",
        "colab": {}
      },
      "source": [
        ""
      ],
      "execution_count": null,
      "outputs": []
    },
    {
      "cell_type": "markdown",
      "metadata": {
        "id": "n5oxd5KmNPmT",
        "colab_type": "text"
      },
      "source": [
        "Nu ska det gå att göra ett diagram med din valda kommuns koldioxidutsläpp på ungefär samma sätt som för hela länets. Kopiera men ändra tidigare kod så att du använder kommunens data istället för hela länets. Kom ihåg att ändra namnet så att man ser vilken kommun diagrammet handlar om."
      ]
    },
    {
      "cell_type": "code",
      "metadata": {
        "id": "58_EFWJxTLz1",
        "colab_type": "code",
        "colab": {}
      },
      "source": [
        "#Kopiera tidigare kod och ändra så att diagram för kommun skapas."
      ],
      "execution_count": null,
      "outputs": []
    },
    {
      "cell_type": "markdown",
      "metadata": {
        "id": "2vrbcLyTRAUv",
        "colab_type": "text"
      },
      "source": [
        "<details>\n",
        "<summary markdown=\"span\">\n",
        "Lösning\n",
        "</summary>\n",
        "<p>\n",
        "Vi byter ut allt som har med total, det vill säga länets utsläpp, med kommunens utsläpp.\n",
        "\n",
        "```python\n",
        "index_of_year_2010 = 4\n",
        "\n",
        "years_from_2010 = years[index_of_year_2010:]\n",
        "kommun_co2_from_2010 = kommun_co2[index_of_year_2010:]\n",
        "\n",
        "plt.plot(years_from_2010, kommun_co2_from_2010, \"o-\", label=\"Koldioxid i \" + kommun_co2[0])\n",
        "plt.xlabel(\"Årtal\")\n",
        "plt.ylabel(\"Ton\")\n",
        "plt.ylim(0) #Gör så att y-axeln börjar från 0.\n",
        "plt.legend()\n",
        "plt.show()\n",
        "```\n",
        "</p>\n",
        "</details>"
      ]
    },
    {
      "cell_type": "markdown",
      "metadata": {
        "id": "xW41xolDWuWP",
        "colab_type": "text"
      },
      "source": [
        "Jämför diagrammen för hela länet och din kommun.\n",
        "\n",
        "Uppskatta hur stor del av länets koldioxidutsläpp som kommer från din kommun år 2017.\n",
        "\n",
        "Följer kommunens utsläppskurva samma trend som hela länets?"
      ]
    },
    {
      "cell_type": "markdown",
      "metadata": {
        "id": "7of4x71XRKpR",
        "colab_type": "text"
      },
      "source": [
        "\n",
        "\n",
        "## Undersök metangasutsläpp"
      ]
    },
    {
      "cell_type": "markdown",
      "metadata": {
        "id": "soZ-rPNTksUx",
        "colab_type": "text"
      },
      "source": [
        "Koldioxid är inte den enda växthusgasen som har en påverkan på klimatet. En annan viktig växthusgas är metan. En vanlig källa till metangas är jordbruket. Nu ska vi undersöka hur kommunernas metangasutsläpp ser ut.\n",
        "\n",
        "Om du kan, öppna den nerladdade filen och kolla på den (i excel eller google sheets till exempel). Hur skiljer den sig från koldioxidtabellen?\n",
        "\n",
        "<details>\n",
        "<summary markdown=\"span\">\n",
        "Tips\n",
        "</summary>\n",
        "<p>\n",
        "Kolla på årtalen!\n",
        "</p>\n",
        "</details>\n",
        "\n",
        "<details>\n",
        "<summary markdown=\"span\">\n",
        "Svar\n",
        "</summary>\n",
        "<p>\n",
        "Metantabellen har två kolumner för varje årtal.\n",
        "</p>\n",
        "</details>"
      ]
    },
    {
      "cell_type": "markdown",
      "metadata": {
        "id": "FR2Dl9SDYQk8",
        "colab_type": "text"
      },
      "source": [
        "För att lättare kunna jämföra olika växthusgasers miljöpåverkan har begreppet koldioxidekvivalent införts. Det är en omvandlingsfaktor som ofta används på andra växhusgaser än koldioxid, exempelvis metan. På så sätt kan man lättare jämföra metanets påverkan i förhållande till koldioxid. Tabellen för metan innehåller en kolumn med metanutsläppen i enhet ton/år och sedan en till kolumn för samma år fast med enheten ton/år som CO2-ekvivalent.\n",
        "\n",
        "Detta gör att datan vi är intresserad av att plotta är placerad i varannan kolumn istället. Här visar vi hur man kan lösa detta problemet med slicing. Tidigare har vi använt slicing för att enbart kolla på åren 2010-2017, men man kan även använda slicing för att ändra steglängden. Detta gör att vi skulle kunna plocka ut vartannat eller var tredje värde. "
      ]
    },
    {
      "cell_type": "markdown",
      "metadata": {
        "id": "C39ZmVuxd857",
        "colab_type": "text"
      },
      "source": [
        "### Genomgång av slicing i python"
      ]
    },
    {
      "cell_type": "markdown",
      "metadata": {
        "id": "gnHTMXZNkHEi",
        "colab_type": "text"
      },
      "source": [
        "Slicing kan hjälpa dig att skapa en ny lista av delar av en annan lista. Man kan ange startvärde, slutvärde samt steglängd genom att skriva `en_lista[start:slut:steg]`. Om man inte skriver startvärde börjar man på första elementet i listan. Om man inte skriver slutvärde så fortsätter man till listans tar slut. Om man inte skriver steglängd är steglängden 1.\n",
        "\n",
        "Nedan har vi skapat en liten lista med heltal och skrivit kod som plockar ut vartannat värde. Kan du ändra koden så du får de jämna talen som är större än 4?"
      ]
    },
    {
      "cell_type": "code",
      "metadata": {
        "id": "0h46x0X3YpFm",
        "colab_type": "code",
        "colab": {}
      },
      "source": [
        "list = [1,2,3,4,5,6,7,8,9,10,11,12]\n",
        "even = list[1::2] # Börja på index 1, ta vartannat tal till slutet av listan.\n",
        "print(even)"
      ],
      "execution_count": null,
      "outputs": []
    },
    {
      "cell_type": "markdown",
      "metadata": {
        "id": "OQmCkqYuZChU",
        "colab_type": "text"
      },
      "source": [
        "<details>\n",
        "<summary markdown=\"span\">\n",
        "Svar\n",
        "</summary>\n",
        "<p>\n",
        "<code>even = list[5::2]</code> ger utskriften <code>[6,8,10,12]</code>\n",
        "</p>\n",
        "</details>"
      ]
    },
    {
      "cell_type": "markdown",
      "metadata": {
        "id": "g-4QdQiEd3hn",
        "colab_type": "text"
      },
      "source": [
        "Kan du plocka ut de talen som är delbara med 3?\n"
      ]
    },
    {
      "cell_type": "code",
      "metadata": {
        "id": "NhdNNOUTeRRp",
        "colab_type": "code",
        "colab": {}
      },
      "source": [
        "list3 = #skriv din kod här"
      ],
      "execution_count": null,
      "outputs": []
    },
    {
      "cell_type": "markdown",
      "metadata": {
        "id": "WIsFt9qYeb8G",
        "colab_type": "text"
      },
      "source": [
        "<details>\n",
        "<summary markdown=\"span\">\n",
        "Svar\n",
        "</summary>\n",
        "<p>\n",
        "<code>list3 = list[2::3]</code>\n",
        "</p>\n",
        "</details>"
      ]
    },
    {
      "cell_type": "markdown",
      "metadata": {
        "id": "1FGnk7FMbJ-K",
        "colab_type": "text"
      },
      "source": [
        "Prova gärna runt lite med slicing. \n",
        "Vad händer om du skriver negativa start-, slut- eller stegtal?"
      ]
    },
    {
      "cell_type": "code",
      "metadata": {
        "id": "4OxBdTtNbU9N",
        "colab_type": "code",
        "colab": {}
      },
      "source": [
        "#Testa vad du vill!"
      ],
      "execution_count": null,
      "outputs": []
    },
    {
      "cell_type": "markdown",
      "metadata": {
        "id": "cqLE0Wmff9ax",
        "colab_type": "text"
      },
      "source": [
        "### Importera datafil för metangasutsläpp och skapa diagram för länets utsläpp"
      ]
    },
    {
      "cell_type": "markdown",
      "metadata": {
        "id": "dqBX_0IWkMv_",
        "colab_type": "text"
      },
      "source": [
        "Nu behöver vi importera filen för metanutsläpp. Det gör vi på samma sätt som tidigare. Byt ut filnamnet om du har laddat ner en egen fil."
      ]
    },
    {
      "cell_type": "code",
      "metadata": {
        "id": "b5K2agBzidFy",
        "colab_type": "code",
        "colab": {}
      },
      "source": [
        "metan_filename = 'lansrapport_skane_CH4.xls' #Byt ut mig!\n",
        "metan_tabell = read_data(metan_filename)\n",
        "print_table(metan_tabell)"
      ],
      "execution_count": null,
      "outputs": []
    },
    {
      "cell_type": "markdown",
      "metadata": {
        "id": "n0C38F4ZkOlL",
        "colab_type": "text"
      },
      "source": [
        "Som du såg om du öppnade filen i excel eller liknande innan så har varje årtal två värden, ett riktigt metanvärde, och en koldioxidekvivalent för det värdet.\n",
        "\n",
        "Eftersom varje årtal har två värden har indexet för 2010 förskjutits, dessutom behöver vi använda en slice för att bara få ut de riktiga metanvärdena.\n",
        "\n",
        "Vi börjar med att titta på raden med årtal och mätvärdena för hela länet."
      ]
    },
    {
      "cell_type": "code",
      "metadata": {
        "id": "DNWrmxAomKNQ",
        "colab_type": "code",
        "colab": {}
      },
      "source": [
        "all_years = metan_tabell[0]\n",
        "all_metan_values = metan_tabell[2]\n",
        "\n",
        "print (all_years)\n",
        "print (all_metan_values)"
      ],
      "execution_count": null,
      "outputs": []
    },
    {
      "cell_type": "markdown",
      "metadata": {
        "id": "WK6BGhSrwXyA",
        "colab_type": "text"
      },
      "source": [
        "För varje år är det första värdet mängden metan, och det andra värdet koldioxidekvivalenten. Vi vill plocka ut alla riktiga metanvärden från 2010 och framåt med hjälp av en slice. Vilket index ska vi börja på? Vilken steglängd ska vi använda?\n",
        "\n",
        "<details>\n",
        "<summary markdown=\"span\">\n",
        "Svar\n",
        "</summary>\n",
        "<p>\n",
        "Första 2010 kommer på index 7. Vi vill ha en steglängd på 2 för att hoppa över kolumnerna med koldioxidekvivalenter.\n",
        "</p>\n",
        "</details>\n",
        "\n",
        "Använda indexet och steglängden för att skapa listorna `years_metan_from_2010` och `total_metan_from_2010` genom att plocka ut information från `all_years` och `all_metan_values`."
      ]
    },
    {
      "cell_type": "code",
      "metadata": {
        "id": "eP-5QTc8xFUR",
        "colab_type": "code",
        "colab": {}
      },
      "source": [
        "years_metan_from_2010 = #skriv din kod här!\n",
        "total_metan_from_2010 = #skriv din kod här!"
      ],
      "execution_count": null,
      "outputs": []
    },
    {
      "cell_type": "markdown",
      "metadata": {
        "id": "61MLBID5x6YS",
        "colab_type": "text"
      },
      "source": [
        "<details>\n",
        "<summary markdown=\"span\">\n",
        "Svar\n",
        "</summary>\n",
        "<p>\n",
        "\n",
        "```python\n",
        "years_metan_from_2010 = all_years[7::2]\n",
        "total_metan_from_2010 = all_metan_values[7::2]\n",
        "````\n",
        "</p>\n",
        "</details>"
      ]
    },
    {
      "cell_type": "markdown",
      "metadata": {
        "id": "tAbvxM4Kv_d8",
        "colab_type": "text"
      },
      "source": [
        "På samma sätt som tidigare kan vi nu skapa ett diagram med länets totala utsläpp från 2010 och framåt. Använd den tidigare koden för att plotta koldioxid, men ändra den så att den visar metanutsläppet."
      ]
    },
    {
      "cell_type": "code",
      "metadata": {
        "id": "94BOhoM8ywpj",
        "colab_type": "code",
        "colab": {}
      },
      "source": [
        ""
      ],
      "execution_count": null,
      "outputs": []
    },
    {
      "cell_type": "markdown",
      "metadata": {
        "id": "XYsv88_2yxh5",
        "colab_type": "text"
      },
      "source": [
        "<details>\n",
        "<summary markdown=\"span\">\n",
        "Lösning\n",
        "</summary>\n",
        "<p>\n",
        "\n",
        "```python\n",
        "plt.plot(years_metan_from_2010, total_metan_from_2010, \"o-\", label=\"Metanutsläpp i hela länet\")\n",
        "plt.xlabel(\"Årtal\")\n",
        "plt.ylabel(\"Ton\")\n",
        "plt.ylim(0) #Gör så att y-axeln börjar från 0.\n",
        "plt.legend()\n",
        "plt.show()\n",
        "````\n",
        "</p>\n",
        "</details>"
      ]
    },
    {
      "cell_type": "markdown",
      "metadata": {
        "id": "hZLbOYbOzSH8",
        "colab_type": "text"
      },
      "source": [
        "Har metanutsläppen ökat eller minskat i länet sen 2010? "
      ]
    },
    {
      "cell_type": "markdown",
      "metadata": {
        "id": "-wO-36JRzd_g",
        "colab_type": "text"
      },
      "source": [
        "### Plotta metanutsläpp och dess koldioxidekvivalent i samma graf"
      ]
    },
    {
      "cell_type": "markdown",
      "metadata": {
        "id": "xvYRBDbpkS_4",
        "colab_type": "text"
      },
      "source": [
        "Vi vill nu kolla på hur mycket koldioxid de här utsläppen motsvarar. Det gör vi genom att också plotta koldioxidekvivalenterna som vi tidigare hoppade över i listan `all_metan_values`\n",
        "\n",
        "Du ska nu ta fram en lista `metan_co2ekv_from_2010` som innehåller koldioxidekvivalenterna av metanutsläppen för varje år. Detta kan du göra på samma sätt som för `total_metan_from_2010`, fast nu med ett annat startindex.\n",
        "\n",
        "Vilket blir det nya startindexet? \n",
        "\n",
        "<details>\n",
        "<summary markdown=\"span\">\n",
        "Svar\n",
        "</summary>\n",
        "<p>\n",
        "Nu ska vi börja på index 8 istället, ett steg fram alltså.\n",
        "</p>\n",
        "</details>"
      ]
    },
    {
      "cell_type": "markdown",
      "metadata": {
        "id": "GgpnaU1H0GjX",
        "colab_type": "text"
      },
      "source": [
        "Skriv kod som skapar `metan_co2ekv_from_2010`."
      ]
    },
    {
      "cell_type": "code",
      "metadata": {
        "id": "DEIgo6QW0PPJ",
        "colab_type": "code",
        "colab": {}
      },
      "source": [
        "metan_co2ekv_from_2010 = all_metan_values[???::2]\n",
        "print(metan_co2ekv_from_2010)"
      ],
      "execution_count": null,
      "outputs": []
    },
    {
      "cell_type": "markdown",
      "metadata": {
        "id": "f7JNIgqU0lM6",
        "colab_type": "text"
      },
      "source": [
        "<details>\n",
        "<summary markdown=\"span\">\n",
        "Svar\n",
        "</summary>\n",
        "<p>\n",
        "\n",
        "```python\n",
        "metan_co2ekv_from_2010 = all_metan_values[8::2]\n",
        "```\n",
        "</p>\n",
        "</details>"
      ]
    },
    {
      "cell_type": "markdown",
      "metadata": {
        "id": "L-V-4xui1AmM",
        "colab_type": "text"
      },
      "source": [
        "Vi kan nu plotta metan och koldioxidekvivalenten till metanet i samma figur med följande kod:"
      ]
    },
    {
      "cell_type": "code",
      "metadata": {
        "id": "01MRDa9t1IUu",
        "colab_type": "code",
        "colab": {}
      },
      "source": [
        "plt.plot(years_metan_from_2010, total_metan_from_2010, \"o-\", label=\"Metanutsläpp i hela länet\")\n",
        "plt.plot(years_metan_from_2010, metan_co2ekv_from_2010, \"o-\", label=\"Koldioxidekvivalent av metanutsläpp i hela länet\")\n",
        "plt.xlabel(\"Årtal\")\n",
        "plt.ylabel(\"Ton\")\n",
        "plt.ylim(0) #Gör så att y-axeln börjar från 0.\n",
        "plt.legend()\n",
        "plt.show()"
      ],
      "execution_count": null,
      "outputs": []
    },
    {
      "cell_type": "markdown",
      "metadata": {
        "id": "tRBMBs5v1cNp",
        "colab_type": "text"
      },
      "source": [
        "Vad visar grafen? Är koldioxidekvivalenten större eller mindre än det faktiska metanutsläppet? \n",
        "\n",
        "<details>\n",
        "<summary markdown=\"span\">\n",
        "Svar\n",
        "</summary>\n",
        "<p>\n",
        "Koldioxidekvivalenterna är större.\n",
        "</p>\n",
        "</details>\n"
      ]
    },
    {
      "cell_type": "markdown",
      "metadata": {
        "id": "6jZKh-vggg3z",
        "colab_type": "text"
      },
      "source": [
        "Ta reda på exakt hur mycket metan det släpptes ut det senaste året du har data för samt hur mycket koldioxid detta motsvarade. Du kan använda print och listorna som användes i uppgiften innan."
      ]
    },
    {
      "cell_type": "code",
      "metadata": {
        "id": "RNXg_CxX16nZ",
        "colab_type": "code",
        "colab": {}
      },
      "source": [
        "print(\"Mängd metan som släpptes ut:\")\n",
        "print(???)\n",
        "\n",
        "print(\"Koldioxidekvivalenten:\")\n",
        "print(???)"
      ],
      "execution_count": null,
      "outputs": []
    },
    {
      "cell_type": "markdown",
      "metadata": {
        "id": "jpw8zseF18Zv",
        "colab_type": "text"
      },
      "source": [
        "<details>\n",
        "<summary markdown=\"span\">\n",
        "Tips\n",
        "</summary>\n",
        "<p>\n",
        "Man kan indexera bakifrån i en lista genom att använda negativa index. Till exempel ger <code>lista[-1]</code> det sista elementet i listan! \n",
        "</p>\n",
        "</details>\n",
        "\n",
        "<details>\n",
        "<summary markdown=\"span\">\n",
        "Lösning\n",
        "</summary>\n",
        "<p>\n",
        "Printa\n",
        "<code>\n",
        "total_metan_from_2010[-1]\n",
        "</code>\n",
        "och\n",
        "<code>\n",
        "metan_co2ekv_from_2010[-1]\n",
        "</code>.\n",
        "</p>\n",
        "</details>"
      ]
    },
    {
      "cell_type": "markdown",
      "metadata": {
        "id": "Rz-zIC0f3Eqw",
        "colab_type": "text"
      },
      "source": [
        "Hur mycket koldioxid motsvarar ett ton metan?\n",
        "\n",
        "<details>\n",
        "<summary markdown=\"span\">\n",
        "Tips\n",
        "</summary>\n",
        "<p>\n",
        "Dela koldioxidekvivalenten för ett år med metanutsläppet samma år\n",
        "</p>\n",
        "</details>\n",
        "\n",
        "<details>\n",
        "<summary markdown=\"span\">\n",
        "Svar\n",
        "</summary>\n",
        "<p>\n",
        "1 ton metan motsvarar 25 ton koldioxid.\n",
        "</p>\n",
        "</details>"
      ]
    },
    {
      "cell_type": "markdown",
      "metadata": {
        "id": "jq2-RqI83aqR",
        "colab_type": "text"
      },
      "source": [
        "## Plotta metans koldioxidekvivalent och koldioxidutsläpp för varje kommun"
      ]
    },
    {
      "cell_type": "markdown",
      "metadata": {
        "id": "ouB9XZsAkZ2p",
        "colab_type": "text"
      },
      "source": [
        "Vi tänkte nu kolla på hur metan- och koldioxidutsläppen skiljer sig åt mellan de olika kommunerna i länet det sista året du har data för. Det gör man bäst med ett stapeldiagram.\n",
        "\n",
        "Vi behöver tre listor. \n",
        "\n",
        "*   `kommuner` - innehåller namnet på samtliga kommuner.\n",
        "*   `co2_kommun` - innehåller alla kommuners koldioxidutsläpp för det sista året\n",
        "*   `metan_co2ekv_kommun` - innehåller metanutsläppens koldioxidekvivalenter. \n",
        "\n",
        "Det finns kod för att ta fram koldioxidutsläppen för alla kommunerna. Skapa de andra två listorna genom att använda `metan_tabell` och göra på liknande sätt."
      ]
    },
    {
      "cell_type": "code",
      "metadata": {
        "id": "Fl3tn9Pq4PV4",
        "colab_type": "code",
        "colab": {}
      },
      "source": [
        "# Tar bort det tre första raderna i co2_tabellen som innehåller rubriker samt mätvärden för hela länet\n",
        "co2_data_kommuner = co2_tabell[3:]\n",
        "\n",
        "# Plockar ut det sista elementet i varje rad, det vill säga mätvärdet det sista året.\n",
        "co2_kommun = [rad[-1] for rad in co2_data_kommuner] \n",
        "\n",
        "# Skriv kod för att ta fram listorna 'kommuner' och 'metan_kommun':\n",
        "\n",
        "# ...\n",
        "# ...\n",
        "# kommuner = ...\n",
        "# metan_co2ekv_kommun = ...\n",
        "\n"
      ],
      "execution_count": null,
      "outputs": []
    },
    {
      "cell_type": "markdown",
      "metadata": {
        "id": "f_8GpOCmh6p-",
        "colab_type": "text"
      },
      "source": [
        "Som hjälp kan du printa `metan_tabell`, så att du vet vad som finns på vilket plats."
      ]
    },
    {
      "cell_type": "code",
      "metadata": {
        "id": "Sk3KjI2ehxZB",
        "colab_type": "code",
        "cellView": "both",
        "colab": {}
      },
      "source": [
        "print_table(metan_tabell)"
      ],
      "execution_count": null,
      "outputs": []
    },
    {
      "cell_type": "markdown",
      "metadata": {
        "id": "SA4lGp2u6LA_",
        "colab_type": "text"
      },
      "source": [
        "<details>\n",
        "<summary markdown=\"span\">\n",
        "Lösning\n",
        "</summary>\n",
        "<p>\n",
        "\n",
        "```python\n",
        "# Tar bort det tre första raderna i co2_tabellen som innehåller rubriker samt mätvärden för hela länet\n",
        "co2_data_kommuner = co2_tabell[3:]\n",
        "\n",
        "# Plockar ut det sista elementet i varje rad\n",
        "co2_kommun = [rad[-1] for rad in co2_data_kommuner] \n",
        "\n",
        "# Kod för att ta fram listorna 'kommuner' och 'metan_kommun':\n",
        "\n",
        "metan_data_kommuner = metan_tabell[3:]\n",
        "\n",
        "# Plockar du den första kolumnen.\n",
        "kommuner = [rad[0] for rad in metan_data_kommuner] \n",
        "\n",
        "# Plockar ut den sista kolumnen.\n",
        "metan_co2ekv_kommun = [rad[-1] for rad in metan_data_kommuner]\n",
        "```\n",
        "</p>\n",
        "</details>"
      ]
    },
    {
      "cell_type": "markdown",
      "metadata": {
        "id": "h6_3sdDx8D9a",
        "colab_type": "text"
      },
      "source": [
        "Kolla att du fått rätt listor genom att skriva ut dem. Det ska vara lika många saker i alla listorna."
      ]
    },
    {
      "cell_type": "code",
      "metadata": {
        "id": "5yeh1XXT8MDH",
        "colab_type": "code",
        "colab": {}
      },
      "source": [
        "print (kommuner)\n",
        "print (co2_kommun)\n",
        "print (metan_co2ekv_kommun)"
      ],
      "execution_count": null,
      "outputs": []
    },
    {
      "cell_type": "markdown",
      "metadata": {
        "id": "Rt9jM26k8VDY",
        "colab_type": "text"
      },
      "source": [
        "Koden nedan skapar stapeldiagram av listorna:"
      ]
    },
    {
      "cell_type": "code",
      "metadata": {
        "id": "n3e-zpFz8Y0d",
        "colab_type": "code",
        "colab": {}
      },
      "source": [
        "bars = [] # Spara resultaten av anropen till bar\n",
        "plt.figure(figsize=(15,10)) # Större figur\n",
        "bars.append(plt.bar(kommuner, co2_kommun, bottom=np.zeros(len(kommuner)), label='Koldioxid'))\n",
        "bars.append(plt.bar(kommuner, metan_co2ekv_kommun, bottom=co2_kommun, label='Metan omräknat till koldioxidekvivalent'))\n",
        "\n",
        "plt.ylabel('Ton')\n",
        "plt.title('Utsläpp per kommun')\n",
        "plt.xticks(rotation=-90)\n",
        "\n",
        "plt.legend(handles=bars[::-1]) # Lägg till labels i omvänd ordning\n",
        "plt.show()"
      ],
      "execution_count": null,
      "outputs": []
    },
    {
      "cell_type": "markdown",
      "metadata": {
        "id": "MrycDjay9sYq",
        "colab_type": "text"
      },
      "source": [
        "Skiljer det sig mycket mellan kommunerna?\n",
        "\n",
        "Vilken kommun släpper ut mest koldioxid?\n",
        "\n",
        "Vilken kommun släpper ut mest metan?\n",
        "\n",
        "Vilken kommun släpper ut minst totalt sett?\n",
        "\n",
        "Välj en valfri kommun och uppskatta hur stor andel av deras utsläpp som utgörs av metan.\n",
        "\n",
        "Vilka anledningar tror du spelar mest roll för kommunernas utsläpp av\n",
        "\n",
        "a) koldioxid?\n",
        "b) metan?"
      ]
    },
    {
      "cell_type": "markdown",
      "metadata": {
        "id": "gq1ZnYgitFa9",
        "colab_type": "text"
      },
      "source": [
        "## Kommentar\n",
        "\n",
        "Siffrorna vi kollar på här är absoluta tal, alltså det totala utsläppet. För att klimatmålen ska uppnås räknar man med att varje person kan släppa ut ungefär 1-2 ton CO2 per år. Ta reda på hur många som bor i länet du valt och räkna ut hur mycket som släpps ut per person. Hur ser det ut i förhållande till målet?\n",
        "\n",
        "Mycket av våra utsläpp sker inte i Sverige utan i utlandet där varor vi konsumerar har producerats. Du kan läsa mer om det här: [Sveriges Natur](https://www.sverigesnatur.org/aktuellt/sverige-inget-klimatforedome-nar-konsumtionen-raknas/)."
      ]
    },
    {
      "cell_type": "markdown",
      "metadata": {
        "id": "e1bUL7tsEtzZ",
        "colab_type": "text"
      },
      "source": [
        "# Minns du vad du har gått igenom? Nu är det dags för ett quiz!"
      ]
    },
    {
      "cell_type": "code",
      "metadata": {
        "id": "rBQz0D9zExCM",
        "colab_type": "code",
        "cellView": "form",
        "colab": {}
      },
      "source": [
        "#@title Kör rutan för att öppna quizet!\n",
        "!wget https://raw.githubusercontent.com/lunduniversity/schoolprog-satellite/master/for_developers/quiz.py --quiet\n",
        "!wget https://raw.githubusercontent.com/lunduniversity/schoolprog-satellite/master/exercises/regional_greenhouse_emissions/quiz_regional_emissions.json --quiet\n",
        "import json\n",
        "import quiz\n",
        "\n",
        "with open(\"quiz_regional_emissions.json\") as f:\n",
        "  quiz_dict = json.load(f)\n",
        "quiz.main(quiz_dict)"
      ],
      "execution_count": null,
      "outputs": []
    },
    {
      "cell_type": "markdown",
      "metadata": {
        "id": "UOLXkeAXArRm",
        "colab_type": "text"
      },
      "source": [
        "## Fördjupning / Projektidéer\n",
        "\n",
        "* Ladda in utsläpp av lustgas i länet. Plotta lustgas tillsammans med metan och koldioxid. Räkna ut omvandlingsfaktorn för lustgas.\n",
        "\n",
        "* I datafilerna finns också information om utsläpp per sektor. Ta reda på vilken eller vilka sektorer som är de huvudsakliga utsläppskällorna av koldioxid samt metan. Tips: Du kommer behöva ändra i funktionen som läser in tabellen. "
      ]
    }
  ]
}