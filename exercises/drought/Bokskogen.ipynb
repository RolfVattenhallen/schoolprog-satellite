{
  "nbformat": 4,
  "nbformat_minor": 0,
  "metadata": {
    "colab": {
      "name": "Bokskogen (first draft)",
      "version": "0.3.2",
      "provenance": [],
      "collapsed_sections": []
    },
    "kernelspec": {
      "name": "python3",
      "display_name": "Python 3"
    }
  },
  "cells": [
    {
      "cell_type": "markdown",
      "metadata": {
        "id": "N0ruWqaR37Oc",
        "colab_type": "text"
      },
      "source": [
        "# Hur påverkades Bokskogen av torkan 2018?\n",
        "I denna uppgift studerar vi [Bokskogen](https://sv.wikipedia.org/wiki/Torups_rekreationsomr%C3%A5de) i centrala Skåne och dess närliggande områdes växtlighet med hjälp av satellitbilder. Bilderna är alla tagna under första halvan av augusti, men från tre olika år. Kan vi se någon skillnad efter en sommar med torka? Vi kommer använda teori om NDVI (Normalized Difference Vegetation Index) som är ett mått på hur mycket levande växtlighet det finns. För att läsa mer om NDVI och hur man beräknar det, se [denna länk](https://en.wikipedia.org/wiki/Normalized_difference_vegetation_index#Rationale).\n"
      ]
    },
    {
      "cell_type": "markdown",
      "metadata": {
        "id": "3BDFrVp9SwpU",
        "colab_type": "text"
      },
      "source": [
        "## 1. Växtligheten 2015\n",
        "\n",
        "Vi börjar med att kolla på sensommaren 2015. I mappen Bokskogen ligger det tre filer som alla heter `data_1X.npz`. Detta är numpy-arrays som innehåller ett heltal för varje pixel, som tillsammans kan skapa en bild. Kör följande kod för att ladda in alla nödvändiga paket, npz-filer och en färgbild över området vi kommer kolla på:"
      ]
    },
    {
      "cell_type": "code",
      "metadata": {
        "id": "2PxkNQM43OoS",
        "colab_type": "code",
        "colab": {}
      },
      "source": [
        "import numpy as np\n",
        "import matplotlib.pyplot as plt\n",
        "from IPython.display import Image\n",
        "\n",
        "#Download the data used in the exercise.\n",
        "!wget https://github.com/lunduniversity/schoolprog-satellite-data/raw/master/drought/bokskogen/data_15.npz --no-verbose\n",
        "!wget https://github.com/lunduniversity/schoolprog-satellite-data/raw/master/drought/bokskogen/data_17.npz --no-verbose\n",
        "!wget https://github.com/lunduniversity/schoolprog-satellite-data/raw/master/drought/bokskogen/data_18.npz --no-verbose\n",
        "  \n",
        "!wget https://github.com/lunduniversity/schoolprog-satellite/raw/master/exercises/drought/tci_hd.png --no-verbose"
      ],
      "execution_count": 0,
      "outputs": []
    },
    {
      "cell_type": "markdown",
      "metadata": {
        "id": "9rB3pKplypF9",
        "colab_type": "text"
      },
      "source": [
        "Nu ska vi visa bilden vi laddade ned, samt läsa in filen som innehåller bilder från 2015."
      ]
    },
    {
      "cell_type": "code",
      "metadata": {
        "id": "z65aKXqwy3kV",
        "colab_type": "code",
        "colab": {}
      },
      "source": [
        "#Visa bilden\n",
        "display(Image(filename=\"tci_hd.png\", width = 700, height = 700))\n",
        "\n",
        "#Ladda in filen från 2015\n",
        "bands15 = np.load('data_15.npz')"
      ],
      "execution_count": 0,
      "outputs": []
    },
    {
      "cell_type": "markdown",
      "metadata": {
        "id": "GBwHyYRaXGAz",
        "colab_type": "text"
      },
      "source": [
        "Vår `bands15`-variabel fungerar nu ungefär som en `dict` och innehåller data för både det röda och det nära infraröda bandet. För att plocka ut något från `bands15` måste vi använda nycklar som vi gjort i tidigare uppgifter med `dict`.\n",
        "\n",
        "**Uppdrag:** Kan du själv ta reda på vad nycklarna till `bands15` är? "
      ]
    },
    {
      "cell_type": "code",
      "metadata": {
        "id": "-aodDVpO65sJ",
        "colab_type": "code",
        "colab": {}
      },
      "source": [
        ""
      ],
      "execution_count": 0,
      "outputs": []
    },
    {
      "cell_type": "markdown",
      "metadata": {
        "id": "ZKKOYgfp66OT",
        "colab_type": "text"
      },
      "source": [
        "\n",
        "<details>\n",
        "<summary markdown=\"span\">\n",
        "Tips\n",
        "</summary>\n",
        "<p>Du kan använda funktionerna <code>print(list())</code> tillsammans med metoden <code>keys()</code>\n",
        "</p>\n",
        "</details>\n",
        "\n",
        "<details>\n",
        "<summary markdown=\"span\">\n",
        "Svar\n",
        "</summary>\n",
        "<p><code>print(list(bands15.keys()))</code> ger nycklarna <code>\"red\"</code> och <code>\"nir\"</code> (nir = near-infrared)</p>\n",
        "</details>"
      ]
    },
    {
      "cell_type": "markdown",
      "metadata": {
        "id": "AZXd4i0eXQtl",
        "colab_type": "text"
      },
      "source": [
        "\n",
        "För att lättare kunna använda datan vill vi nu skapa var sin variabel för de båda banden.\n",
        "\n",
        "**Uppdrag:** Skapa variablerna `red15` och `nir15` med hjälp av `bands15`. "
      ]
    },
    {
      "cell_type": "code",
      "metadata": {
        "id": "XcR6GCX7W3hG",
        "colab_type": "code",
        "colab": {}
      },
      "source": [
        "red15 = \n",
        "nir15 = "
      ],
      "execution_count": 0,
      "outputs": []
    },
    {
      "cell_type": "markdown",
      "metadata": {
        "id": "lFhKDiQ8YHJv",
        "colab_type": "text"
      },
      "source": [
        "<details>\n",
        "<summary markdown=\"span\">\n",
        "Svar\n",
        "</summary>\n",
        "<p><pre>red15 = bands15['red']\n",
        "nir15 = bands15['nir']</pre>\n",
        "</p>\n",
        "</details>\n"
      ]
    },
    {
      "cell_type": "markdown",
      "metadata": {
        "id": "uSRhKkWjYQhu",
        "colab_type": "text"
      },
      "source": [
        "Vi har nu delat upp datan för de båda banden var för sig. För att få en känsla av vad det faktiskt är för data vi har att göra med skulle vi kunna testa plotta dem.\n",
        "\n",
        "**Uppdrag:** Plotta en eller båda variablerna vi precis skapade. Vad visar plotten? \n",
        "\n"
      ]
    },
    {
      "cell_type": "code",
      "metadata": {
        "id": "78f5GZI_XmWD",
        "colab_type": "code",
        "colab": {}
      },
      "source": [
        ""
      ],
      "execution_count": 0,
      "outputs": []
    },
    {
      "cell_type": "markdown",
      "metadata": {
        "id": "IXMw3PHIYlT-",
        "colab_type": "text"
      },
      "source": [
        "<details>\n",
        "<summary markdown=\"span\">\n",
        "Tips\n",
        "</summary>\n",
        "<p><pre>plt.figure(figsize=(10,10))\n",
        "plt.imshow(red15)\n",
        "plt.savefig('red15.png')</pre>\n",
        "</p>\n",
        "</details>\n",
        "\n",
        "<details>\n",
        "<summary markdown=\"span\">\n",
        "Svar\n",
        "</summary>\n",
        "<p>Plotten visar en bild över Bokskogen med närliggande åkrar och sjöar. Bilderna består endast av ljus från röda respektive nära infraröda bandet, vilket gör att det blir svårt att se vad de föreställer.\n",
        "</p>\n",
        "</details>"
      ]
    },
    {
      "cell_type": "markdown",
      "metadata": {
        "id": "wNlN4AjFZIS0",
        "colab_type": "text"
      },
      "source": [
        "För att uträkningar ska bli mer exakta vill vi egentligen ha våra värden i form av flyttal. Gör om `red15` och `nir15` till flyttal med hjälp av följande kod:"
      ]
    },
    {
      "cell_type": "code",
      "metadata": {
        "id": "JIbwD3ijYlsH",
        "colab_type": "code",
        "colab": {}
      },
      "source": [
        "red15 = red15.astype(float)\n",
        "nir15 = nir15.astype(float)"
      ],
      "execution_count": 0,
      "outputs": []
    },
    {
      "cell_type": "markdown",
      "metadata": {
        "id": "hCsBLZD0ZTcU",
        "colab_type": "text"
      },
      "source": [
        "För att lättare kunna tolka bilden vill vi räkna ut NDVI. Detta kommer göra att partier med mycket växtligher skiljer sig i färg gentemot partier utan växtlighet när vi plottar bilden.\n",
        "\n",
        "**Uppdrag:** Skapa en variabel `ndvi15` och räkna ut den med hjälp av `red15` och `nir15`."
      ]
    },
    {
      "cell_type": "code",
      "metadata": {
        "id": "RPn3OShFZLq0",
        "colab_type": "code",
        "colab": {}
      },
      "source": [
        "ndvi15 = "
      ],
      "execution_count": 0,
      "outputs": []
    },
    {
      "cell_type": "markdown",
      "metadata": {
        "id": "BZTUW76DZZPh",
        "colab_type": "text"
      },
      "source": [
        "<details>\n",
        "<summary markdown=\"span\">\n",
        "Tips\n",
        "</summary>\n",
        "<p>\n",
        "NDVI kan bestämmas genom ekvationen <code>ndvi = (nir-red)/(nir+red)</code>\n",
        "</p>\n",
        "</details>\n",
        "\n",
        "<details>\n",
        "<summary markdown=\"span\">\n",
        "Svar\n",
        "</summary>\n",
        "<p>\n",
        "<code>ndvi15 = (nir15-red15)/(nir15+red15)</code>\n",
        "</p>\n",
        "</details>"
      ]
    },
    {
      "cell_type": "markdown",
      "metadata": {
        "id": "Cbtx6_VDZimP",
        "colab_type": "text"
      },
      "source": [
        "Vi skulle nu kunna plotta bilden som innan, men för att göra det tydligare använder vi några speciella inställningar. Kör koden nedan:"
      ]
    },
    {
      "cell_type": "code",
      "metadata": {
        "id": "9wN6znisZZv6",
        "colab_type": "code",
        "colab": {}
      },
      "source": [
        "plt.figure(figsize=(10,10))\n",
        "plt.pcolormesh(ndvi15, cmap='PiYG')\n",
        "plt.ylim(ndvi15.shape[0], 0)\n",
        "plt.clim(-1.0, 1.0)\n",
        "plt.colorbar(label='NDVI')\n",
        "plt.savefig('colormap.png')"
      ],
      "execution_count": 0,
      "outputs": []
    },
    {
      "cell_type": "markdown",
      "metadata": {
        "id": "SiCafXTdZpJw",
        "colab_type": "text"
      },
      "source": [
        "**Uppdrag:** Förstår du ungefär vad de olika metoderna gör? Testa ta bort någon del och se vad som händer!\n",
        "\n",
        "<details>\n",
        "<summary markdown=\"span\">\n",
        "Svar\n",
        "</summary>\n",
        "<p><ul>\n",
        "<li><code>plt.figure(figsize=(10,10))</code> skapar en ny figur som har storleken 10*10 inches (tum).</li>\n",
        "<li><code>plt.pcolormesh(ndvi15, cmap='PiYG')</code> skapar en färgplot av arrayen som matas in, i detta fallet <code>ndvi15</code>. En färgplot innebär att programmet tar arrayen och läser in den som en bild, och varje värde anger färgen på en pixel. Hur färgerna fördelas kan man ange med <code>cmap</code>-parametern.\n",
        "</p></li>\n",
        "<li><code>plt.ylim(ndvi.shape[0], 0)</code> sätter gränserna för y-axeln. Om vi inte skulle använt detta skulle bilden hamnat upp och ner (testa att ta bort denna och se vad som händer). Detta är för att x-axeln och y-axeln för <code>pcolormesh()</code> börjar nere i vänstra hörnet och ökar till höger respektivt uppåt. Men arrayer börjar uppe i vänstra hörnet och ökar till höger respektive nedåt. <code>ndvi.shape[0]</code> ger oss antalet rader i <code>ndvi</code> så vad vi egentligen gör med <code>plt.ylim(ndvi.shape[0], 0)</code> är att säga till programmet att börja plotta rad <code>ndvi.shape[0]</code> till <code>0</code>, vilket gör bilden rättvänd.</li>\n",
        "<li><code>plt.clim(-1.0, 1.0)</code> sätter gränserna för färgskalan. Anledningen till att vi sätter -1 till 1 är att NDVI-värden alltid är mellan -1 och 1. Skulle vi inte gjort detta är det de största repektive minsta värdena i <code>ndvi15</code> som sätter gränserna för färgskalan. Detta ger en omotiverad kontrast. </li>\n",
        "<li><code>plt.colorbar(label='NDVI')</code> gör att vi får ett fält på sidan grafen som illustrerar färgskalan. Vi anger också att det ska stå NDVI bredvid fältet.</li>\n",
        "<li>Slutligen använder vi <code>plt.savefig('colormap.png')</code> som helt enkelt sparar grafen till filen <code>colormap.png</code>.</li>\n",
        "</ul>\n",
        "\n",
        "</details>"
      ]
    },
    {
      "cell_type": "markdown",
      "metadata": {
        "id": "7q7TExmjZyPH",
        "colab_type": "text"
      },
      "source": [
        "**Uppdrag:** Vad visar bilden? Kan du se vilka bönder som inte har skördat sina åkrar än?\n",
        "\n",
        "<details>\n",
        "<summary markdown=\"span\">\n",
        "Svar\n",
        "</summary>\n",
        "<p>\n",
        "En grön åker tyder på att det finns växtlighet där, medan en vitare åker tyder på att det finns låg växtlighet och att åkern troligtvis är skördad. \n",
        "</p>\n",
        "</details>"
      ]
    },
    {
      "cell_type": "markdown",
      "metadata": {
        "id": "tPTngrXohG15",
        "colab_type": "text"
      },
      "source": [
        "## 2. Jämför växtlighet\n",
        "För att kunna jämföra åren måste vi nu egentligen göra samma sak för 2017 och 2018. Vi skulle kunna skriva ungefär samma kod som vi precis skrivit ytterligare två gånger, men detta är inte särskilt effektivt eftersom vi i princip skriver samma sak tre gånger med ett fåtal utbytta ord. För ändamål som dessa är därför funktioner väldigt användbara. "
      ]
    },
    {
      "cell_type": "markdown",
      "metadata": {
        "id": "SQV_bLN1hIPe",
        "colab_type": "text"
      },
      "source": [
        "**Uppdrag:** Skriv en funktion `plot_ndvi(file_name, save_name)` som tar in en sträng `file_name`, som är namnet på `.npz`-filen du vill läsa in datan från, och en sträng `save_name`, som blir namnet på den bild som plottas. Bilden som plottas ska vara baserad på NDVI med liknande inställningar som innan. "
      ]
    },
    {
      "cell_type": "code",
      "metadata": {
        "id": "A9dCU8EsZs62",
        "colab_type": "code",
        "colab": {}
      },
      "source": [
        "def plot_ndvi(file_name, save_name): \n",
        "  #Skriv din kod här.."
      ],
      "execution_count": 0,
      "outputs": []
    },
    {
      "cell_type": "markdown",
      "metadata": {
        "id": "Pe0ifcF4hfxb",
        "colab_type": "text"
      },
      "source": [
        "<details>\n",
        "<summary markdown=\"span\">\n",
        "Tips\n",
        "</summary>\n",
        "<p>\n",
        "Du kan återanvända väldigt stor del av den kod du redan skrivit. \n",
        "</p>\n",
        "</details>\n",
        "\n",
        "<details><summary markdown=\"span\">Lösning</summary>\n",
        "<p>\n",
        "<pre><code>def plot_ndvi(file_name, save_name):\n",
        "  bands = np.load(file_name)\n",
        "  red = bands['red'].astype(float)\n",
        "  nir = bands['nir'].astype(float)\n",
        "  ndvi = (nir-red) / (nir+red)\n",
        "  plt.figure(figsize=(10,10))\n",
        "  plt.pcolormesh(ndvi, cmap='PiYG')\n",
        "  plt.ylim(ndvi.shape[0], 0)\n",
        "  plt.clim(-1.0, 1.0)\n",
        "  plt.colorbar(label='NDVI')\n",
        "  plt.savefig(save_name)</code></pre>\n",
        "</details>\n"
      ]
    },
    {
      "cell_type": "markdown",
      "metadata": {
        "id": "x5XtdmS_hoO7",
        "colab_type": "text"
      },
      "source": [
        "Nu när du har en smidig funktion för att plotta NDVI kan du enkelt göra detta för alla tre år.\n",
        "\n",
        "**Uppdrag:** Plotta NDVI för 2015, 2017 och 2018. Jämför bilderna. Kan du se någon skillnad? Om du ser skillnad, vilken och varför?\n"
      ]
    },
    {
      "cell_type": "code",
      "metadata": {
        "id": "3dB2dfXp8vv0",
        "colab_type": "code",
        "colab": {}
      },
      "source": [
        ""
      ],
      "execution_count": 0,
      "outputs": []
    },
    {
      "cell_type": "markdown",
      "metadata": {
        "id": "KK-UgRaA8wjd",
        "colab_type": "text"
      },
      "source": [
        "<details><summary markdown=\"span\">Lösning</summary>\n",
        "<p>\n",
        "<pre><code>plot_ndvi(\"data_15.npz\", \"bok15.png\")\n",
        "plot_ndvi(\"data_17.npz\", \"bok17.png\")\n",
        "plot_ndvi(\"data_18.npz\", \"bok18.png\")\n",
        "</code></pre>\n",
        "</details>\n",
        "\n",
        "<details><summary markdown=\"span\">Svar</summary>\n",
        "<p>\n",
        "Torkan 2018 hade sin påverkan på växtligheten. Om du kollar på åkrarna ser du att växtligheten inte är i närheten av de tidigare åren. Det ser ut som att många bönder blev tvugna att skörda de grödor som klarade sig mycket tidigare på grund av torkan. Man kan även se på själva skogen att växtligheten har sjunkit då den inte framstår som lika grön.\n",
        "</details>"
      ]
    },
    {
      "cell_type": "markdown",
      "metadata": {
        "id": "9r1x_ynT9OC-",
        "colab_type": "text"
      },
      "source": [
        "# Fortsättningsuppgifter\n",
        "- Modifiera funktionen `plot_ndvi()` så att du kan ange en titel för figuren och plotta figurerna igen fast med beskrivande titlar."
      ]
    }
  ]
}