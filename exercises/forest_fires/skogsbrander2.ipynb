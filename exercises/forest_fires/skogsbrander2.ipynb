{
  "nbformat": 4,
  "nbformat_minor": 0,
  "metadata": {
    "colab": {
      "name": "Skogsbränder.ipynb",
      "provenance": [],
      "collapsed_sections": [
        "NIn9OoOEGiEW",
        "lVV7TqTP_rb6"
      ],
      "include_colab_link": true
    },
    "kernelspec": {
      "name": "python3",
      "display_name": "Python 3"
    }
  },
  "cells": [
    {
      "cell_type": "markdown",
      "metadata": {
        "id": "view-in-github",
        "colab_type": "text"
      },
      "source": [
        "<a href=\"https://colab.research.google.com/github/lunduniversity/schoolprog-satellite/blob/master/exercises/forest_fires/skogsbrander2.ipynb\" target=\"_parent\"><img src=\"https://colab.research.google.com/assets/colab-badge.svg\" alt=\"Open In Colab\"/></a>"
      ]
    },
    {
      "cell_type": "markdown",
      "metadata": {
        "id": "R8zaI22D7_S_"
      },
      "source": [
        "# Uppskatta storleken på skogsbränder\n",
        "\n",
        "![Bild på en sjö](https://cdn.pixabay.com/photo/2018/11/25/05/43/forest-fire-3836834_1280.jpg)\n",
        "<small>[Foto](https://pixabay.com/sv/illustrations/forest-fire-forest-3836834/) från Pixabay / [Pixabay License](https://pixabay.com/sv/service/license/)</small>\n",
        "\n",
        "Med klimatförändringarna blir vädret mer extremt. Extrem torka och värme gör att skogsbränder kan bli allt vanligare. Sommaren 2018 bröt flera stora bränder ut i Sverige. Det största brandområdet var runt den lilla byn Kårböle i norra Hälsingland.\n",
        "\n",
        "I denna uppgift ska vi beräkna storleken på en skogsbrand genom att mäta på satellitbilder. Vi kommer att analysera bilder före och efter branden för att se hur skogsytan har minskat.\n",
        "\n",
        "Om du har gjort uppgiften Torkan A tidigare, så kommer du att känna igen NDVI-metoden som vi använde där för att förstå vad som är vad i en satellitbild.\n",
        "\n",
        "För att beräkna brandområdets yta kommer vi att ringa in det med hjälp av en *polygon* (en månghörning).\n",
        "\n",
        "## 1. Polygoner\n",
        "\n",
        "Vi ska börja med att bekanta oss med hur man kan programmera med polygoner och rita dem i Python.\n",
        "\n",
        "**Uppdrag 1a** Kör koden nedan som importerar några Python-bibliotek vi kommer att behöva.\n",
        "\n",
        "Vi importerar dels biblioteken `numpy` och `matplotlib.pyplot` som vi använt tidigare. Vi importerar också bibliotek som används för polygoner."
      ]
    },
    {
      "cell_type": "code",
      "metadata": {
        "id": "hX5rtqX9DsGS"
      },
      "source": [
        "import numpy as np\n",
        "import matplotlib.pyplot as plt\n",
        "from matplotlib.patches import Polygon\n",
        "from matplotlib.collections import PatchCollection\n",
        "\n",
        "print(\"Klart!\")"
      ],
      "execution_count": null,
      "outputs": []
    },
    {
      "cell_type": "markdown",
      "metadata": {
        "id": "UWFYwH6aDsza"
      },
      "source": [
        "\n",
        "**Uppdrag 1b** Kör koden nedan som ritar en polygon."
      ]
    },
    {
      "cell_type": "code",
      "metadata": {
        "id": "V8n8KzDwBGZ-"
      },
      "source": [
        "points = [[2, 1], [8, 2], [6, 5]]\n",
        "polygon = plt.Polygon(points)\n",
        "plt.xticks(np.arange(0, 11, 1))\n",
        "plt.yticks(np.arange(0, 11, 1))\n",
        "plt.grid()\n",
        "plt.gca().add_patch(polygon)\n",
        "plt.show()"
      ],
      "execution_count": null,
      "outputs": []
    },
    {
      "cell_type": "markdown",
      "metadata": {
        "id": "SChhaw1xHjyK"
      },
      "source": [
        "Att observera:\n",
        "\n",
        "* En triangel (trehörning) ritades med hörn i punkterna `[2, 1], [8, 2], [6, 5]`\n",
        "* Funktionerna `xticks` och `yticks` används för att bestämma hur rutnätet ska se ut (min-värde, max-värde och avstånd).\n",
        "\n",
        "Vi kan alltså definiera en polygon i Python genom att skapa en lista av hörn. \n",
        "\n",
        "**Uppdrag 1c** Kopiera koden till rutan nedan. Modifiera koden så att en fyrhörning ritas ut i stället för en triangel. Var vill du sätta det fjärde hörnet? Spelar det någon roll var i listan du lägger till hörnet?\n",
        "\n"
      ]
    },
    {
      "cell_type": "code",
      "metadata": {
        "id": "aqYZweypxMDE"
      },
      "source": [
        "# Kopiera koden från 1b och modifiera till en fyrhörning"
      ],
      "execution_count": null,
      "outputs": []
    },
    {
      "cell_type": "markdown",
      "metadata": {
        "id": "z1zcsQjvxMxM"
      },
      "source": [
        "<details>\n",
        "<summary markdown=\"span\">\n",
        "Lösning\n",
        "</summary>\n",
        "Ändra t.ex. definitionen av points till:\n",
        "<pre><code>points = [[2, 1], [8, 2], [6, 5], [3, 7]]\n",
        "</code></pre>\n",
        "Polygonen ritas ut med räta linjer mellan hörnen enligt ordningen i listan. Om du lägger hörnen i en annan ordning kan du få konturen att korsa sig själv. Prova t.ex.\n",
        "<pre><code>points = [[2, 1], [8, 2], [3, 7], [6, 5]]\n",
        "</code></pre>\n",
        "</details>\n",
        "<p></p>\n",
        "\n",
        "**Uppdrag 1d** Experimentera mer med polygoner i kodrutan nedan. Kan du t.ex. skapa följande simmande fisk? Eller hitta på en annan polygon. Experimentera både med polygonen och rutnätet!\n",
        "\n",
        "<img src=\"https://github.com/lunduniversity/schoolprog-satellite/raw/master/exercises/forest_fires/polygon-fish.png\" width=\"400\"/>\n",
        "\n",
        "\n",
        "\n"
      ]
    },
    {
      "cell_type": "code",
      "metadata": {
        "id": "pJF0iq1D1ow6"
      },
      "source": [
        "# Kopiera koden från 1b och modifiera till en fisk eller annan figur"
      ],
      "execution_count": null,
      "outputs": []
    },
    {
      "cell_type": "markdown",
      "metadata": {
        "id": "-QqTTD_y1tFY"
      },
      "source": [
        "<details>\n",
        "<summary markdown=\"span\">\n",
        "Tips\n",
        "</summary>\n",
        "<p>Figuren kan skapas med följande kod. Här har vi också ändrat på färgen både på fisken och dess kontur. Men du kan säkert hitta på en egen figur och ett eget rutnät.\n",
        "<pre><code>points = [[-80, 0], [-40, 40], [20, -10], [65, 30], [60, -40], [20, -20], [-60, -30]]\n",
        "polygon = plt.Polygon(points)\n",
        "polygon.set_facecolor(\"red\")\n",
        "polygon.set_edgecolor(\"black\")\n",
        "plt.xticks(np.arange(-100, 100, 20))\n",
        "plt.yticks(np.arange(-100, 100, 20))\n",
        "plt.grid()\n",
        "plt.gca().add_patch(polygon)\n",
        "plt.show()\n",
        "</code></pre>\n",
        "</p>\n",
        "</details>\n",
        "<p></p>\n"
      ]
    },
    {
      "cell_type": "markdown",
      "metadata": {
        "id": "vKeepdiUCaW8"
      },
      "source": [
        "För att beräkna arean för en polygon kan vi använda följande funktion.\n",
        "\n",
        "**Uppdrag 1e** Kör koden nedan så att funktionen definieras (så att vi kan anropa den senare)."
      ]
    },
    {
      "cell_type": "code",
      "metadata": {
        "id": "oLjbPQuaC6Tx"
      },
      "source": [
        "def area_calc(corners):\n",
        "  area=0.0\n",
        "  n=len(corners)\n",
        "  for i in range(n):\n",
        "    (xi, yi) = corners[i]         # coordinates for the i corner\n",
        "    (xi1, yi1) = corners[(i+1)%n] # coordinates for the next corner\n",
        "    area += xi*yi1 - xi1*yi\n",
        "  area *=0.5\n",
        "  return abs(area)\n",
        "\n",
        "print(\"Klart!\")"
      ],
      "execution_count": null,
      "outputs": []
    },
    {
      "cell_type": "markdown",
      "metadata": {
        "id": "e_Lx9_EbIySC"
      },
      "source": [
        "Funktionen räknar ut arean med hjälp av en listig formel som användes av lantmätare redan på 1700-talet för att mäta arean på jordegendomar.\n",
        "\n",
        "<details>\n",
        "<summary markdown=\"span\">\n",
        "Mer om formeln\n",
        "</summary>\n",
        "Iden med formeln är att följa punkterna varvet runt och summera trianglarna som bildas av varje sida i kombination med origo. Vissa triangelareor blir positiva och andra negativa, och summan blir arean av polygonen. I varje steg räknas dubbla triangelarean ut som $x_i*y_{i+1}-x_{i+1}*y_i$ som man kan se i koden ovan. På slutet halverar man värdet för att få rätt resultat. Man tar också absolutvärdet eftersom totalsumman kan bli positiv eller negativ beroende på vilket håll man följer punkterna. Mer information om formeln finns t.ex. i <a href=\"https://en.wikipedia.org/wiki/Shoelace_formula\">denna wikipedia-artikel</a>.\n",
        "</details>\n",
        "<p></p>\n",
        "\n",
        "\n",
        "För säkerhets skull ska vi kontrollera att funktionen verkar fungera.\n",
        "\n",
        "\n",
        "\n",
        "**Uppdrag 1f** Beräkna arean av en polygon genom att anropa funktionen i kodrutan nedan. Verkar resultatet stämma?\n",
        "\n",
        "<details>\n",
        "<summary markdown=\"span\">\n",
        "Tips!\n",
        "</summary>\n",
        "För att se om formeln verkar stämma kan du räkna antalet rutor i din polygon som är fyllda till hälften eller mer. Multiplicera sedan med ytan på en ruta. Då får du ett ungefärligt värde på arean.\n",
        "</details>\n",
        "<p></p>\n"
      ]
    },
    {
      "cell_type": "code",
      "metadata": {
        "id": "hfGvEIkSK70F"
      },
      "source": [
        "# Byt ut ??? mot en av polygonerna du använt ovan.\n",
        "points = ???\n",
        "area_calc(points)"
      ],
      "execution_count": null,
      "outputs": []
    },
    {
      "cell_type": "markdown",
      "metadata": {
        "id": "Q1HJlw5j9yrx"
      },
      "source": [
        "##2. Analysera en skogsbrand\n",
        "\n",
        "Nu ska vi använda polygoner för att undersöka och uppskatta storleken på en skogsbrand. Vi har förberett satellitbilder dels för skogsbranden i Kårböle 2018 (uppgift 2A) och dels för skogsbranden på Kangaroo Island i Australien 2019 (uppgift 2B).\n",
        "\n",
        "Välj vilken av uppgifterna du vill arbeta med (avsnitt 2A eller 2B) - eller gör båda om du har tid!"
      ]
    },
    {
      "cell_type": "markdown",
      "metadata": {
        "id": "NIn9OoOEGiEW"
      },
      "source": [
        "### 2A. Sverige - Skogsbranden i Kårböle 2018\n",
        "<small>Klicka på den lilla pilen till vänster om rubriken för att fälla ut eller ihop avsnittet.</small>\n",
        "\n",
        "2018 var ett år med många kraftiga skogsbränder i norra Sverige. Kårböle vid älven Ljusnan var särskilt drabbat.\n",
        "\n",
        "\n"
      ]
    },
    {
      "cell_type": "markdown",
      "metadata": {
        "id": "ZuVW6IOTBvj0"
      },
      "source": [
        "**Uppdrag 2A.a** Kör kodblocket nedan för att få fram en karta över området. Om du råkat zooma eller panna så du inte ser området, så prova att köra koden en gång till. Kan du zooma ut och se var i Sverige området ligger?"
      ]
    },
    {
      "cell_type": "code",
      "metadata": {
        "id": "RPI-B2MlFnyw",
        "cellView": "form"
      },
      "source": [
        "#@title Kör detta dolda kodblock för att se var brandområdet ligger\n",
        "import folium\n",
        "m = folium.Map(\n",
        "    location=[62,15.3],\n",
        "    tiles='Stamen Terrain',\n",
        "    zoom_start=9\n",
        ")\n",
        "\n",
        "folium.Rectangle(\n",
        "    bounds=[(62.05,15.25), (61.89,15.55)],\n",
        "    fill=False\n",
        ").add_to(m)\n",
        "\n",
        "\n",
        "m"
      ],
      "execution_count": null,
      "outputs": []
    },
    {
      "cell_type": "markdown",
      "metadata": {
        "id": "TUVf44uBFjeM"
      },
      "source": [
        "**Uppdrag 2A.b** Kör nedanstående kodblock för att ladda ner två satellitbilder över området. Den ena är en bild från hösten 2016, och den andra hösten 2019."
      ]
    },
    {
      "cell_type": "code",
      "metadata": {
        "id": "NhZVsw1lPjoM"
      },
      "source": [
        "!wget https://github.com/lunduniversity/schoolprog-satellite-data/raw/master/forest_fires/Sweden/bands_2019_swe.npz --quiet\n",
        "!wget https://github.com/lunduniversity/schoolprog-satellite-data/raw/master/forest_fires/Sweden/bands_2016_swe.npz --quiet\n",
        "\n",
        "#Banden för den svenska skogsbranden\n",
        "bands16 = np.load('bands_2016_swe.npz')\n",
        "bands19 = np.load('bands_2019_swe.npz')\n",
        "\n",
        "#Plockar ut banden var för sig som float\n",
        "#Färgbanden för hösten 2016\n",
        "blue16 = bands16[\"blue\"].astype(float)\n",
        "green16 = bands16[\"green\"].astype(float)\n",
        "red16 = bands16[\"red\"].astype(float)\n",
        "nir16 = bands16[\"nir\"].astype(float)\n",
        "\n",
        "#Färgbanden för hösten 2019\n",
        "blue19 = bands19[\"blue\"].astype(float)\n",
        "green19 = bands19[\"green\"].astype(float)\n",
        "red19 = bands19[\"red\"].astype(float)\n",
        "nir19 = bands19[\"nir\"].astype(float)\n",
        "\n",
        "print(\"Klart!\")"
      ],
      "execution_count": null,
      "outputs": []
    },
    {
      "cell_type": "markdown",
      "metadata": {
        "id": "gQnTV4sDPoVr"
      },
      "source": [
        "Till att börja med kan du undersöka färgbilder av området. För att skapa färgbilderna behöver du kombinera tre färgband som satelliten mäter. En vanlig färgbild är en kombination av rött, grönt och blått ljus.  Du kanske har lagt märke till att det finns ytterligare färgband i koden ovan som kallas `nir16` eller `nir19`. NIR är förkortning för Near InfraRed, vilket är det ljus som har lite längre våglängd än rött. Det går inte att se med blotta ögat men satelliten har instrument som kan plocka upp det. NIR kommer att behövas lite senare i uppgiften.\n",
        "\n",
        "**Uppdrag 2A.c** Kör kodrutan nedan för att definiera funktionen `color_img` som skapar en färgbild av det röda, gröna och blåa bandet."
      ]
    },
    {
      "cell_type": "code",
      "metadata": {
        "id": "jBevuXN1MI4w"
      },
      "source": [
        "def color_img(red,green,blue):\n",
        "  rgb=np.zeros([500,500,3],dtype=np.uint8)\n",
        "  divide=8\n",
        "  for x in range(500):\n",
        "    for y in range(500):\n",
        "      r = min(255, red[x][y]/divide)\n",
        "      g = min(255, green[x][y]/divide)\n",
        "      b = min(255, blue[x][y]/divide)\n",
        "      rgb[x,y] = [r,g,b]\n",
        "  return rgb\n",
        "\n",
        "print(\"Klart!\")"
      ],
      "execution_count": null,
      "outputs": []
    },
    {
      "cell_type": "markdown",
      "metadata": {
        "id": "1LU_efk2G7qE"
      },
      "source": [
        "Funktionen skapar en bild på ett format som passar för plottning.\n",
        "\n",
        "**Uppdrag 2A.d** Kör kodrutan nedan för att importera biblioteket PIL som vi ska använda för plottning."
      ]
    },
    {
      "cell_type": "code",
      "metadata": {
        "id": "GGOSXns7HLYO"
      },
      "source": [
        "from PIL import Image\n",
        "\n",
        "print(\"Klart!\")"
      ],
      "execution_count": null,
      "outputs": []
    },
    {
      "cell_type": "markdown",
      "metadata": {
        "id": "ilVozFVlHw6G"
      },
      "source": [
        "Nu ska vi plotta färgbilderna för 2016 och 2019 för att se om det är någon skillnad mellan åren.\n",
        "\n",
        "**Uppdrag 2A.e** Kör kodrutan nedan för att plotta färgbilden för 2016. Kan du urskilja skog, älv och barmark (t.ex. vägar)?"
      ]
    },
    {
      "cell_type": "code",
      "metadata": {
        "id": "rJTSTdK6H0uN"
      },
      "source": [
        "rgb=color_img(red16,green16,blue16)\n",
        "\n",
        "img = Image.fromarray(rgb)\n",
        "display(img)"
      ],
      "execution_count": null,
      "outputs": []
    },
    {
      "cell_type": "markdown",
      "metadata": {
        "id": "sPht-fKRUcUx"
      },
      "source": [
        "\n",
        "**Uppdrag 2A.f** Modifiera koden i rutan nedan så att du i stället plottar färgbilden för 2019. Färgbanden ska vara i ordningen rött, grönt, blått. Ser du någon skillnad mot 2016? Var tror du att branden har härjat?"
      ]
    },
    {
      "cell_type": "code",
      "metadata": {
        "id": "tqDgImc6P-W1"
      },
      "source": [
        "# Byt ut ??? så du får färgbilden för 2019.\n",
        "rgb=color_img(???,???,???)\n",
        "\n",
        "img = Image.fromarray(rgb)\n",
        "display(img)"
      ],
      "execution_count": null,
      "outputs": []
    },
    {
      "cell_type": "markdown",
      "metadata": {
        "id": "FTpMyjjKwZcb"
      },
      "source": [
        "<details>\n",
        "<summary markdown=\"span\">\n",
        "Svar\n",
        "</summary>\n",
        "För att se färgbilden för hösten 2019:\n",
        "<pre><code>rgb=color_img(red19,green19,blue19)\n",
        "</code></pre>\n",
        "</details>\n",
        "<p></p>"
      ]
    },
    {
      "cell_type": "markdown",
      "metadata": {
        "id": "A_RgncD6XIC7"
      },
      "source": [
        "I nästa steg ska vi skapa en bild som visar Normalized Difference Vegetation Index (NDVI). Förhoppningsvis har du stött på NDVI i tidigare uppgifter, som Torkan A.\n",
        "\n",
        "Som du kanske kommer ihåg så är NDVI ett tal mellan -1 och 1, och som kan användas för att dela upp en landyta i olika kategorier. Ett index som är över 0.1 kan i de flesta fall sägas vara någon form av vegetation. Ju högre NDVI desto tätare växtlighet. Ett NDVI-värde mellan -0.1 till 0.1 brukar indikera en landyta fri från vegetation. Negativa NDVI-värden mellan -0.1 till -1 brukar istället betyda att det är en yta täckt av vatten.\n",
        "\n",
        "NDVI räknas ut med hjälp av NIR och det röda bandet enligt följande formel: \n",
        "\n",
        "           NIR - Red\n",
        "    NDVI = ---------\n",
        "           NIR + Red\n",
        "\n",
        "NDVI-formeln utnyttjar att reflektionen skiljer sig mycket åt mellan NIR och rött ljus för flera slags ytor. Växtlighet absorberar mycket rött ljus, men reflekterar NIR-ljus i hög grad. Med vatten förhåller det sig tvärtom. \n",
        "\n",
        "**Uppgift 2A.g** Skriv en funktion med namn `ndvi_img` som räknar ut NDVI i följande kodblock. Om du är osäker på syntaxen får du ett färdigt kodskelett under tipsfliken. Du behöver dock själv skriva in vilka argument funktionen behöver och hur NDVI ska räknas ut. Om du har gjort funktioner innan så prova gärna själv innan du kikar på tipset. Var noga med placeringen av parenteser!"
      ]
    },
    {
      "cell_type": "code",
      "metadata": {
        "id": "EYUTXEXLcy5b"
      },
      "source": [
        "#Skriv din funktion ndvi_img här:\n",
        "def ...\n",
        "\n",
        "\n",
        "print(\"Klart!\") # Utskriften här är bara för att du ska se att det händer något när kodrutan körs"
      ],
      "execution_count": null,
      "outputs": []
    },
    {
      "cell_type": "markdown",
      "metadata": {
        "id": "XlVz6hSxgP4F"
      },
      "source": [
        "<details>\n",
        "<summary markdown=\"span\">\n",
        "Tips!\n",
        "</summary>\n",
        "<p><pre><code>def ndvi_img(???,???):\n",
        "  #skriv hur ndvi räknas ut här:\n",
        "  ndvi=\n",
        "  return ndvi</code></pre>\n",
        "</p>\n",
        "</details>\n",
        "<p></p>"
      ]
    },
    {
      "cell_type": "markdown",
      "metadata": {
        "id": "cUvCpTpPdEqQ"
      },
      "source": [
        "<details>\n",
        "<summary markdown=\"span\">\n",
        "Lösning\n",
        "</summary>\n",
        "<p><pre><code>def ndvi_img(nir,red):\n",
        " ndvi=(nir-red)/(nir+red)\n",
        " return ndvi</code></pre>\n",
        "</p>\n",
        "</details>\n",
        "<p></p>"
      ]
    },
    {
      "cell_type": "markdown",
      "metadata": {
        "id": "p0GJDRXThmQs"
      },
      "source": [
        "Nu kan du prova din funktion genom att se hur NDVI för området ser ut. Börja med år 2016 och fortsätt sedan med 2019.\n",
        "\n",
        "**Uppdrag 2A.h** Använd de två kodblocken nedan för att plotta NDVI för 2016 och 2019. För varje kodblock, skriv in rätt argument i anropet av din `ndvi_img` funktion och kör sedan kodblocket. Om du är osäker på namnen på färgbanden så kan du hitta dem i kodblocket som skapar färgbilderna. "
      ]
    },
    {
      "cell_type": "code",
      "metadata": {
        "id": "t38X_EMx_J-U"
      },
      "source": [
        "#Byt ut ??? mot namnen på rätt färgband:\n",
        "ndvi16 = ndvi_img(???,???)\n",
        "\n",
        "plt.figure(figsize=(10,10))\n",
        "plt.pcolormesh(ndvi16, cmap='brg')\n",
        "plt.rcParams['xtick.top'] = plt.rcParams['xtick.labeltop'] = True\n",
        "plt.ylim(ndvi16.shape[0], 0)\n",
        "plt.clim(-1.0, 0.7)\n",
        "plt.colorbar(label='NDVI')\n",
        "plt.show()"
      ],
      "execution_count": null,
      "outputs": []
    },
    {
      "cell_type": "code",
      "metadata": {
        "id": "bBC5n9bc1-I9"
      },
      "source": [
        "#Byt ut ??? mot namnen på rätt färgband:\n",
        "ndvi19 = ndvi_img(???,???)\n",
        "\n",
        "plt.figure(figsize=(10,10))\n",
        "plt.pcolormesh(ndvi19, cmap='brg')\n",
        "plt.ylim(ndvi19.shape[0], 0)\n",
        "plt.clim(-1.0, 0.7)\n",
        "plt.colorbar(label='NDVI')\n",
        "plt.rcParams['xtick.top'] = plt.rcParams['xtick.labeltop'] = True\n",
        "plt.show()\n"
      ],
      "execution_count": null,
      "outputs": []
    },
    {
      "cell_type": "markdown",
      "metadata": {
        "id": "XQxqaz4Qv-uh"
      },
      "source": [
        "<details>\n",
        "<summary markdown=\"span\">\n",
        "Lösning\n",
        "</summary>\n",
        "<pre><code> ndvi16=ndvi_img(nir16,red16)\n",
        " ndvi19=ndvi_img(nir19,red19)\n",
        "</code></pre>\n",
        "</details>\n",
        "<p></p>"
      ]
    },
    {
      "cell_type": "markdown",
      "metadata": {
        "id": "U2nT8zC10UXm"
      },
      "source": [
        "**Uppdrag 2A.i**\n",
        "Jämför de båda NDVI-bilderna. Kan du identifiera vad som är skog, vatten och barmark? Är det lättare att se skillnader om man tittar på NDVI jämfört med färgbilder?\n",
        "I vilka områden tror du skogsbranden har ägt rum?\n",
        "\n",
        "**Uppdrag 2A.j** \n",
        "Scrolla upp och titta på färgbilderna igen, lokalisera var det finns moln. Kan du se molnen även i bilderna med NDVI? Går det att skilja på brandområdena och moln i NDVI-bilden?\n",
        "\n",
        "<details>\n",
        "<summary markdown=\"span\">\n",
        "Kommentar\n",
        "</summary>\n",
        "Det går inte så bra att se skillnad på moln och barmark i NDVI-bilden. Det kan därför vara bra att titta både på färgbilderna och NDVI-bilderna för att avgöra var det har brunnit.\n",
        "</details>\n",
        "<p></p>\n",
        "\n",
        "\n",
        "Som du kanske lagt märke till i NDVI-bilden från 2019 så är det främst två områden som är intressanta. Ett precis norr om älven och ett söder om. Vi behöver nu skapa två polygoner för att uppskatta storleken på dessa områden. \n",
        "\n",
        "**Uppdrag 2A.k**\n",
        "Börja med att köra kodblocket nedan för att få upp en större bild av NDVI över området år 2019.\n",
        "\n"
      ]
    },
    {
      "cell_type": "code",
      "metadata": {
        "id": "2EB-2vMF7zc6"
      },
      "source": [
        "plt.figure(figsize=(15,15))\n",
        "plt.pcolormesh(ndvi19, cmap='brg')\n",
        "plt.ylim(ndvi19.shape[0], 0)\n",
        "plt.clim(-1.0, 0.7)\n",
        "plt.colorbar(label='NDVI')\n",
        "plt.xticks(np.arange(0, 500+1, 25.0))\n",
        "plt.yticks(np.arange(0, 500+1, 25.0))\n",
        "plt.grid()\n",
        "plt.rcParams['xtick.top'] = plt.rcParams['xtick.labeltop'] = True \n",
        "\n",
        "#Bygg ut listan med fler hörn så att hela norra delen av branden täcks:\n",
        "corner_north = [[140,45],[175,55],[200,54]]\n",
        "polygon = plt.Polygon(corner_north,fill=None)\n",
        "plt.gca().add_patch(polygon)\n",
        "\n",
        "#Bygg ut listan med fler hörn så att hela södra delen av branden täcks:\n",
        "corner_south=[[200,260],[275,320],[300,310]]\n",
        "polygon = plt.Polygon(corner_south,fill=None)\n",
        "plt.gca().add_patch(polygon)\n",
        "plt.show()\n"
      ],
      "execution_count": null,
      "outputs": []
    },
    {
      "cell_type": "markdown",
      "metadata": {
        "id": "tP7YuJUp8Lxv"
      },
      "source": [
        "Om du tittar noga på bilden så ser du två trekantiga polygoner. Hittar du dem i koden också?\n",
        "\n",
        "**Uppdrag 2A.l** Lägg till 3-4 hörn till i `corner_north` och `corner_south` så att polygonerna täcker områdena ungefärligt. Lägg sedan till fler hörn och anpassa polygonerna så att de täcker brandområdena mer noggrannt. Du väljer själv hur noggrann du vill vara. Kör kodrutan efter varje ändring du gör, så du kontrollerar hur resultatet blir.\n",
        "\n",
        "<details>\n",
        "<summary markdown=\"span\">\n",
        "Tips\n",
        "</summary>\n",
        "Du kan behöva runt 15 hörn för att få en riktigt noggrann täckning, som i följande bild. Men det räcker med mycket färre hörn för att få en ungefärlig uppskattning.<br>\n",
        "\n",
        "<img src=\"https://github.com/lunduniversity/schoolprog-satellite/raw/master/exercises/forest_fires/SWE_firepolygons.png\" width=\"800\"/>\n",
        "</details>\n",
        "<p></p>"
      ]
    },
    {
      "cell_type": "markdown",
      "metadata": {
        "id": "pxUVW51bW2r0"
      },
      "source": [
        "Nu ska vi räkna ut arean på polygonerna. Vi kan använda funktionen `area_calc` som vi definerade tidigare. Parameter till area_calc är listan av koordinater. Fyll i rätt parametrar nedan och räkna ut totalarean.\n",
        "\n",
        "Funktionen `area_calc` kan användas för att räkna ut pixelarean till dina två polygoner. Parameter till funktionen är en lista med koordinater för dina polygonkanter.\n",
        "\n",
        "**Uppdrag 2A.m** Skriv in rätt parametervärde till `area_calc` för att räkna ut arean i kodblocket nedan. Räkna sedan ut totalarean.\n",
        "\n",
        " "
      ]
    },
    {
      "cell_type": "code",
      "metadata": {
        "id": "zwn4ukZgCJml"
      },
      "source": [
        "#Byt ut ??? mot rätt parametrar\n",
        "area_north=area_calc(???)\n",
        "area_south=area_calc(???)\n",
        "\n",
        "totalarea=area_north+area_south\n",
        "print(totalarea, 'pixlar')\n"
      ],
      "execution_count": null,
      "outputs": []
    },
    {
      "cell_type": "markdown",
      "metadata": {
        "id": "TzgGHLqPauTH"
      },
      "source": [
        "<details>\n",
        "<summary markdown=\"span\">\n",
        "Svar\n",
        "</summary>\n",
        "<p><pre><code>area_north=area_calc(corner_north)\n",
        "area_south=area_calc(corner_south)</code></pre>\n",
        "Arean borde vara någonstans mellan 38 000 - 58 000 pixlar.\n",
        "</p>\n",
        "</details>\n",
        "<p></p>"
      ]
    },
    {
      "cell_type": "markdown",
      "metadata": {
        "id": "aPLoXUTWcPGx"
      },
      "source": [
        "Nu har vi räknat ut arean i pixlar. Men hur mycket kan det motsvara i $km^2$ (kvadratkilometer)?\n",
        "\n",
        "Koordinataxlarna i bilden är graderad i pixlar. En pixel i bilden motsvarar ett område på 40x40 $m$ vilket i sin tur motsvarar 1600 $m^2$ (kvadratmeter). Om du är osäker på omvandlingen kan du börja med att räkna ut hur många $m^2$ brandområdet motsvarar.\n",
        "\n",
        "**Uppdrag 2A.n** Räkna ut arean i kvadratmeter i kodblocket nedan.\n",
        "\n"
      ]
    },
    {
      "cell_type": "code",
      "metadata": {
        "id": "bxMIg-cfdNo2"
      },
      "source": [
        "# Byt ut ??? för att räkna ut vad arean är i kvadratmeter?\n",
        "area_m2 = ???\n",
        "print(area_m2,'m^2 (kvadratmeter)')"
      ],
      "execution_count": null,
      "outputs": []
    },
    {
      "cell_type": "markdown",
      "metadata": {
        "id": "6Je2pYbodT4L"
      },
      "source": [
        "<details>\n",
        "<summary markdown=\"span\">\n",
        "Lösning\n",
        "</summary>\n",
        "<p><pre><code> area_m2=totalarea*1600\n",
        "</code></pre>\n",
        "</p>\n",
        "</details>\n",
        "<p></p>"
      ]
    },
    {
      "cell_type": "markdown",
      "metadata": {
        "id": "gwHzDevYefqm"
      },
      "source": [
        "**Uppdrag 2A.o** Sen behöver du fundera ut hur arean kan omvandlas till $km^2$. Skriv in din omvandling i kodblocket nedan. "
      ]
    },
    {
      "cell_type": "code",
      "metadata": {
        "id": "KpydyXC9g4XB"
      },
      "source": [
        "# Byt ut ??? för att räkna ut arean i kvadratkilometer\n",
        "area_km2 = ???\n",
        "print(area_km2, 'km^2 (kvadratkilometer)')"
      ],
      "execution_count": null,
      "outputs": []
    },
    {
      "cell_type": "markdown",
      "metadata": {
        "id": "XKhMvnd6f6td"
      },
      "source": [
        "\n",
        "<details>\n",
        "<summary markdown=\"span\">\n",
        "Tips!\n",
        "</summary>\n",
        "<p>Som du säkert redan vet är 1000 meter samma som 1 km. 1 $km^2$ är då samma som $1000^2 m^2$, alltså $1000000 m^2$.\n",
        "</p>\n",
        "</details>\n",
        "<p></p>"
      ]
    },
    {
      "cell_type": "markdown",
      "metadata": {
        "id": "-voMrOaGgVLP"
      },
      "source": [
        "<details>\n",
        "<summary markdown=\"span\">\n",
        "Lösning\n",
        "</summary>\n",
        "<p><pre><code> area_km2=area_m2/1000000\n",
        "</code></pre>\n",
        "</p>\n",
        "</details>\n",
        "<p></p>"
      ]
    },
    {
      "cell_type": "markdown",
      "metadata": {
        "id": "AVxMUG3fB9eB"
      },
      "source": [
        "Skog räknar man ofta i *hektar*, där en hektar är 10000 $m^2$, eller 0.01 $km^2$. Multiplicera alltså ditt resultat med 100 för att få det antal hektar som brann i de två bränderna Kårböle vi tittat på. Ett annat mått på ytor är \"fotbollsplaner\". En fotbollsplan är ofta 60 x 90 meter, dvs det går ungefär 2 fotbollsplaner på en hektar.\n",
        "\n",
        "I en studie från MSB där man analyserat bränder i Sverige mellan 1996-2018 fann man att det i genomsnitt brunnit 2900 hektar skogsmark om året i hela Sverige.\n",
        "\n",
        "**Uppgift 2A.p** Hur många hektar resp. fotbollsplaner brann i Kårböle enligt din beräkning? Räkna gärna ut det genom att programmera i kodrutan nedan. Var det mycket eller lite skog som brann? Vad händer i samhället när det blir stora bränder? Kan vi göra något för att förhindra skogsbränder i framtiden? Diskutera gärna med en kompis.\n"
      ]
    },
    {
      "cell_type": "code",
      "metadata": {
        "id": "D1GqUjbMK29f"
      },
      "source": [
        "# Räkna ut hur många hektar som brann, och hur många fotbollsplaner det motsvarar.\n"
      ],
      "execution_count": null,
      "outputs": []
    },
    {
      "cell_type": "markdown",
      "metadata": {
        "id": "SFXa3mKLLXaq"
      },
      "source": [
        "<details>\n",
        "<summary markdown=\"span\">\n",
        "Kommentar\n",
        "</summary>\n",
        "Det fanns en tredje brand i Kårböle som vi kan skymta uppe till vänster på bilderna. Skogsstyrelsen räknar med att det sammanlagt brann 9000 hektar i Kårböle, och totalt 21000 hektar i hela Sverige sommaren 2018.<br><br>\n",
        "Skeendet blev dramatiskt med många bränder samtidigt. Befolkningen fick evakueras på flera ställen, inklusive Kårböle, och Sverige fick hjälp med brandmän och vattenbombning från många andra länder, bl.a. Italien, Frankrike, Portugal, Norge, Danmark, Polen, Litauen och Tyskland.<br><br>\n",
        "Du kan läsa mer om skogsbränderna 2018 i t.ex. <a href=\"https://sv.wikipedia.org/wiki/Skogsbränderna_i_Sverige_2018\">denna wikipedia-artikel</a> och <a href=\"https://www.svt.se/nyheter/lokalt/gavleborg/sa-har-stora-var-branderna\">detta SVT-reportage</a>.\n",
        "</details>\n",
        "<p></p>"
      ]
    },
    {
      "cell_type": "markdown",
      "metadata": {
        "id": "lVV7TqTP_rb6"
      },
      "source": [
        "### 2B. Australien - Skogsbranden på Kangaroo Island 2019\n",
        "<small>Klicka på den lilla pilen till vänster om rubriken för att fälla ut eller ihop avsnittet.</small>\n",
        "\n",
        "Årsskiftet 2019-2020 skedde en brandkatastrof i stora delar av Australien. I den här uppgiften ska du få undersöka brandområdet på Kangaroo Island, en ö som ligger längs Australiens södra kust."
      ]
    },
    {
      "cell_type": "markdown",
      "metadata": {
        "id": "69YLIpK4Ft1K"
      },
      "source": [
        "**Uppgift 2B.a** Kör kodblocket nedan för att få fram en karta över ön. Om du råkat zooma eller panna så du inte ser ön, så prova att köra koden en gång till. Kan du zooma ut och se var ön ligger i förhållande till Australien?"
      ]
    },
    {
      "cell_type": "code",
      "metadata": {
        "id": "1nbruHtsLDk-",
        "cellView": "form"
      },
      "source": [
        "#@title Kör detta dolda kodblock för att se var brandområdet ligger\n",
        "import folium\n",
        "m = folium.Map(\n",
        "    location=[-35.7752,137.2142],\n",
        "    tiles='Stamen Terrain',\n",
        "    zoom_start=9\n",
        ")\n",
        "\n",
        "folium.Rectangle(\n",
        "    bounds=[(-35.6,136.5), (-36.1,137)],\n",
        "    fill=False\n",
        ").add_to(m)\n",
        "\n",
        "\n",
        "m"
      ],
      "execution_count": null,
      "outputs": []
    },
    {
      "cell_type": "markdown",
      "metadata": {
        "id": "xzWCjThkLA66"
      },
      "source": [
        "**Uppdrag 2B.b** Kör nedanstående kodblock för att ladda ner två satellitbilder. Den ena är en bild över området december 2019, och den andra januari 2020."
      ]
    },
    {
      "cell_type": "code",
      "metadata": {
        "id": "OocZ_Ul8BAqP"
      },
      "source": [
        "\n",
        "!wget https://github.com/lunduniversity/schoolprog-satellite-data/raw/master/forest_fires/Australia/bands_2019_aus.npz --quiet\n",
        "!wget https://github.com/lunduniversity/schoolprog-satellite-data/raw/master/forest_fires/Australia/bands_2020_aus.npz --quiet\n",
        "\n",
        "#Banden för den australiska skogsbranden\n",
        "bands19 = np.load('bands_2019_aus.npz')\n",
        "bands20 = np.load('bands_2020_aus.npz')\n",
        "\n",
        "#Plockar ut banden var för sig som float\n",
        "#Färgbanden för december 2019\n",
        "blue19=bands19[\"blue\"].astype(float)\n",
        "green19=bands19[\"green\"].astype(float)\n",
        "red19 = bands19[\"red\"].astype(float)\n",
        "nir19 = bands19[\"nir\"].astype(float)\n",
        "\n",
        "#Färgbanden för januari 2020\n",
        "blue20=bands20[\"blue\"].astype(float)\n",
        "green20=bands20[\"green\"].astype(float)\n",
        "red20 = bands20[\"red\"].astype(float)\n",
        "nir20 = bands20[\"nir\"].astype(float)\n",
        "\n",
        "print(\"Klart!\")\n"
      ],
      "execution_count": null,
      "outputs": []
    },
    {
      "cell_type": "markdown",
      "metadata": {
        "id": "hxLDCFrkMKdx"
      },
      "source": [
        "Till att börja med kan du undersöka färgbilder av området. För att skapa färgbilderna behöver du kombinera tre färgband som satelliten mäter. En vanlig färgbild är en kombination av rött, grönt och blått ljus.  Du kanske har lagt märke till att det finns ytterligare färgband i koden ovan som kallas `nir19` eller `nir20`. NIR är förkortning för Near InfraRed, vilket är det ljus som har lite längre våglängd än rött. Det går inte att se med blotta ögat men satelliten har instrument som kan plocka upp det. NIR kommer att behövas lite senare i uppgiften.\n",
        "\n",
        "**Uppdrag 2B.c** Kör kodrutan nedan för att definiera funktionen `color_img` som skapar en färgbild av det röda, gröna och blåa bandet. "
      ]
    },
    {
      "cell_type": "code",
      "metadata": {
        "id": "IYuJYIZDMQ48"
      },
      "source": [
        "def color_img(red,green,blue):\n",
        "  rgb=np.zeros([500,625,3],dtype=np.uint8)\n",
        "  divide=8\n",
        "  for x in range(500):\n",
        "    for y in range(625):\n",
        "      r = min(255, red[x][y]/divide)\n",
        "      g = min(255, green[x][y]/divide)\n",
        "      b = min(255, blue[x][y]/divide)\n",
        "      rgb[x,y] = [r,g,b]\n",
        "  return rgb\n",
        "\n",
        "print(\"Klart!\")"
      ],
      "execution_count": null,
      "outputs": []
    },
    {
      "cell_type": "markdown",
      "metadata": {
        "id": "5omkWazsMYXv"
      },
      "source": [
        "Funktionen skapar en bild på ett format som passar för plottning.\n",
        "\n",
        "**Uppdrag 2B.d** Kör kodrutan nedan för att importera biblioteket PIL som vi ska använda för plottning."
      ]
    },
    {
      "cell_type": "code",
      "metadata": {
        "id": "V6ud11qEMfIg"
      },
      "source": [
        "from PIL import Image\n",
        "\n",
        "print(\"Klart!\")"
      ],
      "execution_count": null,
      "outputs": []
    },
    {
      "cell_type": "markdown",
      "metadata": {
        "id": "JcozNAneMj5q"
      },
      "source": [
        "Nu ska vi plotta färgbilderna för 2019 och 2020 för att se om det är någon skillnad mellan\n",
        "bilderna.\n",
        "\n",
        "Uppdrag **2B.e** Kör kodrutan nedan för att plotta färgbilden för 2019. Kan du urskilja land och hav? Går det att se vad som är skog eller annan växtlighet?"
      ]
    },
    {
      "cell_type": "code",
      "metadata": {
        "id": "PvUO23cvMWwT"
      },
      "source": [
        "rgb=color_img(red19,green19,blue19)\n",
        "\n",
        "img = Image.fromarray(rgb)\n",
        "display(img)"
      ],
      "execution_count": null,
      "outputs": []
    },
    {
      "cell_type": "markdown",
      "metadata": {
        "id": "g1Qa3kvmOANe"
      },
      "source": [
        "**Uppdrag 2B.f** Modifiera koden i rutan nedan så att du i stället plottar färgbilden för 2020. Färgbanden ska vara i ordningen rött, grönt, blått. Ser du någon skillnad mot 2019? Var tror du att branden har härjat? "
      ]
    },
    {
      "cell_type": "code",
      "metadata": {
        "id": "uDkpM02IOOai"
      },
      "source": [
        "# Byt ut ??? så du får färgbilden för 2020\n",
        "rgb=color_img(???,???,???)\n",
        "\n",
        "img = Image.fromarray(rgb)\n",
        "display(img)"
      ],
      "execution_count": null,
      "outputs": []
    },
    {
      "cell_type": "markdown",
      "metadata": {
        "id": "E3s44wAlM5v4"
      },
      "source": [
        "<details>\n",
        "<summary markdown=\"span\">\n",
        "Svar\n",
        "</summary>\n",
        "<p>\n",
        "\n",
        "För att se färgbilden för december 2019:\n",
        "<pre><code>rgb=color_img(red19,green19,blue19)</code></pre>\n",
        "För att se färgbilden för januari 2020:\n",
        "<pre><code>rgb=color_img(red20,green20,blue20)</code></pre>\n",
        "</p>\n",
        "</details>\n",
        "<p></p>"
      ]
    },
    {
      "cell_type": "markdown",
      "metadata": {
        "id": "T92U6R-PNIbm"
      },
      "source": [
        "I nästa steg ska vi skapa en bild som visar Normalized Difference Vegetation Index (NDVI). Förhoppningsvis har du stött på NDVI i tidigare uppgifter, som Torkan A.\n",
        "\n",
        "Som du kanske kommer ihåg så är NDVI ett tal mellan -1 och 1, och som kan användas för att dela upp en landyta i olika kategorier. Ett index som är över 0.1 kan i de Eesta fall sägas vara någon form av vegetation. Ju högre NDVI desto tätare växtlighet. Ett NDVI-värde mellan -0.1 till 0.1 brukar indikera en landyta fri från vegetation. Negativa NDVI-värden mellan -0.1 till -1 brukar istället betyda att det är en yta täckt av vatten.\n",
        "\n",
        "NDVI räknas ut med hjälp av NIR och det röda bandet enligt följande formel: \n",
        "\n",
        "           NIR - Red\n",
        "    NDVI = ---------\n",
        "           NIR + Red\n",
        "\n",
        "NDVI-formeln utnyttjar att reflektionen skiljer sig mycket åt mellan NIR och rött ljus för Flera slags ytor. Växtlighet absorberar mycket rött ljus, men reflekterar NIR-ljus i hög grad. Med vatten förhåller det sig tvärtom.\n",
        "\n",
        "**Uppgift 2B.g** Skriv en funktion med namn `ndvi_img` som räknar ut NDVI i följande kodblock. Om du är osäker på syntaxen får du ett färdigt kodskelett under tipsfliken. Du behöver dock själv skriva in vilka argument funktionen behöver och hur NDVI ska räknas ut. Om du har gjort funktioner innan så prova gärna själv innan du kikar på tipset. Var noga med placeringen av parenteser!"
      ]
    },
    {
      "cell_type": "code",
      "metadata": {
        "id": "iskuDl6eNPHk"
      },
      "source": [
        "#Skriv din funktion ndvi_img här:\n",
        "def ...\n",
        "\n",
        "\n",
        "print(\"Klart!\") #Utskriften här är bara för att du ska se att den händer något när kodrutan körs."
      ],
      "execution_count": null,
      "outputs": []
    },
    {
      "cell_type": "markdown",
      "metadata": {
        "id": "ISwUctWwNSlH"
      },
      "source": [
        "<details>\n",
        "<summary markdown=\"span\">\n",
        "Tips!\n",
        "</summary>\n",
        "<p><pre><code>def ndvi_img(???,???):\n",
        "  #skriv hur ndvi räknas ut här:\n",
        "  ndvi=\n",
        "  return ndvi\n",
        "</code></pre>\n",
        "</p>\n",
        "</details>\n",
        "<p></p>"
      ]
    },
    {
      "cell_type": "markdown",
      "metadata": {
        "id": "PWA--v2NNS56"
      },
      "source": [
        "<details>\n",
        "<summary markdown=\"span\">\n",
        "Lösning\n",
        "</summary>\n",
        "<p><pre><code>def ndvi_img(nir,red):\n",
        " ndvi=(nir-red)/(nir+red)\n",
        " return ndvi\n",
        "</code></pre>\n",
        "</p>\n",
        "</details>\n",
        "<p></p>"
      ]
    },
    {
      "cell_type": "markdown",
      "metadata": {
        "id": "TSswJiRBNuNv"
      },
      "source": [
        "Nu kan du prova din funktion genom att se hur NDVI för området ser ut. Börja med år 2019 och fortsätt sedan med 2020. \n",
        "\n",
        "**Uppdrag 2B.h** Använd de två kodblocken nedan för att plotta NDVI för 2019 och 2020. För varje kodblock, skriv in rätt argument i anropet av din `ndvi_img` funktion och kör sedan kodblocket. Om du är osäker på namnen på färgbanden så kan du hitta dem i kodblocket som skapar färgbilderna."
      ]
    },
    {
      "cell_type": "code",
      "metadata": {
        "id": "xIEOmVctNoA4"
      },
      "source": [
        "#Byt ut ??? mot namnen på rätt färgband:\n",
        "ndvi19 = ndvi_img(???,???)\n",
        "\n",
        "plt.figure(figsize=(10,10))\n",
        "plt.pcolormesh(ndvi19, cmap='brg')\n",
        "plt.rcParams['xtick.top'] = plt.rcParams['xtick.labeltop'] = True\n",
        "plt.ylim(ndvi19.shape[0], 0)\n",
        "plt.clim(-1.0, 0.7)\n",
        "plt.colorbar(label='NDVI')\n",
        "plt.show()"
      ],
      "execution_count": null,
      "outputs": []
    },
    {
      "cell_type": "code",
      "metadata": {
        "id": "Bhv8kfVvN9-3"
      },
      "source": [
        "#Byt ut ??? mot namnen på rätt färgband:\n",
        "ndvi20 = ndvi_img(???,???)\n",
        "\n",
        "plt.figure(figsize=(10,10))\n",
        "plt.pcolormesh(ndvi20, cmap='brg')\n",
        "plt.rcParams['xtick.top'] = plt.rcParams['xtick.labeltop'] = True\n",
        "plt.ylim(ndvi20.shape[0], 0)\n",
        "plt.clim(-1.0, 0.7)\n",
        "plt.colorbar(label='NDVI')\n",
        "plt.show()"
      ],
      "execution_count": null,
      "outputs": []
    },
    {
      "cell_type": "markdown",
      "metadata": {
        "id": "qeD0YjsRIUXb"
      },
      "source": [
        "<details>\n",
        "<summary markdown=\"span\">\n",
        "Svar\n",
        "</summary>\n",
        "<p><pre><code> ndvi19=ndvi_img(nir19,red19)\n",
        " ndvi20=ndvi_img(nir20,red20)\n",
        "</code></pre>\n",
        "</p>\n",
        "</details>\n",
        "<p></p>"
      ]
    },
    {
      "cell_type": "markdown",
      "metadata": {
        "id": "6PeRe2ChRKNH"
      },
      "source": [
        "**Uppdrag 2B.i** Jämför de båda NDVI-bilderna. Kan du identifiera vad som är växtlighet respektive vatten? I vilka områden tror du skogsbranden har ägt rum?\n",
        "\n",
        "**Uppdrag 2B.j** Scrolla upp och titta på färgbilderna igen. Är det lättare att se identifiera vad som är vad om man tittar på NDVI jämfört med färgbilder? Vad tror du orsakar de röda prickarna i vattnet? Scrolla upp och jämför med färgbilderna, går det att se något där?\n",
        "\n",
        "\n",
        "<details>\n",
        "<summary markdown=\"span\">\n",
        "Kommentar\n",
        "</summary>\n",
        "Det går mycket lättare att se vad som är växtlighet i NDVI-bilden än i färgbilden. De röda prickarna i havet på NDVI-bilden är dock uppenbart inte barmark. Det kan därför vara bra att titta både på färgbilderna och NDVI-bilderna för att avgöra vad som är vad.\n",
        "</details>\n",
        "<p></p>"
      ]
    },
    {
      "cell_type": "markdown",
      "metadata": {
        "id": "LUTp7sV9OSHX"
      },
      "source": [
        "Vi ska nu skapa en polygon för att uppskatta storleken på området som har brunnit.\n",
        "\n",
        "**Uppgift 2B.k** Börja med att köra kodblocket nedan för att få upp en större bild av NDVI över området år 2020.\n"
      ]
    },
    {
      "cell_type": "code",
      "metadata": {
        "id": "RM19xMuOP32w"
      },
      "source": [
        "plt.figure(figsize=(15,15))\n",
        "plt.pcolormesh(ndvi20, cmap='brg')\n",
        "plt.ylim(ndvi20.shape[0], 0)\n",
        "plt.clim(-1.0, 0.7)\n",
        "plt.colorbar(label='NDVI')\n",
        "plt.xticks(np.arange(0, 625+1, 25.0))\n",
        "plt.yticks(np.arange(0, 500+1, 25.0))\n",
        "plt.grid()\n",
        "plt.rcParams['xtick.top'] = plt.rcParams['xtick.labeltop'] = True \n",
        "\n",
        "#Bygg ut listan med fler hörn så att hela brandområdet täcks:\n",
        "corners = [[540, 130],[525, 155],[510, 190],[540, 200],[570, 210],\n",
        "           [590, 120],[620, 115],[620, 250],[580, 280],[550, 280],\n",
        "           [510, 260],[500, 230],[475, 225],[460, 260],[420, 300],\n",
        "           [460, 310],[460, 330],[425, 325],[450, 350],[475, 355]]\n",
        "\n",
        "             \n",
        "           \n",
        "polygon = plt.Polygon(corners,fill=None)\n",
        "plt.gca().add_patch(polygon)\n",
        "plt.show()"
      ],
      "execution_count": null,
      "outputs": []
    },
    {
      "cell_type": "markdown",
      "metadata": {
        "id": "O4OhKhpj9ogz"
      },
      "source": [
        "Om du tittar i bilden ser du en polygon som påbörjats för att ringa in brandområdet. Hittar du polygonen i koden också?\n",
        "\n",
        "**Uppdrag 2B.l** Lägg till 3-4 hörn i `corners` så att polygonen täcker området ungefärligt. Lägg sedan till fler hörn och anpassa polygonen så att den täcker brandområdet mer noggrannt. Du väljer själv hur noggrann du vill vara. Kör kodrutan efter varje ändring du gör, så du kontrollerar hur resultatet blir.\n",
        "\n",
        "<details>\n",
        "<summary markdown=\"span\">\n",
        "Tips\n",
        "</summary>\n",
        "Du kan behöva runt 30 hörn till för att få en riktigt noggrann täckning, som i följande bild. Men det räcker med mycket färre hörn för att få en ungefärlig uppskattning.<br>\n",
        "\n",
        "<img src=\"https://github.com/lunduniversity/schoolprog-satellite/raw/master/exercises/forest_fires/AUS_firepolygons.png\" width=\"800\"/>\n",
        "</details>\n",
        "<p></p>"
      ]
    },
    {
      "cell_type": "markdown",
      "metadata": {
        "id": "ylsFmoDsEH8H"
      },
      "source": [
        "Nu ska vi räkna ut arean på polygonen. Vi kan använda funktionen `area_calc` som vi definerade tidigare. Parameter till `area_calc` är listan av koordinater. Fyll i rätt parametrar nedan och räkna ut arean.\n",
        "\n",
        "**Uppdrag 2B.m** Skriv in rätt parametervärde till area_calc för att räkna ut arean i kodblocket nedan."
      ]
    },
    {
      "cell_type": "code",
      "metadata": {
        "id": "shWPZnoZENJ4"
      },
      "source": [
        "#Byt ut ??? mot rätt parametrar\n",
        "totalarea =area_calc(???)\n",
        "\n",
        "print(totalarea, 'pixlar')"
      ],
      "execution_count": null,
      "outputs": []
    },
    {
      "cell_type": "markdown",
      "metadata": {
        "id": "QPcnOPO8E2mY"
      },
      "source": [
        "<details>\n",
        "<summary markdown=\"span\">\n",
        "Svar\n",
        "</summary>\n",
        "<p><pre><code>totalarea=area_calc(corners)</code></pre>\n",
        "Arean borde vara någonstans mellan 130 000 - 150 000 pixlar.\n",
        "</p>\n",
        "</details>\n",
        "<p></p>"
      ]
    },
    {
      "cell_type": "markdown",
      "metadata": {
        "id": "hragmWbyFQr4"
      },
      "source": [
        "Nu har vi räknat ut arean i pixlar. Men hur mycket kan det motsvara i $km^2$ (kvadratkilometer)?\n",
        "\n",
        "Koordinataxlarna i bilden är graderad i pixlar. En pixel i bilden motsvarar 14400 $m^2$ (kvadratmeter). Om du är osäker på omvandlingen kan du börja med att räkna ut hur många $m^2$ brandområdet motsvarar.\n",
        "\n",
        "**Uppdrag 2B.n** Räkna ut arean i kvadratmeter i kodblocket nedan.\n"
      ]
    },
    {
      "cell_type": "code",
      "metadata": {
        "id": "bQOBFlifFdg5"
      },
      "source": [
        "# Byt ut ??? för att räkna ut vad arean är i kvadratmeter.\n",
        "area_m2 = ???\n",
        "print(area_m2,'m^2')"
      ],
      "execution_count": null,
      "outputs": []
    },
    {
      "cell_type": "markdown",
      "metadata": {
        "id": "7ZW3SE8JFemn"
      },
      "source": [
        "<details>\n",
        "<summary markdown=\"span\">\n",
        "Lösning\n",
        "</summary>\n",
        "<p><pre><code> area_m2=totalarea*14400\n",
        "</code></pre>\n",
        "</p>\n",
        "</details>\n",
        "<p></p>"
      ]
    },
    {
      "cell_type": "markdown",
      "metadata": {
        "id": "vNcKXSCdFe6q"
      },
      "source": [
        "**Uppdrag 2B.m** Sen behöver du fundera ut hur arean kan omvandlas till $km^2$. Skriv in din omvandling i kodblocket nedan. "
      ]
    },
    {
      "cell_type": "code",
      "metadata": {
        "id": "JD7okH9OFzRp"
      },
      "source": [
        "# Byt ut ??? för att räkna ut arean i kvadratkilometer\n",
        "area_km2 =\n",
        "print(area_km2, 'km^2')"
      ],
      "execution_count": null,
      "outputs": []
    },
    {
      "cell_type": "markdown",
      "metadata": {
        "id": "U_N0-_9TF3Rw"
      },
      "source": [
        "<details>\n",
        "<summary markdown=\"span\">\n",
        "Tips!\n",
        "</summary>\n",
        "<p>Som du säkert redan vet är 1000 meter samma som 1 km. 1 $km^2$ är då samma som $1000^2 m^2$, alltså $1000000 m^2$.\n",
        "</p>\n",
        "</details>\n",
        "<p></p>"
      ]
    },
    {
      "cell_type": "markdown",
      "metadata": {
        "id": "GM3wK1mPF31H"
      },
      "source": [
        "<details>\n",
        "<summary markdown=\"span\">\n",
        "Lösning\n",
        "</summary>\n",
        "<p><pre><code> area_km2=area_m2/1000000\n",
        "</code></pre>\n",
        "</p>\n",
        "</details>\n",
        "<p></p>"
      ]
    },
    {
      "cell_type": "markdown",
      "metadata": {
        "id": "qP5JCjB6ZqLS"
      },
      "source": [
        "Skog räknar man ofta i *hektar*, där en hektar är 10000 $m^2$, eller 0.01 $km^2$. Multiplicera alltså ditt resultat med 100 för att få det antal hektar som brann på Kangaroo Island. Ett annat mått på ytor är \"fotbollsplaner\". En fotbollsplan är ofta 60 x 90 meter, dvs det går ungefär 2 fotbollsplaner på en hektar.\n",
        "\n",
        "\n",
        "**Uppgift 2A.p** Hur många hektar resp. fotbollsplaner motsvarar branden på Kangaroo Island enligt din beräkning? Räkna gärna ut det genom att programmera i kodrutan nedan. Tror du att detta var mycket eller lite skog i relation till andra skogsbränder? Vad händer i samhället när det blir stora bränder? Kan vi göra något för att förhindra skogsbränder i framtiden? Diskutera gärna med en kompis.\n"
      ]
    },
    {
      "cell_type": "code",
      "metadata": {
        "id": "aVba50YmbIif"
      },
      "source": [
        "# Räkna ut hur många hektar som brann och hur många fotbollsplaner det motsvarar\n"
      ],
      "execution_count": null,
      "outputs": []
    },
    {
      "cell_type": "markdown",
      "metadata": {
        "id": "212xdn1PbSdF"
      },
      "source": [
        "<details>\n",
        "<summary markdown=\"span\">\n",
        "Kommentar\n",
        "</summary>\n",
        "Bränderna i Australien var väldigt stora. Man räknar med att det brann mer än 18 miljoner hektar under den australiensiska sommaren 2019-2020. Som jämförelse brann det 25000 hektar skog i Sverige under den torra sommaren 2018, vilket ändå räknas som väldigt stora skador i Sverige.<br><br>\n",
        "Det finns stora glest befolkade områden med buskvegetation i Australien. Bränderna var så stora att om vi hade tittat på fastlandet i stället för på en ö så hade vi fått använda flera satellitbilder. När det blir så stora bränder får man fokusera på att skydda människor och försöka hindra elden från att nå större tätorter.<br><br>\n",
        "Massor av djur dör naturligtvis när det är skogsbrand. På Kangaroo Island fanns många hotade arter, både däggdjur, fåglar, och spindlar. Man tror att några av spindelarterna dött ut i branden, och framtiden är osäker för flera fågelarter och arter av koala.<br><br>\n",
        "Du kan läsa mer om bränderna i Australien 2019-2020 på t.ex. <a href=\"https://en.wikipedia.org/wiki/2019–20_Australian_bushfire_season\">denna wikipedia-artikel</a>.\n",
        "</details>\n",
        "<p></p>"
      ]
    },
    {
      "cell_type": "markdown",
      "metadata": {
        "id": "COK6o-blEIHy"
      },
      "source": [
        "## 3. Quiz\n",
        "\n",
        "Kör kodrutan nedan för att starta quizzet. Kommer du ihåg vad vi har gått igenom?"
      ]
    },
    {
      "cell_type": "code",
      "metadata": {
        "id": "14OShXnxEMoP",
        "cellView": "form"
      },
      "source": [
        "#@title Starta quizzet!\n",
        "!wget https://raw.githubusercontent.com/lunduniversity/schoolprog-satellite/master/for_developers/quiz.py --quiet\n",
        "!wget https://raw.githubusercontent.com/lunduniversity/schoolprog-satellite/master/exercises/forest_fires/quiz_skogsbrand.json --quiet\n",
        "import json\n",
        "import quiz\n",
        "\n",
        "with open(\"quiz_skogsbrand.json\") as f:\n",
        "  quiz_dict = json.load(f)\n",
        "quiz.main(quiz_dict)"
      ],
      "execution_count": null,
      "outputs": []
    },
    {
      "cell_type": "markdown",
      "metadata": {
        "id": "Jr_SkgLJiFfU"
      },
      "source": [
        "<hr size=5 noshade>\n",
        "<small>\n",
        "Denna uppgift ingår i <a href=\"https://lunduniversity.github.io/schoolprog-satellite/\">LU Miljödataprogrammering</a>. Copyright © 2020 Lunds universitet, ICOS Carbon Portal och Svenska Science Centers. License: <a href=\"http://creativecommons.org/licenses/by/4.0/\">CC BY 4.0</a>\n",
        "</small>"
      ]
    }
  ]
}