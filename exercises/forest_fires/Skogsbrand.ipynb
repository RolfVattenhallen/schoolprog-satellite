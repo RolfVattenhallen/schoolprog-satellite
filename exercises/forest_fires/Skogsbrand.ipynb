{
  "nbformat": 4,
  "nbformat_minor": 0,
  "metadata": {
    "colab": {
      "name": "Skogsbrand.ipynb",
      "provenance": [],
      "collapsed_sections": [],
      "toc_visible": true
    },
    "kernelspec": {
      "name": "python3",
      "display_name": "Python 3"
    }
  },
  "cells": [
    {
      "cell_type": "markdown",
      "metadata": {
        "id": "R8zaI22D7_S_",
        "colab_type": "text"
      },
      "source": [
        "# Uppskatta storleken på skogsbränder\n",
        "Innan du börjar den här uppgiften är det bra om du har gjort en tidigare uppgift som heter Torkan A.\n",
        "\n",
        "I den här uppgiften kommer du få lära dig mer om polygoner och hur man kan använda dessa för att uppskatta storleken på en skogsbrand.  Till att börja med kommer du få bekanta dig lite med polygoner. Börja med att köra koden nedan.\n",
        "\n",
        "\n",
        "\n"
      ]
    },
    {
      "cell_type": "code",
      "metadata": {
        "id": "V8n8KzDwBGZ-",
        "colab_type": "code",
        "colab": {}
      },
      "source": [
        "import numpy as np\n",
        "import matplotlib.pyplot as plt\n",
        "from matplotlib.patches import Circle, Wedge, Polygon\n",
        "from matplotlib.collections import PatchCollection\n",
        "\n",
        "points = [[2, 1], [8, 1], [8, 4]]\n",
        "polygon = plt.Polygon(points)\n",
        "plt.xticks(np.arange(0, 11, 1))\n",
        "plt.yticks(np.arange(0, 11, 1))\n",
        "plt.grid()\n",
        "plt.gca().add_patch(polygon)\n",
        "plt.show()"
      ],
      "execution_count": null,
      "outputs": []
    },
    {
      "cell_type": "markdown",
      "metadata": {
        "id": "SChhaw1xHjyK",
        "colab_type": "text"
      },
      "source": [
        "En triangel med hörn i `[2, 1], [8, 1], [8, 4]` har bildats. Polygoner är geometriska former med hörn.\n",
        "Nu ska du få prova på att skapa och plotta din egen polygon. Skriv in egna koordinater där du tycker polygonens hörn ska vara. \n",
        "En koordinat ska skrivas in på formen `[x,y]`.\n",
        "Du kan enkelt utöka antalet hörn hos polygonen genom att utöka storleken på listan. När du är klar behöver du även ändra intervallen på x- och y-axlarna så att de passar med dina koordinater. Har du exempelvis ett hörn placerat i `[-91,205]` och ett annat i `[-9,3]` kan du ha intervallet `[-100,0]` på x-axeln och `[0,210]` på y-axeln. Det viktigaste är att alla koordinater du har valt innefattas av intervallet så att de syns i figuren.\n",
        "\n",
        " \n",
        "Du kan också ändra upplösningen på axlarna genom att ändra `interval_step` till ett tal som passar till dina intervall. Prova dig fram till något passande! Vad händer om ditt intervallsteg är större än maxvärdet på intervallet?"
      ]
    },
    {
      "cell_type": "code",
      "metadata": {
        "id": "2n28O2vzHgwB",
        "colab_type": "code",
        "colab": {}
      },
      "source": [
        "#Skriv in koordinaterna på polygonens hörn:\n",
        "corners = [[,],[,],[,],[,],  .....]\n",
        "\n",
        "#Skriv även in dina intervall på x- och y-axlarna och deras intervallsteg:\n",
        "min_x=\n",
        "max_x=\n",
        "x_interval_step=\n",
        "\n",
        "min_y=\n",
        "max_y=\n",
        "y_interval_step=\n",
        "\n",
        "polygon = plt.Polygon(corners)\n",
        "plt.gca().add_patch(polygon)\n",
        "plt.xticks(np.arange(min_x, max_x, x_interval_step))\n",
        "plt.yticks(np.arange(min_y, max_y, y_interval_step))\n",
        "plt.grid()\n",
        "plt.show()"
      ],
      "execution_count": null,
      "outputs": []
    },
    {
      "cell_type": "markdown",
      "metadata": {
        "id": "Q1HJlw5j9yrx",
        "colab_type": "text"
      },
      "source": [
        "Nu när du fått bekanta dig lite grann med polygoner är nästa steg att undersöka och uppskatta storleken på en skogsbrand. Här finns satellitbilder samlade över två olika skogsbränder.\n",
        "\n",
        "Välj vilken av dem du vill jobba med eller gör båda två om du har tid. Klicka på pilen till vänster om ett avsnitt för att öppna eller stänga det."
      ]
    },
    {
      "cell_type": "markdown",
      "metadata": {
        "id": "NIn9OoOEGiEW",
        "colab_type": "text"
      },
      "source": [
        "### Sverige- Skogsbranden i Kårböle 2018\n",
        "2018 var ett år med många kraftiga skogsbränder i norra Sverige. Kårböle i Ljusdals kommun var särskilt drabbat. Kör nedanstående kodblock för att ladda ned två satellitbilder. Den ena är en bild över området hösten 2016, och den andra hösten 2019."
      ]
    },
    {
      "cell_type": "code",
      "metadata": {
        "id": "NhZVsw1lPjoM",
        "colab_type": "code",
        "colab": {}
      },
      "source": [
        "!wget https://github.com/lunduniversity/schoolprog-satellite-data/raw/master/forest_fires/Sweden/bands_2019_swe.npz --quiet\n",
        "!wget https://github.com/lunduniversity/schoolprog-satellite-data/raw/master/forest_fires/Sweden/bands_2016_swe.npz --quiet\n",
        "!wget https://github.com/lunduniversity/schoolprog-satellite/raw/master/exercises/forest_fires/SWE_firepolygons.png --quiet\n",
        "\n",
        "\n",
        "#Banden för den svenska skogsbranden\n",
        "bands16 = np.load('bands_2016_swe.npz')\n",
        "bands19 = np.load('bands_2019_swe.npz')\n",
        "\n",
        "#Plockar ut banden var för sig som float\n",
        "#Färgbanden för hösten 2016\n",
        "blue16 = bands16[\"blue\"].astype(float)\n",
        "green16 = bands16[\"green\"].astype(float)\n",
        "red16 = bands16[\"red\"].astype(float)\n",
        "nir16 = bands16[\"nir\"].astype(float)\n",
        "\n",
        "#Färgbanden för hösten 2019\n",
        "blue19 = bands19[\"blue\"].astype(float)\n",
        "green19 = bands19[\"green\"].astype(float)\n",
        "red19 = bands19[\"red\"].astype(float)\n",
        "nir19 = bands19[\"nir\"].astype(float)"
      ],
      "execution_count": null,
      "outputs": []
    },
    {
      "cell_type": "markdown",
      "metadata": {
        "id": "gQnTV4sDPoVr",
        "colab_type": "text"
      },
      "source": [
        "Till att börja med kan du undersöka färgbilder av området. För att skapa färgbilderna behöver du kombinera tre färgband som satelliten mäter. En vanlig färgbild är en kombination av rött, grönt och blått ljus.  Du kanske har lagt märke till att det finns ytterligare ett färgband som kallas nir. Nir är förkortning för Near InfraRed, vilket är det ljus som har lite längre våglängd än rött. Det går inte att se med blotta ögat men satelliten har instrument som kan plocka upp det. Nir kommer att behövas lite senare i uppgiften."
      ]
    },
    {
      "cell_type": "code",
      "metadata": {
        "id": "jBevuXN1MI4w",
        "colab_type": "code",
        "colab": {}
      },
      "source": [
        "#Skapa en färgbild av det röda, gröna och blåa bandet\n",
        "\n",
        "def color_img(red,green,blue):\n",
        "  rgb=np.zeros([500,500,3],dtype=np.uint8)\n",
        "  divide=8\n",
        "  for x in range(500):\n",
        "    for y in range(500):\n",
        "      r = min(255, red[x][y]/divide)\n",
        "      g = min(255, green[x][y]/divide)\n",
        "      b = min(255, blue[x][y]/divide)\n",
        "      rgb[x,y] = [r,g,b]\n",
        "  return rgb\n"
      ],
      "execution_count": 44,
      "outputs": []
    },
    {
      "cell_type": "markdown",
      "metadata": {
        "id": "sPht-fKRUcUx",
        "colab_type": "text"
      },
      "source": [
        "\n",
        "\n",
        "Funktionen `color_img(red,green,blue)` tar färgbanden som argument för att skapa bilden. Välj vilket år du vill titta på genom att ändra funktionens inmatning av färgband till motsvarande år. Kör sedan kodblocket nedan.\n",
        "\n",
        "Undersök de två bilderna. Kan du se någon skillnad? "
      ]
    },
    {
      "cell_type": "code",
      "metadata": {
        "id": "tqDgImc6P-W1",
        "colab_type": "code",
        "colab": {}
      },
      "source": [
        "from PIL import Image\n",
        "\n",
        "#Välj de färgband som motsvarar det årtal du vill kolla på. \n",
        "#Färgbanden ska vara i ordningen rött,grönt,blått.\n",
        "rgb=color_img(xxx,xxx,xxx)\n",
        "\n",
        "\n",
        "img = Image.fromarray(rgb)\n",
        "display(img)\n",
        "\n"
      ],
      "execution_count": null,
      "outputs": []
    },
    {
      "cell_type": "markdown",
      "metadata": {
        "id": "FTpMyjjKwZcb",
        "colab_type": "text"
      },
      "source": [
        "<details>\n",
        "<summary markdown=\"span\">\n",
        "Svar\n",
        "</summary>\n",
        "<p>\n",
        "\n",
        "För att se färgbilden för hösten 2016:\n",
        "<pre><code>rgb=color_img(red16,green16,blue16)\n",
        "</code></pre>\n",
        "För att se färgbilden för hösten 2019:\n",
        "<pre><code>rgb=color_img(red19,green19,blue19)\n",
        "</code></pre>\n",
        "</p>\n",
        "</details>\n",
        "<p></p>"
      ]
    },
    {
      "cell_type": "markdown",
      "metadata": {
        "id": "A_RgncD6XIC7",
        "colab_type": "text"
      },
      "source": [
        "I nästa steg ska vi skapa en bild som presenterar Normalized Difference Vegetation Index (NDVI). Det är något som du borde ha stött på i tidigare uppgifter. Om du inte vet vad NDVI är så är det en god idé att repetera uppgiften Torkan A. \n",
        "\n",
        "NDVI räknas ut med hjälp av NIR och det röda bandet enligt följande formel: \n",
        "\n",
        "           NIR - Red\n",
        "    NDVI = ---------\n",
        "           NIR + Red\n",
        "\n",
        "Skriv nu en funktion med namn `ndvi_img` som räknar ut NDVI i följande kodblock. Om du är osäker på syntaxen får du ett färdigt kodskelett under tipsfliken, men du behöver själv skriva in vilka argument funktionen behöver och hur NDVI ska räknas ut. Om du har gjort funktioner innan så prova gärna själv innan du kikar på tipset. Var noga med placeringen av paranteser!"
      ]
    },
    {
      "cell_type": "code",
      "metadata": {
        "id": "EYUTXEXLcy5b",
        "colab_type": "code",
        "colab": {}
      },
      "source": [
        "#Skriv din funktion ndvi_img här:\n",
        "def ...\n",
        "\n"
      ],
      "execution_count": null,
      "outputs": []
    },
    {
      "cell_type": "markdown",
      "metadata": {
        "id": "XlVz6hSxgP4F",
        "colab_type": "text"
      },
      "source": [
        "<details>\n",
        "<summary markdown=\"span\">\n",
        "Tips!\n",
        "</summary>\n",
        "<p><pre><code>def ndvi_img(xxx,xxx):\n",
        "  #skriv hur ndvi räknas ut här:\n",
        "  ndvi=\n",
        "  return ndvi</code></pre>\n",
        "</p>\n",
        "</details>\n",
        "<p></p>"
      ]
    },
    {
      "cell_type": "markdown",
      "metadata": {
        "id": "cUvCpTpPdEqQ",
        "colab_type": "text"
      },
      "source": [
        "<details>\n",
        "<summary markdown=\"span\">\n",
        "Lösning\n",
        "</summary>\n",
        "<p><pre><code>def ndvi_img(nir,red):\n",
        " ndvi=(nir-red)/(nir+red)\n",
        " return ndvi</code></pre>\n",
        "</p>\n",
        "</details>\n",
        "<p></p>"
      ]
    },
    {
      "cell_type": "markdown",
      "metadata": {
        "id": "p0GJDRXThmQs",
        "colab_type": "text"
      },
      "source": [
        "Nu kan du prova din funktion genom att se hur NDVI för området ser ut. Börja med år 2016 och fortsätt sedan med 2019. Skriv in rätt argument i din ndvi_img funktion och kör sedan kodblocket. Om du är osäker på namnen på färgbanden så kan du hitta dem i kodblocket som skapar färgbilderna."
      ]
    },
    {
      "cell_type": "code",
      "metadata": {
        "id": "t38X_EMx_J-U",
        "colab_type": "code",
        "colab": {}
      },
      "source": [
        "#Byt ut xxx mot namnen på rätt färgband:\n",
        "ndvi16 = ndvi_img(xxx,xxx)\n",
        "\n",
        "plt.figure(figsize=(10,10))\n",
        "plt.pcolormesh(ndvi16, cmap='brg')\n",
        "plt.rcParams['xtick.top'] = plt.rcParams['xtick.labeltop'] = True\n",
        "plt.ylim(ndvi16.shape[0], 0)\n",
        "plt.clim(-1.0, 0.7)\n",
        "plt.colorbar(label='NDVI')\n",
        "plt.show()"
      ],
      "execution_count": null,
      "outputs": []
    },
    {
      "cell_type": "code",
      "metadata": {
        "id": "bBC5n9bc1-I9",
        "colab_type": "code",
        "colab": {}
      },
      "source": [
        "#Byt ut xxx mot namnen på rätt färgband:\n",
        "ndvi19 = ndvi_img(xxx,xxx)\n",
        "\n",
        "plt.figure(figsize=(10,10))\n",
        "plt.pcolormesh(ndvi19, cmap='brg')\n",
        "plt.ylim(ndvi19.shape[0], 0)\n",
        "plt.clim(-1.0, 0.7)\n",
        "plt.colorbar(label='NDVI')\n",
        "plt.rcParams['xtick.top'] = plt.rcParams['xtick.labeltop'] = True\n",
        "plt.show()\n"
      ],
      "execution_count": null,
      "outputs": []
    },
    {
      "cell_type": "markdown",
      "metadata": {
        "id": "XQxqaz4Qv-uh",
        "colab_type": "text"
      },
      "source": [
        "<details>\n",
        "<summary markdown=\"span\">\n",
        "Svar\n",
        "</summary>\n",
        "<p><pre><code> ndvi16=ndvi_img(nir16,red16)\n",
        " ndvi19=ndvi_img(nir19,red19)\n",
        "</code></pre>\n",
        "</p>\n",
        "</details>\n",
        "<p></p>"
      ]
    },
    {
      "cell_type": "markdown",
      "metadata": {
        "id": "U2nT8zC10UXm",
        "colab_type": "text"
      },
      "source": [
        "\n",
        "Som du kanske kommer ihåg från Torkan A så är NDVI ett sätt att dela upp en landyta i olika kategorier. Ett index som är över 0.1 kan i de flesta fall sägas vara någon form av vegetation. Ju högre NDVI desto tätare växtlighet. Ett NDVI-värde mellan -0.1 till 0.1 brukar indikera en landyta fri från vegetation. Negativa NDVI-värden mellan -0.1 till -1 brukar istället betyda att det är en yta täckt av vatten.\n",
        "\n",
        "Jämför de båda bilderna. Är det lättare att se skillnader om man kollar på NDVI jämfört med färgbilder?\n",
        "I vilka områden tror du skogsbranden har ägt rum?\n",
        "Scrolla upp och kolla på färgbilderna igen, lokalisera var det finns moln. Kan du se molnen även i bilderna med NDVI? \n",
        "\n",
        "\n",
        "Som du kanske lagt märke till i NDVI-bilden från 2019 så är det främst två områden som är intressanta. Ett precis norr om älven och ett söder om. Vi behöver nu skapa två polygoner för att uppskatta storleken på dessa områden. \n",
        "\n",
        "Börja med att köra kodblocket nedan för att få upp en större bild av NDVI över området år 2019.\n",
        "\n"
      ]
    },
    {
      "cell_type": "code",
      "metadata": {
        "id": "2EB-2vMF7zc6",
        "colab_type": "code",
        "colab": {}
      },
      "source": [
        "plt.figure(figsize=(15,15))\n",
        "plt.pcolormesh(ndvi19, cmap='brg')\n",
        "plt.ylim(ndvi19.shape[0], 0)\n",
        "plt.clim(-1.0, 0.7)\n",
        "plt.colorbar(label='NDVI')\n",
        "plt.xticks(np.arange(0, 500+1, 25.0))\n",
        "plt.yticks(np.arange(0, 500+1, 25.0))\n",
        "plt.grid()\n",
        "plt.rcParams['xtick.top'] = plt.rcParams['xtick.labeltop'] = True \n",
        "\n",
        "#Bygg ut listan med fler kanter så att hela norra delen av branden täcks:\n",
        "corner_north = [[140,45],[175,55],[200,54]]\n",
        "polygon = plt.Polygon(corner_north,fill=None)\n",
        "plt.gca().add_patch(polygon)\n",
        "\n",
        "#Bygg ut listan med fler kanter så att hela södra delen av branden täcks:\n",
        "corner_south=[[200,260],[275,320],[300,310]]\n",
        "polygon = plt.Polygon(corner_south,fill=None)\n",
        "plt.gca().add_patch(polygon)\n",
        "plt.show()\n"
      ],
      "execution_count": null,
      "outputs": []
    },
    {
      "cell_type": "markdown",
      "metadata": {
        "id": "tP7YuJUp8Lxv",
        "colab_type": "text"
      },
      "source": [
        "Bilden som skapas ska användas för att bilda polygoner för att ringa in de två brandområdena. Bygg ut listorna `corner_north` och `corner_south` med koordinater så att hela området täcks. Du väljer själv hur noggrann du vill vara. Kortare avstånd mellan kanterna gör att du kan fånga små utbuktningar lättare. Runt 15 kanter och uppåt är ett bra riktmärke. Vi har börjat med tre kanter i vardera listan för att hjälpa dig lite på traven. Utnyttja koordinataxlarna på sidorna för att lokalisera var du vill placera ut nästa kant. Lägg märke till i vilket hörn origo är placerat innan du börjar. Det är viktigt att du skriver in kanterna i rätt ordning så att linjerna mellan kanterna dras rätt. Vi har valt att röra oss medsols runt brandområdet, så det är viktigt att du fortsätter med detta om du vill utnyttja de färdiglagda koordinaterna. Lokalisera den sista punkten i listan och utgå från den. Kör kodstycket med jämna mellanrum för att se hur polygonen utvecklas och om du behöver korrigera kanterna i nån riktning.\n",
        "Kör kodblocket nedan för att se en referensbild. Den visar hur din egen bild borde se ut när du är klar."
      ]
    },
    {
      "cell_type": "code",
      "metadata": {
        "id": "q_9RpYqURTkr",
        "colab_type": "code",
        "colab": {}
      },
      "source": [
        "import matplotlib.image as img \n",
        "# reading png image file \n",
        "fire = img.imread('SWE_firepolygons.png') \n",
        "plt.figure(figsize = (15,15))\n",
        "plt.imshow(fire)\n",
        "plt.axis('off')\n",
        "plt.show()"
      ],
      "execution_count": null,
      "outputs": []
    },
    {
      "cell_type": "markdown",
      "metadata": {
        "id": "pxUVW51bW2r0",
        "colab_type": "text"
      },
      "source": [
        "Funktionen `area_calc` kan användas för att räkna ut pixelarean till dina två polygoner. Parameter till funktionen är en lista med koordinater för dina polygonkanter. Skriv in rätt parametervärde till `area_calc` för att räkna ut arean i kodblocket nedan. Räkna sedan ut totalarean.\n",
        "\n",
        " "
      ]
    },
    {
      "cell_type": "code",
      "metadata": {
        "id": "zwn4ukZgCJml",
        "colab_type": "code",
        "colab": {}
      },
      "source": [
        "def area_calc(corners):\n",
        "  area=0.0\n",
        "  n=len(corners)\n",
        "  for i in range(n):\n",
        "    i1=(i+1)%n\n",
        "    area += corners[i][0]*corners[i1][1] - corners[i1][0]*corners[i][1]\n",
        "  area *=0.5\n",
        "  return abs(area)\n",
        "\n",
        "#Byt ut xxx mot rätt parametrar\n",
        "area_north=area_calc(xxx)\n",
        "area_south=area_calc(xxx)\n",
        "\n",
        "\n",
        "\n",
        "totalarea=area_north+area_south\n",
        "print(totalarea, 'pixlar')\n"
      ],
      "execution_count": null,
      "outputs": []
    },
    {
      "cell_type": "markdown",
      "metadata": {
        "id": "TzgGHLqPauTH",
        "colab_type": "text"
      },
      "source": [
        "<details>\n",
        "<summary markdown=\"span\">\n",
        "Svar\n",
        "</summary>\n",
        "<p><pre><code>area_north=area_calc(corner_north)\n",
        "area_south=area_calc(corner_south)</code></pre>\n",
        "Arean borde vara någonstans mellan 38 000 - 58 000.\n",
        "</p>\n",
        "</details>\n",
        "<p></p>"
      ]
    },
    {
      "cell_type": "markdown",
      "metadata": {
        "id": "aPLoXUTWcPGx",
        "colab_type": "text"
      },
      "source": [
        "I nästa steg vill du omvandla pixlarna du räknat fram till $km^2$. En pixel i bilden motsvarar ett område på 40x40 $m$ vilket i sin tur motsvarar 1600 $m^2$. Om du är osäker på omvandlingen kan du börja med att räkna ut hur många $m^2$ brandområdet motsvarar. Gör detta i kodblocket nedan."
      ]
    },
    {
      "cell_type": "code",
      "metadata": {
        "id": "bxMIg-cfdNo2",
        "colab_type": "code",
        "colab": {}
      },
      "source": [
        "area_m2= \n",
        "print(area_m2,'m^2')"
      ],
      "execution_count": null,
      "outputs": []
    },
    {
      "cell_type": "markdown",
      "metadata": {
        "id": "6Je2pYbodT4L",
        "colab_type": "text"
      },
      "source": [
        "<details>\n",
        "<summary markdown=\"span\">\n",
        "Lösning\n",
        "</summary>\n",
        "<p><pre><code> area_m2=totalarea*1600\n",
        "</code></pre>\n",
        "</p>\n",
        "</details>\n",
        "<p></p>"
      ]
    },
    {
      "cell_type": "markdown",
      "metadata": {
        "id": "gwHzDevYefqm",
        "colab_type": "text"
      },
      "source": [
        "Sen behöver du fundera ut hur arean kan omvandlas till $km^2$. Skriv in din omvandling i kodblocket nedan. "
      ]
    },
    {
      "cell_type": "code",
      "metadata": {
        "id": "KpydyXC9g4XB",
        "colab_type": "code",
        "colab": {}
      },
      "source": [
        "area_km2 = \n",
        "print(area_km2, 'km^2')"
      ],
      "execution_count": null,
      "outputs": []
    },
    {
      "cell_type": "markdown",
      "metadata": {
        "id": "XKhMvnd6f6td",
        "colab_type": "text"
      },
      "source": [
        "<details>\n",
        "<summary markdown=\"span\">\n",
        "Tips!\n",
        "</summary>\n",
        "<p>Som du säkert redan vet är 1000 meter samma som 1 km. 1 km^2 är då samma som 1000^2 m^2, alltså 1000000 m^2.\n",
        "</p>\n",
        "</details>\n",
        "<p></p>"
      ]
    },
    {
      "cell_type": "markdown",
      "metadata": {
        "id": "-voMrOaGgVLP",
        "colab_type": "text"
      },
      "source": [
        "<details>\n",
        "<summary markdown=\"span\">\n",
        "Lösning\n",
        "</summary>\n",
        "<p><pre><code> area_km2=area_m2/1000000\n",
        "</code></pre>\n",
        "</p>\n",
        "</details>\n",
        "<p></p>"
      ]
    },
    {
      "cell_type": "markdown",
      "metadata": {
        "id": "lVV7TqTP_rb6",
        "colab_type": "text"
      },
      "source": [
        "### Australien- Skogsbranden på Kangaroo Island 2019\n",
        "Årsskiftet 2019-2020 skedde en brandkatastrof i stora delar av Australien. I den här uppgiften ska du få undersöka brandområdet på Kangaroo Island, en liten ö som ligger längs Australiens södra kust. Kör nedanstående kodblock för att ladda ned två satellitbilder. Den ena är en bild över området december 2019, och den andra januari 2020."
      ]
    },
    {
      "cell_type": "code",
      "metadata": {
        "id": "OocZ_Ul8BAqP",
        "colab_type": "code",
        "colab": {}
      },
      "source": [
        "\n",
        "!wget https://github.com/lunduniversity/schoolprog-satellite-data/raw/master/forest_fires/Australia/bands_2019_aus.npz --quiet\n",
        "!wget https://github.com/lunduniversity/schoolprog-satellite-data/raw/master/forest_fires/Australia/bands_2020_aus.npz --quiet\n",
        "!wget https://github.com/lunduniversity/schoolprog-satellite/raw/master/exercises/forest_fires/AUS_firepolygons.png --quiet\n",
        "\n",
        "#Banden för den australiska skogsbranden\n",
        "bands19 = np.load('bands_2019_aus.npz')\n",
        "bands20 = np.load('bands_2020_aus.npz')\n",
        "\n",
        "\n",
        "#Skapa en färgbild av det röda, gröna och blåa bandet\n",
        "\n",
        "def color_img(red,green,blue):\n",
        "  rgb=np.zeros([500,625,3],dtype=np.uint8)\n",
        "  divide=8\n",
        "  for x in range(500):\n",
        "    for y in range(625):\n",
        "      r = min(255, red[x][y]/divide)\n",
        "      g = min(255, green[x][y]/divide)\n",
        "      b = min(255, blue[x][y]/divide)\n",
        "      rgb[x,y] = [r,g,b]\n",
        "  return rgb\n"
      ],
      "execution_count": null,
      "outputs": []
    },
    {
      "cell_type": "markdown",
      "metadata": {
        "id": "hxLDCFrkMKdx",
        "colab_type": "text"
      },
      "source": [
        "Till att börja med kan du undersöka färgbilder av området. För att skapa färgbilderna behöver du kombinera tre färgband som satelliten mäter. En vanlig färgbild är en kombination av rött, grönt och blått ljus.  Du kanske har lagt märke till att det finns ytterligare ett färgband som kallas nir. Nir är förkortning för Near InfraRed, vilket är det ljus som har lite längre våglängd än rött. Det går inte att se med blotta ögat men satelliten har instrument som kan plocka upp det. Nir kommer att behövas lite senare i uppgiften.\n",
        "\n",
        "Funktionen `color_img(red,green,blue)` tar färgbanden som argument för att skapa bilden. Välj vilket år du vill titta på genom att ändra funktionens inmatning av färgband till motsvarande år. Kör sedan kodblocket nedan.\n",
        "\n",
        "Undersök de två bilderna. Kan du se någon skillnad? "
      ]
    },
    {
      "cell_type": "code",
      "metadata": {
        "id": "PvUO23cvMWwT",
        "colab_type": "code",
        "colab": {}
      },
      "source": [
        "from PIL import Image\n",
        "\n",
        "#Plockar ut banden var för sig som float\n",
        "#Färgbanden för december 2019\n",
        "blue19=bands19[\"blue\"].astype(float)\n",
        "green19=bands19[\"green\"].astype(float)\n",
        "red19 = bands19[\"red\"].astype(float)\n",
        "nir19 = bands19[\"nir\"].astype(float)\n",
        "\n",
        "#Färgbanden för januari 2020\n",
        "blue20=bands20[\"blue\"].astype(float)\n",
        "green20=bands20[\"green\"].astype(float)\n",
        "red20 = bands20[\"red\"].astype(float)\n",
        "nir20 = bands20[\"nir\"].astype(float)\n",
        "\n",
        "#Välj de färgband som motsvarar det årtal du vill kolla på. \n",
        "#Färgbanden ska vara i ordningen rött,grönt,blått.\n",
        "rgb=color_img(xxx,xxx,xxx)\n",
        "\n",
        "\n",
        "img = Image.fromarray(rgb)\n",
        "display(img)"
      ],
      "execution_count": null,
      "outputs": []
    },
    {
      "cell_type": "markdown",
      "metadata": {
        "id": "E3s44wAlM5v4",
        "colab_type": "text"
      },
      "source": [
        "<details>\n",
        "<summary markdown=\"span\">\n",
        "Svar\n",
        "</summary>\n",
        "<p>\n",
        "\n",
        "För att se färgbilden för december 2019:\n",
        "<pre><code>rgb=color_img(red19,green19,blue19)</code></pre>\n",
        "För att se färgbilden för januari 2020:\n",
        "<pre><code>rgb=color_img(red20,green20,blue20)</code></pre>\n",
        "</p>\n",
        "</details>\n",
        "<p></p>"
      ]
    },
    {
      "cell_type": "markdown",
      "metadata": {
        "id": "T92U6R-PNIbm",
        "colab_type": "text"
      },
      "source": [
        "I nästa steg ska vi skapa en bild som presenterar Normalized Difference Vegetation Index (NDVI). Det är något som du borde ha stött på i tidigare uppgifter. Om du inte vet vad NDVI är så är det en god idé att repetera uppgiften Torkan A. \n",
        "\n",
        "NDVI räknas ut med hjälp av NIR och det röda bandet enligt följande formel: \n",
        "\n",
        "           NIR - Red\n",
        "    NDVI = ---------\n",
        "           NIR + Red\n",
        "\n",
        "Skriv nu en funktion med namn `ndvi_img` som räknar ut NDVI i följande kodblock. Om du är osäker på syntaxen får du ett färdigt kodskelett under tipsfliken, men du behöver själv skriva in vilka argument funktionen behöver och hur NDVI ska räknas ut. Om du har gjort funktioner innan så prova gärna själv innan du kikar på tipset. Var noga med placeringen av paranteser!"
      ]
    },
    {
      "cell_type": "code",
      "metadata": {
        "id": "iskuDl6eNPHk",
        "colab_type": "code",
        "colab": {}
      },
      "source": [
        "#Skriv din funktion ndvi_img här:\n",
        "def ..."
      ],
      "execution_count": null,
      "outputs": []
    },
    {
      "cell_type": "markdown",
      "metadata": {
        "id": "ISwUctWwNSlH",
        "colab_type": "text"
      },
      "source": [
        "<details>\n",
        "<summary markdown=\"span\">\n",
        "Tips!\n",
        "</summary>\n",
        "<p><pre><code>def ndvi_img(xxx,xxx):\n",
        "  #skriv hur ndvi räknas ut här:\n",
        "  ndvi=\n",
        "  return ndvi\n",
        "</code></pre>\n",
        "</p>\n",
        "</details>\n",
        "<p></p>"
      ]
    },
    {
      "cell_type": "markdown",
      "metadata": {
        "id": "PWA--v2NNS56",
        "colab_type": "text"
      },
      "source": [
        "<details>\n",
        "<summary markdown=\"span\">\n",
        "Lösning\n",
        "</summary>\n",
        "<p><pre><code>def ndvi_img(nir,red):\n",
        " ndvi=(nir-red)/(nir+red)\n",
        " return ndvi\n",
        "</code></pre>\n",
        "</p>\n",
        "</details>\n",
        "<p></p>"
      ]
    },
    {
      "cell_type": "markdown",
      "metadata": {
        "id": "TSswJiRBNuNv",
        "colab_type": "text"
      },
      "source": [
        "Nu kan du prova din funktion genom att se hur NDVI för området ser ut. Börja med år 2019 och fortsätt sedan med 2020. Skriv in rätt argument i din ndvi_img funktion och kör sedan kodblocket. Om du är osäker på namnen på färgbanden så kan du hitta dem i kodblocket som skapar färgbilderna."
      ]
    },
    {
      "cell_type": "code",
      "metadata": {
        "id": "xIEOmVctNoA4",
        "colab_type": "code",
        "colab": {}
      },
      "source": [
        "#Byt ut xxx mot namnen på rätt färgband:\n",
        "ndvi19 = ndvi_img(xxx,xxx)\n",
        "\n",
        "plt.figure(figsize=(10,10))\n",
        "plt.pcolormesh(ndvi19, cmap='brg')\n",
        "plt.rcParams['xtick.top'] = plt.rcParams['xtick.labeltop'] = True\n",
        "plt.ylim(ndvi19.shape[0], 0)\n",
        "plt.clim(-1.0, 0.7)\n",
        "plt.colorbar(label='NDVI')\n",
        "plt.show()"
      ],
      "execution_count": null,
      "outputs": []
    },
    {
      "cell_type": "code",
      "metadata": {
        "id": "Bhv8kfVvN9-3",
        "colab_type": "code",
        "colab": {}
      },
      "source": [
        "#Byt ut xxx mot namnen på rätt färgband:\n",
        "ndvi20 = ndvi_img(xxx,xxx)\n",
        "\n",
        "plt.figure(figsize=(10,10))\n",
        "plt.pcolormesh(ndvi20, cmap='brg')\n",
        "plt.rcParams['xtick.top'] = plt.rcParams['xtick.labeltop'] = True\n",
        "plt.ylim(ndvi20.shape[0], 0)\n",
        "plt.clim(-1.0, 0.7)\n",
        "plt.colorbar(label='NDVI')\n",
        "plt.show()"
      ],
      "execution_count": null,
      "outputs": []
    },
    {
      "cell_type": "markdown",
      "metadata": {
        "id": "qeD0YjsRIUXb",
        "colab_type": "text"
      },
      "source": [
        "<details>\n",
        "<summary markdown=\"span\">\n",
        "Svar\n",
        "</summary>\n",
        "<p><pre><code> ndvi19=ndvi_img(nir19,red19)\n",
        " ndvi20=ndvi_img(nir20,red20)\n",
        "</code></pre>\n",
        "</p>\n",
        "</details>\n",
        "<p></p>"
      ]
    },
    {
      "cell_type": "markdown",
      "metadata": {
        "id": "LUTp7sV9OSHX",
        "colab_type": "text"
      },
      "source": [
        "\n",
        "Som du kanske kommer ihåg från Torkan A så är NDVI ett sätt att dela upp en landyta i olika kategorier. Ett index som är över 0.1 kan i de flesta fall sägas vara någon form av vegetation. Ju högre NDVI desto tätare växtlighet. Ett NDVI-värde mellan -0.1 till 0.1 brukar indikera en landyta fri från vegetation. Negativa NDVI-värden mellan -0.1 till -1 brukar istället betyda att det är en yta täckt av vatten.\n",
        "\n",
        "Jämför de båda bilderna. Är det lättare att se skillnader om man kollar på NDVI jämfört med färgbilder?\n",
        "I vilka områden tror du skogsbranden har ägt rum? Vad tror du orsakar de röda prickarna i vattnet?\n",
        "Scrolla upp och jämför med färgbilderna, går det att se något där?\n",
        "\n",
        "Börja med att köra kodblocket nedan för att få upp en större bild av NDVI över området år 2020.\n"
      ]
    },
    {
      "cell_type": "code",
      "metadata": {
        "id": "RM19xMuOP32w",
        "colab_type": "code",
        "colab": {}
      },
      "source": [
        "plt.figure(figsize=(15,15))\n",
        "plt.pcolormesh(ndvi20, cmap='brg')\n",
        "plt.ylim(ndvi20.shape[0], 0)\n",
        "plt.clim(-1.0, 0.7)\n",
        "plt.colorbar(label='NDVI')\n",
        "plt.xticks(np.arange(0, 625+1, 25.0))\n",
        "plt.yticks(np.arange(0, 500+1, 25.0))\n",
        "plt.grid()\n",
        "plt.rcParams['xtick.top'] = plt.rcParams['xtick.labeltop'] = True \n",
        "\n",
        "#Bygg ut listan med fler kanter så att hela brandområdet täcks:\n",
        "corners = [[540, 130],[525, 155],[510, 190],[540, 200],[570, 210],\n",
        "           [590, 120],[620, 115],[620, 250],[580, 280],[550, 280],\n",
        "           [510, 260],[500, 230],[475, 225],[460, 260],[420, 300],\n",
        "           [460, 310],[460, 330],[425, 325],[450, 350],[475, 355]]\n",
        "\n",
        "             \n",
        "           \n",
        "polygon = plt.Polygon(corners,fill=None)\n",
        "plt.gca().add_patch(polygon)\n",
        "plt.show()"
      ],
      "execution_count": null,
      "outputs": []
    },
    {
      "cell_type": "markdown",
      "metadata": {
        "id": "O4OhKhpj9ogz",
        "colab_type": "text"
      },
      "source": [
        "Bilden som skapas ska användas för att bilda en polygon för att ringa in brandområdet. Bygg ut listan `corners`  med koordinater så att hela området täcks. Du väljer själv hur noggrann du vill vara. Kortare avstånd mellan kanterna gör att du kan fånga små utbuktningar lättare. Vi har börjat med 20 kanter i listan för att hjälpa dig lite på traven, minst 30 kanter till behövs läggas in för att hela området ska täckas. Utnyttja koordinataxlarna på sidorna för att lokalisera var du vill placera ut nästa kant. Lägg märke till i vilket hörn origo är placerat innan du börjar. Det är viktigt att du skriver in kanterna i rätt ordning så att linjerna mellan kanterna dras rätt. Vi har valt att röra oss medsols runt brandområdet, så det är viktigt att du fortsätter med detta om du vill utnyttja de färdiglagda koordinaterna. Lokalisera den sista punkten i listan och utgå från den. Kör kodstycket med jämna mellanrum för att se hur polygonen utvecklas och om du behöver korrigera kanterna i nån riktning.\n",
        "Kör kodblocket nedan för att se en referensbild. Den visar hur din egen bild borde se ut när du är klar."
      ]
    },
    {
      "cell_type": "code",
      "metadata": {
        "id": "TMWVWtGV94OY",
        "colab_type": "code",
        "colab": {}
      },
      "source": [
        "import matplotlib.image as img \n",
        "# reading png image file \n",
        "fire = img.imread('AUS_firepolygons.png') \n",
        "plt.figure(figsize = (15,15))\n",
        "plt.imshow(fire)\n",
        "plt.axis('off')\n",
        "plt.show()"
      ],
      "execution_count": null,
      "outputs": []
    },
    {
      "cell_type": "markdown",
      "metadata": {
        "id": "ylsFmoDsEH8H",
        "colab_type": "text"
      },
      "source": [
        "Funktionen `area_calc` kan användas för att räkna ut pixelarean till dina två polygoner. Parameter till funktionen är en lista med koordinater för dina polygonkanter. Skriv in rätt parametervärde till `area_calc` för att räkna ut arean i kodblocket nedan. Räkna sedan ut totalarean."
      ]
    },
    {
      "cell_type": "code",
      "metadata": {
        "id": "shWPZnoZENJ4",
        "colab_type": "code",
        "colab": {}
      },
      "source": [
        "def area_calc(corners):\n",
        "  area=0.0\n",
        "  n=len(corners)\n",
        "  for i in range(n):\n",
        "    i1=(i+1)%n\n",
        "    area += corners[i][0]*corners[i1][1] - corners[i1][0]*corners[i][1]\n",
        "  area *=0.5\n",
        "  return abs(area)\n",
        " \n",
        "\n",
        "#Byt ut xxx mot rätt parametrar\n",
        "totalarea =area_calc(xxx)\n",
        "\n",
        "print(totalarea, 'pixlar')"
      ],
      "execution_count": null,
      "outputs": []
    },
    {
      "cell_type": "markdown",
      "metadata": {
        "id": "QPcnOPO8E2mY",
        "colab_type": "text"
      },
      "source": [
        "<details>\n",
        "<summary markdown=\"span\">\n",
        "Svar\n",
        "</summary>\n",
        "<p><pre><code>area=area_calc(corners)</code></pre>\n",
        "Arean borde vara någonstans mellan 130 000 - 150 000 pixlar.\n",
        "</p>\n",
        "</details>\n",
        "<p></p>"
      ]
    },
    {
      "cell_type": "markdown",
      "metadata": {
        "id": "hragmWbyFQr4",
        "colab_type": "text"
      },
      "source": [
        "I nästa steg vill du omvandla pixlarna du räknat fram till $km^2$. En pixel i bilden motsvarar 14400 $m^2$. Om du är osäker på omvandlingen kan du börja med att räkna ut hur många $m^2$ brandområdet motsvarar. Gör detta i kodblocket nedan."
      ]
    },
    {
      "cell_type": "code",
      "metadata": {
        "id": "bQOBFlifFdg5",
        "colab_type": "code",
        "colab": {}
      },
      "source": [
        "area_m2= \n",
        "print(area_m2,'m^2')"
      ],
      "execution_count": null,
      "outputs": []
    },
    {
      "cell_type": "markdown",
      "metadata": {
        "id": "7ZW3SE8JFemn",
        "colab_type": "text"
      },
      "source": [
        "<details>\n",
        "<summary markdown=\"span\">\n",
        "Lösning\n",
        "</summary>\n",
        "<p><pre><code> area_m2=totalarea*14400\n",
        "</code></pre>\n",
        "</p>\n",
        "</details>\n",
        "<p></p>"
      ]
    },
    {
      "cell_type": "markdown",
      "metadata": {
        "id": "vNcKXSCdFe6q",
        "colab_type": "text"
      },
      "source": [
        "Sen behöver du fundera ut hur arean kan omvandlas till $km^2$. Skriv in din omvandling i kodblocket nedan. "
      ]
    },
    {
      "cell_type": "code",
      "metadata": {
        "id": "JD7okH9OFzRp",
        "colab_type": "code",
        "colab": {}
      },
      "source": [
        "area_km2 =\n",
        "print(area_km2, 'km^2')"
      ],
      "execution_count": null,
      "outputs": []
    },
    {
      "cell_type": "markdown",
      "metadata": {
        "id": "U_N0-_9TF3Rw",
        "colab_type": "text"
      },
      "source": [
        "<details>\n",
        "<summary markdown=\"span\">\n",
        "Tips!\n",
        "</summary>\n",
        "<p>Som du säkert redan vet är 1000 meter samma som 1 km. 1 km^2 är då samma som 1000^2 m^2, alltså 1000000 m^2.\n",
        "</p>\n",
        "</details>\n",
        "<p></p>"
      ]
    },
    {
      "cell_type": "markdown",
      "metadata": {
        "id": "GM3wK1mPF31H",
        "colab_type": "text"
      },
      "source": [
        "<details>\n",
        "<summary markdown=\"span\">\n",
        "Lösning\n",
        "</summary>\n",
        "<p><pre><code> area_km2=area_m2/1000000\n",
        "</code></pre>\n",
        "</p>\n",
        "</details>\n",
        "<p></p>"
      ]
    },
    {
      "cell_type": "markdown",
      "metadata": {
        "id": "COK6o-blEIHy",
        "colab_type": "text"
      },
      "source": [
        "# Quiz\n",
        "\n",
        "Kör kodrutan nedan för att starta quizzet. Kommer du ihåg vad vi har gått igenom?"
      ]
    },
    {
      "cell_type": "code",
      "metadata": {
        "id": "14OShXnxEMoP",
        "colab_type": "code",
        "cellView": "form",
        "colab": {}
      },
      "source": [
        "#@title Starta quizzet!\n",
        "!wget https://raw.githubusercontent.com/lunduniversity/schoolprog-satellite/master/for_developers/quiz.py --quiet\n",
        "!wget https://raw.githubusercontent.com/lunduniversity/schoolprog-satellite/master/exercises/forest_fires/quiz_skogsbrand.json --quiet\n",
        "import json\n",
        "import quiz\n",
        "\n",
        "with open(\"quiz_skogsbrand.json\") as f:\n",
        "  quiz_dict = json.load(f)\n",
        "quiz.main(quiz_dict)"
      ],
      "execution_count": null,
      "outputs": []
    }
  ]
}