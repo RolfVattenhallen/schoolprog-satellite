{
  "nbformat": 4,
  "nbformat_minor": 0,
  "metadata": {
    "colab": {
      "name": "Utsläppskartan.ipynb",
      "provenance": [],
      "include_colab_link": true
    },
    "kernelspec": {
      "name": "python3",
      "display_name": "Python 3"
    }
  },
  "cells": [
    {
      "cell_type": "markdown",
      "metadata": {
        "id": "view-in-github",
        "colab_type": "text"
      },
      "source": [
        "<a href=\"https://colab.research.google.com/github/lunduniversity/schoolprog-satellite/blob/master/exercises/emission_map/utslappskartan2.ipynb\" target=\"_parent\"><img src=\"https://colab.research.google.com/assets/colab-badge.svg\" alt=\"Open In Colab\"/></a>"
      ]
    },
    {
      "cell_type": "markdown",
      "metadata": {
        "id": "C2tcsexWsALL"
      },
      "source": [
        "# Färgkarta med växthusgasutsläpp från Sveriges kommuner\n",
        "\n",
        "I den här uppgiften ska vi studera hur utsläppen av växthusgaser skiljer sig åt mellan kommunerna i landet. Vi kommer använda data nerladdad från [SMHI](http://www.airviro.smhi.se/cgi-bin/RUS/apub.html_rusreport.cgi), du kan läsa mer om datan på [Länsstyrelsen](http://extra.lansstyrelsen.se/rus/Sv/statistik-och-data/nationell-emissionsdatabas/Pages/default.aspx).\n",
        "\n",
        "![alt text](https://github.com/lunduniversity/schoolprog-satellite/raw/master/exercises/emission_map/intro_picture.png)\n",
        "\n",
        "För varje kommun så finns det beräknade värden på hur mycket växthusgaser som släpps ut där. Eftersom det finns flera olika växthusgaser är utsläppen omräknade till hur mycket ren koldioxid det motsvarar. Så kallade *koldioxidekvivalenter*.\n",
        "\n",
        "Vi kommer att använda den här datan för att rita en karta över Sverige som visar hur mycket växthusgaser det släpps ut per invånare.\n",
        "\n",
        "Kör kodrutorna i tur och ordning här nedan genom att trycka på pilen till vänster om kodrutan. (Håll musen över kodrutan om du inte ser pilen). Du kan se att du har kört en kodruta genom att det dyker upp ett nummer i stället för pilen. Numren visar i vilken ordning kodrutorna har körts.\n",
        "\n",
        "Vissa av kodrutorna är stängda. De innehåller kod som du inte behöver förstå. Några rutor är öppna så att man ser koden. Här ska du få ändra senare, men låt dem vara som de är just nu."
      ]
    },
    {
      "cell_type": "code",
      "metadata": {
        "id": "EuwTey4S_L1T"
      },
      "source": [
        "#@title Ladda ner datafiler\n",
        "!wget https://github.com/lunduniversity/schoolprog-satellite-data/raw/master/emission_map/lansrapport_sverige_CO2-equivalents.xls --quiet\n",
        "!wget https://github.com/lunduniversity/schoolprog-satellite-data/raw/master/emission_map/kommuner.geojson --quiet\n",
        "!wget https://github.com/lunduniversity/schoolprog-satellite-data/raw/master/emission_map/befolkning_kommuner_2018.xlsx --quiet\n",
        "\n",
        "#Utsläpp att kolla på, dessa kommer vi kunna ändra längre fram i uppgiften.\n",
        "huvudsektor = 'alla'\n",
        "undersektor = 'alla'\n",
        "\n",
        "print(\"Huvudsektor:\", huvudsektor)\n",
        "print(\"Undersektor:\", undersektor)"
      ],
      "execution_count": null,
      "outputs": []
    },
    {
      "cell_type": "markdown",
      "source": [
        "Kör kodrutan nedan. Om du får massa utskrifter under kodrutan så behöver du  köra kodrutan **ovanför** igen, och sedan kodrutan nedanför en gång till. "
      ],
      "metadata": {
        "id": "TV6PHgun-yme"
      }
    },
    {
      "cell_type": "code",
      "metadata": {
        "id": "W5VwoH2c9qKj",
        "cellView": "form"
      },
      "source": [
        "#@title Läs in data\n",
        "#här måste vi fixa\n",
        "import pandas as pd\n",
        "\n",
        "#Får ett filnamn till utsläpp för sveriges kommuner. Returnerar Dataframe från xls-filen.\n",
        "def read_data(filename, huvudsektor = 'alla', undersektor = 'alla'):\n",
        "  df = pd.read_excel(filename, sheet_name=1)\n",
        "  values = df.values.tolist() #Skapar en matris med innehållet från andra\n",
        "                              #databladet i excel-filen\n",
        "  #Väljer ut rader som innehåller data för rätt kategori och underkategori för alla kommuner.\n",
        "  tabell = [row for row in values if str(row[0])[:3].lower() == huvudsektor[:3].lower() and  row[1] == undersektor and row[3] != \"alla\" and row[2] != \"Rest\"]\n",
        "  header = values[3]\n",
        "  header[3] = \"Kommun\"\n",
        "  kort_tabell = [rad[3:] for rad in tabell]\n",
        "  return pd.DataFrame(kort_tabell, columns = header[3:])\n",
        "\n",
        "try: utslapp = read_data(\"lansrapport_sverige_CO2-equivalents.xls\", huvudsektor, undersektor)\n",
        "except (ImportError):\n",
        "  print(\"Installerar programvara. Kör om första kodrutan igen!\")\n",
        "  !pip3 install --upgrade xlrd\n",
        "  exit()  \n",
        "\n",
        "\n",
        "befolkning = pd.read_excel(\"befolkning_kommuner_2018.xlsx\", skiprows=[0,1,2,3,5,6,7,8], nrows =  311, header = 0)\n",
        "befolkning = befolkning.mask(befolkning.Kommun < 100).dropna() #Ta bort län som har låga 'Kommunkoder'\n",
        "befolkning[\"Kommun\"] = befolkning[\"Kommun\"].astype(int)\n",
        "befolkning_dict = {}\n",
        "for index, row in befolkning.iterrows():\n",
        "  befolkning_dict[row[1].strip()] = row[2]\n",
        "\n",
        "for index, row in utslapp.iterrows():\n",
        "  kommun = row.Kommun\n",
        "  if kommun not in befolkning_dict:\n",
        "    kommun=kommun.replace(\"Upplands-Väsby\", \"Upplands Väsby\")\n",
        "    kommun=kommun.replace(\"ÖstraGöinge\", \"Östra Göinge\")\n",
        "    kommun=kommun.replace(\"LillaEdet\", \"Lilla Edet\")\n",
        "    kommun=kommun.replace(\"Malung\", \"Malung-Sälen\")\n",
        "    row.Kommun = kommun\n",
        "  for i in range(1,len(row)): # Omvandla absoluta tal till per capita\n",
        "    row[i]/=float(befolkning_dict[kommun])\n",
        "  utslapp.iloc[index] = row\n",
        "\n",
        "#Gör så att man kan indexera med kommunnamn\n",
        "utslapp = utslapp.set_index('Kommun')\n",
        "\n",
        "kommungeometri = \"kommuner.geojson\"\n",
        "\n",
        "print(\"Klart!\")"
      ],
      "execution_count": null,
      "outputs": []
    },
    {
      "cell_type": "code",
      "metadata": {
        "id": "D2t03hBTQhbN"
      },
      "source": [
        "import branca.colormap as cm\n",
        "fargskala = cm.LinearColormap(\n",
        "    #Vilka färger som ska vara i färgskalan:\n",
        "    colors = ['green', 'yellow', 'orange', 'red'],\n",
        "    #Var dessa färger ska hamna på färgskalan i tur och ordning:\n",
        "    index = [0, 2, 10, 100],\n",
        "    #Övre och undre gräns för färgskalan\n",
        "    vmin = 0,\n",
        "    vmax = 100,\n",
        "    caption = \"ton CO2 ekvivalent per person\",\n",
        ")\n",
        "\n",
        "display(fargskala)\n"
      ],
      "execution_count": null,
      "outputs": []
    },
    {
      "cell_type": "markdown",
      "metadata": {
        "id": "FYeJ6R-xBvN5"
      },
      "source": [
        "Nu borde du ha fått upp en färgskala. Med hjälp av denna ska vi färglägga Sveriges kommuner efter hur mycket växthusgaser de släpper ut. Färgerna är inte jämnt utspridda. Grönt, gult och orange är ganska nära varandra, medan rött är längre bort. Detta är för att vissa kommuner släpper ut väldigt mycket, per person. Med den här skalan kan man dels se skillnad på kommunerna som släpper ut lite grann, och även de kommuner som släpper ut mer.\n",
        "\n",
        "Vi har satt färgen gul vid 2 ton CO2 per person och år. För att ha en hållbar utsläppsnivå ska man släppa ut ungefär 1-2 ton CO2 per person och år, enligt [Sveriges Natur](https://www.sverigesnatur.org/aktuellt/sverige-inget-klimatforedome-nar-konsumtionen-raknas/). Man kan alltså se det som att kommuner som är mörkgula, orangea eller röda släpper ut mer än vad som är hållbart.\n",
        "\n",
        "Kör de nästa två kodcellerna så ska du få upp en karta över Sverige."
      ]
    },
    {
      "cell_type": "code",
      "metadata": {
        "id": "BLhoEUV9j4RC"
      },
      "source": [
        "#Vilket årtal ska vi använda data från?\n",
        "#Välj mellan 1990, 2000, 2005 samt åren mellan 2010 och 2017\n",
        "artal = 2017\n",
        "\n",
        "print(\"Årtal:\", artal)"
      ],
      "execution_count": null,
      "outputs": []
    },
    {
      "cell_type": "code",
      "metadata": {
        "id": "ypdK-vd-SXoO",
        "cellView": "form"
      },
      "source": [
        "#@title Rita karta\n",
        "import folium\n",
        "def style_function(feature):\n",
        "    kommun = feature['properties']['KOMMUNKOD']\n",
        "\n",
        "    emission = utslapp.loc[kommun][str(artal)]\n",
        "    return {\n",
        "        'fillColor': '#gray' if emission is None else fargskala(emission),\n",
        "        'fillOpacity': 0.6,\n",
        "        'weight': 0.2,\n",
        "    }\n",
        "\n",
        "world_map = folium.Map(\n",
        "        location=[63, 15],\n",
        "        zoom_start=4,\n",
        "        tiles='openstreetmap'\n",
        "        )\n",
        "\n",
        "folium.GeoJson(\n",
        "    data = kommungeometri,\n",
        "    style_function = style_function    \n",
        ").add_to(world_map)\n",
        "#display(linear)\n",
        "world_map.add_child(fargskala)\n",
        "print(\"Huvudsektor:\", huvudsektor)\n",
        "print(\"Undersektor:\", undersektor)\n",
        "print(\"Utsläpp per person för Sveriges kommuner år:\", artal)\n",
        "world_map\n"
      ],
      "execution_count": null,
      "outputs": []
    },
    {
      "cell_type": "markdown",
      "metadata": {
        "id": "jdNtj0_TEYiN"
      },
      "source": [
        "Nu borde du ha fått upp en karta. Hur ser det ut? Ligger Sverige bra till eller behöver vi bli bättre?\n",
        "\n",
        "Ett par kommuner är väldigt röda, och släpper ut i närheten av 100 ton CO2 per person och år. Detta är inte för att de som bor där lever väldigt ohållbart, utan för att det är små samhällen med stora industrier som släpper ut mycket. Zooma in på kartan så att du ser vad orterna heter. Kan du ta reda på vad det är för industrier där som kan tänkas släppa ut mycket växthusgaser? Du kan använda google, wikipedia etc.\n",
        "\n",
        "<details>\n",
        "<summary markdown=\"span\">\n",
        "Svar\n",
        "</summary>\n",
        "<p>\n",
        "I Lysekil, på västkusten, finns Skandinaviens största oljeraffinaderi. I Oxelösund, på östkusten, finns ett järnverk.\n",
        "</p>\n",
        "</details>"
      ]
    },
    {
      "cell_type": "markdown",
      "metadata": {
        "id": "bsmSGh1OJP8a"
      },
      "source": [
        "## Byt årtal\n",
        "\n",
        "Ändra värdet på variabeln `artal` ovanför till något annat år. År som fungerar är 1990, 2000, 2005 samt åren mellan 2010 och 2017. När du ändrat vilket år som ska visas måste du först köra kodcellen som väljer årtal, och sen den som ritar kartan.\n",
        "\n",
        "Kan du se någon förändring över tid? Släpper vi ut mer eller mindre här i Sverige än vi gjorde 1990? \n",
        "\n",
        "<details>\n",
        "<summary markdown=\"span\">\n",
        "Svar\n",
        "</summary>\n",
        "<p>\n",
        "Utsläppen har minskat!<br><br>\n",
        "Det är ju positivt, men räcker minskningen? Och hur är det med de utsläpp som orsakas av att vi importerar varor och reser utomlands? Läs gärna artikeln i Sveriges Natur som länkades ovan.\n",
        "</p>\n",
        "</details>"
      ]
    },
    {
      "cell_type": "markdown",
      "metadata": {
        "id": "uq9RPqSANxbH"
      },
      "source": [
        "## Ändra färgskalan\n",
        "\n",
        "Nu ska du få ändra på färgskalan. Gå upp till kodcellen för färgskalan och prova att ändra i `colors` och `index`. Exempel på vad du kan göra är:\n",
        "1.   Byta ut en färg mot någon annan, de flesta färger på engelska fungerar.\n",
        "2.   Flytta var en färg är på skalan genom att ändra i `index`\n",
        "3.   Byta plats på två färger i `colors`\n",
        "4.   Lägga till en ny färg. Då måste du lägga till en färg i `colors` och ett tal i `index`.\n",
        "\n",
        "När du ändrat i kodcellen för färgskalan behöver du köra den och sen rita kartan, så byts färgerna på kartan ut."
      ]
    },
    {
      "cell_type": "markdown",
      "metadata": {
        "id": "gy66vv64RpzT"
      },
      "source": [
        "## Byt sektor att visa\n",
        "\n",
        "Som en sista övning kan du ändra på vilken data som visas på kartan. Det gör du i kodcellen där `huvudsektor` och `undersektor` tilldelas. (Nästan längst upp på sidan.)\n",
        "\n",
        "Du kan börja med att ändra på vilken huvudsektor du vill titta på. Ändra variabeln `huvudsektor` till någon av följande (byt alltså ut texten `'alla'` i koden):\n",
        "\n",
        "*   `El och fjärrvärme`\n",
        "*   `Egen uppvärmning av bostäder och\n",
        "lokaler`\n",
        "*   `Industri (energi och processer)`\n",
        "*   `Transporter`\n",
        "*   `Arbetsmaskiner`\n",
        "*   `Produktanvändning (inkl.\n",
        "lösningsmedel)`\n",
        "*   `Jordbruk`\n",
        "*   `Avfall (inkl. avlopp)`\n",
        "*   `Utrikes transporter`\n",
        "\n",
        "När du har ändrat behöver du köra kodcellen och alla stängda kodceller under för att få upp en ny karta. \n",
        "\n",
        "Vissa sektorer står för betydligt mindre utsläpp än totalen. Då kan det vara värt att ändra i färgskalan så att man ser tydligare. Minska `vmax` och `index` så att färgskalan passar sektorn. \n",
        "\n",
        "Kan du ta reda på vilken sektor som står för utsläppen i de två kommunerna som var väldigt röda på kartan för hela Sverige?\n",
        "\n",
        "<details>\n",
        "<summary markdown=\"span\">\n",
        "Svar\n",
        "</summary>\n",
        "<p>\n",
        "Om man visar sektorn <code>Industri (energi och processer)</code> så är de två kommunerna fortfarande väldigt röda. För andra sektorer sticker de inte ut. Detta stämmer alltså med vår teori att det är de stora industrierna här som är anledningen till att mycket släpps ut.\n",
        "</p>\n",
        "</details>\n",
        "\n",
        "\n"
      ]
    },
    {
      "cell_type": "markdown",
      "metadata": {
        "id": "a5ehTRxAcuco"
      },
      "source": [
        "Du kan också välja undersektor. Några av undersektorerna till huvudsektorn `Transporter` är:\n",
        "\n",
        "*   `Personbilar`\n",
        "*   `Tunga lastbilar`\n",
        "*   `Bussar`\n",
        "*   `Järnväg`\n",
        "*   `Militär transport`\n",
        "\n",
        "Ändra `huvudsektor` till `Transporter` och välj någon av undersektorerna att sätta `undersektor` till. Studera hur mycket/lite som släpps ut av de olika transportmedeln. Längst ner i uppgiften finns alla underkategorier."
      ]
    },
    {
      "cell_type": "markdown",
      "metadata": {
        "id": "xSYvJh5vM_r1"
      },
      "source": [
        "## Kommentar\n",
        "\n",
        "Siffrorna vi visualiserar här säger inte allt. Vi i Sverige importerar mycket från utlandet. Då släpps växthusgaser ut på andra platser än i Sverige, även om det i grund och botten är vi som orsakar utsläppen. Du kan läsa mer om utsläpp i utlandet här: [Sveriges Natur](https://www.sverigesnatur.org/aktuellt/sverige-inget-klimatforedome-nar-konsumtionen-raknas/) (Länken fanns längre upp också) "
      ]
    },
    {
      "cell_type": "markdown",
      "metadata": {
        "id": "OtfpJVocDBHu"
      },
      "source": [
        "# Nu är det dags för ett quiz! \n",
        "\n",
        "Du kan använda kartan och koden ovanför för att få svar på frågorna."
      ]
    },
    {
      "cell_type": "code",
      "metadata": {
        "id": "jihTLNrNDNtN",
        "cellView": "form"
      },
      "source": [
        "#@title Kör rutan för att öppna quizet!\n",
        "!wget https://raw.githubusercontent.com/lunduniversity/schoolprog-satellite/master/for_developers/quiz.py --quiet\n",
        "!wget https://raw.githubusercontent.com/lunduniversity/schoolprog-satellite/master/exercises/emission_map/quiz_emission_map.json --quiet\n",
        "import json\n",
        "import quiz\n",
        "\n",
        "with open(\"quiz_emission_map.json\") as f:\n",
        "  quiz_dict = json.load(f)\n",
        "quiz.main(quiz_dict)"
      ],
      "execution_count": null,
      "outputs": []
    },
    {
      "cell_type": "markdown",
      "metadata": {
        "id": "DTnkf_xgYuif"
      },
      "source": [
        "# Alla underkategorier\n",
        "\n",
        "Här hittar du alla underkategorier, grupperade efter huvudkategori. Om huvudkategorin inte är med i listan innebär det att det inte finns underkategorier för den huvudkategorin.\n",
        "\n"
      ]
    },
    {
      "cell_type": "markdown",
      "metadata": {
        "id": "he6UM8DeY9lg"
      },
      "source": [
        "## Egen uppvärmning av bostäder och lokaler\n",
        "\n",
        "\n",
        "*   Kommersiella och offentliga lokaler\n",
        "*   Bostäder\n",
        "*   Jordbruks- och skogsbrukslokaler\n",
        "\n"
      ]
    },
    {
      "cell_type": "markdown",
      "metadata": {
        "id": "V1Sck4fRZpLv"
      },
      "source": [
        "## Transporter\n",
        "\n",
        "*   Personbilar\n",
        "*   Lätta lastbilar\n",
        "*   Tunga lastbilar\n",
        "*   Bussar\n",
        "*   Mopeder och motorcyklar\n",
        "*   Inrikes civil sjöfart (inkl. privata fritidsbåtar)\n",
        "*   Inrikes flygtrafik\n",
        "*   Järnväg\n",
        "*   Militär transport\n",
        "\n",
        "  "
      ]
    },
    {
      "cell_type": "markdown",
      "metadata": {
        "id": "BvJVNvgsaEiV"
      },
      "source": [
        "## Arbetsmaskiner\n",
        "\n",
        "*   Industri- och byggsektorns arbetsmaskiner (inkl. vägarbeten)\n",
        "*   Fiskebåtar\n",
        "*   Jordbruk och skogsbruk\n",
        "*   Kommersiella och offentliga verksamheter\n",
        "*   Övrigt (flygplatser, hamnar, m.m.)\n",
        "*   Hushållens arbetsmaskiner\n",
        "*   Skotrar och fyrhjulingar"
      ]
    },
    {
      "cell_type": "markdown",
      "metadata": {
        "id": "jaAP17mYaZAq"
      },
      "source": [
        "## Produktanvändning (inkl. lösningsmedel)\n",
        "\n",
        "*   Färg - hushåll\n",
        "*   Färg - verksamheter\n",
        "*   Lösningsmedelsanvändning - verksamheter\n",
        "*   Smörjmedel\n",
        "*   Paraffinvax\n",
        "*   Urea för katalysatorer\n",
        "*   Lustgas fran produktanvändning\n",
        "*   Användning av fluorerade gaser\n"
      ]
    },
    {
      "cell_type": "markdown",
      "metadata": {
        "id": "NxyG7xhJasug"
      },
      "source": [
        "## Jordbruk\n",
        "\n",
        "*   Djurs matsmältning\n",
        "*   Kogödsel (lagring, användning och bete)\n",
        "*   Svingödsel (lagring, användning och bete)\n",
        "*   Hästgödsel (lagring, användning och bete)\n",
        "*   Hönsgödsel (lagring, användning och bete)\n",
        "*   Fårgödsel m.m. (lagring, användning och bete)\n",
        "*   Användning av konstgödsel\n",
        "*   Skörderester som gödsel\n",
        "*   Kalkning av åkermark\n",
        "*   Odling av organogena jordar\n",
        "*   Odling av mineraljordar\n",
        "*   Indirekta utsläpp av lustgas från brukad mark\n",
        "*   Övriga gödselmedel m.m."
      ]
    },
    {
      "cell_type": "markdown",
      "metadata": {
        "id": "XNyJoV4xcv_F"
      },
      "source": [
        "## Avfall (inkl. avlopp)\n",
        "\n",
        "*   Avfallsdeponier\n",
        "*   Biologisk behandling av avfall\n",
        "*   Behandling av avloppsvatten\n",
        "*   Förbränning av farligt avfall\n"
      ]
    }
  ]
}