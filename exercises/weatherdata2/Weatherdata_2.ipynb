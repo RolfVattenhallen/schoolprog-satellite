{
  "nbformat": 4,
  "nbformat_minor": 0,
  "metadata": {
    "colab": {
      "name": "Weatherdata_2.ipynb",
      "version": "0.3.2",
      "provenance": []
    },
    "language_info": {
      "codemirror_mode": {
        "name": "ipython",
        "version": 3
      },
      "file_extension": ".py",
      "mimetype": "text/x-python",
      "name": "python",
      "nbconvert_exporter": "python",
      "pygments_lexer": "ipython3",
      "version": "3.7.3"
    },
    "kernelspec": {
      "display_name": "Python 3",
      "language": "python",
      "name": "python3"
    }
  },
  "cells": [
    {
      "cell_type": "markdown",
      "metadata": {
        "colab_type": "text",
        "id": "i9gL6btk0vTQ"
      },
      "source": [
        "# Väderdata 2\n",
        "Denna uppgift är en vidareutveckling på väderdata. Vi rekommenderar starkt att du gör den först. Du kan hitta den [här](https://github.com/lunduniversity/schoolprog-satellite/tree/master/exercises/weatherdata). Vi kommer använda samma data i denna uppgiften men göra den mer lättillgänglig genom att göra en interaktiv graf med hjälp av biblioteket [bokeh](https://bokeh.pydata.org/en/latest/).\n",
        "\n",
        "Börja med att köra följande kod för att importera rätt bibliotek:"
      ]
    },
    {
      "cell_type": "code",
      "metadata": {
        "colab_type": "code",
        "id": "W0I7bYtj0pXb",
        "colab": {}
      },
      "source": [
        "from ipywidgets import interact\n",
        "import numpy as np\n",
        "from bokeh.io import push_notebook, show, output_notebook\n",
        "from bokeh.plotting import figure\n",
        "\n",
        "output_notebook()"
      ],
      "execution_count": 0,
      "outputs": []
    },
    {
      "cell_type": "markdown",
      "metadata": {
        "id": "6WiLKnF8zPJo",
        "colab_type": "text"
      },
      "source": [
        "Koden nedan laddar ned datan vi kommer använda och sparar den i `data`. Funktionerna är samma som i den första väderdatauppgiften. Kör koden för att läsa in datan."
      ]
    },
    {
      "cell_type": "code",
      "metadata": {
        "colab_type": "code",
        "id": "NXm23G9T0_yb",
        "colab": {}
      },
      "source": [
        "!wget https://github.com/lunduniversity/schoolprog-satellite-data/raw/master/smhi/1961.all.ssv.gz --no-verbose\n",
        "import gzip\n",
        "import matplotlib.pyplot as plt\n",
        "\n",
        "\n",
        "def get_station_data():\n",
        "    result = {}\n",
        "    with gzip.open('1961.all.ssv.gz', 'rt') as f:\n",
        "        raw_data = f.read().split('\\n\\n')\n",
        "        for s in raw_data:\n",
        "            station_data = s.split('\\n')\n",
        "            name = ' '.join(station_data[0].split()[1:])\n",
        "            data = []\n",
        "            for entry in station_data[1:]:\n",
        "                y, m, d, t = entry.split()\n",
        "                data.append((int(y), int(m), int(d), float(t)))\n",
        "            if(len(name) > 0):\n",
        "                result[name] = data\n",
        "    return result\n",
        "\n",
        "\n",
        "def plot(x=None, y=None, fname=\"plot.png\"):\n",
        "    if x: \n",
        "        plt.plot(x, y)\n",
        "    else:\n",
        "        plt.plot(y)\n",
        "    plt.savefig(fname)\n",
        "    plt.show()\n",
        "    \n",
        "def data_by_year(year, city_data):\n",
        "    result = []\n",
        "    for datum in city_data:\n",
        "        if datum[0] == year:\n",
        "            result.append(datum[3])\n",
        "    return result\n",
        "\n",
        "data = get_station_data()"
      ],
      "execution_count": 0,
      "outputs": []
    },
    {
      "cell_type": "markdown",
      "metadata": {
        "id": "fsCQLxyezPJs",
        "colab_type": "text"
      },
      "source": [
        "## 1. Plotta med `bokeh`\n",
        "\n",
        "Nu ska vi börja med `bokeh`. I `bokeh` plottar man saker i en `figure`. Man skapar en `figure` på följande vis:"
      ]
    },
    {
      "cell_type": "code",
      "metadata": {
        "id": "hAGjWVcYzPJs",
        "colab_type": "code",
        "colab": {}
      },
      "source": [
        "plot = figure(title=\"Temperatur för ett år\", plot_height=300, plot_width=600, y_range=(-30, 30))"
      ],
      "execution_count": 0,
      "outputs": []
    },
    {
      "cell_type": "markdown",
      "metadata": {
        "id": "fTgBB5HPzPJu",
        "colab_type": "text"
      },
      "source": [
        "**Uppdrag:** Vad gör de olika parametrarna? Försök lista ut bara utifrån namnen.\n",
        "\n",
        "<details>\n",
        "<summary markdown=\"span\">\n",
        "Svar\n",
        "</summary>\n",
        "<p>\n",
        "    \n",
        "- <code>title</code> sätter titeln för plotten.\n",
        "    \n",
        "- <code>plot_height</code> bestämmer höjden på plotten.\n",
        "\n",
        "- <code>plot_width</code> bestämmer bredden på plotten.\n",
        "\n",
        "- <code>y_range</code> avgör vilka y-värden som ska vara med i plotten.\n",
        "\n",
        "</p>\n",
        "</details>\n",
        "\n",
        "I en `figure` i bokeh kan man lägga till exempelvis linjer, vilket vi ska göra nu. Men först behöver vi någon data att plotta med linjen. \n",
        "\n",
        "**Uppdrag:** skapa en lista `y` som innehåller temperaturerna från Lund 2015 samt en lista `x` som innehåller talen 1, 2 till och med 365. Detta ska representera dagarna. \n",
        "\n"
      ]
    },
    {
      "cell_type": "code",
      "metadata": {
        "id": "Zeo00OcpzPJv",
        "colab_type": "code",
        "colab": {}
      },
      "source": [
        ""
      ],
      "execution_count": 0,
      "outputs": []
    },
    {
      "cell_type": "markdown",
      "metadata": {
        "id": "_vyaaDi4zPJx",
        "colab_type": "text"
      },
      "source": [
        "<details>\n",
        "<summary markdown=\"span\">\n",
        "Tips\n",
        "</summary>\n",
        "<p>\n",
        "    Använd funktionen <code>data_by_year()</code> du skrev i den förra väderuppgiften. \n",
        "</p>\n",
        "</details>\n",
        "\n",
        "<details><summary markdown=\"span\">Lösning</summary>\n",
        "<p>\n",
        "<pre><code>y = data_by_year(2015, data[\"Lund\"])\n",
        "x = [i+1 for i in range(365)]\n",
        "</code></pre></p>\n",
        "</details>\n",
        "\n",
        "Nu när du skapat listorna är det dags att plottad dem. \n",
        "\n",
        "**Uppdrag:** Kör koden nedan för att först lägga till en linje som du kallar `my_line` och visa plotten med hjälp av `show(plot)`."
      ]
    },
    {
      "cell_type": "code",
      "metadata": {
        "id": "XmZ9PMV9zPJy",
        "colab_type": "code",
        "colab": {}
      },
      "source": [
        "my_line = plot.line(x, y)\n",
        "show(plot)"
      ],
      "execution_count": 0,
      "outputs": []
    },
    {
      "cell_type": "markdown",
      "metadata": {
        "id": "JUlwUaJUzPJ1",
        "colab_type": "text"
      },
      "source": [
        "Som du ser är denna plotten inte helt lik den du känner igen sen tidigare. Innan använde vi `matplotlib.pyplot` och nu använder vi `bokeh`. Du kan direkt se hur `bokeh` är mer interaktivt genom att du kan välja olika verktyg på sidan om plotten som låter dig zooma och dra runt plotten. Men vi ska göra plotten ännu mer interaktiv!\n",
        "\n",
        "## 2. Interaktiv plot med `bokeh`\n",
        "\n",
        "**Uppdrag:** Skriv en funktion `formatted_data_by_year(year, city)` som tar in ett år och en stad. Funktionen ska returnera nästan samma sak som `data_by_year()` men den ska fixa till datan så att vi alltid har 365 dagar per år. Detta är eftersom vissa städer saknar data för exempelvis de sista månaderna på året, och ibland är det skottår.\n",
        "\n"
      ]
    },
    {
      "cell_type": "code",
      "metadata": {
        "id": "yQrZsvHMzPJ2",
        "colab_type": "code",
        "colab": {}
      },
      "source": [
        "def formatted_data_by_year(year, city):\n",
        "    # Din kod här.."
      ],
      "execution_count": 0,
      "outputs": []
    },
    {
      "cell_type": "markdown",
      "metadata": {
        "id": "2vNSs8SBzPJ4",
        "colab_type": "text"
      },
      "source": [
        "<details>\n",
        "<summary markdown=\"span\">\n",
        "Tips\n",
        "</summary>\n",
        "<p>\n",
        "Undvik att göra någon komplicerat. Du kan exempelvis göra följande: om det finns för många värden tar du bort det sista värdet tills du har exakt 365. Om du tvärtemot har för få värden kan du lägga till det sista värdet till listan tills du har exakt 365. \n",
        "</p>\n",
        "</details>\n",
        "\n",
        "<details><summary markdown=\"span\">Lösning</summary>\n",
        "<p>\n",
        "<pre><code>def formatted_data_by_year(year, city):\n",
        "    res = data_by_year(year, data[city])\n",
        "    while (len(res) > 365):\n",
        "        res = res[:-1]\n",
        "    while (len(res) < 365):\n",
        "        res.append(res[-1])\n",
        "    return res\n",
        "</code></pre></p>\n",
        "</details>\n",
        "\n",
        "\n",
        "Nu ska vi börja använda `ipywidgets` och dess funktion `interact`.\n",
        "\n",
        "**Uppdrag:** Kör följande kod. Vad händer? Varför? Försök förstå vad de olika delarna gör. "
      ]
    },
    {
      "cell_type": "code",
      "metadata": {
        "id": "KcOh5QR5zPJ4",
        "colab_type": "code",
        "colab": {}
      },
      "source": [
        "def update(city, year):\n",
        "    my_line.data_source.data['y'] = formatted_data_by_year(year, city)\n",
        "    push_notebook(handle=my_handle)\n",
        "    \n",
        "my_handle=show(plot, notebook_handle=True)\n",
        "interact(update, city=[\"Lund\", \"Stockholm\"], year=(1965, 2016, 1))"
      ],
      "execution_count": 0,
      "outputs": []
    },
    {
      "cell_type": "markdown",
      "metadata": {
        "id": "xN7iLcq-zPJ8",
        "colab_type": "text"
      },
      "source": [
        "<details>\n",
        "<summary markdown=\"span\">\n",
        "Svar\n",
        "</summary>\n",
        "<p>\n",
        "\n",
        "- <code>update(city, year)</code> är en funktion som ska uppdatera grafen varje gång något ändras från inställningarna. \n",
        "- <code>my_line.data_source.data['y'] = formatted_data_by_year(year, city)</code> ändrar linjens y-värden till värdena som returneras av <code>formatted_data_by_year()</code>. \n",
        "- <code>push_notebook(handle=my_handle)</code> uppdaterar grafen som har <code>my_handle</code> som handle. \n",
        "- <code>my_handle=show(plot, notebook_handle=True)</code> gör så att grafen får en handle som vi kallar <code>my_handle</code>. \n",
        "- <code>interact()</code> är funktionen som ger listan av alternativ och en slider där man kan ange vilket år man vill ha datan ifrån. <code>interact()</code> tar först en <code>update</code>-funktion som anropas varje gång värdena uppdateras. Sedan måste man för varje parameter till <code>update</code> ange hur man ska läsa in dem. Anger man en lista av strängar får man en flervalslista och anger man en tuple får man en slider. De två första värdena i tupeln anger start och slutvärde. Det tredje anger hur små steg man kan ta. \n",
        "</p>\n",
        "</details>\n",
        "\n",
        "Nu vill vi kunna se fler städer. \n",
        "\n",
        "**Uppdrag:** Ändra i koden ovan så att vi får alla städer vi har i flervalslistan. \n",
        "\n",
        "\n",
        "<details><summary markdown=\"span\">Lösning</summary>\n",
        "<p>\n",
        "<pre><code>interact(update, city=list(data.keys()), year=(1965, 2016,1))\n",
        "</code></pre></p>\n",
        "</details>"
      ]
    },
    {
      "cell_type": "markdown",
      "metadata": {
        "id": "qDA4KbCOzf9a",
        "colab_type": "text"
      },
      "source": [
        "## 3. Ackumulerad temperatur\n",
        "\n",
        "En ackumulerad tempertur innebär att man summerar alla de tidigare temperaturerna. Om det exempelvis har varit 20 grader flera dagar i streck blir den ackumulerade temperaturen dag ett 20 grader, dag två 40 grader, dag tre 60 grader osv. Vi tänke nu kolla på hur den ackulmulerade temperaturen ser ut för ett år i de olika städerna vi kollat på innan. "
      ]
    },
    {
      "cell_type": "markdown",
      "metadata": {
        "id": "iJfccan404TR",
        "colab_type": "text"
      },
      "source": [
        "För att göra detta behöver vi skriva en funktion som hela tiden läger ihop de tidigare värdena med dagens värde. Vi kan utgå från vår funktion `formatted_data_by_year()`. \n",
        "\n",
        "**Uppdrag:** Skriv funktionen `formatted_data_by_year_ack(year,city)`.\n"
      ]
    },
    {
      "cell_type": "code",
      "metadata": {
        "id": "vBmGS3GozPJ_",
        "colab_type": "code",
        "colab": {}
      },
      "source": [
        "def formatted_data_by_year_ack(year, city):\n",
        "  # Din kod här.."
      ],
      "execution_count": 0,
      "outputs": []
    },
    {
      "cell_type": "markdown",
      "metadata": {
        "id": "jQXinVbA14-b",
        "colab_type": "text"
      },
      "source": [
        "<details>\n",
        "<summary markdown=\"span\">\n",
        "Tips\n",
        "</summary>\n",
        "<p>\n",
        "  Vi kan exempelvis loopa genom listan från <code>formatted_data_by_year</code> och för varje element lägga till värdet av det tidigare elementet (som då kommer vara det ackumulerade värdet för det elementet).\n",
        "</p>\n",
        "</details>\n",
        "\n",
        "<details>\n",
        "<summary markdown=\"span\">\n",
        "Lösning\n",
        "</summary>\n",
        "<p>\n",
        "<pre>def formatted_data_by_year_ack(year, city):\n",
        "    res = formatted_data_by_year(year, city)\n",
        "    for i in range(1,365):\n",
        "        res[i] = res[i] + res[i-1]\n",
        "    return res</pre>\n",
        "</p>\n",
        "</details>\n"
      ]
    },
    {
      "cell_type": "markdown",
      "metadata": {
        "id": "kkxf2mc54G9K",
        "colab_type": "text"
      },
      "source": [
        "Vi kan nu plotta våra ackumulerade värden på samma sätt som innan. Koden nedan är i princip samma som du skrev i del 2. Vi väljer denna gång att göra ett stapeldiagram istället för en linje. Kör koden nedan för att se vad som händer. "
      ]
    },
    {
      "cell_type": "code",
      "metadata": {
        "id": "tW9yrIEdzPKB",
        "colab_type": "code",
        "colab": {}
      },
      "source": [
        "plot2 = figure(title=\"Ackumulerad temperatur för ett år\", plot_height=300, plot_width=600, y_range=(-2000, 4000))\n",
        "y = formatted_data_by_year_ack(2015, \"Lund\")\n",
        "x = [i+1 for i in range(365)]\n",
        "my_vbar = plot2.vbar(x, top=y, width = 0.5)\n",
        "\n",
        "def update_ack(city, year):\n",
        "    my_vbar.data_source.data['top'] = formatted_data_by_year_ack(year, city)\n",
        "    push_notebook(handle=my_handle2)\n",
        "    \n",
        "my_handle2=show(plot2, notebook_handle=True)\n",
        "interact(update_ack, city=list(data.keys()), year=(1965, 2016, 1))"
      ],
      "execution_count": 0,
      "outputs": []
    },
    {
      "cell_type": "markdown",
      "metadata": {
        "id": "G2gnFWoi7HV_",
        "colab_type": "text"
      },
      "source": [
        "**Uppdrag:** Kolla på lite olika städer. Vad innebär det om den ackumulerade temperaturen är under noll i slutet av året?\n",
        "\n",
        "<details>\n",
        "<summary markdown=\"span\">\n",
        "Svar\n",
        "</summary>\n",
        "<p>\n",
        "Det innebär att medeltemperaturen för hela året är negativ. Vi kan bestämma medeltemperaturen genom att ta det sista värdet, det totala ackumulerade värdet för året, och dela det på 365.\n",
        "</p>\n",
        "</details>"
      ]
    },
    {
      "cell_type": "markdown",
      "metadata": {
        "id": "Aaq9eREC_SsW",
        "colab_type": "text"
      },
      "source": [
        "## Fortsättningsuppgifter\n",
        "- Gör om fler plottar från förra uppgiften och gör dem interaktiva. \n",
        "- Ändra så att man i `update`-även uppdaterar x-värdena för att slippa använda `formated_data_by_year` och istället bara använda `data_by_year`."
      ]
    }
  ]
}