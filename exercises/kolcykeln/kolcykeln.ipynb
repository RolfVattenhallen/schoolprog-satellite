{
 "cells": [
  {
   "cell_type": "markdown",
   "metadata": {
    "deletable": false,
    "editable": false
   },
   "source": [
    "<img src=\"images/carboncycle_nb_header_swe2.png\" width=\"890\" align=\"center\"/>"
   ]
  },
  {
   "cell_type": "markdown",
   "metadata": {
    "deletable": false,
    "editable": false
   },
   "source": [
    "<a id='intro'></a>"
   ]
  },
  {
   "cell_type": "markdown",
   "metadata": {},
   "source": [
    "# Kolcykeln - Programmeringsövningar med koldioxid-data\n",
    "Det är svårt att beräkna statistik över flera tusentals värden med papper och penna. Dessutom ökar möjligheten av misstag i beräkningarna. Programmering ger oss möjligheten att utföra beräkningar över många värden snabbt och med större säkerhet. Syftet med följande övningar är att få erfarenhet över hur enkelt den typen av beräkningar går att utföra med användning av Python. Ett flertal övningar har tagits fram för att beskriva enklare principer inom Python-programmering. Övningarna beskriver oftast problem som är relaterade till kolets kretslopp (kolcykeln), dvs hur kol tas upp eller släpps ut mellan delar av ett ekosystem.\n",
    "\n",
    "Denna Jupyter Notebook innehåller övningar som koncentrerar sig på kolcykeln och på dagliga samt årliga förändringar av koncentrationer och upptag av koldioxid. Programmeringsmässigt berörs följande koncept:\n",
    "\n",
    "-  Läsa in data från csv-filer\n",
    "-  Organisera data i tabeller\n",
    "-  Extrahera data från tabeller med hjälp av index\n",
    "-  Beräkna statistik över värden i tabeller\n",
    "-  Plotta data i interaktiva eller statiska diagram\n",
    "\n",
    "<br>\n",
    "<br>\n",
    "Notebooken består av följande delar:\n",
    "\n",
    "-  1. Vad är koldioxid (CO$_2$)\n",
    "\n",
    "\n",
    "-  2. Kolcykeln\n",
    "\n",
    "\n",
    "-  3. Ett år i koldioxidens liv på Jorden (filmklipp)\n",
    "\n",
    "\n",
    "-  4. Övning med data från ICOS Hyltemossa mätstation\n",
    "    -  4.1. Importera Python moduler\n",
    "    -  4.2. Läs in CSV-filer till tabeller i Python\n",
    "    -  4.3. Definiera index för en tabell\n",
    "    -  4.4. Beräkna statistik över kolumner i en tabell\n",
    "    -  4.5. Plotta data i interaktiva diagram\n",
    "\n",
    "\n",
    "-  5. Övning: Hjälp forskaren\n",
    "\n",
    "\n",
    "<br>\n",
    "<br>\n",
    "<br>\n",
    "<br>\n"
   ]
  },
  {
   "cell_type": "markdown",
   "metadata": {
    "deletable": false
   },
   "source": [
    "## 1. Vad är Koldioxid (CO$_2$) \n",
    "\n",
    "Koldioxid är en gas, som är lukt- och färglös i normala temperaturer. Gasen bildas vid fullständig förbränning av kolföreningar i syre. Vid förbränning av biomassa ökar inte halten av koldioxid i atmosfären, så länge biomassan tillåts växa upp igen och åter absorbera samma mängd koldioxid. Vid förbränning av fossila bränslen (som t.ex. kol, petroleum eller naturgas) återförs kol till atmosfären som varit utanför kretsloppet väldigt länge. När återfört kol inte binds i ny biomassa, ökar koldioxidhalten i atmosfären.\n",
    "\n",
    "Växthusgaser som t.ex. vattenånga, koldioxid, metan, lustgas eller ozon förekommer naturligt i atmosfären och släpper igenom solens strålar men minskar värmeutsläppet från Jorden. På det viset fängslas värme i atmosfären. Utan växthusgaser skulle temperaturen på Jorden vara för låg för att levande varelser skulle kunna existera. Växthuseffekten är anledningen varför där finns liv på Jorden. Problemet uppstår när den totala mängden växthusgaser i atmosfären börjar öka. Ökad mängd av växthusgaser i atmosfären leder till att mer värme fängslas i atmosfären, som i sin tur leder till högre temperaturer på Jorden. Konsekvenserna av det är smältande glaciärer, stigande havsnivåer, oftare extrema förekomster av nederbörd eller torka och förändrade förutsättningar för jordbruket. Ökade halter av koldioxid i luften är även länkade till havsförsurning. Havsförsurning är en process där havets pH-värde långsamt sjunker p.g.a. att allt högre mängder koldioxid i atmosfären tas upp av haven.\n",
    "\n",
    "<br>\n",
    "<br>\n",
    "<br>"
   ]
  },
  {
   "cell_type": "markdown",
   "metadata": {
    "deletable": false,
    "editable": false
   },
   "source": [
    "## 2. Kolcykeln\n",
    "Koldioxid (CO$_2$), kolmonoxid (CO) och metan (CH$_4$) ingår i kolets livscykel. Bilden nedan visar hur kol transporteras från olika källor till sänkor. De blåa pilarna representerar upptaget av kol medan de rosa pilarna representerar utsläppet av kol.\n",
    "\n",
    "Kol i form av koldioxid släpps ut i atmosfären från människors, djurs och växters respiration (utandning). Förbränning av fossila bränslen bidrar till en stor del av kolutsläppet i atmosfären. Kol i form av koldioxid och kolmonoxid släpps ut vid skogsbränder. Havets djur och växter släpper också ut koldioxid med deras respiration (utandning). Betesdjur och framför allt kor rapar och släpper ut metan. Metan släpps även ut från bakterier som finns i människors och djurs avföring (bajs). Koldioxid och metan släpps ut i luften när nedbrytare (t.ex. svampar och daggmaskar) bryter ner organiskt material (döda djur eller växter) till jord. Alla processer som leder till att kol släpps ut i atmosfären kallas för **källor**.\n",
    "\n",
    "Kol tas upp från atmosfären när växter fotosyntetiserar. Fotosyntes är en process under vilken växter tar in koldioxid, vatten och solenergi, och omvandlar dem till syre och druvsocker. Denna process utförs både av växter på land och i haven. Processen utförs endast när det finns tillräkligt med soljus. Under natten sker ingen fotosyntes, utan växterna andas in syre och andas ut koldioxid. Växter lagrar kol när de använder druvsockret för att skapa nya grenar, löv och rötter eller för att öka storleken av deras stammar (biomassa). Kol kommer in i jorden i form av dött organiskt material. Alla levande organismer (växter, människor och djur) består av organiskt material. När växter tappar löv eller grenar på marken, så tappar de organiskt material. Samma sak sker med människors och djurs urin och avföring. I marina ekosystem omvandlas dött liv till sediment. Kol som lagrats i jorden kan omvandlas till naturgas och olja. Det är dock en flerårig process som kan ta 50,000,000 till 500,000,000 år. Alla processer som tar upp kol  kallas för **sänkor**."
   ]
  },
  {
   "cell_type": "markdown",
   "metadata": {},
   "source": [
    "<img src=\"images/carboncycle_swe4.png\" width=\"900\" align=\"center\">\n",
    "<br>\n",
    "<br>\n",
    "<br>"
   ]
  },
  {
   "cell_type": "markdown",
   "metadata": {
    "deletable": false,
    "editable": false
   },
   "source": [
    "## 3. Ett år i Koldioxidens liv på Jorden (NASA)\n",
    "Klicka på videon nedan för att se hur koldioxidens koncentration förändras under olika årstider över hela jordklotet för ett år. Observera att koldioxid visas i en färgskala från mårkblå till lila. Högre värden visas i röd och lila färg. Kolmonoxid visas i svartvit skala. Högre kolmonoxid-värden visas i ljusare grå och vit färg."
   ]
  },
  {
   "cell_type": "markdown",
   "metadata": {
    "editable": false
   },
   "source": [
    "<br>\n",
    "<br>\n",
    "<a id='exercise_icos_htm'></a>"
   ]
  },
  {
   "cell_type": "markdown",
   "metadata": {
    "deletable": false,
    "editable": false
   },
   "source": [
    "## 5. Övningar med CO$_2$-data från Hyltemossa mätstation\n",
    "I följande övningar kommer du att beräkna statistik över större datamängder av koldioxid-värden för 2017 – 2019 från Hyltemossa mätstation. Vi ska även visualisera värden för koldioxidkoncentration i luften genom att skapa ett interaktiv diagram och använda diagramets verktyg för att få ut mer information om dem presenterade värdena. För att beräkna denna statistik måste koldioxid-värdena, som finns sparade i en datafil, först läsas in i en tabell. I Python kan man använda färdiga program (moduler) för att läsa in data från en datafil till en tabell. En modul måste importeras innan det går att använda den. Ibland kan det vara intressant att beräkna statistik över kortare tidsperioder (som t.ex. en månad) istället för t.ex. ett helt år. Data som är lagrat i en tabell går att filtrera. Här kommer du att lära dig filtrera en tabell efter tid och beräkna statistik för den tidsperioden. I den sista delen av övningen får du chansen att hjälpa en forskare genom att testa dina nya programmeringsfärdigheter. Du kommer att få skriva kod för att besvara ett antal frågor som kräver att du filtrerar data enligt tid och beräknar statistik för värdena som tillhör den tidsperioden.\n",
    "\n",
    "Innan du fortsätter med övningarna, är det viktigt att du får lite mer information om [Hyltemossa mätstation](https://www.icos-sweden.se/station_hyltemossa.html). Mätstationen ligger söder om Perstorp i nordvästra Skåne. Den är belägen nära en 30-år gammal förvaltad granskog och tillhör forskningsinfrastrukturen [ICOS Sweden](https://www.icos-sweden.se/). ICOS, som är ett akronym för [Integrated Carbon Observation System](https://www.icos-cp.eu/), är en europeisk infrastruktur som bedriver mätningar över lång tid för att kartlägga Europas kolbalans och de växthusgaser som finns i luften. Mätningarna av koldioxid vid en mätstation påverkas av vad som finns i stationens omgivning. Vindens riktning kan också spela stor roll. Zooma in på kartan nedan för att se vad som finns omkring Hyltemossa forskningsstation. Kan du hitta Nedre Store sjö, Perstorps industrimark eller Ljungbyheds flygplats på kartan?"
   ]
  },
  {
   "cell_type": "code",
   "execution_count": null,
   "metadata": {
    "deletable": false,
    "editable": false,
    "scrolled": false
   },
   "outputs": [],
   "source": [
    "#Import modules:\n",
    "import folium\n",
    "\n",
    "#Create map object:\n",
    "m = folium.Map(location=[56.097991, 13.420181], zoom_start=7)\n",
    "\n",
    "#Add marker:\n",
    "folium.Marker(location=[56.097991, 13.420181],\n",
    "              popup='Hyltemossa Mätstation',\n",
    "              icon=folium.Icon(color='darkred', icon='cloud')).add_to(m)\n",
    "\n",
    "#Show map\n",
    "m"
   ]
  },
  {
   "cell_type": "markdown",
   "metadata": {
    "editable": false
   },
   "source": [
    "<br>\n",
    "<br>\n",
    "<a id='exercise_import_modules_py'></a>"
   ]
  },
  {
   "cell_type": "markdown",
   "metadata": {
    "deletable": false,
    "editable": false
   },
   "source": [
    "### 5.1. Importera Python moduler\n",
    "Python är ett programmeringsspråk som har inbyggda moduler. En modul kan beskrivas som ett packet av funktioner. För att använda dessa färdiga funktioner, behöver man först importera modulen de tillhör. Det är vanligt att man importerar moduler i början av ett python-program.\n",
    "\n",
    "I nästa kodcell visas syntaxen för hur man importerar python-moduler. Det går att importera alla funktioner från en modul (t.ex. <code style=\"color:#CD5C5C\">import numpy</code>).\n",
    "\n",
    "När man importerar en modul kan man byta dess namn efter kommandot <code style=\"color:#CD5C5C\">as</code>. Oftast är det en förkortning av dess angivna namn. <code style=\"color:#CD5C5C\">import numpy as np</code> betyder, importera modulen _numpy_ och ändra dess namn till _np_. På det viset behöver man inte skriva hela modulens namn när man ska anropa en funktion som tillhör den.\n",
    "\n",
    "<br>\n",
    "\n",
    "```python\n",
    "#Importera moduler:\n",
    "import numpy as np\n",
    "import pandas as pd\n",
    "from datetime import datetime\n",
    "```"
   ]
  },
  {
   "cell_type": "code",
   "execution_count": 1,
   "metadata": {},
   "outputs": [
    {
     "data": {
      "text/html": [
       "\n",
       "    <div class=\"bk-root\">\n",
       "        <a href=\"https://bokeh.pydata.org\" target=\"_blank\" class=\"bk-logo bk-logo-small bk-logo-notebook\"></a>\n",
       "        <span id=\"1001\">Loading BokehJS ...</span>\n",
       "    </div>"
      ]
     },
     "metadata": {},
     "output_type": "display_data"
    },
    {
     "data": {
      "application/javascript": [
       "\n",
       "(function(root) {\n",
       "  function now() {\n",
       "    return new Date();\n",
       "  }\n",
       "\n",
       "  var force = true;\n",
       "\n",
       "  if (typeof root._bokeh_onload_callbacks === \"undefined\" || force === true) {\n",
       "    root._bokeh_onload_callbacks = [];\n",
       "    root._bokeh_is_loading = undefined;\n",
       "  }\n",
       "\n",
       "  var JS_MIME_TYPE = 'application/javascript';\n",
       "  var HTML_MIME_TYPE = 'text/html';\n",
       "  var EXEC_MIME_TYPE = 'application/vnd.bokehjs_exec.v0+json';\n",
       "  var CLASS_NAME = 'output_bokeh rendered_html';\n",
       "\n",
       "  /**\n",
       "   * Render data to the DOM node\n",
       "   */\n",
       "  function render(props, node) {\n",
       "    var script = document.createElement(\"script\");\n",
       "    node.appendChild(script);\n",
       "  }\n",
       "\n",
       "  /**\n",
       "   * Handle when an output is cleared or removed\n",
       "   */\n",
       "  function handleClearOutput(event, handle) {\n",
       "    var cell = handle.cell;\n",
       "\n",
       "    var id = cell.output_area._bokeh_element_id;\n",
       "    var server_id = cell.output_area._bokeh_server_id;\n",
       "    // Clean up Bokeh references\n",
       "    if (id != null && id in Bokeh.index) {\n",
       "      Bokeh.index[id].model.document.clear();\n",
       "      delete Bokeh.index[id];\n",
       "    }\n",
       "\n",
       "    if (server_id !== undefined) {\n",
       "      // Clean up Bokeh references\n",
       "      var cmd = \"from bokeh.io.state import curstate; print(curstate().uuid_to_server['\" + server_id + \"'].get_sessions()[0].document.roots[0]._id)\";\n",
       "      cell.notebook.kernel.execute(cmd, {\n",
       "        iopub: {\n",
       "          output: function(msg) {\n",
       "            var id = msg.content.text.trim();\n",
       "            if (id in Bokeh.index) {\n",
       "              Bokeh.index[id].model.document.clear();\n",
       "              delete Bokeh.index[id];\n",
       "            }\n",
       "          }\n",
       "        }\n",
       "      });\n",
       "      // Destroy server and session\n",
       "      var cmd = \"import bokeh.io.notebook as ion; ion.destroy_server('\" + server_id + \"')\";\n",
       "      cell.notebook.kernel.execute(cmd);\n",
       "    }\n",
       "  }\n",
       "\n",
       "  /**\n",
       "   * Handle when a new output is added\n",
       "   */\n",
       "  function handleAddOutput(event, handle) {\n",
       "    var output_area = handle.output_area;\n",
       "    var output = handle.output;\n",
       "\n",
       "    // limit handleAddOutput to display_data with EXEC_MIME_TYPE content only\n",
       "    if ((output.output_type != \"display_data\") || (!output.data.hasOwnProperty(EXEC_MIME_TYPE))) {\n",
       "      return\n",
       "    }\n",
       "\n",
       "    var toinsert = output_area.element.find(\".\" + CLASS_NAME.split(' ')[0]);\n",
       "\n",
       "    if (output.metadata[EXEC_MIME_TYPE][\"id\"] !== undefined) {\n",
       "      toinsert[toinsert.length - 1].firstChild.textContent = output.data[JS_MIME_TYPE];\n",
       "      // store reference to embed id on output_area\n",
       "      output_area._bokeh_element_id = output.metadata[EXEC_MIME_TYPE][\"id\"];\n",
       "    }\n",
       "    if (output.metadata[EXEC_MIME_TYPE][\"server_id\"] !== undefined) {\n",
       "      var bk_div = document.createElement(\"div\");\n",
       "      bk_div.innerHTML = output.data[HTML_MIME_TYPE];\n",
       "      var script_attrs = bk_div.children[0].attributes;\n",
       "      for (var i = 0; i < script_attrs.length; i++) {\n",
       "        toinsert[toinsert.length - 1].firstChild.setAttribute(script_attrs[i].name, script_attrs[i].value);\n",
       "      }\n",
       "      // store reference to server id on output_area\n",
       "      output_area._bokeh_server_id = output.metadata[EXEC_MIME_TYPE][\"server_id\"];\n",
       "    }\n",
       "  }\n",
       "\n",
       "  function register_renderer(events, OutputArea) {\n",
       "\n",
       "    function append_mime(data, metadata, element) {\n",
       "      // create a DOM node to render to\n",
       "      var toinsert = this.create_output_subarea(\n",
       "        metadata,\n",
       "        CLASS_NAME,\n",
       "        EXEC_MIME_TYPE\n",
       "      );\n",
       "      this.keyboard_manager.register_events(toinsert);\n",
       "      // Render to node\n",
       "      var props = {data: data, metadata: metadata[EXEC_MIME_TYPE]};\n",
       "      render(props, toinsert[toinsert.length - 1]);\n",
       "      element.append(toinsert);\n",
       "      return toinsert\n",
       "    }\n",
       "\n",
       "    /* Handle when an output is cleared or removed */\n",
       "    events.on('clear_output.CodeCell', handleClearOutput);\n",
       "    events.on('delete.Cell', handleClearOutput);\n",
       "\n",
       "    /* Handle when a new output is added */\n",
       "    events.on('output_added.OutputArea', handleAddOutput);\n",
       "\n",
       "    /**\n",
       "     * Register the mime type and append_mime function with output_area\n",
       "     */\n",
       "    OutputArea.prototype.register_mime_type(EXEC_MIME_TYPE, append_mime, {\n",
       "      /* Is output safe? */\n",
       "      safe: true,\n",
       "      /* Index of renderer in `output_area.display_order` */\n",
       "      index: 0\n",
       "    });\n",
       "  }\n",
       "\n",
       "  // register the mime type if in Jupyter Notebook environment and previously unregistered\n",
       "  if (root.Jupyter !== undefined) {\n",
       "    var events = require('base/js/events');\n",
       "    var OutputArea = require('notebook/js/outputarea').OutputArea;\n",
       "\n",
       "    if (OutputArea.prototype.mime_types().indexOf(EXEC_MIME_TYPE) == -1) {\n",
       "      register_renderer(events, OutputArea);\n",
       "    }\n",
       "  }\n",
       "\n",
       "  \n",
       "  if (typeof (root._bokeh_timeout) === \"undefined\" || force === true) {\n",
       "    root._bokeh_timeout = Date.now() + 5000;\n",
       "    root._bokeh_failed_load = false;\n",
       "  }\n",
       "\n",
       "  var NB_LOAD_WARNING = {'data': {'text/html':\n",
       "     \"<div style='background-color: #fdd'>\\n\"+\n",
       "     \"<p>\\n\"+\n",
       "     \"BokehJS does not appear to have successfully loaded. If loading BokehJS from CDN, this \\n\"+\n",
       "     \"may be due to a slow or bad network connection. Possible fixes:\\n\"+\n",
       "     \"</p>\\n\"+\n",
       "     \"<ul>\\n\"+\n",
       "     \"<li>re-rerun `output_notebook()` to attempt to load from CDN again, or</li>\\n\"+\n",
       "     \"<li>use INLINE resources instead, as so:</li>\\n\"+\n",
       "     \"</ul>\\n\"+\n",
       "     \"<code>\\n\"+\n",
       "     \"from bokeh.resources import INLINE\\n\"+\n",
       "     \"output_notebook(resources=INLINE)\\n\"+\n",
       "     \"</code>\\n\"+\n",
       "     \"</div>\"}};\n",
       "\n",
       "  function display_loaded() {\n",
       "    var el = document.getElementById(\"1001\");\n",
       "    if (el != null) {\n",
       "      el.textContent = \"BokehJS is loading...\";\n",
       "    }\n",
       "    if (root.Bokeh !== undefined) {\n",
       "      if (el != null) {\n",
       "        el.textContent = \"BokehJS \" + root.Bokeh.version + \" successfully loaded.\";\n",
       "      }\n",
       "    } else if (Date.now() < root._bokeh_timeout) {\n",
       "      setTimeout(display_loaded, 100)\n",
       "    }\n",
       "  }\n",
       "\n",
       "\n",
       "  function run_callbacks() {\n",
       "    try {\n",
       "      root._bokeh_onload_callbacks.forEach(function(callback) {\n",
       "        if (callback != null)\n",
       "          callback();\n",
       "      });\n",
       "    } finally {\n",
       "      delete root._bokeh_onload_callbacks\n",
       "    }\n",
       "    console.debug(\"Bokeh: all callbacks have finished\");\n",
       "  }\n",
       "\n",
       "  function load_libs(css_urls, js_urls, callback) {\n",
       "    if (css_urls == null) css_urls = [];\n",
       "    if (js_urls == null) js_urls = [];\n",
       "\n",
       "    root._bokeh_onload_callbacks.push(callback);\n",
       "    if (root._bokeh_is_loading > 0) {\n",
       "      console.debug(\"Bokeh: BokehJS is being loaded, scheduling callback at\", now());\n",
       "      return null;\n",
       "    }\n",
       "    if (js_urls == null || js_urls.length === 0) {\n",
       "      run_callbacks();\n",
       "      return null;\n",
       "    }\n",
       "    console.debug(\"Bokeh: BokehJS not loaded, scheduling load and callback at\", now());\n",
       "    root._bokeh_is_loading = css_urls.length + js_urls.length;\n",
       "\n",
       "    function on_load() {\n",
       "      root._bokeh_is_loading--;\n",
       "      if (root._bokeh_is_loading === 0) {\n",
       "        console.debug(\"Bokeh: all BokehJS libraries/stylesheets loaded\");\n",
       "        run_callbacks()\n",
       "      }\n",
       "    }\n",
       "\n",
       "    function on_error() {\n",
       "      console.error(\"failed to load \" + url);\n",
       "    }\n",
       "\n",
       "    for (var i = 0; i < css_urls.length; i++) {\n",
       "      var url = css_urls[i];\n",
       "      const element = document.createElement(\"link\");\n",
       "      element.onload = on_load;\n",
       "      element.onerror = on_error;\n",
       "      element.rel = \"stylesheet\";\n",
       "      element.type = \"text/css\";\n",
       "      element.href = url;\n",
       "      console.debug(\"Bokeh: injecting link tag for BokehJS stylesheet: \", url);\n",
       "      document.body.appendChild(element);\n",
       "    }\n",
       "\n",
       "    for (var i = 0; i < js_urls.length; i++) {\n",
       "      var url = js_urls[i];\n",
       "      var element = document.createElement('script');\n",
       "      element.onload = on_load;\n",
       "      element.onerror = on_error;\n",
       "      element.async = false;\n",
       "      element.src = url;\n",
       "      console.debug(\"Bokeh: injecting script tag for BokehJS library: \", url);\n",
       "      document.head.appendChild(element);\n",
       "    }\n",
       "  };var element = document.getElementById(\"1001\");\n",
       "  if (element == null) {\n",
       "    console.error(\"Bokeh: ERROR: autoload.js configured with elementid '1001' but no matching script tag was found. \")\n",
       "    return false;\n",
       "  }\n",
       "\n",
       "  function inject_raw_css(css) {\n",
       "    const element = document.createElement(\"style\");\n",
       "    element.appendChild(document.createTextNode(css));\n",
       "    document.body.appendChild(element);\n",
       "  }\n",
       "\n",
       "  var js_urls = [\"https://cdn.pydata.org/bokeh/release/bokeh-1.3.4.min.js\", \"https://cdn.pydata.org/bokeh/release/bokeh-widgets-1.3.4.min.js\", \"https://cdn.pydata.org/bokeh/release/bokeh-tables-1.3.4.min.js\", \"https://cdn.pydata.org/bokeh/release/bokeh-gl-1.3.4.min.js\"];\n",
       "  var css_urls = [];\n",
       "\n",
       "  var inline_js = [\n",
       "    function(Bokeh) {\n",
       "      Bokeh.set_log_level(\"info\");\n",
       "    },\n",
       "    \n",
       "    function(Bokeh) {\n",
       "      \n",
       "    },\n",
       "    function(Bokeh) {} // ensure no trailing comma for IE\n",
       "  ];\n",
       "\n",
       "  function run_inline_js() {\n",
       "    \n",
       "    if ((root.Bokeh !== undefined) || (force === true)) {\n",
       "      for (var i = 0; i < inline_js.length; i++) {\n",
       "        inline_js[i].call(root, root.Bokeh);\n",
       "      }if (force === true) {\n",
       "        display_loaded();\n",
       "      }} else if (Date.now() < root._bokeh_timeout) {\n",
       "      setTimeout(run_inline_js, 100);\n",
       "    } else if (!root._bokeh_failed_load) {\n",
       "      console.log(\"Bokeh: BokehJS failed to load within specified timeout.\");\n",
       "      root._bokeh_failed_load = true;\n",
       "    } else if (force !== true) {\n",
       "      var cell = $(document.getElementById(\"1001\")).parents('.cell').data().cell;\n",
       "      cell.output_area.append_execute_result(NB_LOAD_WARNING)\n",
       "    }\n",
       "\n",
       "  }\n",
       "\n",
       "  if (root._bokeh_is_loading === 0) {\n",
       "    console.debug(\"Bokeh: BokehJS loaded, going straight to plotting\");\n",
       "    run_inline_js();\n",
       "  } else {\n",
       "    load_libs(css_urls, js_urls, function() {\n",
       "      console.debug(\"Bokeh: BokehJS plotting callback run at\", now());\n",
       "      run_inline_js();\n",
       "    });\n",
       "  }\n",
       "}(window));"
      ],
      "application/vnd.bokehjs_load.v0+json": "\n(function(root) {\n  function now() {\n    return new Date();\n  }\n\n  var force = true;\n\n  if (typeof root._bokeh_onload_callbacks === \"undefined\" || force === true) {\n    root._bokeh_onload_callbacks = [];\n    root._bokeh_is_loading = undefined;\n  }\n\n  \n\n  \n  if (typeof (root._bokeh_timeout) === \"undefined\" || force === true) {\n    root._bokeh_timeout = Date.now() + 5000;\n    root._bokeh_failed_load = false;\n  }\n\n  var NB_LOAD_WARNING = {'data': {'text/html':\n     \"<div style='background-color: #fdd'>\\n\"+\n     \"<p>\\n\"+\n     \"BokehJS does not appear to have successfully loaded. If loading BokehJS from CDN, this \\n\"+\n     \"may be due to a slow or bad network connection. Possible fixes:\\n\"+\n     \"</p>\\n\"+\n     \"<ul>\\n\"+\n     \"<li>re-rerun `output_notebook()` to attempt to load from CDN again, or</li>\\n\"+\n     \"<li>use INLINE resources instead, as so:</li>\\n\"+\n     \"</ul>\\n\"+\n     \"<code>\\n\"+\n     \"from bokeh.resources import INLINE\\n\"+\n     \"output_notebook(resources=INLINE)\\n\"+\n     \"</code>\\n\"+\n     \"</div>\"}};\n\n  function display_loaded() {\n    var el = document.getElementById(\"1001\");\n    if (el != null) {\n      el.textContent = \"BokehJS is loading...\";\n    }\n    if (root.Bokeh !== undefined) {\n      if (el != null) {\n        el.textContent = \"BokehJS \" + root.Bokeh.version + \" successfully loaded.\";\n      }\n    } else if (Date.now() < root._bokeh_timeout) {\n      setTimeout(display_loaded, 100)\n    }\n  }\n\n\n  function run_callbacks() {\n    try {\n      root._bokeh_onload_callbacks.forEach(function(callback) {\n        if (callback != null)\n          callback();\n      });\n    } finally {\n      delete root._bokeh_onload_callbacks\n    }\n    console.debug(\"Bokeh: all callbacks have finished\");\n  }\n\n  function load_libs(css_urls, js_urls, callback) {\n    if (css_urls == null) css_urls = [];\n    if (js_urls == null) js_urls = [];\n\n    root._bokeh_onload_callbacks.push(callback);\n    if (root._bokeh_is_loading > 0) {\n      console.debug(\"Bokeh: BokehJS is being loaded, scheduling callback at\", now());\n      return null;\n    }\n    if (js_urls == null || js_urls.length === 0) {\n      run_callbacks();\n      return null;\n    }\n    console.debug(\"Bokeh: BokehJS not loaded, scheduling load and callback at\", now());\n    root._bokeh_is_loading = css_urls.length + js_urls.length;\n\n    function on_load() {\n      root._bokeh_is_loading--;\n      if (root._bokeh_is_loading === 0) {\n        console.debug(\"Bokeh: all BokehJS libraries/stylesheets loaded\");\n        run_callbacks()\n      }\n    }\n\n    function on_error() {\n      console.error(\"failed to load \" + url);\n    }\n\n    for (var i = 0; i < css_urls.length; i++) {\n      var url = css_urls[i];\n      const element = document.createElement(\"link\");\n      element.onload = on_load;\n      element.onerror = on_error;\n      element.rel = \"stylesheet\";\n      element.type = \"text/css\";\n      element.href = url;\n      console.debug(\"Bokeh: injecting link tag for BokehJS stylesheet: \", url);\n      document.body.appendChild(element);\n    }\n\n    for (var i = 0; i < js_urls.length; i++) {\n      var url = js_urls[i];\n      var element = document.createElement('script');\n      element.onload = on_load;\n      element.onerror = on_error;\n      element.async = false;\n      element.src = url;\n      console.debug(\"Bokeh: injecting script tag for BokehJS library: \", url);\n      document.head.appendChild(element);\n    }\n  };var element = document.getElementById(\"1001\");\n  if (element == null) {\n    console.error(\"Bokeh: ERROR: autoload.js configured with elementid '1001' but no matching script tag was found. \")\n    return false;\n  }\n\n  function inject_raw_css(css) {\n    const element = document.createElement(\"style\");\n    element.appendChild(document.createTextNode(css));\n    document.body.appendChild(element);\n  }\n\n  var js_urls = [\"https://cdn.pydata.org/bokeh/release/bokeh-1.3.4.min.js\", \"https://cdn.pydata.org/bokeh/release/bokeh-widgets-1.3.4.min.js\", \"https://cdn.pydata.org/bokeh/release/bokeh-tables-1.3.4.min.js\", \"https://cdn.pydata.org/bokeh/release/bokeh-gl-1.3.4.min.js\"];\n  var css_urls = [];\n\n  var inline_js = [\n    function(Bokeh) {\n      Bokeh.set_log_level(\"info\");\n    },\n    \n    function(Bokeh) {\n      \n    },\n    function(Bokeh) {} // ensure no trailing comma for IE\n  ];\n\n  function run_inline_js() {\n    \n    if ((root.Bokeh !== undefined) || (force === true)) {\n      for (var i = 0; i < inline_js.length; i++) {\n        inline_js[i].call(root, root.Bokeh);\n      }if (force === true) {\n        display_loaded();\n      }} else if (Date.now() < root._bokeh_timeout) {\n      setTimeout(run_inline_js, 100);\n    } else if (!root._bokeh_failed_load) {\n      console.log(\"Bokeh: BokehJS failed to load within specified timeout.\");\n      root._bokeh_failed_load = true;\n    } else if (force !== true) {\n      var cell = $(document.getElementById(\"1001\")).parents('.cell').data().cell;\n      cell.output_area.append_execute_result(NB_LOAD_WARNING)\n    }\n\n  }\n\n  if (root._bokeh_is_loading === 0) {\n    console.debug(\"Bokeh: BokehJS loaded, going straight to plotting\");\n    run_inline_js();\n  } else {\n    load_libs(css_urls, js_urls, function() {\n      console.debug(\"Bokeh: BokehJS plotting callback run at\", now());\n      run_inline_js();\n    });\n  }\n}(window));"
     },
     "metadata": {},
     "output_type": "display_data"
    }
   ],
   "source": [
    "#Importera moduler:\n",
    "import numpy as np\n",
    "import pandas as pd\n",
    "from datetime import datetime\n",
    "from bokeh.plotting import figure\n",
    "from bokeh.models import ColumnDataSource, HoverTool, Label\n",
    "from bokeh.io import show, output_notebook\n",
    "\n",
    "%matplotlib inline\n",
    "output_notebook()"
   ]
  },
  {
   "cell_type": "markdown",
   "metadata": {},
   "source": [
    "<br>\n",
    "<br>\n",
    "<a id='exercise_read_csv_to_pandas'></a>"
   ]
  },
  {
   "cell_type": "markdown",
   "metadata": {
    "deletable": false,
    "editable": false
   },
   "source": [
    "### 5.2. Läs in CSV-filer till tabeller i Python\n",
    "I Python kan man använda tabeller för att spara data. En tabell innehåller kolumner och rader. Python har olika typer av tabeller. I den typen av tabeller vi kommer att använda är det möjligt att lagra data som tillhör olika data typer. T.ex. det är tillåtet att lagra en kolumn med text (strängar), en annan kolumn med nummer (t.ex. decimaltal) och en tredje kolumn med tidsobjekt i samma tabell (se figur).\n",
    "\n",
    "<br>\n",
    "<br>\n",
    "\n",
    "<img src=\"images/pandas_py_icos_ex_swe.png\" width=\"550\" align=\"center\">\n",
    "<br>\n",
    "<br>\n",
    "\n",
    "Varje värde i en tabell definieras av kolumnen och raden det tillhör. T.ex. värdet *412.985* i tabellen ovan tillhör kolumnen *co2* och radnummer *2*. Observera att radnummer i Python börjar med *0* istället för *1*. \n",
    "\n",
    "Radnummer fungerar oftast som index. Index används för att hitta data. För tillfället, går det bra att föreställa sig ett index som en av tabellens kolumner som innehåller unika värden för varje rad i tabellen. I exemplet ovan består indexet av nummer. Varje rad har ett annnorlunda nummer. Ett index behöver inte endast bestå av nummer. Kolumner som innehåller tidsobjekt, som t.ex. kolumnen *DateTime* i övre figuren, skulle också kunna fungera som ett index. Det beror på att det inte är möjligt för två olika CO$_2$-mätningar att ha utförts under exakt samma tid.\n",
    "\n",
    "\n",
    "I nästa kodcell visas hur man läser in csv-filer till tabeller i Python. En csv-fil (comma sepparated values) är en text-fil som innehåller kommaseparerade värden. Den typen av filer kan lagra data från tabeller. Filen innehåller lika många rader som tabellen. Värden som tillhör samma rad men olika kolumner är separerade med kommatecken. Andra tecken (t.ex. \";\") kan också användas för att separera värden. Dessa tecken kallas för _avgränsare_. Första raden i en datafil innehåller oftast namnen för tabellens kolumner.\n",
    "\n",
    "För att läsa in data från en csv-fil till en tabell används funktionen <code style=\"color:#CD5C5C\">read_csv()</code>från modulen <i>pandas</i>, som omdöpts till <i>pd</i> vid importering.\n",
    "<br>\n",
    "<br>\n",
    "<u>**Syntax:**</u>\n",
    "\n",
    "```python\n",
    "pandas.read_csv(\"sökväg till fil\",\n",
    "                \"rad i fil som innehåller namn till kolumner\",\n",
    "                \"avgränsare\",\n",
    "                \"namn för kolumn med tidsinformation\")\n",
    "```\n",
    "<br>\n",
    "<br>\n"
   ]
  },
  {
   "cell_type": "markdown",
   "metadata": {
    "deletable": false,
    "editable": false
   },
   "source": [
    "#### 5.2.1.  Läs in CO$_2$ Data till Tabell\n",
    "För att läsa in data från en datafil behöver man kunna sökvägen. Sökvägen visar var en fil finns sparad i datorn eller i servern. Ifall filen innehåller en rad med kolumnnamn, får man skriva numret på den raden i ```header```. Värden i en csv-fil kan vara separerade med kommatecken eller andra tecken. Du anger tecknet som används som avgränsare i ```sep```. Python har en speciellt sätt att spara och hantera tidsvariabler. När en datafil innehåller en kolumn med tidsvariabler, får man ange namnet på den kolumnen i inläsningsfunktionen som värde för argumentet ```parse_dates```.\n",
    "\n",
    "Datafilen innehåller data för 5 kolumner:\n",
    "- **Site**: Förkortning av mästationens namn (*HTM* för Hyltemossa)\n",
    "- **SamplingHeight**: Höjd (uttryckt som meter ovanför marken) där sensorn mäter CO$_2$-värden.\n",
    "- **InstrumentId**: Kod för mätinstrumentet som utför mätningen. Varje instrument har en unik kod.\n",
    "- **DateTime**: Tidpunkt då mätningen utfördes.\n",
    "- **co2**: Koldioxid-värdet för en given tidpunkt."
   ]
  },
  {
   "cell_type": "markdown",
   "metadata": {},
   "source": [
    "<span style=\"color:blue\">**Exempel**</span>\n",
    "\n",
    "```python\n",
    "#Importera csv-fil med CO2-data till tabell:\n",
    "co2_tabell = pd.read_csv('data/icos/co2_concentrations/co2_L2/htm_150m_L2_co2',\n",
    "                          header=0,\n",
    "                          sep=';',\n",
    "                          parse_dates=['DateTime'])\n",
    "\n",
    "#Visa tabellens 5 första rader:\n",
    "co2_tabell.head(5)\n",
    "```"
   ]
  },
  {
   "cell_type": "code",
   "execution_count": null,
   "metadata": {
    "deletable": false,
    "editable": false
   },
   "outputs": [],
   "source": [
    "#Importera csv-fil med CO2-data till tabell:\n",
    "co2_tabell = pd.read_csv('data/kolcykeln/co2_koncentration/htm_150m_L2_co2',\n",
    "                          header=0,\n",
    "                          sep=';',\n",
    "                          parse_dates=['DateTime'])\n",
    "\n",
    "#Visa tabellens 5 första rader:\n",
    "co2_tabell.head(5)"
   ]
  },
  {
   "cell_type": "markdown",
   "metadata": {
    "editable": false
   },
   "source": [
    "<br>"
   ]
  },
  {
   "cell_type": "markdown",
   "metadata": {},
   "source": [
    "**Övning 1:** Testa med att visa tabellens 10 första rader.\n",
    "\n",
    "**Frivillig övning:** Försök att visa tabellens första rad."
   ]
  },
  {
   "cell_type": "code",
   "execution_count": null,
   "metadata": {},
   "outputs": [],
   "source": [
    "#Skriv din kod under denna text:\n",
    "\n"
   ]
  },
  {
   "cell_type": "markdown",
   "metadata": {
    "editable": false
   },
   "source": [
    "<br>"
   ]
  },
  {
   "cell_type": "markdown",
   "metadata": {
    "deletable": false,
    "editable": false
   },
   "source": [
    "#### 5.2.2.  Hur många rader innehåller en tabell\n",
    "Det är möjligt att ta reda på hur många rader en tabell har med hjälp av kommandot ```len()```. ```len``` är en förkortning på det engelska ordet *length* och i det här sammanhanget har den betydelsen: *hur lång en tabell är*.\n",
    "\n",
    "\n",
    "Syntaxet är: \n",
    "\n",
    "```python\n",
    "len(tabell_namn)```\n",
    "\n",
    "<br>\n",
    "<br>\n",
    "\n",
    "<span style=\"color:blue\">**Exempel:**</span> \n",
    "\n",
    "```python\n",
    "#Visa hur många rader tabellen \"co2_tabell\" har:\n",
    "len(co2_tabell)\n",
    "```"
   ]
  },
  {
   "cell_type": "code",
   "execution_count": null,
   "metadata": {},
   "outputs": [],
   "source": [
    "len(co2_tabell)"
   ]
  },
  {
   "cell_type": "markdown",
   "metadata": {},
   "source": [
    "<br>\n",
    "<br>\n",
    "<a id='add_index_to_pandas'></a>"
   ]
  },
  {
   "cell_type": "markdown",
   "metadata": {
    "deletable": false,
    "editable": false
   },
   "source": [
    "### 5.3. Definiera index för en tabell\n",
    "När man skapar en tabell, definieras automatiskt ett numeriskt index (se \"radnummer\" i figuren i del 5.2). Första raden har ett index som är lika med \"**0**\". Andra raden har ett index som är lika med \"**1**\". Tredje raden har ett index som är lika med \"**2**\", osv. Indexet fortsätter inkrementärt för varje rad.\n",
    "\n",
    "\n",
    "Ett index används för att välja och extrahera data från en tabell. Det är till exempel möjligt att extrahera alla värden som finns i rad \"**1**\" i tabellen ```co2_tabell```, genom att använda kommandot <code style=\"color:#CD5C5C\">co2_tabell.loc[0]</code>.\n",
    "\n",
    "\n",
    "<br>"
   ]
  },
  {
   "cell_type": "markdown",
   "metadata": {
    "deletable": false,
    "editable": false
   },
   "source": [
    "<span style=\"color:blue\">**Exempel 1:**</span>\n",
    "\n",
    "```python\n",
    "#Extrahera alla värden från tabellens första rad:\n",
    "co2_tabell.loc[0]\n",
    "```"
   ]
  },
  {
   "cell_type": "code",
   "execution_count": null,
   "metadata": {},
   "outputs": [],
   "source": [
    "#Extrahera alla värden från tabellens första rad:\n",
    "co2_tabell.loc[0]"
   ]
  },
  {
   "cell_type": "markdown",
   "metadata": {},
   "source": [
    "<br>\n",
    "\n",
    "<span style=\"color:blue\">**Exempel 2:**</span>\n",
    "\n",
    "```python\n",
    "#Extrahera CO$_2$-värdet från tabellens första rad:\n",
    "co2_tabell.co2.loc[0]\n",
    "```"
   ]
  },
  {
   "cell_type": "code",
   "execution_count": null,
   "metadata": {},
   "outputs": [],
   "source": [
    "#Extrahera CO$_2$-värdet från tabellens första rad:\n",
    "co2_tabell.co2.loc[0]"
   ]
  },
  {
   "cell_type": "markdown",
   "metadata": {},
   "source": [
    "<br>"
   ]
  },
  {
   "cell_type": "markdown",
   "metadata": {
    "deletable": false
   },
   "source": [
    "**Övning 2:** Testa att extrahera koldioxid-värdet för tabellens 8:e rad. Obs! Kom ihåg att radnummer i Python börjar med **0**.\n",
    "\n",
    "**Övning 3:** Testa extrahera koldioxid-värdet för tabellens 1001:e rad.\n",
    "\n"
   ]
  },
  {
   "cell_type": "code",
   "execution_count": null,
   "metadata": {},
   "outputs": [],
   "source": [
    "#Skriv din kod under denna text:\n"
   ]
  },
  {
   "cell_type": "markdown",
   "metadata": {},
   "source": [
    "<br>\n",
    "<br>\n",
    "<br>"
   ]
  },
  {
   "cell_type": "markdown",
   "metadata": {
    "deletable": false,
    "editable": false
   },
   "source": [
    "Det går även att definiera ett eget index för en tabell med hjälp av inbyggda metoden <code style=\"color:#CD5C5C\">set_index()</code>. Indexet kan bestå av en kolumn med numeriska värden, text eller speciella tidsobjekt (strukturer som används för att spara datum och tid). För att välja en kolumn som index, bör kolumnens värden vara unika för varje rad i tabellen (dvs kolumnen bör inte innehålla några dubletter).\n",
    "Den ovannämnda inbyggda metoden möjliggör att sätta en av tabellens existernade kolumner som index:\n",
    "<br>\n",
    "<br>\n",
    "$$ tabell\\_namn.set\\_index(kolumn\\_namn) $$\n",
    "<br>\n",
    "<br>\n",
    "\n",
    "\n",
    "**Sätt kolumnen \"DateTime\" som Index**\n",
    "\n",
    "```python\n",
    "#Sätt kolumnen \"DateTime\" som index i tabellen:\n",
    "co2_tabell_ind = co2_tabell.set_index('DateTime')\n",
    "\n",
    "#Visa resultat:\n",
    "co2_tabell_ind.head(5)\n",
    "```"
   ]
  },
  {
   "cell_type": "code",
   "execution_count": null,
   "metadata": {
    "deletable": false,
    "editable": false
   },
   "outputs": [],
   "source": [
    "#Sätt kolumnen \"DateTime\" som index i tabellen:\n",
    "co2_tabell_ind = co2_tabell.set_index('DateTime')\n",
    "\n",
    "#Visa resultat:\n",
    "co2_tabell_ind.head()"
   ]
  },
  {
   "cell_type": "markdown",
   "metadata": {},
   "source": [
    "<br>\n",
    "<br>\n",
    "<br>"
   ]
  },
  {
   "cell_type": "markdown",
   "metadata": {
    "deletable": false,
    "editable": false
   },
   "source": [
    "**Filtrera en tabell med tids-index (en tidspunkt)**\n",
    "\n",
    "\n",
    "Använd följande kod för att extrahera alla rader som innehåller data för en given datum och tid i en tabell:\n",
    "\n",
    "<br>\n",
    "<br>\n",
    "$$tabell\\_namn[tabell\\_namn.index == datetime(år, månad, dag)]$$\n",
    "<br>\n",
    "<br>\n",
    "\n",
    "<span style=\"color:blue\">**Exempel:**</span>\n",
    "\n",
    "```python\n",
    "#Visa data för den 1 Juni 2017 kl. 07:00:00\n",
    "co2_tabell_ind[co2_tabell_ind.index==datetime(2017, 6, 1, 7, 0, 0)]\n",
    "```"
   ]
  },
  {
   "cell_type": "code",
   "execution_count": null,
   "metadata": {
    "deletable": false,
    "editable": false
   },
   "outputs": [],
   "source": [
    "#Visa alla rader som innehåller data för en given datum och tid:\n",
    "co2_tabell_ind[co2_tabell_ind.index==datetime(2017, 6, 1, 7, 0, 0)]"
   ]
  },
  {
   "cell_type": "markdown",
   "metadata": {},
   "source": [
    "<br>"
   ]
  },
  {
   "cell_type": "markdown",
   "metadata": {
    "deletable": false
   },
   "source": [
    "**Övning 4:** Testa att visa data för den 1 Juni 2017 kl. 15:00:00. \n",
    "\n",
    "**Övning 5:** Testa att visa data för den 31 December 2017 kl. 21:00:00.\n"
   ]
  },
  {
   "cell_type": "code",
   "execution_count": null,
   "metadata": {},
   "outputs": [],
   "source": [
    "#Skriv din kod under denna text:\n"
   ]
  },
  {
   "cell_type": "markdown",
   "metadata": {},
   "source": [
    "<br>\n",
    "<br>\n",
    "<br>"
   ]
  },
  {
   "cell_type": "markdown",
   "metadata": {
    "deletable": false,
    "editable": false
   },
   "source": [
    "**Filtrera en tabell efter tidsperioder med hjälp av ett tids-index**\n",
    "\n",
    "\n",
    "Det är möjligt att dela data i en tabell efter olika tidsperioder med hjälp av ett tids-index. Följande kod visar hur man kan göra för att få ut data för en definierad tidsperiod. Syntaxet vi kommer att använda är:\n",
    "\n",
    "<br>\n",
    "<br>\n",
    "$$tabell\\_namn[datetime(år_{start}, månad_{start}, dag_{start}):datetime(år_{slut}, månad_{slut}, dag_{slut}, timme_{slut}, minut_{slut})]$$\n",
    "<br>\n",
    "<br>\n",
    "\n",
    "<span style=\"color:blue\">**Exempel:**</span> \n",
    "\n",
    "```python\n",
    "#Visa alla rader som innehåller data för: 1 Juni 2017 kl. 00:00:00 - 1 Juni 2017 kl. 23:59:00.\n",
    "co2_tabell_ind[datetime(2017, 6, 1):datetime(2017, 6, 1, 23, 59)]\n",
    "```"
   ]
  },
  {
   "cell_type": "code",
   "execution_count": null,
   "metadata": {},
   "outputs": [],
   "source": [
    "#Visa alla rader som innehåller data för den 1 juni 2017 (1 dag):\n",
    "co2_tabell_ind[datetime(2017, 6, 1):datetime(2017, 6, 1, 23, 59)]"
   ]
  },
  {
   "cell_type": "markdown",
   "metadata": {},
   "source": [
    "<br>"
   ]
  },
  {
   "cell_type": "markdown",
   "metadata": {
    "deletable": false,
    "editable": false
   },
   "source": [
    "**Övning 6:** Testa att visa data för den 31 December 2017 från kl. 08:00 till 17:00. \n",
    "\n",
    "**Frivillig övning:** Testa att visa data från den 31 December 2017 kl. 21:30 till den 1 Januari 2018 kl. 12:00.\n"
   ]
  },
  {
   "cell_type": "code",
   "execution_count": null,
   "metadata": {},
   "outputs": [],
   "source": [
    "#Skriv din kod under denna text:\n",
    "\n",
    "\n"
   ]
  },
  {
   "cell_type": "markdown",
   "metadata": {},
   "source": [
    "<br>\n",
    "<br>\n",
    "<a id='pandas_stats'></a>"
   ]
  },
  {
   "cell_type": "markdown",
   "metadata": {},
   "source": [
    "### 5.4. Statistik över kolumner i en tabell\n",
    "I tabellen som presenterades i början av del 5.2 var det enkelt att se vilket det högsta eller lägsta CO$_2$-värdet var. Det skulle även fungera bra att beräkna medelvärdet för CO$_2$-värdena med papper och penna. Det är inte lika enkelt att beräkna den typen av statistik när en tabell innehåller tusentals rader. Då behöver man använda programmering.\n",
    "\n",
    "\n",
    "Tabeller i Python innehåller en del inbyggda funktioner som kan användas för att beräkna statistik över värdena i en kolumn. Det är t.ex. möjligt att beräkna minimum ```min()```, maximum ```max()``` och medelvärde ```mean()```. Det går även att summera alla värdena i en kolumn med ```sum()```. Syntaxet för dessa beräkningar är:\n",
    "<br>\n",
    "<br>\n",
    "$$tabell\\_namn.kolumn\\_namn.funktion()$$\n",
    "<br>\n",
    "<br>"
   ]
  },
  {
   "cell_type": "markdown",
   "metadata": {},
   "source": [
    "<br>\n",
    "<br>"
   ]
  },
  {
   "cell_type": "markdown",
   "metadata": {},
   "source": [
    "<span style=\"color:blue\">**Exempel:**</span> \n",
    "\n",
    "```python\n",
    "#Beräkna det lägsta värdet av koldioxid för kolumnen \"co2\":\n",
    "co2_tabell_ind.co2.min()\n",
    "```"
   ]
  },
  {
   "cell_type": "code",
   "execution_count": null,
   "metadata": {
    "deletable": false,
    "editable": false
   },
   "outputs": [],
   "source": [
    "#Beräkna det minsta värdet för kolumnen 'co2':\n",
    "co2_tabell_ind.co2.min()"
   ]
  },
  {
   "cell_type": "markdown",
   "metadata": {},
   "source": [
    "<br>"
   ]
  },
  {
   "cell_type": "markdown",
   "metadata": {
    "deletable": false
   },
   "source": [
    "**Övning 7:** Testa att beräkna det största värdet för kolumnen *co2*.\n",
    "\n",
    "**Övning 8:** Testa att beräkna medelvärdet för kolumnen *co2*."
   ]
  },
  {
   "cell_type": "code",
   "execution_count": null,
   "metadata": {},
   "outputs": [],
   "source": [
    "#Skriv din kod under denna text:\n",
    "\n"
   ]
  },
  {
   "cell_type": "code",
   "execution_count": null,
   "metadata": {},
   "outputs": [],
   "source": [
    "#Import widgets:\n",
    "from ipywidgets import VBox\n",
    "\n",
    "#Display both answer-control boxes in the same column:\n",
    "display(VBox([create_coding_quiz_question('Övning 7', 452.815),\n",
    "              create_coding_quiz_question('Övning 8', 411.86)]))"
   ]
  },
  {
   "cell_type": "markdown",
   "metadata": {},
   "source": [
    "<br>\n"
   ]
  },
  {
   "cell_type": "markdown",
   "metadata": {
    "deletable": false,
    "editable": false
   },
   "source": [
    "#### Filtrera tabell efter tidsperiod och beräkna statistik\n",
    "\n",
    "I Python går det att kombinera flera processer i samma rad. Koden i exemplet nedan visar hur man kan filtrera en tabell efter en tidsperiod och beräknar statistik över värdena i en kolumn för den tidsperioden med hjälp av en funktion.\n",
    "\n",
    "```python\n",
    "\n",
    "tabell_namn[datetime(år, månad, dag, timme):datetime(år, månad, dag, timme)].kolumn_namn.funktion()\n",
    "\n",
    "\n",
    "```\n",
    "\n",
    "<span style=\"color:blue\">**Exempel:**</span>\n",
    "\n",
    "För exempel, för att beräkna genomsnittet för co$_2$-värden mellan kl. 08:00 och kl. 17:00 den 31 Decemeber 2018 kan man skriva:\n",
    "\n",
    "```python\n",
    "\n",
    "co2_tabell_ind[datetime(2018, 12, 31, 8):datetime(2018, 12, 31, 17)].co2.mean()\n",
    "\n",
    "```\n"
   ]
  },
  {
   "cell_type": "code",
   "execution_count": null,
   "metadata": {
    "deletable": false,
    "editable": false
   },
   "outputs": [],
   "source": [
    "#Beräkna genomsnittet för co2-värden som har observerats mellan kl. 08:00 och kl. 17:00 den 31 Decemeber 2018:\n",
    "co2_tabell_ind[datetime(2018, 12, 31, 8):datetime(2018, 12, 31, 17)].co2.mean()"
   ]
  },
  {
   "cell_type": "markdown",
   "metadata": {},
   "source": [
    "<br>"
   ]
  },
  {
   "cell_type": "markdown",
   "metadata": {
    "deletable": false
   },
   "source": [
    "**Övning 9:** Testa att beräkna det lägsta värdet för kolumnen *co2*  för värden som observerats mellan kl. 08:00 och kl. 14:00 den 10 Juni 2018.\n",
    "\n",
    "**Övning 10:** Testa att beräkna det lägsta värdet för kolumnen *co2*  för värden som observerats mellan kl. 08:00 och kl. 14:00 den 31 Decemeber 2018.\n"
   ]
  },
  {
   "cell_type": "code",
   "execution_count": null,
   "metadata": {},
   "outputs": [],
   "source": [
    "#Skriv din kod under denna text:\n",
    "\n"
   ]
  },
  {
   "cell_type": "markdown",
   "metadata": {},
   "source": [
    "<br>\n",
    "<br>\n",
    "<a id='exercise_plot_data_bokeh'></a>"
   ]
  },
  {
   "cell_type": "markdown",
   "metadata": {
    "deletable": false,
    "editable": false
   },
   "source": [
    "### 5.5. Plotta Data i ett Interaktivt Diagram\n",
    "I den här delen kommer vi att plotta tabellen med CO$_2$-data till ett interaktivt diagram. Det finns flera visualiseringsbibliotek i Python för att plotta data. Visualiseringsbibliotek innehåller färdig kod som man kan använda för att visualisera data på olika sätt. I det här fallet, kommer du att få en färdig funktion som innehåller kod för att skapa ett interaktivt diagram.\n",
    "\n",
    "En funktion är en samling av kod (dvs. ett kodblock) som bara körs när funktionen blir anropad. Den kan innehålla variabler, operatorer (t.ex. <code style=\"color:gray\">+</code>, <code style=\"color:gray\">-</code>, <code style=\"color:gray\">*</code>, <code style=\"color:gray\">/</code> eller <code style=\"color:gray\">%</code>), if-satser, for-loopar, mm. \n",
    "\n",
    "Det är möjligt att importera värden till en funktion med hjälp av argument (parametrar). En funktion kan ha noll, en eller flera argument. En funktion kan returnera data som resultat med hjälp av return-stasen. <code style=\"color:#CD5C5C\">return</code> används vanligtvis i slutet av en funktion för att returnera resultatet.\n",
    "Syntaxet för att skapa en funktion i Python är:\n",
    "\n",
    "<br>\n",
    "\n",
    "```python\n",
    "def funktion_namn(argument1, argument2):\n",
    "    \n",
    "    summa = argument1 + argument2\n",
    "    \n",
    "    return summa\n",
    "```\n",
    "\n",
    "\n",
    "<br>\n",
    "I det här fallet har vi redan skapat en funktion som plottar koldioxid-värden. Funktionen har två argument. Det första argumentet representerar en tabell med koldioxid-värden. Det andra argumentet representerar färgen som plotten ska ha. Observera att du behöver inte förstå koden i funktionen. Det som är meningen här är att du gör dig bekant med att mata in data i en funktion med hjälp av argument. Funktionen kommer att returnera olika resultat baserat på vilka värden du anger som parametrar. Kika gärna på ditt A4 med instruktioner för att se hur du kan använda diagramets verktyg.\n",
    "\n",
    "\n",
    "```python\n",
    "#Kalla funktion för att plotta data för \"co2_tabell_ind\". Ange även vilken färg du vill plotten ska ha.\n",
    "plott(co2_tabell_ind, color='green')\n",
    "```"
   ]
  },
  {
   "cell_type": "code",
   "execution_count": null,
   "metadata": {},
   "outputs": [],
   "source": [
    "#Funktion som skapar en interaktiv plott från en pandas dataframe med co2-data i given färg:\n",
    "def plott(df_L2, color):\n",
    "    \n",
    "    #Importera moduler:\n",
    "    from datetime import datetime\n",
    "    from bokeh.plotting import figure\n",
    "    from bokeh.models import ColumnDataSource, HoverTool, Label\n",
    "    from bokeh.io import show, output_notebook\n",
    "\n",
    "    #Nyckel-värdetabell för att omvandla nummer till deras motsvarande superscript eller subscript varianter:\n",
    "    SUB = str.maketrans(\"0123456789\", \"₀₁₂₃₄₅₆₇₈₉\")\n",
    "    SUP = str.maketrans(\"0123456789\", \"⁰¹²³⁴⁵⁶⁷⁸⁹\")\n",
    "\n",
    "    #Skapa ett figur-objekt:\n",
    "    p = figure(plot_width=900,\n",
    "               plot_height=500,\n",
    "               x_axis_label='Time (UTC)', \n",
    "               y_axis_label='CO2'.translate(SUB)+' (' +'\\u03BC'+ 'mol.mol-1'.translate(SUP) + ')',\n",
    "               x_axis_type='datetime',\n",
    "               title = 'Koldioxidkoncentration (Hyltemossa, Sverige, '+str(df_L2.SamplingHeight.iloc[0])+'m)' ,\n",
    "               tools='pan,box_zoom,wheel_zoom,reset,save')\n",
    "\n",
    "\n",
    "    #Skapa en tomm lista som ska lagra all legend-info:\n",
    "    legend_it = []\n",
    "\n",
    "\n",
    "    #Extrahera tid- och gas-värden för kvalitetskontrollerad och icke kvalitetskontrollerad data:\n",
    "    x1 = df_L2.index.values\n",
    "    y1 = df_L2.co2.values\n",
    "\n",
    "    #Skapa en cirkel-glyph:\n",
    "    r0 = p.circle(x1, y1, radius=.12, color=color)\n",
    "    \n",
    "    #Skapa en linje-glyph:\n",
    "    r1 = p.line(x1, y1,\n",
    "                line_width=1, color=color)\n",
    "\n",
    "    #Lägg till tooltip:\n",
    "    p.add_tools(HoverTool(tooltips=[\n",
    "        ('Time (UTC)','@x{%Y-%m-%d %H:%M:%S}'),\n",
    "        ('CO2'.translate(SUB),'@y{0.f}'),\n",
    "        ],\n",
    "        formatters={\n",
    "            'x'      : 'datetime', \n",
    "        },\n",
    "        # visa ett tooltip när musen är i lodrätt-linje med motsvarande glyph\n",
    "        mode='vline'\n",
    "        ))  \n",
    "\n",
    "    #Definiera formatteringsattribut för plottens titel:\n",
    "    p.title.align = 'center'\n",
    "    p.title.text_font_size = '13pt'\n",
    "    p.title.offset = 15\n",
    "\n",
    "    #Definiera font för x-axel och y-axel titlarna :\n",
    "    p.xaxis.axis_label_text_font_style = 'normal'\n",
    "    p.yaxis.axis_label_text_font_style = 'normal'\n",
    "    p.xaxis.axis_label_standoff = 15 #Sets the distance of the label from the x-axis in screen units\n",
    "    p.yaxis.axis_label_standoff = 15 #Sets the distance of the label from the y-axis in screen units\n",
    "\n",
    "    #Definiera vart copyright-texten ska stå:\n",
    "    label_opts = dict(x=0, y=10,\n",
    "                      x_units='screen', y_units='screen')\n",
    "\n",
    "    #Skapa copyright-texten:\n",
    "    caption1 = Label(text=\"© ICOS ERIC\", **label_opts)\n",
    "    caption1.text_font_size = '8pt'\n",
    "\n",
    "    #Inaktivera hover-verktyget, som är alltid aktivt annars:\n",
    "    p.toolbar.active_inspect = None\n",
    "\n",
    "    #Lägg till copyright-texten till plotten:\n",
    "    p.add_layout(caption1, 'below')\n",
    "\n",
    "    #Definiera vart resultatet ska visas:\n",
    "    output_notebook()\n",
    "    \n",
    "    #Visa plott:\n",
    "    show(p)"
   ]
  },
  {
   "cell_type": "code",
   "execution_count": null,
   "metadata": {},
   "outputs": [],
   "source": [
    "def plott_gpp(df, color='lightgray'):\n",
    "    \n",
    "    #Import modules:\n",
    "    from matplotlib import pyplot as plt\n",
    "    import matplotlib.dates as mdates\n",
    "    from pandas.plotting import register_matplotlib_converters\n",
    "    plt.style.use('seaborn-whitegrid')\n",
    "    import numpy as np\n",
    "    import pandas as pd\n",
    "    \n",
    "    #Skapa en python dictionary för att transformera nummer till upphöjd eller nedsänkt text:\n",
    "    SUP = str.maketrans(\"0123456789\", \"⁰¹²³⁴⁵⁶⁷⁸⁹\")\n",
    "\n",
    "    #Call matplotlib converters to activate them:\n",
    "    register_matplotlib_converters()\n",
    "\n",
    "    #Create figure:\n",
    "    fig = plt.figure(figsize=(20,8))\n",
    "    \n",
    "    #Create plot:\n",
    "    plt.plot(df.index.values, df.GPP.values, color)\n",
    "    \n",
    "    #Set ticks on x-axis:\n",
    "    plt.gca().set_xticks([df.index.values.min(),\n",
    "                          df.index.values.min() + np.timedelta64(151, 'D'),\n",
    "                          df.index.values.min() + np.timedelta64(242, 'D'),\n",
    "                          df.index.values.min() + np.timedelta64(365, 'D'),\n",
    "                          df.index.values.min() + np.timedelta64(517, 'D'),\n",
    "                          df.index.values.min() + np.timedelta64(608, 'D'),\n",
    "                          np.datetime64('2017-01-01T00:30:00.000000000'),\n",
    "                          np.datetime64('2017-01-01T00:30:00.000000000') + np.timedelta64(151, 'D'),\n",
    "                          np.datetime64('2017-01-01T00:30:00.000000000') + np.timedelta64(242, 'D'),\n",
    "                          df.index.values.max() - np.timedelta64(365, 'D'),\n",
    "                          df.index.values.max() - np.timedelta64(214, 'D'),\n",
    "                          df.index.values.max() - np.timedelta64(123, 'D'),\n",
    "                          df.index.values.max()])\n",
    "    \n",
    "    \n",
    "    plt.gca().xaxis.set_major_formatter(mdates.DateFormatter('%Y-%m-%d'))\n",
    "    plt.gcf().autofmt_xdate()\n",
    "    plt.xlabel('Tid', fontsize=14, labelpad=20)\n",
    "    plt.ylabel('GPP ('+'umol m-2 s-1'.replace('u', '\\u03BC').translate(SUP)+')', fontsize=14, labelpad=20)\n",
    "    plt.title('Upptag av kol (GPP) vid Hyltemossa mätstation', fontsize=18, pad=20)\n",
    "    \n",
    "    #Show plot:\n",
    "    plt.show()"
   ]
  },
  {
   "cell_type": "code",
   "execution_count": null,
   "metadata": {
    "deletable": false,
    "editable": false
   },
   "outputs": [],
   "source": [
    "#Kalla funktion för att plotta data för \"co2_tabell_ind\". Ange även vilken färg du vill plotten ska ha.\n",
    "plott(co2_tabell_ind, color='green')"
   ]
  },
  {
   "cell_type": "markdown",
   "metadata": {
    "deletable": false,
    "editable": false
   },
   "source": [
    "__Övning 11:__\n",
    "\n",
    "1. Försök att skapa en likadan plot med en annan färg. Tryck på knappen ```Visa/Dölj Kod``` nedan och skriv in din kod.\n",
    "2. Använd verktygen Box-Zoom & Hover från högersidan av plotten för att zooma in och se under vilka månader de högsta värdena observerats. Varför är värdena höga under den tiden?\n",
    "3. Använd verktygen Box-Zoom och Hover från Bokeh toolbar för att se under vilka månader de lägsta värdena observeras? Vad tror du att det beror på?\n",
    "4. Använd verktygen Box-Zoom och Hover från Bokeh toolbar för att zooma in på dagen den 24 Juli 2017. Observera att värdena är höga så länge det är mörkt och går ner så länge det är ljust. Vilken process tror du orsakar detta?"
   ]
  },
  {
   "cell_type": "markdown",
   "metadata": {},
   "source": [
    "<span style=\"color:gray\">**Skriv kod för övning 11.1 här**</span>"
   ]
  },
  {
   "cell_type": "code",
   "execution_count": null,
   "metadata": {},
   "outputs": [],
   "source": [
    "#Skriv kod för övning 11.1 under denna rad:\n"
   ]
  },
  {
   "cell_type": "markdown",
   "metadata": {
    "deletable": false,
    "editable": false
   },
   "source": [
    "<br>\n",
    "<br>\n",
    "<a id='final_exercise_py'></a>"
   ]
  },
  {
   "cell_type": "markdown",
   "metadata": {},
   "source": [
    "## 6. Hjälp Forskaren\n",
    "\n",
    "Under sommaren 2018 observerades höga temperaturer över hela Sverige. Det var en sommar då det dessutom regnade lite. När temperaturen blir för hög och jorden för torr kan flera växter sluta fotosyntetisera, dvs sluta växa. Det är en försvarsmekanism, eftersom växter blir av med vatten när de fotosyntetiserar. När en växt inte fotosyntetiserar, tar den inte upp koldioxid från luften.\n",
    "\n",
    "Annika är klimatforskare och vill se ifall torkan under sommaren 2018 påverkade växtligheten nära Hyltemossa mätstation. Ett sätt att avgöra det är att undersöka hur mycket koldioxid togs upp från luften under den sommaren (dvs mäta hur mycket växterna fotosyntetiserade). Gross Primary Production (GPP) kan beskrivas som koldioxid som tagits upp av ett ekosystem p.g.a. t.ex. fotosyntetisk aktivitet. Martin, som är ansvarig för Hyltemossa mätstation, har skickat Annika en datafil med värden som föreställer upptag av CO$_2$ för åren 2015 - 2018. \n",
    "\n",
    "Annika tänkte plotta dessa värden för att visuellt inspektera skillnader mellan upptaget av CO$_2$ mellan 2018 och de tidigare åren. Hon tänkte även beräkna summan av det totala upptaget av CO$_2$ för sommarmånaderna 2018 och jämföra den med motsvarande summor för de tidigare åren. \n",
    "\n",
    "Annika har fullt upp med fältarbete. \n",
    "Kan du hjälpa henne med att skapa plotten och genomföra beräkningarna?\n",
    "\n",
    "<br>\n",
    "<br>\n",
    "\n",
    "_Steg 1:_ Läs in datafilen Martin skickade i en tabell. Döp tabellen till **gpp**. <br>\n",
    "Sökväg: ```data/kolcykeln/co2_upptag/htm_gpp``` <br>\n",
    "Nummer av rad i fil som innehåller namn till kolumner: ```0``` <br>\n",
    "Avgränsare: ```;``` <br>\n",
    "Namn för kolumn med tidsinformation: ```time```\n",
    "\n",
    "<br>\n",
    "<br>\n",
    "\n",
    "_Steg 2:_ Sätt kolumnen ```time``` som index. Döp tabellen till **gpp_ind**. <br>\n",
    "\n",
    "<br>\n",
    "<br>\n",
    "\n",
    "_Steg 3:_ Plotta alla värdena i tabellen ```gpp_ind``` med hjälp av funktionen: ```plott_gpp(tabell_namn, färg)```\n",
    "\n",
    "**Fråga 1.** Under vilken årstid, i princip, uppmärksammas de flesta höga upptagen av CO$_2$?<br>\n",
    "**Fråga 2.** Följer värdena för 2018 samma motiv som värdena för de andra åren?\n",
    "\n",
    "<br>\n",
    "<br>\n",
    "\n",
    "\n",
    "_Steg 4:_ Beräkna hur mycket CO$_2$ togs upp från luften under sommarmånaderna för varje år.\n",
    "\n",
    "_**Tips!** Pythons inbyggda funktion ```sum()``` kan användas för att beräkna summan av alla värdena i en kolumn. Du kan använda den på samma sätt som du tidigare jobbade med funktionerna ```min()```, ```max()``` och ```mean()```._\n",
    "\n",
    "\n",
    "\n",
    "**Fråga 3.** Vilket är värdet för det lägsta totala upptaget av CO$_2$ under sommartid?<br>\n",
    "**Fråga 4.** Under sommartiden för vilket år observeras det minsta totala upptaget av CO$_2$?<br>\n",
    "**Fråga 5.** Påverkade torkan under sommaren 2018 växtligheten runt Hyltemossa?\n",
    "\n",
    "<br>\n",
    "<br>\n"
   ]
  },
  {
   "cell_type": "code",
   "execution_count": null,
   "metadata": {},
   "outputs": [],
   "source": [
    "\n"
   ]
  },
  {
   "cell_type": "markdown",
   "metadata": {
    "deletable": false,
    "editable": false
   },
   "source": [
    "<img src=\"images/sciencecenters_logo.png\" width=\"800\"/>"
   ]
  },
  {
   "cell_type": "markdown",
   "metadata": {
    "deletable": false,
    "editable": false
   },
   "source": [
    "###### icon credits\n",
    " <font size=\"0.7\">CO$_2$-icon made by Freepik from www.flaticon.com</font>"
   ]
  }
 ],
 "metadata": {
  "kernelspec": {
   "display_name": "Python 3",
   "language": "python",
   "name": "python3"
  },
  "language_info": {
   "codemirror_mode": {
    "name": "ipython",
    "version": 3
   },
   "file_extension": ".py",
   "mimetype": "text/x-python",
   "name": "python",
   "nbconvert_exporter": "python",
   "pygments_lexer": "ipython3",
   "version": "3.6.9"
  }
 },
 "nbformat": 4,
 "nbformat_minor": 2
}
