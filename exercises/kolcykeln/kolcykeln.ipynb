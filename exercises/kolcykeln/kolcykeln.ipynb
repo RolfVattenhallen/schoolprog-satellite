{
  "nbformat": 4,
  "nbformat_minor": 0,
  "metadata": {
    "kernelspec": {
      "display_name": "Python 3",
      "language": "python",
      "name": "python3"
    },
    "language_info": {
      "codemirror_mode": {
        "name": "ipython",
        "version": 3
      },
      "file_extension": ".py",
      "mimetype": "text/x-python",
      "name": "python",
      "nbconvert_exporter": "python",
      "pygments_lexer": "ipython3",
      "version": "3.6.9"
    },
    "colab": {
      "name": "kolcykeln.ipynb",
      "provenance": [],
      "collapsed_sections": [],
      "include_colab_link": true
    }
  },
  "cells": [
    {
      "cell_type": "markdown",
      "metadata": {
        "id": "view-in-github",
        "colab_type": "text"
      },
      "source": [
        "<a href=\"https://colab.research.google.com/github/lunduniversity/schoolprog-satellite/blob/master/exercises/kolcykeln/kolcykeln.ipynb\" target=\"_parent\"><img src=\"https://colab.research.google.com/assets/colab-badge.svg\" alt=\"Open In Colab\"/></a>"
      ]
    },
    {
      "cell_type": "markdown",
      "metadata": {
        "deletable": false,
        "editable": false,
        "id": "RTZT9UISyAD1",
        "colab_type": "text"
      },
      "source": [
        "<img src=\"https://github.com/lunduniversity/schoolprog-satellite/blob/master/exercises/kolcykeln/images/carboncycle_nb_header_swe2.png?raw=1\" width=\"890\" align=\"center\"/>"
      ]
    },
    {
      "cell_type": "markdown",
      "metadata": {
        "deletable": false,
        "editable": false,
        "id": "1iZHxN6dyAEO",
        "colab_type": "text"
      },
      "source": [
        "<a id='intro'></a>"
      ]
    },
    {
      "cell_type": "markdown",
      "metadata": {
        "id": "jBaD1NVgyAEf",
        "colab_type": "text"
      },
      "source": [
        "# Kolcykeln - Programmeringsövningar med koldioxid-data\n",
        "Det vore mycket arbetskrävande att beräkna statistik över tusentals värden med papper och penna. Dessutom är det stor risk att man gör misstag i beräkningarna när man gör dem för hand. Programmering ger oss möjligheten att utföra beräkningar över många värden snabbt och med större säkerhet. Syftet med följande övningar är att få erfarenhet av hur enkelt många beräkningar kan utföras med Python-programmering.\n",
        "\n",
        "Övningarna fokuserar på kolets kretslopp (kolcykeln), dvs hur kol tas upp eller släpps ut mellan delar av ett ekosystem. Vi kommer att titta på både dagliga och årliga förändringar av koncentrationer och upptag av koldioxid. Programmeringsmässigt berörs följande koncept:\n",
        "\n",
        "-  Läsa in data från csv-filer\n",
        "-  Organisera data i tabeller\n",
        "-  Extrahera data från tabeller med hjälp av index\n",
        "-  Beräkna statistik över värden i tabeller\n",
        "-  Plotta data i interaktiva eller statiska diagram\n",
        "\n",
        "<br>\n",
        "\n",
        "Notebooken består av följande delar:\n",
        "\n",
        "-  1. Vad är koldioxid (CO$_2$)\n",
        "\n",
        "\n",
        "-  2. Kolcykeln\n",
        "\n",
        "\n",
        "-  3. Ett år i koldioxidens liv på Jorden (filmklipp)\n",
        "\n",
        "\n",
        "-  4. Övning med data från ICOS Hyltemossa mätstation\n",
        "    -  4.1. Importera Python moduler\n",
        "    -  4.2. Läs in CSV-filer till tabeller i Python\n",
        "    -  4.3. Definiera index för en tabell\n",
        "    -  4.4. Beräkna statistik över kolumner i en tabell\n",
        "    -  4.5. Plotta data i interaktiva diagram\n",
        "\n",
        "\n",
        "-  5. Övning: Hjälp forskaren\n",
        "\n"
      ]
    },
    {
      "cell_type": "markdown",
      "metadata": {
        "id": "0AzHmtesqCSO",
        "colab_type": "text"
      },
      "source": [
        "**Gör så här**\n",
        "\n",
        "För att köra denna Colab Jupyter Notebook, börja med att:\n",
        "-  klicka på **Runtime** i menyn och sedan **Restart and run all...**.\n",
        "\n",
        "Då kommer all bakgrundskod du behöver för denna övning att köras. (En varning kommer upp som du måste godkänna.)\n",
        "\n",
        "\n",
        "<br>\n",
        "\n",
        "**Att köra kod**\n",
        "\n",
        "Längre ner i övningen kommer du att skriva och köra egen Python-kod. Detta görs i \"kodceller\". För att köra koden i en kodcell klickar du först på cellen. Då blir den \"aktiv\" och du ser en liten pil i vänstra övre hörnet. Tryck på pilen så körs koden. \n",
        "\n",
        "När du klickar utanför kodcellen visas ett tal inom hakparenteser i stället för pilen, t.ex. `[9]`. Siffrorna visar i vilken ordning olika kodrutor har körts. \n",
        "\n",
        "<br>\n",
        "\n",
        "**Lägga till egna kodceller**\n",
        "\n",
        "Om du vill experimentera med egen kod så kan du själv lägga till en kodcell. Håll musen över mitten av nedre eller övre kanten av en text- eller kodcell. Knappar kommer upp för att lägga till kod eller textceller.\n",
        "\n",
        "<br>\n",
        "\n",
        "**Bakgrundskod**\n",
        "\n",
        "En del av bakgrundskoden finns i kodceller som bara har en titel, så att koden inte visas. Du kan dubbelklicka på titeln för att se koden, men vi ger ingen förklaring av denna kod. Dubbelklicka till höger i cellen för att stänga den igen. \n",
        "\n",
        "<br>\n",
        "<br>\n",
        "<br>\n",
        "\n",
        " "
      ]
    },
    {
      "cell_type": "markdown",
      "metadata": {
        "deletable": false,
        "id": "3eAwR-2HyAEv",
        "colab_type": "text"
      },
      "source": [
        "## 1. Vad är Koldioxid (CO$_2$) \n",
        "\n",
        "Koldioxid är en gas som är lukt- och färglös vid normala temperaturer.\n",
        "\n",
        "Koldioxid bildas huvudsakligen i förbränningsprocesser när bränsle i form av kolföreningar reagerar med syre. Då bildas koldioxid och vatten samtidigt som energi frigörs:\n",
        "\n",
        "> *kolföreningar* + *syre* ---> *koldioxid* + *vatten* + *energi*\n",
        "\n",
        "Vi tänker kanske på förbränning i första hand som att man eldar upp ett bränsle som olja eller etanol. Men en annan typ av förbränningsprocess är *respiration* (cellandning) som sker inne i djurs och växters celler, med socker som bränsle. Respiration är en slags långsam förbränningsprocess. \n",
        "\n",
        "Hos djur med lungor transporteras syret in och koldioxiden ut genom lungorna, något som också kallas respiration (andning). Hos andra djur transporteras syre och koldioxid andra vägar, t.ex. genom gälar eller på andra sätt. Även växter har respiration.  \n",
        "\n",
        "Koldioxiden som frigörs vid förbränning och respiration kommer ut i atmosfären. Den kan återföras genom växternas fotosyntes som går i andra riktningen:\n",
        "\n",
        "> *koldioxid* + *vatten* + *solljusenergi* ---> *kolföreningar* + *syre*\n",
        "\n",
        "När man förbränner biobränslen (t.ex. träflis, biogas, etanol) så förbränns kolföreningar som nyligen har bildats av växterna, och man får ett kretslopp. Så länge man inte använder mer än vad som hinner växa upp igen så ökar inte halten av koldioxid i atmosfären.\n",
        "\n",
        "När man däremot förbränner fossila bränslen (kol, olja, naturgas), så släpps koldioxid ut till atmosfären som varit utanför kretsloppet väldigt länge. Koldioxidhalten i atmosfären ökar.\n",
        "\n",
        "Växthusgaser som t.ex. vattenånga, koldioxid, metan, lustgas eller ozon förekommer naturligt i atmosfären. De släpper igenom solens strålar men minskar värmeutsläppet från jorden. På det viset fångas värme in i atmosfären. Utan växthusgaser skulle temperaturen på jorden vara för låg för att levande varelser skulle kunna existera. Utan växthuseffekten hade vi alltså inte haft liv på jorden.\n",
        "\n",
        "Problemet uppstår när mängden växthusgaser i atmosfären börjar öka. Det leder till att mer värme fångas in i atmosfären, som i sin tur leder till högre temperaturer på jorden. Konsekvenserna blir smältande glaciärer, stigande havsnivåer, oftare förekomst av extrem nederbörd eller torka och förändrade förutsättningar för jordbruket. Ökade halter av koldioxid i luften är även länkade till havsförsurning. Havsförsurning är en process där havets pH-värde långsamt sjunker på grund av att allt större mängder koldioxid i atmosfären tas upp av haven.\n",
        "\n",
        "<br>\n",
        "<br>\n",
        "<br>"
      ]
    },
    {
      "cell_type": "markdown",
      "metadata": {
        "deletable": false,
        "editable": false,
        "id": "l8qCFDAWyAE-",
        "colab_type": "text"
      },
      "source": [
        "## 2. Kolcykeln\n",
        "Koldioxid (CO$_2$), kolmonoxid (CO) och metan (CH$_4$) ingår i kolets livscykel. Bilden nedan visar hur kol transporteras från olika källor till sänkor. De blå pilarna representerar upptaget av kol medan de rosa pilarna representerar utsläppet av kol.\n",
        "\n",
        "Kol i form av koldioxid släpps ut i atmosfären från människors, djurs och växters respiration (utandning). Förbränning av fossila bränslen bidrar till en stor del av kolutsläppet i atmosfären. Kol i form av koldioxid och kolmonoxid släpps ut vid skogsbränder. Havets djur och växter släpper också ut koldioxid med sin respiration. Betesdjur och framför allt kor rapar och släpper ut metan. Metan släpps även ut från bakterier som finns i människors och djurs avföring (bajs). Koldioxid och metan släpps ut i luften när nedbrytare (t.ex. svampar och daggmaskar) bryter ner organiskt material (döda djur eller växter) till jord. Alla processer som leder till att kol släpps ut i atmosfären kallas för **källor**.\n",
        "\n",
        "Kol tas upp från atmosfären när växter fotosyntetiserar. Fotosyntes är en process under vilken växter tar in koldioxid, vatten och solenergi, och omvandlar dem till syre och socker. Denna process utförs både av växter på land och i haven. Processen utförs endast när det finns tillräckligt med solljus. Under natten sker ingen fotosyntes, utan växterna andas in syre och andas ut koldioxid. Socker är en kolförening och kan användas av växterna för att växa i storlek eller skapa nya grenar, löv och rötter. På så sätt binds kol i växterna.\n",
        "\n",
        "Dött material från växter eller djur kallas *organiskt material*, och består av olika kolföreningar. Detta kol kommer ner i jorden på olika sätt. När växter tappar löv eller grenar på marken, så tappar de organiskt material. Urin och avföring från människor och djur är också organiskt material. I marina ekosystem omvandlas organiskt material till sediment. Kol som lagrats i jorden kan omvandlas till naturgas och olja. Detta är dock en mycket långsam process som kan ta 50-500 miljoner år. Alla processer som tar upp kol kallas för **sänkor**."
      ]
    },
    {
      "cell_type": "markdown",
      "metadata": {
        "id": "v3tjjikSyAFY",
        "colab_type": "text"
      },
      "source": [
        "<img src=\"https://github.com/lunduniversity/schoolprog-satellite/blob/master/exercises/kolcykeln/images/carboncycle_swe4.png?raw=1\" width=\"900\" align=\"center\">\n",
        "<br>\n",
        "<br>\n",
        "<br>"
      ]
    },
    {
      "cell_type": "markdown",
      "metadata": {
        "deletable": false,
        "editable": false,
        "id": "mbLiowO3yAFj",
        "colab_type": "text"
      },
      "source": [
        "## 3. Ett år i Koldioxidens liv på Jorden (NASA)\n",
        "**Uppdrag:** Klicka på videon nedan för att se hur koldioxidens koncentration förändras under olika årstider över hela jordklotet under ett år.\n",
        "\n",
        "*Observera!*\n",
        "- Koldioxid visas i färg, där rött och lila motsvarar höga värden.\n",
        "- Kolmonoxid visas i svartvitt, där grått och vitt motsvarar höga värden.\n",
        "\n",
        "*Försök förstå:*\n",
        "- Från vilken del av jorden kommer den mesta av koldioxiden?\n",
        "- När på året är det mest koldioxid i atmosfären? Varför?\n",
        "- När på året släpps mest kolmonoxid ut? Varför?"
      ]
    },
    {
      "cell_type": "code",
      "metadata": {
        "id": "JuVEAUNjCRAY",
        "colab_type": "code",
        "outputId": "32a24a71-ad88-424e-94c2-c0d996f7e19e",
        "cellView": "form",
        "colab": {
          "base_uri": "https://localhost:8080/",
          "height": 597
        }
      },
      "source": [
        "#@title Bakgrundskod för video\n",
        "\n",
        "#Importera modul för att play youtube video:\n",
        "from IPython.display import YouTubeVideo\n",
        "\n",
        "#Visa NASA video - \"A Year in the Life of Earth's CO2\":\n",
        "YouTubeVideo('x1SgmFa0r04', width=970, height=576)"
      ],
      "execution_count": 0,
      "outputs": [
        {
          "output_type": "execute_result",
          "data": {
            "text/html": [
              "\n",
              "        <iframe\n",
              "            width=\"970\"\n",
              "            height=\"576\"\n",
              "            src=\"https://www.youtube.com/embed/x1SgmFa0r04\"\n",
              "            frameborder=\"0\"\n",
              "            allowfullscreen\n",
              "        ></iframe>\n",
              "        "
            ],
            "text/plain": [
              "<IPython.lib.display.YouTubeVideo at 0x7f1b58fe17f0>"
            ],
            "image/jpeg": "[encoded data removed]"
          },
          "metadata": {
            "tags": []
          },
          "execution_count": 23
        }
      ]
    },
    {
      "cell_type": "markdown",
      "metadata": {
        "editable": false,
        "id": "ykwFVd5OyAFy",
        "colab_type": "text"
      },
      "source": [
        "<br>\n",
        "<br>\n",
        "<a id='exercise_icos_htm'></a>"
      ]
    },
    {
      "cell_type": "markdown",
      "metadata": {
        "deletable": false,
        "editable": false,
        "id": "Uo3vKgmKyAF9",
        "colab_type": "text"
      },
      "source": [
        "## 4. Övningar med CO$_2$-data från Hyltemossa mätstation\n",
        "I följande övningar kommer du att beräkna statistik över stora datamängder av koldioxid-värden för 2017 – 2019 från Hyltemossa mätstation. Vi skall även visualisera värdena och skapa interaktiva diagram som du kan få ut mer information från.\n",
        "\n",
        "Koldioxid-värdena finns sparade i en datafil. För att beräkna statistiken måste värdena först läsas in till en tabell i Python. Vi kommer att använda färdiga programmoduler för inläsningen. Vi kommer att se hur sådana moduler kan importeras till programmet så att man kan använda dem.\n",
        "\n",
        "Ibland kan det vara intressant att beräkna statistik över kortare tidsperioder, t.ex. för en månad i stället för ett helt år. Det kan man göra genom att *filtrera* data i tabellen. Du kommer att lära dig filtrera en tabell efter tid, och beräkna statistik för den tidsperioden.\n",
        "\n",
        "I den sista delen av övningen får du chansen att hjälpa en forskare genom att testa dina nya programmeringsfärdigheter. Du kommer att få skriva kod för att besvara ett antal frågor som kräver att du använder dina kunskaper om att filtrera data och beräkna statistik.\n",
        "\n",
        "Innan du fortsätter med övningarna är det viktigt att du får lite mer information om [Hyltemossa mätstation](https://www.icos-sweden.se/station_hyltemossa.html). Mätstationen ligger söder om Perstorp i nordvästra Skåne. Den är belägen nära en 30-år gammal granskog och tillhör forskningsinfrastrukturen [ICOS Sweden](https://www.icos-sweden.se/). ICOS, som är en akronym för [Integrated Carbon Observation System](https://www.icos-cp.eu/), är en europeisk organisation med mätstationer över hela Europa. ICOS bedriver mätningar över lång tid för att kartlägga Europas kolbalans och de växthusgaser som finns i luften. Mätningarna av koldioxid vid en mätstation påverkas av vad som finns i stationens omgivning. Vindens riktning kan också spela stor roll.\n",
        "\n",
        "**Uppdrag:** Zooma in på kartan nedan för att se vad som finns omkring Hyltemossa forskningsstation. Kan du hitta Nedre Store sjö, Perstorps industrimark eller Ljungbyheds flygplats på kartan?"
      ]
    },
    {
      "cell_type": "code",
      "metadata": {
        "deletable": false,
        "editable": false,
        "scrolled": false,
        "id": "66RTOahsyAGG",
        "colab_type": "code",
        "outputId": "435a049d-3f8c-4561-a98b-5e19236df2f3",
        "cellView": "form",
        "colab": {
          "base_uri": "https://localhost:8080/",
          "height": 687
        }
      },
      "source": [
        "#@title Bakgrundskod för karta\n",
        "\n",
        "#Import modules:\n",
        "import folium\n",
        "\n",
        "#Create map object:\n",
        "m = folium.Map(location=[56.097991, 13.420181], zoom_start=7)\n",
        "\n",
        "#Add marker:\n",
        "folium.Marker(location=[56.097991, 13.420181],\n",
        "              popup='Hyltemossa Mätstation',\n",
        "              icon=folium.Icon(color='darkred', icon='cloud')).add_to(m)\n",
        "\n",
        "#Show map\n",
        "m"
      ],
      "execution_count": 0,
      "outputs": [
        {
          "output_type": "execute_result",
          "data": {
            "text/html": [
              "<div style=\"width:100%;\"><div style=\"position:relative;width:100%;height:0;padding-bottom:60%;\"><iframe src=\"data:text/html;charset=utf-8;base64,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\" style=\"position:absolute;width:100%;height:100%;left:0;top:0;border:none !important;\" allowfullscreen webkitallowfullscreen mozallowfullscreen></iframe></div></div>"
            ],
            "text/plain": [
              "<folium.folium.Map at 0x7f1b5b2ffb00>"
            ]
          },
          "metadata": {
            "tags": []
          },
          "execution_count": 3
        }
      ]
    },
    {
      "cell_type": "markdown",
      "metadata": {
        "editable": false,
        "id": "49NU8xH2yAGu",
        "colab_type": "text"
      },
      "source": [
        "<br>\n",
        "<br>\n",
        "<a id='exercise_import_modules_py'></a>"
      ]
    },
    {
      "cell_type": "markdown",
      "metadata": {
        "deletable": false,
        "editable": false,
        "id": "u97S5utvyAG5",
        "colab_type": "text"
      },
      "source": [
        "### 4.1. Importera Pythonmoduler\n",
        "Python är ett programmeringsspråk som har inbyggda moduler. En modul kan beskrivas som ett paket av funktioner. För att använda dessa färdiga funktioner, behöver man först importera modulen de tillhör. Det är vanligt att man importerar moduler i början av ett python-program.\n",
        "\n",
        "I kodcellen nedan visas viktiga Python-moduler vi använder i denna övning: `numpy`, `pandas`, och `datetime`. Man kan antingen importera hela modulen (t.ex. `import ...`), eller bara en enskild funktion eller typ (t.ex. `from ... import ...`.\n",
        "\n",
        "När man importerar en modul kan man byta dess namn efter kommandot <code style=\"color:#CD5C5C\">as</code>. Oftast byter man till en förkortning av modulnamnet. <code style=\"color:#CD5C5C\">import numpy as np</code> betyder att man importerar modulen _numpy_ och ändrar dess namn till _np_. På det viset behöver man inte skriva hela modulens namn när man ska anropa en av dess funktioner."
      ]
    },
    {
      "cell_type": "code",
      "metadata": {
        "id": "nXVMHC4E51ox",
        "colab_type": "code",
        "colab": {}
      },
      "source": [
        "#Importera moduler:\n",
        "import numpy as np\n",
        "import pandas as pd\n",
        "from datetime import datetime\n"
      ],
      "execution_count": 0,
      "outputs": []
    },
    {
      "cell_type": "code",
      "metadata": {
        "id": "SUnUB02ZyAHF",
        "colab_type": "code",
        "cellView": "form",
        "colab": {}
      },
      "source": [
        "#@title Bakgrundskod för fler importer\n",
        "from bokeh.plotting import figure\n",
        "from bokeh.models import ColumnDataSource, HoverTool, Label\n",
        "from bokeh.io import show, output_notebook\n",
        "\n",
        "%matplotlib inline\n",
        "output_notebook()"
      ],
      "execution_count": 0,
      "outputs": []
    },
    {
      "cell_type": "markdown",
      "metadata": {
        "id": "RMFSZvAgyAHt",
        "colab_type": "text"
      },
      "source": [
        "<br>\n",
        "<br>\n",
        "<a id='exercise_read_csv_to_pandas'></a>"
      ]
    },
    {
      "cell_type": "markdown",
      "metadata": {
        "deletable": false,
        "editable": false,
        "id": "IloKTdk5yAH2",
        "colab_type": "text"
      },
      "source": [
        "### 4.2. Läs in CSV-filer till tabeller i Python\n",
        "I Python kan man använda tabeller för att lagra data. En tabell innehåller kolumner och rader. Python har olika typer av tabeller. I den typen av tabeller vi kommer att använda är det möjligt att lagra data som tillhör olika datatyper. T.ex. det är tillåtet att i en och samma tabell lagra en kolumn med text (strängar), en annan kolumn med nummer (t.ex. decimaltal) och en tredje kolumn med tidsobjekt (se figur).\n",
        "\n",
        "<br>\n",
        "<br>\n",
        "\n",
        "<img src=\"https://github.com/lunduniversity/schoolprog-satellite/blob/master/exercises/kolcykeln/images/pandas_py_icos_ex_swe.png?raw=1\" width=\"550\" align=\"center\">\n",
        "<br>\n",
        "<br>\n",
        "\n",
        "Varje värde i en tabell definieras av kolumnen och raden det tillhör. Hittar du värdet *412.985* i tabellen ovan? Ser du att det tillhör kolumnen *co2* och radnummer *2*? Observera att radnummer i Python börjar med *0* istället för *1*. \n",
        "\n",
        "Radnummer används ofta som index. Index används för att hitta data. Vi kan tänka oss ett index som en av tabellens kolumner. För att en kolumn ska fungera som index måste alla värdena i kolumnen vara olika. Radnummer-kolumnen fungerar bra - alla radnumner är ju olika. Vi skulle också kunna använda kolumnen *DateTime* som index. Det beror på att det inte är möjligt för två olika CO$_2$-mätningar att ha utförts under exakt samma tid. Alla värdena i kolumnen *DateTime* är alltså olika.\n",
        "\n",
        "**csv-filer**\n",
        "\n",
        "För att spara tabell-data på fil används ofta csv-filer. En csv-fil (comma-separated values) är en text-fil som innehåller värden med kommatecken emellan. Den typen av filer kan lagra data från tabeller. Första raden i filen innehåller oftast namnen för tabellens kolumner. Därefter följer en rad i filen för varje rad i tabellen. Värden som tillhör samma rad men olika kolumner är separerade med kommatecken. Andra tecken (t.ex. \";\") kan också användas för att separera värden. Dessa tecken kallas för _avgränsare_.\n",
        "\n",
        "För att läsa in data från en csv-fil till en tabell används funktionen <code style=\"color:#CD5C5C\">read_csv()</code>från modulen <i>pandas</i>, som döpts om till <i>pd</i> vid importering.\n",
        "<br>\n",
        "<br>\n",
        "<u>**Exempel:**</u>\n",
        "\n",
        "```python\n",
        "pd.read_csv(\"filnamn\",\n",
        "             header=0,  # Rad 0 innehåller kolumnnamn\n",
        "             sep = \";\", # Semikolon används som avgränsare\n",
        "             parse_dates=[\"DateTime\"] # Kolumnen DateTime innehåller tidsinformation\n",
        "```\n",
        "\n",
        "Vi ser att `header` används för att ange vilken rad som innehåller kolumnnamnen (rad 0, dvs första raden). Vi ser också att semikolon används som avgränsare i detta exempel. Den sista parameter beror på att Python har en speciellt sätt att spara och hantera tidsvariabler. När en datafil innehåller en kolumn med tidsvariabler, får man ange namnet på den kolumnen i inläsningsfunktionen som värde för argumentet `parse_dates`. I detta fallet heter kolumnen `\"DateTime\"`. \n",
        "\n"
      ]
    },
    {
      "cell_type": "markdown",
      "metadata": {
        "deletable": false,
        "editable": false,
        "id": "Ynj-k0fSyAH9",
        "colab_type": "text"
      },
      "source": [
        "**Läs in CO$_2$-data till Tabell**\n",
        "\n",
        "Datafilen vi ska läsa in innehåller data för 5 kolumner:\n",
        "- **Site**: Förkortning av mästationens namn (*HTM* för Hyltemossa)\n",
        "- **SamplingHeight**: Höjd (uttryckt som meter ovanför marken) där sensorn mäter CO$_2$-värden.\n",
        "- **InstrumentId**: Kod för mätinstrumentet som utför mätningen. Varje instrument har en unik kod.\n",
        "- **DateTime**: Tidpunkt då mätningen utfördes.\n",
        "- **co2**: Koldioxid-värdet för en given tidpunkt.\n",
        "\n",
        "**Uppdrag:** Surfa till [datafilen](https://raw.githubusercontent.com/lunduniversity/schoolprog-satellite-data/master/carboncycle/co2_concentration/htm_150m_L2_co2) för att se hur den ser ut:   Hittar du kolumnnamnen på översta raden? Ser du vilken kolumn som visar tidpunkten och vilken som visar CO$_2$-data?\n",
        "\n",
        "<br>\n",
        "\n",
        "Kodcellen nedan hämtar datafilen över internet och sparar den i en fil på Colab-servern. Vi kan se att sista delen av internet-adressen är `htm_150m_L2_co2`, och filen får samma namn på Colab-servern. \n",
        "\n",
        "(Kommandot `wget` är inte ett Python-kommando, utan ett kommando till operativsystemet (Unix) som kör på Colab-servern. Man kan köra sådana kommandon från Python genom att skriva utropstecken framför kommandot.)\n",
        "\n",
        "(Om du inte redan har gjort menykommandot *Runtime -> Restart and run all...*, så gör det nu, så att all bakgrundskod körs.)"
      ]
    },
    {
      "cell_type": "code",
      "metadata": {
        "deletable": false,
        "editable": false,
        "id": "iLsvh36gyAIN",
        "colab_type": "code",
        "colab": {}
      },
      "source": [
        "#Hämta datafilen till colab-servern: \n",
        "!wget https://github.com/lunduniversity/schoolprog-satellite-data/raw/master/carboncycle/co2_concentration/htm_150m_L2_co2 --no-verbose\n"
      ],
      "execution_count": 0,
      "outputs": []
    },
    {
      "cell_type": "markdown",
      "metadata": {
        "id": "WULwmgeo_qaZ",
        "colab_type": "text"
      },
      "source": [
        "I följande kodcell används funktionen `read_cvs` i pandas-biblioteket (`pd`) för att läsa in filen `htm_150m_L2_co2` till en python-tabell `co2_tabell`."
      ]
    },
    {
      "cell_type": "code",
      "metadata": {
        "id": "L1zuYkIE_43T",
        "colab_type": "code",
        "colab": {}
      },
      "source": [
        "#Läs in datafilen med CO2-data till tabellen \"co2_tabell\":\n",
        "co2_tabell = pd.read_csv('htm_150m_L2_co2',\n",
        "                          header=0,\n",
        "                          sep=';',\n",
        "                          parse_dates=['DateTime'])"
      ],
      "execution_count": 0,
      "outputs": []
    },
    {
      "cell_type": "markdown",
      "metadata": {
        "editable": false,
        "id": "1huW98JuyAIw",
        "colab_type": "text"
      },
      "source": [
        "<br>"
      ]
    },
    {
      "cell_type": "markdown",
      "metadata": {
        "id": "gf8Ff93gyAI6",
        "colab_type": "text"
      },
      "source": [
        "**Skriv ut några rader i tabellen**\n",
        "\n",
        "Anropet `co2_tabell.head(5)` ger de 5 första raderna i tabellen `co2_tabell`.\n",
        "\n",
        "**Uppdrag:** Ta bort kommentartecknet (`#`) framför anropet nedan och provkör koden för att se de första 5 raderna i tabellen.\n",
        "\n",
        "(För att köra koden, klicka på kodrutan och sedan på pilen i övre vänstra hörnet av kodrutan. Om du har kört Python tidigare undrar du kanske över varför du inte behöver göra `print`. Det beror på att Colab alltid skriver ut resultatet av den sista kodraden i rutan.)"
      ]
    },
    {
      "cell_type": "code",
      "metadata": {
        "id": "Y0sXKKjqyAJA",
        "colab_type": "code",
        "colab": {}
      },
      "source": [
        "#Visa tabellens 5 första rader:\n",
        "#Ta bort kommentartecknet (#) på nästa rad och kör sedan koden.\n",
        "#co2_tabell.head(5)\n"
      ],
      "execution_count": 0,
      "outputs": []
    },
    {
      "cell_type": "markdown",
      "metadata": {
        "id": "nfDjWLg0IwqS",
        "colab_type": "text"
      },
      "source": [
        "**Uppdrag:** Ändra anropet ovan så att du visar tabellens 10 första rader. Du behöver klicka på pilen igen för att köra koden. Kan du ändra igen så att du bara visar första raden?"
      ]
    },
    {
      "cell_type": "markdown",
      "metadata": {
        "id": "Tq097rf2ImQA",
        "colab_type": "text"
      },
      "source": [
        "<br>"
      ]
    },
    {
      "cell_type": "markdown",
      "metadata": {
        "editable": false,
        "id": "FZenFo7kyAJZ",
        "colab_type": "text"
      },
      "source": [
        "<br>"
      ]
    },
    {
      "cell_type": "markdown",
      "metadata": {
        "deletable": false,
        "editable": false,
        "id": "kA4bWCGMyAJg",
        "colab_type": "text"
      },
      "source": [
        "**Hur många rader innehåller tabellen?**\n",
        "\n",
        "Det är möjligt att ta reda på hur många rader en tabell har med hjälp av kommandot ```len()```. ```len``` är en förkortning på det engelska ordet *length* och i det här sammanhanget har den betydelsen: *hur lång en tabell är*.\n",
        "\n",
        "\n",
        "Syntaxen är: \n",
        "\n",
        "```python\n",
        "len(tabell_namn)\n",
        "```\n",
        "\n",
        "<br>\n",
        "<br>\n",
        "\n",
        "**Uppdrag:** \n",
        "Ta reda på hur många rader tabellen \"co2_tabell\" har:\n"
      ]
    },
    {
      "cell_type": "code",
      "metadata": {
        "id": "L-rGSlM9yAJq",
        "colab_type": "code",
        "colab": {}
      },
      "source": [
        "#Tips: Ta bort kommentartecknet på nästa rad\n",
        "#len(co2_tabell)"
      ],
      "execution_count": 0,
      "outputs": []
    },
    {
      "cell_type": "markdown",
      "metadata": {
        "id": "DIrd_Nx3yAKD",
        "colab_type": "text"
      },
      "source": [
        "<br>\n",
        "<br>\n",
        "<a id='add_index_to_pandas'></a>"
      ]
    },
    {
      "cell_type": "markdown",
      "metadata": {
        "deletable": false,
        "editable": false,
        "id": "oHv25FHhyAKR",
        "colab_type": "text"
      },
      "source": [
        "### 4.3. Använda index för en tabell\n",
        "\n",
        "**Använda radnummer-index**\n",
        "\n",
        "När man skapar en tabell, definieras automatiskt ett numeriskt index som motsvarar radnummer i tabellen. Första raden har ett index som är lika med \"**0**\". Andra raden har ett index som är lika med \"**1**\". Tredje raden har ett index som är lika med \"**2**\", osv.\n",
        "\n",
        "\n",
        "Ett index används för att välja och extrahera data från en viss plats i en tabell. Till exempel kan man extrahera alla värden som finns i första raden i tabellen `co2_tabell`, genom att använda kommandot `co2_tabell.loc[0]`.\n",
        "\n",
        "Genom att också ange kolumnnamnet så kan man extrahera värdet i en kolumn på en viss rad, t.ex. `co2_tabell.co2.loc[0]` för att extrahera co2-värdet på första raden.\n",
        "\n",
        "Syntaxen är alltså:\n",
        "```python\n",
        "tabell.loc[n]     # Ger alla värdena på rad n\n",
        "tabell.col.loc[n] # Ger värdet på kolumn col och rad n\n",
        "```\n",
        "\n",
        "`loc` som används ovan är förkortning för \"location\" (plats).\n",
        "\n",
        "<br>"
      ]
    },
    {
      "cell_type": "markdown",
      "metadata": {
        "deletable": false,
        "editable": false,
        "id": "5mmaYK7PyAKd",
        "colab_type": "text"
      },
      "source": [
        "**Uppdrag:** Ta reda på vilka värden som finns på första raden i tabellen `co2_tabell`."
      ]
    },
    {
      "cell_type": "code",
      "metadata": {
        "id": "G8HQWt2cyAKi",
        "colab_type": "code",
        "colab": {}
      },
      "source": [
        "#Tips! Ta bort kommentartecknet på nästa rad.\n",
        "#co2_tabell.loc[0]"
      ],
      "execution_count": 0,
      "outputs": []
    },
    {
      "cell_type": "markdown",
      "metadata": {
        "id": "UrLz6mLpyAK5",
        "colab_type": "text"
      },
      "source": [
        "<br>\n",
        "\n",
        "**Uppdrag:** Extrahera CO$_2$-värdet från tabellens första rad."
      ]
    },
    {
      "cell_type": "code",
      "metadata": {
        "id": "3HKpTBNqyALA",
        "colab_type": "code",
        "colab": {}
      },
      "source": [
        "#Tips! Ta bort kommentartecknet på nästa rad.\n",
        "#co2_tabell.co2.loc[0]"
      ],
      "execution_count": 0,
      "outputs": []
    },
    {
      "cell_type": "markdown",
      "metadata": {
        "id": "RbeM_ZBdyALX",
        "colab_type": "text"
      },
      "source": [
        "<br>"
      ]
    },
    {
      "cell_type": "markdown",
      "metadata": {
        "deletable": false,
        "id": "yNPkKj53yALf",
        "colab_type": "text"
      },
      "source": [
        "**Uppdrag:** Vad är koldioxid-värdet för tabellens 8:e rad? Obs! Kom ihåg att radnummer i Python börjar med **0**.\n",
        "\n",
        "\n"
      ]
    },
    {
      "cell_type": "code",
      "metadata": {
        "id": "hZAz7Pf5yALn",
        "colab_type": "code",
        "colab": {}
      },
      "source": [
        "#Skriv din kod under denna text:\n"
      ],
      "execution_count": 0,
      "outputs": []
    },
    {
      "cell_type": "markdown",
      "metadata": {
        "id": "0gDlxEN4QB8D",
        "colab_type": "text"
      },
      "source": [
        "**Uppdrag:** Vad är koldioxid-värdet för tabellens 1001:e rad?\n"
      ]
    },
    {
      "cell_type": "code",
      "metadata": {
        "id": "SXcRwqpaQEC8",
        "colab_type": "code",
        "colab": {}
      },
      "source": [
        "#Skriv din kod under denna text:\n"
      ],
      "execution_count": 0,
      "outputs": []
    },
    {
      "cell_type": "markdown",
      "metadata": {
        "id": "_r3JnBO1yAMH",
        "colab_type": "text"
      },
      "source": [
        "<br>\n",
        "<br>\n",
        "<br>"
      ]
    },
    {
      "cell_type": "markdown",
      "metadata": {
        "deletable": false,
        "editable": false,
        "id": "XiZsb5wuyAMQ",
        "colab_type": "text"
      },
      "source": [
        "**Definiera ett eget index**\n",
        "\n",
        "I stället för att använda radnummer som index så kan man definiera ett eget index genom att välja en kolumn för detta. Det måste vara en kolumn där alla värdena är olika. DateTime är en sådan kolumn: alla raderna har olika värden i DateTime-kolumnen. Genom att definiera DateTime som index kan vi extrahera data ur tabellen baserat på tidpunkter i stället för med radnummer.\n",
        "\n",
        "Man definierar index med hjälp av den inbyggda funktionen `set_index`. Här är ett exempel där vi definierar en ny tabell `tabell_ind` som är likadan som tabellen `tabell`, men som använder kolumnen `col` som index:\n",
        "\n",
        "```python\n",
        "tabell_ind = tabell.set_index(\"col\") #Ny tabell har kolumnen \"col\" som index.\n",
        "```\n",
        "\n",
        "I kodrutan nedan skapas tabellen `co2_tabell_ind` som använder `DateTime` som index.\n"
      ]
    },
    {
      "cell_type": "code",
      "metadata": {
        "deletable": false,
        "editable": false,
        "id": "P3plTFlTyAMT",
        "colab_type": "code",
        "colab": {}
      },
      "source": [
        "#Sätt kolumnen \"DateTime\" som index i tabellen:\n",
        "co2_tabell_ind = co2_tabell.set_index('DateTime')"
      ],
      "execution_count": 0,
      "outputs": []
    },
    {
      "cell_type": "markdown",
      "metadata": {
        "id": "FTiCKVTLf2MS",
        "colab_type": "text"
      },
      "source": [
        "**Uppdrag:** Jämför den nya tabellen `co2_tabell_ind` med originaltabellen `co2_tabell` genom att visa de första 5 raderna i de två tabellerna. Tips! Använd funktionen `head` som vi använde tidigare. Ser du skillnaden?"
      ]
    },
    {
      "cell_type": "code",
      "metadata": {
        "id": "x6xddqPRgNba",
        "colab_type": "code",
        "colab": {}
      },
      "source": [
        "#Skriv kod för att visa de 5 första raderna i co2_tabell här:\n"
      ],
      "execution_count": 0,
      "outputs": []
    },
    {
      "cell_type": "code",
      "metadata": {
        "id": "LZ2CthcHgTom",
        "colab_type": "code",
        "colab": {}
      },
      "source": [
        "#Skriv kod för att visa de 5 första raderna i co2_tabell_ind här:\n"
      ],
      "execution_count": 0,
      "outputs": []
    },
    {
      "cell_type": "markdown",
      "metadata": {
        "id": "w5_M9GJNglLL",
        "colab_type": "text"
      },
      "source": [
        "<details>\n",
        "<summary markdown=\"span\">\n",
        "Lösning\n",
        "</summary>\n",
        "<p><pre><code>co2_tabell.head(5)\n",
        "co2_tabell_ind.head(5)\n",
        "</code></pre></p>\n",
        "</details>\n"
      ]
    },
    {
      "cell_type": "markdown",
      "metadata": {
        "id": "FnrQbDKxyAMj",
        "colab_type": "text"
      },
      "source": [
        "<br>\n"
      ]
    },
    {
      "cell_type": "markdown",
      "metadata": {
        "deletable": false,
        "editable": false,
        "id": "q-eyFKSHyAMo",
        "colab_type": "text"
      },
      "source": [
        "**Extrahera rad för viss tid**\n",
        "\n",
        "Tidigare extraherade vi en rad med ett visst radnummer med hjälp av `loc`. Nu kan vi på liknande sätt extrahera en rad för en viss tidpunkt.\n",
        "\n",
        "Till exempel kan vi extrahera raden för den 17 april 2017 kl 00.00.00 med följande kod:\n",
        "\n",
        "```python\n",
        "co2_tabell_ind.loc[datetime(2017, 4, 17, 0, 0, 0)]\n",
        "```\n",
        "\n",
        "Men om just den tiden saknas i tabellen kommer vi att få ett fel. Ett bättre sätt kan vara att *filtrera* tabellen, dvs plocka ut alla rader som uppfyller ett visst villkor.\n",
        "\n",
        "<!--\n",
        "Använd följande kod för att extrahera alla rader som innehåller data för en given datum och tid i en tabell:\n",
        "\n",
        "<br>\n",
        "<br>\n",
        "$$tabell\\_namn[tabell\\_namn.index == datetime(år, månad, dag)]$$\n",
        "<br>\n",
        "<br>\n",
        "\n",
        "<span style=\"color:blue\">**Exempel:**</span>\n",
        "\n",
        "```python\n",
        "#Visa data för den 1 Juni 2017 kl. 07:00:00\n",
        "co2_tabell_ind[co2_tabell_ind.index==datetime(2017, 6, 1, 7, 0, 0)]\n",
        "```\n",
        "-->"
      ]
    },
    {
      "cell_type": "markdown",
      "metadata": {
        "id": "lGFqAwzWyANo",
        "colab_type": "text"
      },
      "source": [
        "<br>\n",
        "\n"
      ]
    },
    {
      "cell_type": "markdown",
      "metadata": {
        "deletable": false,
        "editable": false,
        "id": "KjXnaGFqyANt",
        "colab_type": "text"
      },
      "source": [
        "**Filtrera en tabell efter tidsperioder**\n",
        "\n",
        "Nu när vi har ett tids-index kan vi ta ut alla rader som är inom en viss tidsperiod. Följande syntax kan användas för att plocka ut rader från en tidpunkt $a$ till en senare tidpunkt $b$:\n",
        "\n",
        "<br>\n",
        "<br>\n",
        "$$tabell[datetime(år_{a}, månad_{a}, dag_{a}, timme_{a}, minut_{a}):datetime(år_{b}, månad_{b}, dag_{b}, timme_{b}, minut_{b})]$$\n",
        "<br>\n",
        "<br>\n",
        "\n",
        "Timmarna och minuterna kan utelämnas, och då betyder det att de är 0. (Man kan i princip ha med sekunder också, men de kommer vi att utelämna, så då blir de också 0.)\n",
        "\n",
        "<span style=\"color:blue\">**Exempel:**</span> \n",
        "\n",
        "```python\n",
        "#Visa alla rader som innehåller data för: 1 Juni 2017 kl. 00:00:00 - 1 Juni 2017 kl. 23:59:00.\n",
        "co2_tabell_ind[datetime(2017, 6, 1):datetime(2017, 6, 1, 23, 59)]\n",
        "```\n",
        "\n",
        "**Uppdrag:** Skriv kod som visar alla rader som innehåller data för den 1 juni 2017 (1 dag)."
      ]
    },
    {
      "cell_type": "code",
      "metadata": {
        "id": "vCPt6jVvyANx",
        "colab_type": "code",
        "colab": {}
      },
      "source": [
        "#Tips! Ta bort kommentartecknet på nästa rad.\n",
        "#co2_tabell_ind[datetime(2017, 6, 1):datetime(2017, 6, 1, 23, 59)]"
      ],
      "execution_count": 0,
      "outputs": []
    },
    {
      "cell_type": "markdown",
      "metadata": {
        "id": "lZf35L6oyAOZ",
        "colab_type": "text"
      },
      "source": [
        "<br>\n",
        "\n",
        "**Uppdrag:** Skriv kod som visar data för den 31 december 2017 från kl 8:00 till 17:00"
      ]
    },
    {
      "cell_type": "code",
      "metadata": {
        "id": "SUuxgi1aVILd",
        "colab_type": "code",
        "colab": {}
      },
      "source": [
        "#Skriv din kod under denna text:\n",
        "\n"
      ],
      "execution_count": 0,
      "outputs": []
    },
    {
      "cell_type": "markdown",
      "metadata": {
        "deletable": false,
        "editable": false,
        "id": "T36zQ8tpyAOf",
        "colab_type": "text"
      },
      "source": [
        "<br>\n",
        "\n",
        "**Uppdrag:** Skriv kod som visar data från den 31 december 2017 kl. 21:30 till den 1 januari 2018 kl. 12:00.\n"
      ]
    },
    {
      "cell_type": "code",
      "metadata": {
        "id": "1pCmvRuMyAOm",
        "colab_type": "code",
        "colab": {}
      },
      "source": [
        "#Skriv din kod under denna text:\n",
        "\n"
      ],
      "execution_count": 0,
      "outputs": []
    },
    {
      "cell_type": "markdown",
      "metadata": {
        "id": "cpgjXj4myAO0",
        "colab_type": "text"
      },
      "source": [
        "<br>\n",
        "<br>\n",
        "<a id='pandas_stats'></a>"
      ]
    },
    {
      "cell_type": "markdown",
      "metadata": {
        "id": "6hnBezJ2yAO3",
        "colab_type": "text"
      },
      "source": [
        "### 4.4. Statistik över kolumner i en tabell\n",
        "I en tabell med bara några få rader kan vi lätt se vilket CO$_2$-värde som är störst eller minst. Vi skulle också kunna räkna ut medelvärdet med papper och penna. Det är inte lika enkelt att beräkna den typen av statistik när tabellen innehåller tusentals rader. Då behöver man använda programmering.\n",
        "\n",
        "Ofta vill vi göra en beräkning över en kolumn. Pythons tabeller har en del inbyggda funktioner för detta. Exempel på sådana funktioner är att beräkna minimum ```min()```, maximum ```max()``` och medelvärde ```mean()```. Det går även att summera alla värdena i en kolumn med ```sum()```. Syntaxen för dessa beräkningar är:\n",
        "<br>\n",
        "<br>\n",
        "$$tabell\\_namn.kolumn\\_namn.funktion()$$\n",
        "<br>\n",
        "<br>"
      ]
    },
    {
      "cell_type": "markdown",
      "metadata": {
        "id": "gJGzHzuhyAO9",
        "colab_type": "text"
      },
      "source": [
        "<br>\n",
        "<br>"
      ]
    },
    {
      "cell_type": "markdown",
      "metadata": {
        "id": "m3Xw_M7GyAPC",
        "colab_type": "text"
      },
      "source": [
        "**Uppdrag:** Skriv kod som beräknar det minsta värdet av koldioxid för kolumnen `co2`."
      ]
    },
    {
      "cell_type": "code",
      "metadata": {
        "deletable": false,
        "editable": false,
        "id": "Gt7QqW-AyAPI",
        "colab_type": "code",
        "colab": {}
      },
      "source": [
        "#Tips! Ta bort kommentartecknet på nästa rad:\n",
        "#co2_tabell_ind.co2.min()"
      ],
      "execution_count": 0,
      "outputs": []
    },
    {
      "cell_type": "markdown",
      "metadata": {
        "id": "2vWiULcryAPV",
        "colab_type": "text"
      },
      "source": [
        "<br>"
      ]
    },
    {
      "cell_type": "markdown",
      "metadata": {
        "deletable": false,
        "id": "ql0r1socyAPY",
        "colab_type": "text"
      },
      "source": [
        "**Uppdrag:** Skriv kod som beräknar det största värdet för kolumnen `co2`."
      ]
    },
    {
      "cell_type": "code",
      "metadata": {
        "id": "lk15cgiQyAPc",
        "colab_type": "code",
        "colab": {}
      },
      "source": [
        "#Skriv din kod under denna text:\n",
        "\n"
      ],
      "execution_count": 0,
      "outputs": []
    },
    {
      "cell_type": "markdown",
      "metadata": {
        "id": "9ZE6KHBOaT-H",
        "colab_type": "text"
      },
      "source": [
        "<br>\n",
        "\n",
        "**Uppdrag:** Skriv kod som beräknar medelvärdet för kolumnen `co2`."
      ]
    },
    {
      "cell_type": "code",
      "metadata": {
        "id": "MUnlc1cWabw8",
        "colab_type": "code",
        "colab": {}
      },
      "source": [
        "# Skriv din kod under denna text:\n",
        "\n"
      ],
      "execution_count": 0,
      "outputs": []
    },
    {
      "cell_type": "markdown",
      "metadata": {
        "id": "d10RsoDbyAQF",
        "colab_type": "text"
      },
      "source": [
        "<br>\n"
      ]
    },
    {
      "cell_type": "markdown",
      "metadata": {
        "deletable": false,
        "editable": false,
        "id": "udL82ts9yAQI",
        "colab_type": "text"
      },
      "source": [
        "**Filtrera tabell efter tidsperiod och beräkna statistik**\n",
        "\n",
        "I Python går det att kombinera flera beräkningar på samma kodrad. Koden i exemplet nedan visar hur man kan filtrera en tabell efter en tidsperiod och beräknar statistik över värdena i en kolumn för den tidsperioden med hjälp av en funktion.\n",
        "\n",
        "```python\n",
        "\n",
        "tabell_namn[datetime(år, månad, dag, timme):datetime(år, månad, dag, timme)].kolumn_namn.funktion()\n",
        "\n",
        "\n",
        "```\n",
        "\n",
        "<span style=\"color:blue\">**Exempel:**</span>\n",
        "\n",
        "Till exempel, för att beräkna genomsnittet för CO$_2$-värden mellan kl. 08:00 och kl. 17:00 den 31 decemeber 2018 kan man skriva:\n",
        "\n",
        "```python\n",
        "\n",
        "co2_tabell_ind[datetime(2018, 12, 31, 8):datetime(2018, 12, 31, 17)].co2.mean()\n",
        "\n",
        "```\n",
        "\n",
        "**Uppdrag:** Beräkna genomsnittet för CO$_2$-värden mellan kl 08:00 och kl 17:00 den 31 december 2018."
      ]
    },
    {
      "cell_type": "code",
      "metadata": {
        "deletable": false,
        "editable": false,
        "id": "PtC7sGVjyAQM",
        "colab_type": "code",
        "colab": {}
      },
      "source": [
        "#Tips! Ta bort kommentartecknoet på nästa rad.\n",
        "#co2_tabell_ind[datetime(2018, 12, 31, 8):datetime(2018, 12, 31, 17)].co2.mean()"
      ],
      "execution_count": 0,
      "outputs": []
    },
    {
      "cell_type": "markdown",
      "metadata": {
        "id": "jfG322PayAQc",
        "colab_type": "text"
      },
      "source": [
        "<br>"
      ]
    },
    {
      "cell_type": "markdown",
      "metadata": {
        "deletable": false,
        "id": "pqbGaafcyAQg",
        "colab_type": "text"
      },
      "source": [
        "**Uppdrag** Beräkna det lägsta värdet för kolumnen `co2`  för värden som observerats mellan kl. 08:00 och kl. 14:00 den 10 juni 2018.\n"
      ]
    },
    {
      "cell_type": "code",
      "metadata": {
        "id": "bJxMHKz2yAQk",
        "colab_type": "code",
        "colab": {}
      },
      "source": [
        "#Skriv din kod under denna text:\n",
        "\n"
      ],
      "execution_count": 0,
      "outputs": []
    },
    {
      "cell_type": "markdown",
      "metadata": {
        "id": "qqYblPZ4yAQx",
        "colab_type": "text"
      },
      "source": [
        "<br>\n",
        "<br>\n",
        "\n",
        "**Uppgift:** Beräkna det lägsta värdet för kolumnen `co2`  för värden som observerats mellan kl. 08:00 och kl. 14:00 den 31 december 2018.\n"
      ]
    },
    {
      "cell_type": "code",
      "metadata": {
        "id": "Z4Ur46hnb5cl",
        "colab_type": "code",
        "colab": {}
      },
      "source": [
        "#Skriv din kod under denna text:\n",
        "\n"
      ],
      "execution_count": 0,
      "outputs": []
    },
    {
      "cell_type": "markdown",
      "metadata": {
        "id": "JoGnJOwWcFWo",
        "colab_type": "text"
      },
      "source": [
        "<br>\n",
        "<br>\n",
        "\n",
        "<a id='exercise_plot_data_bokeh'></a>"
      ]
    },
    {
      "cell_type": "markdown",
      "metadata": {
        "deletable": false,
        "editable": false,
        "id": "YTDEqvpXyAQ1",
        "colab_type": "text"
      },
      "source": [
        "### 4.5. Plotta Data i ett Interaktivt Diagram\n",
        "I den här delen kommer vi att plotta ett interaktivt diagram för tabellen med CO$_2$-data. Det finns flera bibliotek i Python för att plotta och visualisera data på olika sätt. I det här fallet kommer du att få en färdig funktion som använder biblioteket `bokeh` för att skapa det interaktiva diagrammet.\n",
        "\n",
        "En funktion är en samling av kod (dvs. ett kodblock) som bara körs när funktionen blir anropad. Den kan innehålla variabler, operatorer (t.ex. <code style=\"color:gray\">+</code>, <code style=\"color:gray\">-</code>, <code style=\"color:gray\">*</code>, <code style=\"color:gray\">/</code> eller <code style=\"color:gray\">%</code>), if-satser, for-loopar, mm. \n",
        "\n",
        "När en funktion anropas kan man skicka med värden till den med hjälp av argument (parametrar). En funktion kan ha noll, ett eller flera argument. En funktion kan också returnera ett resultat. Det görs med hjälp av <code style=\"color:#CD5C5C\">return</code>-satsen som vanligtvis skrivs i slutet av funktionen.\n",
        "\n",
        "Ett exempel på en definition av en funktion `summera` i Python är:\n",
        "\n",
        "<br>\n",
        "\n",
        "```python\n",
        "def summera(argument1, argument2):\n",
        "    summa = argument1 + argument2\n",
        "    return summa\n",
        "```\n",
        "\n",
        "Ett exempel på ett anrop av denna funktion är:\n",
        "\n",
        "```python\n",
        "s = summera(3, 4)\n",
        "```\n",
        "\n",
        "<br>\n",
        "\n"
      ]
    },
    {
      "cell_type": "code",
      "metadata": {
        "id": "OtPBc5GpyAQ4",
        "colab_type": "code",
        "cellView": "form",
        "colab": {}
      },
      "source": [
        "#@title Bakgrundskod för funktionen plott\n",
        "#Funktion som skapar en interaktiv plott från en pandas dataframe med co2-data i given färg:\n",
        "def plott(df_L2, color):\n",
        "    \n",
        "    #Importera moduler:\n",
        "    from datetime import datetime\n",
        "    from bokeh.plotting import figure\n",
        "    from bokeh.models import ColumnDataSource, HoverTool, Label\n",
        "    from bokeh.io import show, output_notebook\n",
        "\n",
        "    #Nyckel-värdetabell för att omvandla nummer till deras motsvarande superscript eller subscript varianter:\n",
        "    SUB = str.maketrans(\"0123456789\", \"₀₁₂₃₄₅₆₇₈₉\")\n",
        "    SUP = str.maketrans(\"0123456789\", \"⁰¹²³⁴⁵⁶⁷⁸⁹\")\n",
        "\n",
        "    #Skapa ett figur-objekt:\n",
        "    p = figure(plot_width=900,\n",
        "               plot_height=500,\n",
        "               x_axis_label='Time (UTC)', \n",
        "               y_axis_label='CO2'.translate(SUB)+' (' +'\\u03BC'+ 'mol.mol-1'.translate(SUP) + ')',\n",
        "               x_axis_type='datetime',\n",
        "               title = 'Koldioxidkoncentration (Hyltemossa, Sverige, '+str(df_L2.SamplingHeight.iloc[0])+'m)' ,\n",
        "               tools='pan,box_zoom,wheel_zoom,reset,save')\n",
        "\n",
        "\n",
        "    #Skapa en tomm lista som ska lagra all legend-info:\n",
        "    legend_it = []\n",
        "\n",
        "\n",
        "    #Extrahera tid- och gas-värden för kvalitetskontrollerad och icke kvalitetskontrollerad data:\n",
        "    x1 = df_L2.index.values\n",
        "    y1 = df_L2.co2.values\n",
        "\n",
        "    #Skapa en cirkel-glyph:\n",
        "    r0 = p.circle(x1, y1, radius=.12, color=color)\n",
        "    \n",
        "    #Skapa en linje-glyph:\n",
        "    r1 = p.line(x1, y1,\n",
        "                line_width=1, color=color)\n",
        "\n",
        "    #Lägg till tooltip:\n",
        "    p.add_tools(HoverTool(tooltips=[\n",
        "        ('Time (UTC)','@x{%Y-%m-%d %H:%M:%S}'),\n",
        "        ('CO2'.translate(SUB),'@y{0.f}'),\n",
        "        ],\n",
        "        formatters={\n",
        "            'x'      : 'datetime', \n",
        "        },\n",
        "        # visa ett tooltip när musen är i lodrätt-linje med motsvarande glyph\n",
        "        mode='vline'\n",
        "        ))  \n",
        "\n",
        "    #Definiera formatteringsattribut för plottens titel:\n",
        "    p.title.align = 'center'\n",
        "    p.title.text_font_size = '13pt'\n",
        "    p.title.offset = 15\n",
        "\n",
        "    #Definiera font för x-axel och y-axel titlarna :\n",
        "    p.xaxis.axis_label_text_font_style = 'normal'\n",
        "    p.yaxis.axis_label_text_font_style = 'normal'\n",
        "    p.xaxis.axis_label_standoff = 15 #Sets the distance of the label from the x-axis in screen units\n",
        "    p.yaxis.axis_label_standoff = 15 #Sets the distance of the label from the y-axis in screen units\n",
        "\n",
        "    #Definiera vart copyright-texten ska stå:\n",
        "    label_opts = dict(x=0, y=10,\n",
        "                      x_units='screen', y_units='screen')\n",
        "\n",
        "    #Skapa copyright-texten:\n",
        "    caption1 = Label(text=\"© ICOS ERIC\", **label_opts)\n",
        "    caption1.text_font_size = '8pt'\n",
        "\n",
        "    #Inaktivera hover-verktyget, som är alltid aktivt annars:\n",
        "    p.toolbar.active_inspect = None\n",
        "\n",
        "    #Lägg till copyright-texten till plotten:\n",
        "    p.add_layout(caption1, 'below')\n",
        "\n",
        "    #Definiera vart resultatet ska visas:\n",
        "    output_notebook()\n",
        "    \n",
        "    #Visa plott:\n",
        "    show(p)"
      ],
      "execution_count": 0,
      "outputs": []
    },
    {
      "cell_type": "markdown",
      "metadata": {
        "id": "YXDl62sOgMJ5",
        "colab_type": "text"
      },
      "source": [
        "Vi har skapat en funktion `plott` i bakgrundskoden. Funktionen plottar ett interaktivt diagram. Man ska ange två argument vid anropet. Det första är tabellen med koldioxid-värden som ska plottas. Det andra är färgen som plotten ska ha.\n",
        "\n",
        "Här är ett exempel på hur man anropar funktionen. Observera att du inte behöver förstå koden inuti funktionen, bara hur man anropar den.\n",
        "Funktionen kommer att skapa olika diagram baserat på vilka värden du anger som argument.\n",
        "\n",
        "\n",
        "```python\n",
        "#Anropa funktionen plott för att plotta data för \"co2_tabell_ind\". Ange även vilken färg du vill plotten ska ha.\n",
        "plott(co2_tabell_ind, color=\"green\")\n",
        "```\n",
        "\n",
        "**Uppdrag:** Ta bort kommentartecknet framför anropet nedan och kör anropet. Får du fram en plot? Prova de interaktiva verktygen på högersidan av plotten. Håll musen över verktygen så ser du vilka som är vilka. Klicka på verktygen och prova hur de fungerar:\n",
        "- Boz zoom: Zooma in på ett delområde\n",
        "- Hover: Visa värden i plotten\n",
        "- Reset: Återställ plotten till ursprungliga vyn"
      ]
    },
    {
      "cell_type": "code",
      "metadata": {
        "deletable": false,
        "editable": false,
        "id": "xzAMKBxLyART",
        "colab_type": "code",
        "colab": {}
      },
      "source": [
        "#Ta bort kommentartecknet på nästa rad. Får du fram en plot när du kör koden?\n",
        "#plott(co2_tabell_ind, color='green')"
      ],
      "execution_count": 0,
      "outputs": []
    },
    {
      "cell_type": "markdown",
      "metadata": {
        "deletable": false,
        "editable": false,
        "id": "A1g53TOXyARk",
        "colab_type": "text"
      },
      "source": [
        "<br>\n",
        "\n",
        "**Uppdrag:** Nu skall du skapa en ny plot och undersöka olika egenskaper:\n",
        "\n",
        "1. Skriv kod i rutan nedan för att skapa en likadan plot, men med en annan färg. \n",
        "2. Använd verktygen Box-Zoom & Hover för att zooma in och se under vilka månader de högsta värdena observerats. Varför är värdena höga under den tiden?\n",
        "3. Använd verktygen Box-Zoom och Hover för att se under vilka månader de lägsta värdena observeras? Vad tror du att det beror på?\n",
        "4. Använd verktygen Box-Zoom och Hover för att zooma in på dagen den 24 Juli 2017. Observera att värdena är höga så länge det är mörkt och går ner så länge det är ljust. Vilken process tror du orsakar detta?"
      ]
    },
    {
      "cell_type": "code",
      "metadata": {
        "id": "p7e0FLkUyARr",
        "colab_type": "code",
        "colab": {}
      },
      "source": [
        "#Skriv din kod här:\n"
      ],
      "execution_count": 0,
      "outputs": []
    },
    {
      "cell_type": "markdown",
      "metadata": {
        "deletable": false,
        "editable": false,
        "id": "5mNueNDoyAR1",
        "colab_type": "text"
      },
      "source": [
        "<br>\n",
        "<br>\n",
        "<a id='final_exercise_py'></a>"
      ]
    },
    {
      "cell_type": "markdown",
      "metadata": {
        "id": "hFcXbpYAyAR5",
        "colab_type": "text"
      },
      "source": [
        "## 5. Hjälp Forskaren\n",
        "\n",
        "Under sommaren 2018 observerades höga temperaturer över hela Sverige. Det var en sommar då det dessutom regnade väldigt lite. När temperaturen blir för hög och jorden för torr kan många växter sluta fotosyntetisera, dvs sluta växa. Det är en försvarsmekanism, eftersom växter blir av med vatten när de fotosyntetiserar. När en växt slutar fotosyntetisera så slutar den att ta upp koldioxid från luften.\n",
        "\n",
        "Annika är klimatforskare och vill se ifall torkan under sommaren 2018 påverkade växtligheten nära Hyltemossa mätstation. Ett sätt att avgöra det är att undersöka hur mycket koldioxid som togs upp från luften under den sommaren (dvs mäta hur mycket växterna fotosyntetiserade). *Gross Primary Production* (GPP) är ett mått på hur mycket kemisk energi som binds i ett ekosystem, typiskt genom att koldioxid tas upp vid fotosyntes och binds som kolföreningar i växterna. Martin, som är ansvarig för Hyltemossa mätstation, har skickat Annika en datafil med värden som visar upptag av CO$_2$ för åren 2015 - 2018. \n",
        "\n",
        "Annika tänkte plotta dessa värden för att visuellt inspektera skillnader mellan upptaget av CO$_2$ mellan 2018 och de tidigare åren. Hon tänkte även beräkna summan av det totala upptaget av CO$_2$ för sommarmånaderna 2018 och jämföra den med motsvarande summor för de tidigare åren. \n",
        "\n",
        "Annika har fullt upp med fältarbete. \n",
        "Kan du hjälpa henne med att skapa plotten och genomföra beräkningarna?\n",
        "\n",
        "<br>\n",
        "<br>\n",
        "\n",
        "Datafilen som Martin skickade ligger på följande address på internet: https://github.com/lunduniversity/schoolprog-satellite-data/raw/master/carboncycle/co2_uptake/htm_gpp\n",
        "\n",
        "\n",
        "**Steg 1:** Läs in datafilen Martin skickade till en tabell. Döp tabellen till `gpp`. Tips:\n",
        "- Använd `!wget`-kommandot för att hämta filen över internet.\n",
        "- Använd `read_cvs`-funktionen i pandas-biblioteket för att läsa in filen.\n",
        "- Som du kan se i datafilen så innehåller rad `0` kolumnnamnen, avgränsaren är `;`, och namnet för kolumnen med tidsinformation är `time`. Detta behöver du ange som parametrar till `read_cvs`.\n",
        "- Skriv gärna ut de fem första raderna så att du ser att tabellen har kommit in rätt.\n",
        "\n",
        "\n"
      ]
    },
    {
      "cell_type": "code",
      "metadata": {
        "id": "Wt001Rb0Eeod",
        "colab_type": "code",
        "colab": {}
      },
      "source": [
        "# Skriv din kod för Steg 1 här:\n",
        "\n",
        "\n"
      ],
      "execution_count": 0,
      "outputs": []
    },
    {
      "cell_type": "markdown",
      "metadata": {
        "id": "qTI4WZ9kEmEM",
        "colab_type": "text"
      },
      "source": [
        "**Steg 2:** Skapa en ny tabell `gpp_ind` som indexeras efter kolumnen `time`. Tips! Använd funktionen `set_index`."
      ]
    },
    {
      "cell_type": "code",
      "metadata": {
        "id": "YtjVrsNUErfm",
        "colab_type": "code",
        "colab": {}
      },
      "source": [
        "# Skriv din kod för Steg 2 här:\n",
        "\n",
        "\n"
      ],
      "execution_count": 0,
      "outputs": []
    },
    {
      "cell_type": "markdown",
      "metadata": {
        "id": "aT3weB_1LCAP",
        "colab_type": "text"
      },
      "source": [
        "En hjälpfunktion `plott_gpp(tabell_namn, färg)` har definierats i bakgrundskoden."
      ]
    },
    {
      "cell_type": "code",
      "metadata": {
        "id": "N6hmef81yARF",
        "colab_type": "code",
        "cellView": "form",
        "colab": {}
      },
      "source": [
        "#@title Bakgrundskod för plott_gpp\n",
        "def plott_gpp(df, color='lightgray'):\n",
        "    \n",
        "    #Import modules:\n",
        "    from matplotlib import pyplot as plt\n",
        "    import matplotlib.dates as mdates\n",
        "    from pandas.plotting import register_matplotlib_converters\n",
        "    plt.style.use('seaborn-whitegrid')\n",
        "    import numpy as np\n",
        "    import pandas as pd\n",
        "    \n",
        "    #Skapa en python dictionary för att transformera nummer till upphöjd eller nedsänkt text:\n",
        "    SUP = str.maketrans(\"0123456789\", \"⁰¹²³⁴⁵⁶⁷⁸⁹\")\n",
        "\n",
        "    #Call matplotlib converters to activate them:\n",
        "    register_matplotlib_converters()\n",
        "\n",
        "    #Create figure:\n",
        "    fig = plt.figure(figsize=(20,8))\n",
        "    \n",
        "    #Create plot:\n",
        "    plt.plot(df.index.values, df.GPP.values, color)\n",
        "    \n",
        "    #Set ticks on x-axis:\n",
        "    plt.gca().set_xticks([df.index.values.min(),\n",
        "                          df.index.values.min() + np.timedelta64(151, 'D'),\n",
        "                          df.index.values.min() + np.timedelta64(242, 'D'),\n",
        "                          df.index.values.min() + np.timedelta64(365, 'D'),\n",
        "                          df.index.values.min() + np.timedelta64(517, 'D'),\n",
        "                          df.index.values.min() + np.timedelta64(608, 'D'),\n",
        "                          np.datetime64('2017-01-01T00:30:00.000000000'),\n",
        "                          np.datetime64('2017-01-01T00:30:00.000000000') + np.timedelta64(151, 'D'),\n",
        "                          np.datetime64('2017-01-01T00:30:00.000000000') + np.timedelta64(242, 'D'),\n",
        "                          df.index.values.max() - np.timedelta64(365, 'D'),\n",
        "                          df.index.values.max() - np.timedelta64(214, 'D'),\n",
        "                          df.index.values.max() - np.timedelta64(123, 'D'),\n",
        "                          df.index.values.max()])\n",
        "    \n",
        "    \n",
        "    plt.gca().xaxis.set_major_formatter(mdates.DateFormatter('%Y-%m-%d'))\n",
        "    plt.gcf().autofmt_xdate()\n",
        "    plt.xlabel('Tid', fontsize=14, labelpad=20)\n",
        "    plt.ylabel('GPP ('+'umol m-2 s-1'.replace('u', '\\u03BC').translate(SUP)+')', fontsize=14, labelpad=20)\n",
        "    plt.title('Upptag av kol (GPP) vid Hyltemossa mätstation', fontsize=18, pad=20)\n",
        "    \n",
        "    #Show plot:\n",
        "    plt.show()"
      ],
      "execution_count": 0,
      "outputs": []
    },
    {
      "cell_type": "markdown",
      "metadata": {
        "id": "iF_aUEAjGSu7",
        "colab_type": "text"
      },
      "source": [
        "**Steg 3:** Plotta alla värdena i tabellen `gpp_ind` med hjälp av funktionen `plott_gpp(tabell_namn, färg)`. Besvara sedan följande frågor:\n",
        "\n",
        "> **Fråga 1.** Under vilken årstid verkar de flesta höga upptagen av CO$_2$ vanligtvis ske?<br>\n",
        "**Fråga 2.** Följer värdena för 2018 samma mönster som värdena för de andra åren?\n",
        "\n"
      ]
    },
    {
      "cell_type": "code",
      "metadata": {
        "id": "D4Pkq2UTGx6x",
        "colab_type": "code",
        "colab": {}
      },
      "source": [
        "# Skriv din kod för Steg 3 här:\n",
        "\n",
        "\n"
      ],
      "execution_count": 0,
      "outputs": []
    },
    {
      "cell_type": "markdown",
      "metadata": {
        "id": "DBXWRFq_ESG5",
        "colab_type": "text"
      },
      "source": [
        "**Steg 4:** Beräkna hur mycket CO$_2$ som togs upp från luften under sommarmånaderna för varje år. Besvara sedan frågorna nedan.\n",
        "\n",
        "***Tips!*** Pythons inbyggda funktion `sum()` kan användas för att beräkna summan av alla värdena i en kolumn. Du kan använda den på samma sätt som du tidigare jobbade med funktionerna `min()`, `max()` och `mean()`.\n",
        "\n",
        "> **Fråga 3.** Vilket var det lägsta totala upptaget av CO$_2$ (under sommartid) för de olika åren?<br>\n",
        "**Fråga 4.** För vilket år inträffade detta?<br>\n",
        "**Fråga 5.** Påverkades växtligheten runt Hyltemossa av torkan under sommaren 2018? Hur mycket?"
      ]
    },
    {
      "cell_type": "code",
      "metadata": {
        "id": "SBjnY1XMyAR9",
        "colab_type": "code",
        "colab": {}
      },
      "source": [
        "# Skriv din kod för Steg 4 här:\n",
        "\n",
        "\n",
        "\n",
        "\n"
      ],
      "execution_count": 0,
      "outputs": []
    },
    {
      "cell_type": "markdown",
      "metadata": {
        "deletable": false,
        "editable": false,
        "id": "0cmw8DEvyASH",
        "colab_type": "text"
      },
      "source": [
        "<img src=\"https://github.com/lunduniversity/schoolprog-satellite/blob/master/exercises/kolcykeln/images/sciencecenters_logo.png?raw=1\" width=\"800\"/>"
      ]
    },
    {
      "cell_type": "markdown",
      "metadata": {
        "deletable": false,
        "editable": false,
        "id": "gCVr0hjRyASL",
        "colab_type": "text"
      },
      "source": [
        "###### icon credits\n",
        " <font size=\"0.7\">CO$_2$-icon made by Freepik from www.flaticon.com</font>"
      ]
    }
  ]
}