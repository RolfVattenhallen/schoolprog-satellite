{
  "nbformat": 4,
  "nbformat_minor": 0,
  "metadata": {
    "colab": {
      "name": "Valdeltagande.ipynb",
      "provenance": [],
      "collapsed_sections": [],
      "toc_visible": true
    },
    "kernelspec": {
      "name": "python3",
      "display_name": "Python 3"
    }
  },
  "cells": [
    {
      "cell_type": "markdown",
      "metadata": {
        "id": "ZN8htASeRXBQ",
        "colab_type": "text"
      },
      "source": [
        "# Valdeltagande i Sveriges riksdagsval 2018\n",
        "\n",
        "I den här uppgiften ska vi kolla på statistik för valdeltagande i olika kommuner i Sveriges riksdagsval 2018. Alltså hur stor andel av de som fick rösta i varje kommun som faktiskt gjorde det. För att klara uppgiften behöver du ha lite koll på for-loopar och if-satser samt list-slicing.\n",
        "\n",
        "![Bild på valsedlar](https://upload.wikimedia.org/wikipedia/commons/4/4f/Swedish_election_ballots_2014.jpg)\n",
        "[Foto](https://sv.m.wikipedia.org/wiki/Fil:Swedish_election_ballots_2014.jpg) av SergeWoodzing / [CC BY-SA](https://creativecommons.org/licenses/by-sa/3.0/deed.sv)\n",
        "\n",
        "Vi kommer att sortera datan dels efter valdeltagande, dels efter kommunnamn. Först görs detta med en egen algoritm, men vi kommer i slutet kolla på hur man kan göra samma sak med pythons inbyggda bibliotek."
      ]
    },
    {
      "cell_type": "markdown",
      "metadata": {
        "id": "97kWr_a-RkEO",
        "colab_type": "text"
      },
      "source": [
        "# Ladda ner data\n",
        "\n",
        "Vi börjar med att ladda ner data."
      ]
    },
    {
      "cell_type": "code",
      "metadata": {
        "id": "RXPdBWk7RsYq",
        "colab_type": "code",
        "colab": {}
      },
      "source": [
        "import pandas as pd\n",
        "import matplotlib.pyplot as plt\n",
        "!wget https://github.com/lunduniversity/schoolprog-satellite/raw/master/exercises/valdeltagande/valdeltagande_riksdagsval_2018.xlsx -q\n",
        "\n",
        "voting='valdeltagande_riksdagsval_2018.xlsx'\n",
        "df = pd.read_excel(voting, skiprows=3, nrows=290,usecols=[0,3,4])\n",
        "tabell = df.values.tolist() #Skapar en matris med innehållet från excel-filen\n",
        "\n",
        "# Ta bort kommunkoder som ligger före kommunnamnen.\n",
        "for row in range(len(tabell)):\n",
        "  tabell[row][0] = tabell[row][0][5:]\n",
        "pd.DataFrame(tabell) #Printad som tabell"
      ],
      "execution_count": null,
      "outputs": []
    },
    {
      "cell_type": "markdown",
      "metadata": {
        "id": "vGFc-s85YZR2",
        "colab_type": "text"
      },
      "source": [
        "Nu har vi en tabell över valdeltagandet i valet 2018. Den första kolumnen visar kommunnamnet. Den andra kolumnen visar hur många som röstade i kommunen. Den tredje kolumnen visar antalet procent av de röstberättigade som röstade."
      ]
    },
    {
      "cell_type": "markdown",
      "metadata": {
        "id": "qseG4CIZY8tJ",
        "colab_type": "text"
      },
      "source": [
        "# Sortering\n",
        "\n",
        "Vårt mål är att skapa en ny tabell sorterad efter hur många procent av de röstberättigade som röstade i varje kommun."
      ]
    },
    {
      "cell_type": "markdown",
      "metadata": {
        "id": "ItsN4Q6tZ7_2",
        "colab_type": "text"
      },
      "source": [
        "Först kopierar vi innehållet från `tabell` till `vote_sorted_tabell`. Innehållet är förstås inte sorterat än.\n",
        "\n",
        "Sorteringen kan vi göra genom att först gå igenom hela listan och hitta kommunen med störst andel röstande, och lägga den kommunen först. Då vet vi att den ligger på rätt plats och kan bortse från den i fortsättningen. Vi går sedan igenom resterande kommuner och hittar kommunen med störst andel röstande utav dem, och lägger den på platsen precis efter den första och så vidare.\n",
        "\n",
        "Detta kan vi också se som att vi har två index i varsin for-loop. Det första indexet går från vänster till höger. För varje steg av det första indexet går det andra indexet igenom listan till höger om det första och byter plats på element om de är i fel ordning jämfört med elementet vid det första indexet. Det vill säga om det högra elementet är större än det vänstra. Även om vi kanske inte på en gång lägger det största elementet på den första positionen, kommer vi ha gjort det när vi gått igenom hela listan med det andra indexet.\n",
        "\n",
        "Koden med kopieringen och looparna finns redan. Du får i uppgift att skriva koden som byter plats på elementen om de är i fel ordning."
      ]
    },
    {
      "cell_type": "code",
      "metadata": {
        "id": "-wS4NgxLZ7nU",
        "colab_type": "code",
        "colab": {}
      },
      "source": [
        "vote_sorted_tabell = tabell.copy()\n",
        "\n",
        "# index1 till vänster, index2 går igenom listan till höger om index1.\n",
        "for index1 in range(len(vote_sorted_tabell) - 1):\n",
        "  for index2 in range(index1 + 1, len(vote_sorted_tabell)):\n",
        "    \n",
        "    # Skapa item1 och item2, elementen som ligger på index1 och index2 i vote_sorted_tabell \n",
        "    item1 = ???\n",
        "    item2 = ???\n",
        "\n",
        "    # Om item2 har större valdeltagande i procent än item1, byt plats på dem. Det vill \n",
        "    # säga stoppa in item2 på index1 och item1 på index2 i vote_sorted_tabell. \n",
        "    if ???:\n",
        "      ???\n",
        "      ???\n",
        "  \n",
        "# Kolla att sorteringen fungerade\n",
        "print(vote_sorted_tabell)"
      ],
      "execution_count": null,
      "outputs": []
    },
    {
      "cell_type": "markdown",
      "metadata": {
        "id": "fPO_M-pYL4sj",
        "colab_type": "text"
      },
      "source": [
        "<details>\n",
        "<summary markdown=\"span\">\n",
        "Lösning\n",
        "</summary>\n",
        "<p>\n",
        "\n",
        "```python\n",
        "        item1 = vote_sorted_tabell[index1]\n",
        "        item2 = vote_sorted_tabell[index2]\n",
        "        # På index 2 ligger valdeltagandet i procent.\n",
        "        if item2[2] > item1[2]:\n",
        "          vote_sorted_tabell[index1] = item2\n",
        "          vote_sorted_tabell[index2] = item1\n",
        "```\n",
        "</p>\n",
        "</details>"
      ]
    },
    {
      "cell_type": "markdown",
      "metadata": {
        "id": "Rhj8e0M0Lrgp",
        "colab_type": "text"
      },
      "source": [
        "Kör koden och kolla att sorteringen blir som du förväntar dig. Kommunen med högst valdeltagande ska hamna först. \n",
        "\n",
        "Försök förstå koden och varför sorteringen fungerar. Sorteringsalgoritmen är en modifierad Urvalssortering. Du kan läsa mer om urvalssortering på [Wikipedia](https://sv.wikipedia.org/wiki/Urvalssortering)."
      ]
    },
    {
      "cell_type": "markdown",
      "metadata": {
        "id": "LF-oguNNO9E_",
        "colab_type": "text"
      },
      "source": [
        "Nu när du har en sorterad lista kan du tydligare se vilka kommuner som har ett bra eller dåligt valdeltagande.\n",
        "\n",
        "Vilken kommun har störst valdeltagande? Vilken kommun har minst valdeltagande?"
      ]
    },
    {
      "cell_type": "code",
      "metadata": {
        "id": "4-Bu34Z4N1ig",
        "colab_type": "code",
        "colab": {}
      },
      "source": [
        "print(???)"
      ],
      "execution_count": null,
      "outputs": []
    },
    {
      "cell_type": "markdown",
      "metadata": {
        "id": "TtXDs9JjNz8W",
        "colab_type": "text"
      },
      "source": [
        "<details>\n",
        "<summary markdown=\"span\">\n",
        "Tips\n",
        "</summary>\n",
        "<p>\n",
        "Kolla i början och slutet av <code>vote_sorted_tabell</code>.\n",
        "</p>\n",
        "</details>\n",
        "\n",
        "<details>\n",
        "<summary markdown=\"span\">\n",
        "Svar\n",
        "</summary>\n",
        "<p>\n",
        "Lomma har störst valdeltagande på 95%. Haparanda har minst på 76%. \n",
        "</p>\n",
        "</details>"
      ]
    },
    {
      "cell_type": "markdown",
      "metadata": {
        "id": "RMPuXAgSj87O",
        "colab_type": "text"
      },
      "source": [
        "Kan du ta reda på vad mediantalet för valdeltagandet är?\n",
        "Kolla på det första tipset om du inte vet vad median betyder."
      ]
    },
    {
      "cell_type": "code",
      "metadata": {
        "id": "X-uo_8kbj5aS",
        "colab_type": "code",
        "colab": {}
      },
      "source": [
        "print(???)"
      ],
      "execution_count": null,
      "outputs": []
    },
    {
      "cell_type": "markdown",
      "metadata": {
        "id": "3MveZpOJhhcb",
        "colab_type": "text"
      },
      "source": [
        "<details>\n",
        "<summary markdown=\"span\">\n",
        "Tips 1\n",
        "</summary>\n",
        "<p>\n",
        "Median kan ses som mittentalet. Det innebär att man sorterar talen och sen tar talet i mitten av den sorterade sekvensen. T.ex. om man har talen 3,7,1,4,10 så blir det sorterat 1,3,4,7,10. Då är 4 i mitten och därmed median. Om sekvensen har ett jämnt antal element så finns det två tal i mitten. Medianen blir då medelvärdet av dessa två.\n",
        "</p>\n",
        "</details>\n",
        "\n",
        "<details>\n",
        "<summary markdown=\"span\">\n",
        "Tips 2\n",
        "</summary>\n",
        "<p>\n",
        "Vi har 290 kommuner totalt. Då är index 144 och 145 i mitten.\n",
        "</p>\n",
        "</details>\n",
        "\n",
        "<details>\n",
        "<summary markdown=\"span\">\n",
        "Svar\n",
        "</summary>\n",
        "<p>\n",
        "Mediantalet är 88%. Det kan man komma fram till genom att skriva <code>print(vote_sorted_tabell[144])</code> och <code>print(vote_sorted_tabell[145])</code>. Båda värdena är 88%. Hade de varit olika hade vi behövt ta medelvärdet av de två mittentalen för att få mediantalet.\n",
        "</p>\n",
        "</details>"
      ]
    },
    {
      "cell_type": "markdown",
      "metadata": {
        "id": "xjuPcDY1mAS4",
        "colab_type": "text"
      },
      "source": [
        "Nu vet du det högsta och lägsta valdeltagandet, samt medianen.\n",
        "\n",
        "Tycker du att valdeltagandet var bra eller dåligt i Sverige? Vad kan det bli för problem i ett land om valdeltagandet är lågt? \n",
        "\n",
        "Ett av FNs globala mål handlar om att ha [fredliga och inkluderande samhällen](https://www.globalamalen.se/om-globala-malen/mal-16-fredliga-och-inkluderande-samhallen/). Ett sätt att se till att ha ett inkluderande samhälle är att så många som möjligt är med och bestämmer. \n",
        "\n"
      ]
    },
    {
      "cell_type": "markdown",
      "metadata": {
        "id": "fEfILMvDP5lw",
        "colab_type": "text"
      },
      "source": [
        "## Sortera i bokstavsordning\n",
        "\n",
        "Det kan vara svårt att hitta en specifik kommun i listorna. Om vi kunde sortera dem i bokstavsordning efter kommunnamn hade det varit lättare. Smidigt nog kan man jämföra strängar (text) på ungefär samma sätt som tal i python, fast man kollar då på bokstavsordningen. En sträng som är tidigare i bokstavsordning ses som mindre än en sträng som ska hamna senare."
      ]
    },
    {
      "cell_type": "code",
      "metadata": {
        "id": "625UFMR_RKPz",
        "colab_type": "code",
        "colab": {}
      },
      "source": [
        "print(5 < 7) #True\n",
        "print(7 < 5) #False\n",
        "print(\"hej\" < \"nej\") #True\n",
        "print(\"axy\" > \"zab\") #False\n",
        "print(\"a\" < \"b\") #True"
      ],
      "execution_count": null,
      "outputs": []
    },
    {
      "cell_type": "markdown",
      "metadata": {
        "id": "0yUKLsDTRlvd",
        "colab_type": "text"
      },
      "source": [
        "Använd din tidigare kod för att sortera på valdeltagande i kodrutan här nedanför. Ändra den så att den skapar en annan tabell `kommun_sorted_tabell` och sorterar på kommunnamn istället för valdeltagande. Eftersom `'a'` anses mindre än `'b'` ska vi nu lägga små istället för stora element i början av listan för att få en vanlig alfabetisk sortering."
      ]
    },
    {
      "cell_type": "code",
      "metadata": {
        "id": "iHYGUWKJSlQL",
        "colab_type": "code",
        "colab": {}
      },
      "source": [
        "kommun_sorted_tabell = tabell.copy()\n",
        "\n",
        "# Avänd din tidigare kod men ändra så att det sorteras på kommun istället.\n"
      ],
      "execution_count": null,
      "outputs": []
    },
    {
      "cell_type": "markdown",
      "metadata": {
        "id": "gf4bdZmZTN_w",
        "colab_type": "text"
      },
      "source": [
        "<details>\n",
        "<summary markdown=\"span\">\n",
        "Lösning\n",
        "</summary>\n",
        "<p>\n",
        "\n",
        "```python\n",
        "kommun_sorted_tabell = tabell.copy()\n",
        "\n",
        "# index1 till vänster, index2 går igenom listan till höger om index1.\n",
        "for index1 in range(len(kommun_sorted_tabell) - 1):\n",
        "  for index2 in range(index1 + 1, len(kommun_sorted_tabell)):\n",
        "    \n",
        "    item1 = kommun_sorted_tabell[index1]\n",
        "    item2 = kommun_sorted_tabell[index2]\n",
        "\n",
        "    # Om item2 har mindre kommun än item1 enligt alfabetisk ordning, byt plats på dem. Det vill \n",
        "    # säga stoppa in item2 på index1 och item1 på index2 i kommun_sorted_tabell. \n",
        "    if item2[0] < item1[0]:\n",
        "      kommun_sorted_tabell[index1] = item2\n",
        "      kommun_sorted_tabell[index2] = item1\n",
        "  \n",
        "# Kolla att sorteringen fungerade\n",
        "print(kommun_sorted_tabell)\n",
        "```\n",
        "</p>\n",
        "</details>"
      ]
    },
    {
      "cell_type": "markdown",
      "metadata": {
        "id": "X7Z2e20tUst5",
        "colab_type": "text"
      },
      "source": [
        "Nu borde det vara lättare för dig att hitta till exempel din egen kommun. Hur var valdeltagandet där?"
      ]
    },
    {
      "cell_type": "markdown",
      "metadata": {
        "id": "Ib5YpbIbVhVD",
        "colab_type": "text"
      },
      "source": [
        "# Pythons inbyggda sortering\n",
        "\n",
        "Att själv implementera en sorteringsalgoritm när man programmerar är väldigt ovanligt. Oftast använder man en färdig sortering som tillhandahålls av språket eller något bibliotek man använder. Det är för att sorteringar kan bil ganska komplicerade om man vill att de ska vara så snabba som möjligt. I python finns det en funktion `sort` som kan hjälpa en med just detta.\n",
        "\n",
        "Istället för att skriva sorteringen för kommuner som innan kan man göra på följande sätt:"
      ]
    },
    {
      "cell_type": "code",
      "metadata": {
        "id": "47__vJ46WNtZ",
        "colab_type": "code",
        "colab": {}
      },
      "source": [
        "kommun_sorted_tabell = tabell.copy()\n",
        "kommun_sorted_tabell.sort()\n",
        "print(kommun_sorted_tabell)"
      ],
      "execution_count": null,
      "outputs": []
    },
    {
      "cell_type": "markdown",
      "metadata": {
        "id": "f7d-wwF4WucS",
        "colab_type": "text"
      },
      "source": [
        "Det var ju smidigt. Men hur ska vi göra om vi vill sortera efter valdeltagande, som vi gjorde innan?\n",
        "\n",
        "I den här sorteringen så sorterades raderna i tabellen automatiskt på det första elementet, det vill säga kommunen.\n",
        "\n",
        "För att sortera på något annat måste man explicit berätta det. Det kan göras på följande vis:"
      ]
    },
    {
      "cell_type": "code",
      "metadata": {
        "id": "mjDp3Ro5Xoal",
        "colab_type": "code",
        "colab": {}
      },
      "source": [
        "def sorterings_nyckel(rad):\n",
        "  return rad[2] #Sortera på valdeltagande\n",
        "\n",
        "vote_sorted_tabell = tabell.copy()\n",
        "vote_sorted_tabell.sort(key = sorterings_nyckel)\n",
        "print(vote_sorted_tabell)"
      ],
      "execution_count": null,
      "outputs": []
    },
    {
      "cell_type": "markdown",
      "metadata": {
        "id": "I_6Z1wRaX07C",
        "colab_type": "text"
      },
      "source": [
        "Vi skickar med en nyckel, `key`, som säger hur listan ska sorteras. Som nyckel skickar vi in `sorterings_nyckel`, som i sin tur talar om att listan ska sorteras på valdeltagande. `sort` får alltså en parameter `key` som är en funktion som anropas på varje element i listan. Sen sorteras elementen i listan på de returnerade värdena."
      ]
    },
    {
      "cell_type": "markdown",
      "metadata": {
        "id": "BTpQFNygYnPx",
        "colab_type": "text"
      },
      "source": [
        "Listan blir nu sorterad med minst valdeltagande först. Det är för att python alltid sorterar i stigande ordning. Om vi vill ha det i minskande ordning kan vi använda ett litet knep: Vi byter tecken på värdena som `sorterings_nyckel` returnerar. Då blir stora tal, t.ex. 95, en nyckel som är mycket liten, -95."
      ]
    },
    {
      "cell_type": "code",
      "metadata": {
        "id": "UW175KvCZD21",
        "colab_type": "code",
        "colab": {}
      },
      "source": [
        "def sorterings_nyckel(rad):\n",
        "  return -rad[2] #Sortera på valdeltagande, vänd ordning\n",
        "\n",
        "vote_sorted_tabell = tabell.copy()\n",
        "vote_sorted_tabell.sort(key = sorterings_nyckel)\n",
        "print(vote_sorted_tabell)"
      ],
      "execution_count": null,
      "outputs": []
    },
    {
      "cell_type": "markdown",
      "metadata": {
        "id": "v-tYlTcmZgDo",
        "colab_type": "text"
      },
      "source": [
        "Notera att själva värdena i listan inte har bytt tecken. Det är för att nyckeln bara säger vad `sort` ska sortera på, det ändrar inte de faktiska elementen i listan. Det finns även en parameter `reverse` som vi kan använda för att vända på listan. Testa att ta bort minustecknet och ändra den 5:e raden till `vote_sorted_tabell.sort(key = sorterings_nyckel, reverse = True)`."
      ]
    },
    {
      "cell_type": "markdown",
      "metadata": {
        "id": "-43w0BgHXRcS",
        "colab_type": "text"
      },
      "source": [
        "Som vi såg längre upp kunde vi strunta i att skicka parametern `key` till `sort`, så sorterades det på kommunnamn. Vi kan dock få det att sorteras på kommunnamn även om vi använder `key`. Fyll i vad som ska användas som nyckel så att listan blir sorterad i bokstavsordning."
      ]
    },
    {
      "cell_type": "code",
      "metadata": {
        "id": "-PH7RkKBYCVC",
        "colab_type": "code",
        "colab": {}
      },
      "source": [
        "def sorterings_nyckel(rad):\n",
        "  return ??? #Hur ska vi sortera på kommunnamn?\n",
        "\n",
        "kommun_sorted_tabell = tabell.copy()\n",
        "kommun_sorted_tabell.sort(key = sorterings_nyckel)\n",
        "print(kommun_sorted_tabell)"
      ],
      "execution_count": null,
      "outputs": []
    },
    {
      "cell_type": "markdown",
      "metadata": {
        "id": "kBsbbGQxZXNO",
        "colab_type": "text"
      },
      "source": [
        "<details>\n",
        "<summary markdown=\"span\">\n",
        "Lösning\n",
        "</summary>\n",
        "<p>\n",
        "\n",
        "```python\n",
        "def sorterings_nyckel(rad):\n",
        "  return rad[0]\n",
        "```\n",
        "</p>\n",
        "</details>"
      ]
    },
    {
      "cell_type": "markdown",
      "metadata": {
        "id": "R8O19SsZZt6l",
        "colab_type": "text"
      },
      "source": [
        "Kanske ser du att ändringarna vi gör här är ungefär samma som ändringarna från att sortera på valdeltagande till att sortera på kommunnamn när vi skrev sorteringen själv tidigare. Det är lite det som är poängen också. Till funktionen `sort` behöver man bara skicka hur listan ska sorteras, sen sköter `sort` själva sorteringen."
      ]
    },
    {
      "cell_type": "markdown",
      "metadata": {
        "id": "dri5W7xEhDN6",
        "colab_type": "text"
      },
      "source": [
        "Som sista uppgift ska du få sortera kommunerna på total röstberättigad befolkning. Vi börjar som övning med att räkna ut den totala röstberättigade befolkningen för en kommun. I Borås var det 79845 som röstade, och 88% av de röstberättigade röstade. Hur många var röstberättigade i Borås?\n",
        "\n",
        "\n"
      ]
    },
    {
      "cell_type": "code",
      "metadata": {
        "id": "ndKv-YTeMy9B",
        "colab_type": "code",
        "colab": {}
      },
      "source": [
        "#Kan skriva kod för att räkna om du vill"
      ],
      "execution_count": null,
      "outputs": []
    },
    {
      "cell_type": "markdown",
      "metadata": {
        "id": "Z9giEZVBMuF8",
        "colab_type": "text"
      },
      "source": [
        "<details>\n",
        "<summary markdown=\"span\">\n",
        "Tips\n",
        "</summary>\n",
        "<p>\n",
        "Använd ett samband mellan antalet röstberättigade personer, antalet som röstat, och hur många procent av den röstberättigade befolkningen som röstat.\n",
        "</p>\n",
        "</details>\n",
        "\n",
        "<details>\n",
        "<summary markdown=\"span\">\n",
        "Svar\n",
        "</summary>\n",
        "<p>\n",
        "79845*100/88 ≈ 90733 personer\n",
        "</p>\n",
        "</details>"
      ]
    },
    {
      "cell_type": "markdown",
      "metadata": {
        "id": "Gix6XgWgkJVK",
        "colab_type": "text"
      },
      "source": [
        "Skriv nu kod som sorterar kommunerna efter hur stor röstberättigad befolkning de har. "
      ]
    },
    {
      "cell_type": "code",
      "metadata": {
        "id": "ZYC91vsrhard",
        "colab_type": "code",
        "colab": {}
      },
      "source": [
        "def sorterings_nyckel(rad):\n",
        "  return ??? #Hur ska vi räkna ut hur många röstberättigade det är i varje kommun?\n",
        "\n",
        "voters_sorted_tabell = tabell.copy()\n",
        "voters_sorted_tabell.sort(key = sorterings_nyckel)\n",
        "print(voters_sorted_tabell)"
      ],
      "execution_count": null,
      "outputs": []
    },
    {
      "cell_type": "markdown",
      "metadata": {
        "id": "1d56Y3eWkizg",
        "colab_type": "text"
      },
      "source": [
        "<details>\n",
        "<summary markdown=\"span\">\n",
        "Lösning\n",
        "</summary>\n",
        "<p>\n",
        "Det här blir stigande ordning. Vill man ha minskande ordning får man sätta in ett minustecken.\n",
        "\n",
        "```python\n",
        "def sorterings_nyckel(rad):\n",
        "  return rad[1]*100/rad[2]\n",
        "```\n",
        "</p>\n",
        "</details>"
      ]
    },
    {
      "cell_type": "markdown",
      "metadata": {
        "id": "XNWgntrUeVjg",
        "colab_type": "text"
      },
      "source": [
        "#Extrauppgift - Hitta på något att sortera på\n",
        "\n",
        "Om du vill så kan du sortera på något mer sätt. Du får gärna hitta på någon sorteringsordning själv, du kan också prova något av dessa kluriga alternativ:\n",
        "\n",
        "*   Sortera på ökande valdeltagande, men din egen kommun ska alltid hamna först.\n",
        "*   Sortera i omvänd bokstavsordning, kommuner som börjar på \"Ö\" ska komma först.\n",
        "*   Sortera i bokstavsordning, men det är i bokstavsordning för någon som läser alla ord baklänges. Kommuner som slutar på \"a\" ska komma först.\n",
        "*   Sortera i ökande ordning på hur mycket valdeltagandet skiljer sig från median-valdeltagandet. Tips! `abs(a-b)` ger den positiva skillnaden mellan talen a och b i python. Minns du vad medianvärdet var?\n",
        "\n"
      ]
    },
    {
      "cell_type": "code",
      "metadata": {
        "id": "uMYBli7VhIqY",
        "colab_type": "code",
        "colab": {}
      },
      "source": [
        "def sorterings_nyckel(rad):\n",
        "  return ??? #Gör en egen sortering!\n",
        "\n",
        "my_sorted_tabell = tabell.copy()\n",
        "my_sorted_tabell.sort(key = sorterings_nyckel)\n",
        "print(my_sorted_tabell)"
      ],
      "execution_count": null,
      "outputs": []
    },
    {
      "cell_type": "markdown",
      "metadata": {
        "id": "72wqMC-8som6",
        "colab_type": "text"
      },
      "source": [
        "Du kan även göra sorteringen helt från grunden, som vi gjorde i början av uppgiften."
      ]
    },
    {
      "cell_type": "code",
      "metadata": {
        "id": "5X3O9ebOtPp9",
        "colab_type": "code",
        "colab": {}
      },
      "source": [
        "my_sorted_tabell = tabell.copy()\n",
        "\n",
        "# index1 till vänster, index2 går igenom listan till höger om index1.\n",
        "for index1 in range(len(my_sorted_tabell) - 1):\n",
        "  for index2 in range(index1 + 1, len(my_sorted_tabell)):\n",
        "    \n",
        "    item1 = ???\n",
        "    item2 = ???\n",
        " \n",
        "    if ???:\n",
        "      ???\n",
        "      ???\n",
        "  \n",
        "# Kolla att sorteringen fungerade\n",
        "print(my_sorted_tabell)"
      ],
      "execution_count": null,
      "outputs": []
    },
    {
      "cell_type": "markdown",
      "metadata": {
        "id": "Sqx6Vau7nDe5",
        "colab_type": "text"
      },
      "source": [
        "Vilket sätt att sortera tycker du är smidigast?"
      ]
    },
    {
      "cell_type": "markdown",
      "metadata": {
        "id": "i9D3tVr7IDdE",
        "colab_type": "text"
      },
      "source": [
        "# Minns du vad du har gått igenom? Nu är det dags för ett quiz!"
      ]
    },
    {
      "cell_type": "code",
      "metadata": {
        "id": "4pj6EQDXIM9H",
        "colab_type": "code",
        "cellView": "form",
        "colab": {}
      },
      "source": [
        "#@title Kör rutan för att öppna quizet!\n",
        "!wget https://raw.githubusercontent.com/lunduniversity/schoolprog-satellite/master/for_developers/quiz.py --quiet\n",
        "!wget https://raw.githubusercontent.com/lunduniversity/schoolprog-satellite/master/exercises/valdeltagande/quiz_valdeltagande.json --quiet\n",
        "import json\n",
        "import quiz\n",
        "\n",
        "with open(\"quiz_valdeltagande.json\") as f:\n",
        "  quiz_dict = json.load(f)\n",
        "quiz.main(quiz_dict)"
      ],
      "execution_count": null,
      "outputs": []
    },
    {
      "cell_type": "markdown",
      "metadata": {
        "id": "LXazz3wDuud0",
        "colab_type": "text"
      },
      "source": [
        "Fördjupning / Projektidéer\n",
        "\n",
        "*   Räkna ut hur många som var röstberättigade i hela Sverige år 2018\n",
        "*   Kan du hitta siffror på hur valdeltagandet i Sverige sett ut de senaste valen? Hur har det förändrats?\n",
        "*   Undersök valdeltagandet (voter turnout) i något annat land. \n",
        "*   Hitta siffror för valdeltagande i det senaste EU-valet. Vad tror du den stora skillnaden beror på?"
      ]
    }
  ]
}