{
  "nbformat": 4,
  "nbformat_minor": 0,
  "metadata": {
    "colab": {
      "name": "Gapminder.ipynb",
      "provenance": [],
      "collapsed_sections": []
    },
    "kernelspec": {
      "name": "python3",
      "display_name": "Python 3"
    }
  },
  "cells": [
    {
      "cell_type": "markdown",
      "metadata": {
        "id": "Juh-Nyb8aw76",
        "colab_type": "text"
      },
      "source": [
        "# Inspirationsuppgift: Plottar med Gapminder-data\n",
        "\n",
        "\n",
        "I denna uppgift ska vi jämföra olika länders koldioxidutsläpp och några olika sätt man kan mäta det på. \n",
        "\n",
        "Vi kommer inte förklara detaljerna i programmeringen, men du kommer se vad programmering kan användas till.\n"
      ]
    },
    {
      "cell_type": "markdown",
      "metadata": {
        "id": "8dqXGzs79S05",
        "colab_type": "text"
      },
      "source": [
        "# 1. Köra kod i Google Colaboratory\n",
        "Vi börjar med att kontrollera att vi kan köra programkod.\n",
        "\n",
        "---\n",
        "\n",
        "**Uppgift 1a:** Du behöver vara uppkopplad (\"connected\") till Colab för att kunna köra kod.\n",
        "\n",
        "  * Uppe till höger i fönstret kan det stå \"RAM\" och \"Disk\". I så fall är du uppkopplad. I annat fall bör det finnas en knapp `Connect`. Klicka i så fall på den.\n",
        "  * Efter en stund bör du se att det står \"RAM\" och Disk\" uppe till höger i stället för `Connect`-knappen. Då är du uppkopplad och kan gå vidare.\n",
        "\n",
        "---\n",
        "\n",
        "**Uppgift 1b:** Prova nu att köra \"kodcellen\" nedan genom att klicka på koden och sedan på den lilla pilen till vänster i kodcellen.\n",
        "\n",
        "Första gången du kör något kan det komma upp en varning som du behöver godkänna.\n",
        "\n"
      ]
    },
    {
      "cell_type": "code",
      "metadata": {
        "id": "d-ukvi7p9xch",
        "colab_type": "code",
        "colab": {}
      },
      "source": [
        "for _ in range(3):\n",
        "  print('hej!')"
      ],
      "execution_count": null,
      "outputs": []
    },
    {
      "cell_type": "markdown",
      "metadata": {
        "id": "hkGwo_Uw_f9W",
        "colab_type": "text"
      },
      "source": [
        "Fick du det att fungera? Vad skrivs ut?\n",
        "\n",
        "<details>\n",
        "<summary markdown=\"span\">\n",
        "Svar\n",
        "</summary>\n",
        "<p>\n",
        "Datorn skriver ut 'hej!' tre gånger \n",
        "</p>\n",
        "</details>\n",
        "\n",
        "---\n",
        "\n",
        "**Uppdrag 1c:** Prova att ändra från 3 till 5 i programmet. Kör koden igen (genom att klicka på den lilla pilen till vänster i kodcellen). Vad händer?\n",
        "\n",
        "---"
      ]
    },
    {
      "cell_type": "markdown",
      "metadata": {
        "id": "gGu5JyWv_8th",
        "colab_type": "text"
      },
      "source": [
        "# 2. Totala koldioxidutsläpp\n",
        "\n",
        "Vi ska nu kolla på hur mycket koldioxid vi människor har släppt ut fram till 2014. \n",
        "\n",
        "---\n",
        "**Uppgift 2a**:\n",
        "Kör först kodrutan med texten \"Ladda ner datafiler\" nedanför. Då körs kod som laddar ner och omvandlar data från organisationen [Gapminder](https://www.gapminder.org)."
      ]
    },
    {
      "cell_type": "code",
      "metadata": {
        "id": "vaLiOzxQZ8TO",
        "colab_type": "code",
        "colab": {}
      },
      "source": [
        "#@title Ladda ner datafiler { display-mode: \"form\" }\n",
        "import plotly.express as px\n",
        "import plotly.graph_objects as go\n",
        "import pandas as pd\n",
        "import math\n",
        "url_pop = 'https://raw.githubusercontent.com/open-numbers/ddf--gapminder--population_historic/master/ddf--datapoints--population_total--by--geo--time.csv'\n",
        "url_co2_ton_per_cap = 'https://raw.githubusercontent.com/open-numbers/ddf--gapminder--co2_emission/master/ddf--datapoints--co2_emissions_tonnes_per_person--by--country--year.csv'\n",
        "url_income_ppp = 'https://raw.githubusercontent.com/open-numbers/ddf--gapminder--gdp_per_capita_cppp/master/ddf--datapoints--income_per_person_gdppercapita_ppp_inflation_adjusted--by--geo--time.csv'\n",
        "url_country_co2_year = 'https://raw.githubusercontent.com/open-numbers/ddf--gapminder--co2_emission/master/ddf--datapoints--yearly_co2_emissions_1000_tonnes--by--country--year.csv'\n",
        "url_kumu_co2 = 'https://raw.githubusercontent.com/open-numbers/ddf--gapminder--co2_emission/master/ddf--datapoints--cumulative_co2_emissions_tonnes--by--country--year.csv'\n",
        "url_country_info = 'https://raw.githubusercontent.com/open-numbers/ddf--open_numbers/master/ddf--entities--geo--country.csv'\n",
        "\n",
        "co2_per_cap = pd.read_csv(url_co2_ton_per_cap, error_bad_lines=False)\n",
        "income_per_cap = pd.read_csv(url_income_ppp, error_bad_lines=False)\n",
        "country_co2 = pd.read_csv(url_country_co2_year, error_bad_lines=False)\n",
        "country_population = pd.read_csv(url_pop, error_bad_lines=False)\n",
        "kumu_co2 = pd.read_csv(url_kumu_co2, error_bad_lines=False)\n",
        "country_info = pd.read_csv(url_country_info, error_bad_lines=False)\n",
        "\n",
        "country_info = country_info[['country', 'name', 'world_4region']]\n",
        "income_per_cap = income_per_cap.rename(columns={'geo': 'country', 'time':'year', 'income_per_person_gdppercapita_ppp_inflation_adjusted': 'gdpPercap'})\n",
        "income_per_cap = income_per_cap.merge(country_info, on='country')\n",
        "co2_per_cap = co2_per_cap.rename(columns={'co2_emissions_tonnes_per_person': 'co2Percap'})\n",
        "co2_per_cap = co2_per_cap.merge(country_info, on='country')\n",
        "country_co2 = country_co2.merge(country_info, on='country')\n",
        "country_co2 = country_co2.rename(columns={'yearly_co2_emissions_1000_tonnes': 'yearly_emissions_tonnes'})\n",
        "country_co2['yearly_emissions_tonnes'] = country_co2[\"yearly_emissions_tonnes\"].map(lambda x: round(x*1000))\n",
        "kumu_co2 = kumu_co2.merge(country_info, on='country')\n",
        "country_population = country_population.rename(columns={'time': 'year', 'geo': 'country', 'population_total': 'population'})"
      ],
      "execution_count": null,
      "outputs": []
    },
    {
      "cell_type": "markdown",
      "metadata": {
        "id": "QY0gWG4JgQAA",
        "colab_type": "text"
      },
      "source": [
        "---\n",
        "\n",
        "Nu ska vi se hur mycket koldioxid vi människor har släppt ut genom åren.\n",
        "\n",
        "---\n",
        "\n",
        "**Uppgift 2b:** Välj vilket år vi ska börja med genom att ändra värdet av variabeln `from_year`. Ta gärna ett år långt bak i tiden så ser du hela utvecklingen. Datan började samlas in 1800, så du kan inte se vad som vad som hände innan det. \n",
        "\n",
        "Resten av koden som står i rutan ritar upp grafen. Skriv in året som du vill ha efter likamed-tecknet efter `from_year`. Kör sedan kodrutan. Vad är det som visas?"
      ]
    },
    {
      "cell_type": "code",
      "metadata": {
        "id": "lsfr6vlPhX4o",
        "colab_type": "code",
        "colab": {}
      },
      "source": [
        "\n",
        "from_year = 1800# skriv in ett år här!\n",
        "\n",
        "# välj ut år efter from_year\n",
        "country_co2_from_year = country_co2[country_co2['year'] >= from_year] \n",
        "\n",
        "# skapa och rita figuren\n",
        "fig = px.bar(country_co2_from_year, x=\"year\", y=\"yearly_emissions_tonnes\",\n",
        "             labels={\"yearly_emissions_tonnes\": \"co2-utsläpp i ton\",\n",
        "                     \"year\": \"år\"})\n",
        "fig.update_traces(hovertemplate=None, hoverinfo='skip')\n",
        "fig.show()"
      ],
      "execution_count": null,
      "outputs": []
    },
    {
      "cell_type": "markdown",
      "metadata": {
        "id": "IvEXo6_nsP5V",
        "colab_type": "text"
      },
      "source": [
        "Du kanske ser vita streck i ditt diagram. Det uppkommer p.g.a. sättet som vi ritar upp grafen på.\n",
        "\n",
        "---\n",
        "\n",
        "**Uppgift 2c:** Vi kan nu se hur koldioxidutsläppen har ändrat sig över åren. Hur har utvecklingen sett ut?\n",
        "\n",
        "<details>\n",
        "<summary markdown=\"span\">\n",
        "Svar\n",
        "</summary>\n",
        "<p>\n",
        "Det har släppts ut mer och mer koldioxid för varje år.\n",
        "</p>\n",
        "</details>\n",
        "\n",
        "---\n",
        "\n",
        "**Uppgift 2d:** Om du väljer ett år tillräckligt långt bak i tiden kan du bland annat se att koldioxidutsläppen minskade kring 1990. Kan du komma på någon bra förklaring till detta?\n",
        "\n",
        "<details>\n",
        "<summary markdown=\"span\">\n",
        "Svar\n",
        "</summary>\n",
        "<p>\n",
        "Sovietunionen upplöstes 1991 vilket på flera sätt ledde till lägre koldioxidutsläpp. \n",
        "</p>\n",
        "</details>\n",
        "\n",
        "---\n",
        "\n",
        "**Uppgift 2e:** Enheten på y-axeln är ton, B står för miljarder (från engelskans billions). Kan du komma fram till hur ungefär hur mycket koldioxid vi släppte ut år 2014? Det är det sista året i grafen, ta bara fram en ungefärlig uppskattning.\n",
        "\n",
        "\n",
        "<details>\n",
        "<summary markdown=\"span\">\n",
        "Svar\n",
        "</summary>\n",
        "<p>\n",
        "År 2014 släppte vi ut strax under 35 miljarder ton koldioxid.\n",
        "</p>\n",
        "</details>\n",
        "\n",
        "Hur mycket blir det per person? Räkna med att det ungefär fanns 7 miljarder människor år 2014.\n",
        "\n",
        "<details>\n",
        "<summary markdown=\"span\">\n",
        "Svar\n",
        "</summary>\n",
        "<p>\n",
        "Vi släppte ut cirka 5 ton koldioxid per person under 2014\n",
        "</p>\n",
        "</details>\n",
        "\n",
        "---\n"
      ]
    },
    {
      "cell_type": "markdown",
      "metadata": {
        "id": "Iur1KkmtzBUs",
        "colab_type": "text"
      },
      "source": [
        "**Uppgift 2f:** Vi ska nu kolla på vilket land som släppte ut mest under ett specifikt år med hjälp av ett cirkeldiagram. Sätt ett värde på variabeln `year` nedan. Förslagsvis kan du kolla på ditt födelseår. Kör sedan kodrutan. Vad är det som visas?"
      ]
    },
    {
      "cell_type": "code",
      "metadata": {
        "id": "fAFwn--ivjT8",
        "colab_type": "code",
        "colab": {}
      },
      "source": [
        "year = # välj ett år!\n",
        "\n",
        "# välj ut data från det valda året\n",
        "country_co2_year = country_co2[country_co2['year'] == year]\n",
        "\n",
        "total_co2 = sum(country_co2_year['yearly_emissions_tonnes'])\n",
        "\n",
        "# rita ut cirkeldiagrammet\n",
        "fig = go.Figure(data=[go.Pie(labels=country_co2_year['name'],\n",
        "                             values=country_co2_year['yearly_emissions_tonnes'])])\n",
        "fig.update_traces(hoverinfo='label+percent', textposition='inside', textinfo='percent')\n",
        "\n",
        "fig.update_layout(\n",
        "    title_text='Totalt utsläpp under ' + str(year) + ': ' + str(round(total_co2, -8)) + ' ton CO2'\n",
        ")\n",
        "fig.show()"
      ],
      "execution_count": null,
      "outputs": []
    },
    {
      "cell_type": "markdown",
      "metadata": {
        "id": "pcvejXx2fecN",
        "colab_type": "text"
      },
      "source": [
        "---\n",
        "\n",
        "**Uppgift 2g:** Vilket land släppte ut mest koldioxid under för ditt år? Hovra över diagrammet för att se vilken tårtbit som tillhör vilket land. \n",
        "\n",
        "---\n",
        "\n",
        "**Uppgift 2h:** Vi ska nu kolla lite närmare på 2014. Byt ut `year` till 2014 och kör kodrutan igen. Vi ser då hur det såg ut under 2014.\n",
        "\n",
        "Vilket land släppte ut mest under 2014? Hur mycket släppte de ut?\n",
        "\n",
        "<details>\n",
        "<summary markdown=\"span\">\n",
        "Svar\n",
        "</summary>\n",
        "<p>\n",
        "Kina släppte ut mest, cirka 10 miljarder ton koldioxid.\n",
        "</p>\n",
        "</details>\n",
        "\n",
        "---"
      ]
    },
    {
      "cell_type": "markdown",
      "metadata": {
        "id": "Hh8w3ltCjTEF",
        "colab_type": "text"
      },
      "source": [
        "# 3. Kumulativa utsläpp\n",
        "\n",
        "Från cirkeldigrammet över utsläppen för år 2014 verkar det kanske som att Kina är den största utsläppsboven. Dock visar detta inte hela bilden. En koldioxidpartikel som släpptes ut 1920 är fortfarande kvar i atmosfären och bidrar till den globala uppvärmningen.\n",
        "\n",
        "För att hitta vilket land som bidragit mest till den höga halten av koldioxid i atmosfären kan vi då istället kolla på den totala mängden koldioxid varje land har släppt ut. Vi kallar detta för kumulativa koldioxidutsläpp. Som tidigare så visar vi utsläppen med ett cirkeldiagram. \n",
        "\n",
        "---\n",
        "\n",
        "**Uppgift 3a:** kör kodrutan nedan. Vad är det som visas?\n"
      ]
    },
    {
      "cell_type": "code",
      "metadata": {
        "id": "DkPHGdE4s72z",
        "colab_type": "code",
        "colab": {}
      },
      "source": [
        "# välj ut kumulativa utsläpp fram till 2014\n",
        "kumu_co2 = kumu_co2[kumu_co2['year'] == 2014]\n",
        "\n",
        "\n",
        "# rita ut cirkeldiagrammet\n",
        "fig = go.Figure(data=[go.Pie(labels=kumu_co2['name'],\n",
        "                             values=kumu_co2['cumulative_co2_emissions_tonnes'])])\n",
        "fig.update_traces(hoverinfo='label+percent', textposition='inside', textinfo='percent')\n",
        "\n",
        "fig.update_layout(\n",
        "    title_text='Totala utsläpp fram tills 2014: ' + str(round(int(total_co2), -8)) + ' ton CO2'\n",
        ")\n",
        "fig.show()"
      ],
      "execution_count": null,
      "outputs": []
    },
    {
      "cell_type": "markdown",
      "metadata": {
        "id": "vsaIucfZt0oz",
        "colab_type": "text"
      },
      "source": [
        "---\n",
        "\n",
        "**Uppgift 3b:** Vilket land har störst utsläpp nu?\n",
        "\n",
        "<details>\n",
        "<summary markdown=\"span\">\n",
        "Svar\n",
        "</summary>\n",
        "<p>\n",
        "Andelen ser nu annorlunda ut. Kina har forfarande stora utsläpp men USA står för den största delen med ett utsläpp på 376 miljarder ton. \n",
        "</p>\n",
        "</details>\n",
        "\n",
        "\n",
        "---\n",
        "\n",
        "**Uppgift 3c:** Vi ska nu kolla lite närmare på Storbritannien. Hur andel andel av utsläppen står Storbritannien för i den kumulativa datan? Hur stor är andelen för koldioxidutsläppen för endast 2014?\n",
        "\n",
        "<details>\n",
        "<summary markdown=\"span\">\n",
        "Svar\n",
        "</summary>\n",
        "<p>\n",
        "Storbritannien stod för 1,23% av utsläppen år 2014 men hela 5,27% i den kumulativa datan. \n",
        "</p>\n",
        "</details>\n",
        "\n",
        "Kommer du på någon förklaring till detta?\n",
        "\n",
        "<details>\n",
        "<summary markdown=\"span\">\n",
        "Svar\n",
        "</summary>\n",
        "<p>\n",
        "Ett möjligt förklaring är att Storbritannien, Tyskland och andra västeuropeiska länder industraliserades tidigt och har därför \"hunnit\" släppa ut mer koldioxid än länder som Indien, vars industrialisering kom senare.\n",
        "</p>\n",
        "</details>\n",
        "\n",
        "---"
      ]
    },
    {
      "cell_type": "markdown",
      "metadata": {
        "id": "6H_6V2j-sE-6",
        "colab_type": "text"
      },
      "source": [
        "# 4. Utsläpp per capita\n",
        "\n",
        "Nu ska vi kolla på hur mycket utsläpp som varje land släpper ut, per person. \n",
        "\n",
        "**Uppgift 4a:** Välj igen ett år som du vill kolla på och kör kodrutan."
      ]
    },
    {
      "cell_type": "code",
      "metadata": {
        "id": "-8FMMcPdshXH",
        "colab_type": "code",
        "colab": {}
      },
      "source": [
        "# välj ett år!\n",
        "year = 2014\n",
        "\n",
        "# tar fram data för det valda året\n",
        "co2_per_cap_year = co2_per_cap[co2_per_cap['year'] == year].copy()\n",
        "\n",
        "# ritar digrammet\n",
        "fig = px.bar(co2_per_cap_year, x=\"name\", y=\"co2Percap\",\n",
        "             labels={\"yearly_emissions_tonnes\": \"co2-utsläpp i tusentals ton\",\n",
        "                     \"year\": \"år\"},\n",
        "             color=\"world_4region\")\n",
        "fig.show()"
      ],
      "execution_count": null,
      "outputs": []
    },
    {
      "cell_type": "markdown",
      "metadata": {
        "id": "ePLwgaynvO-Q",
        "colab_type": "text"
      },
      "source": [
        "---\n",
        "\n",
        "**Uppgift 4b:** Vad står färgerna för? \n",
        "<details>\n",
        "<summary markdown=\"span\">\n",
        "Svar\n",
        "</summary>\n",
        "<p>\n",
        "Vi delar upp världens länder i fyra delar: Afrika, Amerika (Syd- och nordamerika), Asien (med Australien) och Europa\n",
        "\n",
        "Varje färg står för en sådan del. \n",
        "</p>\n",
        "</details>\n",
        "\n",
        "---\n",
        "**Uppgift 4c:** Testa några olika år. Kan du se några skillnader mot tidigare grafer? Vilka länder verkar släppa ut mest koldioxid per capita? Har de något gemensamt? \n",
        "\n",
        "<details>\n",
        "<summary markdown=\"span\">\n",
        "Svar\n",
        "</summary>\n",
        "<p>\n",
        "De länder med allra högst utsläpp per capita verkar i stor grad vara oljeproducerande länder.\n",
        "</p>\n",
        "</details>\n",
        "\n",
        "---\n",
        "\n",
        "Vi ska nu kolla på hur de olika länderna står sig mot hela världens medelvärde. Vi gör detta genom att dela upp länderna i två kategorier: de som släpper ut mer än medelvärdet per person och de som släpper ut mindre per person. \n",
        "\n",
        "Sedan visar vi detta på en karta där de två kategorierna representeras två olika färger.\n",
        " \n",
        "--- \n",
        "\n",
        "**Uppgift 4d:** Fyll i medelutsläppet i ton per år, ändra alltså värdet på variabeln `average_co2`. Vi räknade ut detta värde i uppgift 2e så scrolla upp dit om du inte kommer ihåg. \n",
        "\n",
        "Kör sedan kodrutan. Vad är det som visas?\n",
        "\n"
      ]
    },
    {
      "cell_type": "code",
      "metadata": {
        "id": "eZP1fZSPNf6G",
        "colab_type": "code",
        "colab": {}
      },
      "source": [
        "average_co2 = 5 # skriv in medelvärdet av utsläpp per capita\n",
        "\n",
        "# formatterar till ISO-alpha-3\n",
        "co2_per_cap_year.loc[: , 'country'] = co2_per_cap_year['country'].map(lambda s: s.upper())\n",
        "co2_per_cap_year.loc[:, 'emission_category'] = co2_per_cap_year.apply(lambda row: 1 if row.co2Percap > average_co2 else 2, axis=1)\n",
        "co2_per_cap_year\n",
        "\n",
        "max_val = math.ceil(max(co2_per_cap_year['co2Percap']))\n",
        "mid_val = co2_per_cap_year['co2Percap'].mean() / max_val\n",
        "fig = px.choropleth(co2_per_cap_year, locations=\"country\",\n",
        "                    color=\"emission_category\",\n",
        "                    hover_name=\"co2Percap\" # column to add to hover information\n",
        "                    )\n",
        "fig.update(layout_coloraxis_showscale=False)\n",
        "fig.show()\n"
      ],
      "execution_count": null,
      "outputs": []
    },
    {
      "cell_type": "markdown",
      "metadata": {
        "id": "dNruUuOXeF9m",
        "colab_type": "text"
      },
      "source": [
        "---\n",
        "\n",
        "**Uppgift 4f:** Ser du några mönster? Finns det något gemensamt med länder som, per capita,  släpper ut mindre än medelvärdet? Hur är det med länder som släpper ut mycket per capita?\n",
        "\n",
        "---\n",
        "\n",
        "Något man måste tänka på är att denna data endast visar territoriella utsläpp, alltså utsläppen som sker inom ett lands gränser. När vi i Sverige köper en t-shirt som har tillverkats i Bangladesh så räknas de utsläpp som krävdes för att tillverka tröjan till Bangladeshs siffror. \n",
        "\n",
        "Om man istället skulle kolla på konsumptionsbaserade utsläpp så skulle Sverige ligga över medelvärdet av utsläpp per capita."
      ]
    },
    {
      "cell_type": "markdown",
      "metadata": {
        "id": "PLsZ30m5tlCf",
        "colab_type": "text"
      },
      "source": [
        "<hr size=5 noshade>\n",
        "\n",
        "# 5. Avslutning\n",
        "\n",
        "Vi har nu kollat på tre olika sätt man kan jämföra koldioxidutsläpp mellan länder: totala utsläpp, kumulativa utsläpp och per-capita utsläpp. \n",
        "\n",
        "Samtliga uppgifter har handlat om länders koldioxidutsläpp, men det har visats på olika sätt. \n",
        "\n",
        "---\n",
        "\n",
        "## Diskussion: Klimaträttvisa\n",
        "\n",
        "Med klimaträttvisa menas ofta att de länder som har orsakat klimatkrisen ska ta störst ansvar för den. \n",
        "\n",
        "Du har nu kollat på tre olika sätt som kan se på olika länders koldioxidutsläpp. Vilka länder ska då ta störst ansvar för klimatkrisen? Varför?\n",
        "\n",
        "\n"
      ]
    }
  ]
}