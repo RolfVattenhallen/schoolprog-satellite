{
  "nbformat": 4,
  "nbformat_minor": 0,
  "metadata": {
    "colab": {
      "name": "Gapminder.ipynb",
      "provenance": [],
      "collapsed_sections": []
    },
    "kernelspec": {
      "name": "python3",
      "display_name": "Python 3"
    }
  },
  "cells": [
    {
      "cell_type": "markdown",
      "metadata": {
        "id": "Juh-Nyb8aw76",
        "colab_type": "text"
      },
      "source": [
        "# Inspirationsuppgift: Plottar med Gapminder-data\n",
        "\n",
        "\n",
        "I denna uppgift ska vi jämföra olika länders koldioxidutsläpp och några olika sätt man kan mäta det på. \n",
        "\n",
        "Vi kommer inte förklara detaljerna i programmeringen, men du kommer se vad programmering kan användas till.\n",
        "\n",
        "För att kolla på utsläppen måste vi först ladda ner data. Kör kodrutan nedan"
      ]
    },
    {
      "cell_type": "code",
      "metadata": {
        "id": "vaLiOzxQZ8TO",
        "colab_type": "code",
        "colab": {}
      },
      "source": [
        "#@title Ladda ner datafiler { display-mode: \"form\" }\n",
        "import plotly.express as px\n",
        "import plotly.graph_objects as go\n",
        "import pandas as pd\n",
        "import math\n",
        "url_pop = 'https://raw.githubusercontent.com/open-numbers/ddf--gapminder--population_historic/master/ddf--datapoints--population_total--by--geo--time.csv'\n",
        "url_co2_ton_per_cap = 'https://raw.githubusercontent.com/open-numbers/ddf--gapminder--co2_emission/master/ddf--datapoints--co2_emissions_tonnes_per_person--by--country--year.csv'\n",
        "url_income_ppp = 'https://raw.githubusercontent.com/open-numbers/ddf--gapminder--gdp_per_capita_cppp/master/ddf--datapoints--income_per_person_gdppercapita_ppp_inflation_adjusted--by--geo--time.csv'\n",
        "url_country_co2_year = 'https://raw.githubusercontent.com/open-numbers/ddf--gapminder--co2_emission/master/ddf--datapoints--yearly_co2_emissions_1000_tonnes--by--country--year.csv'\n",
        "url_kumu_co2 = 'https://raw.githubusercontent.com/open-numbers/ddf--gapminder--co2_emission/master/ddf--datapoints--cumulative_co2_emissions_tonnes--by--country--year.csv'\n",
        "url_country_info = 'https://raw.githubusercontent.com/open-numbers/ddf--open_numbers/master/ddf--entities--geo--country.csv'\n",
        "\n",
        "co2_per_cap = pd.read_csv(url_co2_ton_per_cap, error_bad_lines=False)\n",
        "income_per_cap = pd.read_csv(url_income_ppp, error_bad_lines=False)\n",
        "country_co2 = pd.read_csv(url_country_co2_year, error_bad_lines=False)\n",
        "country_population = pd.read_csv(url_pop, error_bad_lines=False)\n",
        "kumu_co2 = pd.read_csv(url_kumu_co2, error_bad_lines=False)\n",
        "country_info = pd.read_csv(url_country_info, error_bad_lines=False)\n",
        "\n",
        "country_info = country_info[['country', 'name', 'world_4region']]\n",
        "income_per_cap = income_per_cap.rename(columns={'geo': 'country', 'time':'year', 'income_per_person_gdppercapita_ppp_inflation_adjusted': 'gdpPercap'})\n",
        "income_per_cap = income_per_cap.merge(country_info, on='country')\n",
        "co2_per_cap = co2_per_cap.rename(columns={'co2_emissions_tonnes_per_person': 'co2Percap'})\n",
        "co2_per_cap = co2_per_cap.merge(country_info, on='country')\n",
        "country_co2 = country_co2.merge(country_info, on='country')\n",
        "country_co2 = country_co2.rename(columns={'yearly_co2_emissions_1000_tonnes': 'yearly_emissions_tonnes'})\n",
        "country_co2['yearly_emissions_tonnes'] = country_co2[\"yearly_emissions_tonnes\"].map(lambda x: round(x*1000))\n",
        "kumu_co2 = kumu_co2.merge(country_info, on='country')\n",
        "country_population = country_population.rename(columns={'time': 'year', 'geo': 'country', 'population_total': 'population'})"
      ],
      "execution_count": null,
      "outputs": []
    },
    {
      "cell_type": "markdown",
      "metadata": {
        "id": "QY0gWG4JgQAA",
        "colab_type": "text"
      },
      "source": [
        "Vi börjar med att visa hela världens årliga utsläpp fram till 2014, den första datan började samlas in redan år 1800. \n",
        "\n",
        "Koden nedanför ritar upp ett stapeldiagram. Välj vilket år vi ska börja med genom att ändra värdet av variabeln `from_year`. Ta gärna ett år långt bak i tiden så ser du hela utvecklingen.\n",
        "\n",
        "Resten av koden som står i rutan ritar upp grafen."
      ]
    },
    {
      "cell_type": "code",
      "metadata": {
        "id": "lsfr6vlPhX4o",
        "colab_type": "code",
        "colab": {}
      },
      "source": [
        "# skriv in ett årtal!\n",
        "from_year = 1950\n",
        "\n",
        "# välj ut år efter from_year\n",
        "country_co2_from_year = country_co2[country_co2['year'] >= from_year] \n",
        "\n",
        "# skapa och rita figuren\n",
        "fig = px.bar(country_co2_from_year, x=\"year\", y=\"yearly_emissions_tonnes\",\n",
        "             labels={\"yearly_emissions_tonnes\": \"co2-utsläpp i tusentals ton\",\n",
        "                     \"year\": \"år\"})\n",
        "fig.update_traces(hovertemplate=None, hoverinfo='skip')\n",
        "fig.show()"
      ],
      "execution_count": null,
      "outputs": []
    },
    {
      "cell_type": "markdown",
      "metadata": {
        "id": "IvEXo6_nsP5V",
        "colab_type": "text"
      },
      "source": [
        "Ländernas utsläpp staplas på varandra i diagrammet, vilket resulterar i vita streck. Vi kan nu se hur koldioxidutsläppen har ändrat sig över åren. Hur ser utvecklingen ut?\n",
        "\n",
        "Om du väljer ett år tidigt år kan du bland annat se att koldioxidutsläppen minskade kring 1990 och kring 1945. Kan du komma på någon bra förklaring till detta?\n",
        "\n",
        "Enheten på y-axeln är tusentals ton, B står för miljarder. Kan du komma fram till hur ungefär hur mycket koldioxid vi släppte ut år 2014? Det är det sista året i grafen, ta bara fram en ungefärlig uppskattning.\n",
        "\n",
        "\n",
        "<details>\n",
        "<summary markdown=\"span\">\n",
        "Svar\n",
        "</summary>\n",
        "<p>\n",
        "År 2014 släppte vi ut strax under 35 miljarder ton koldioxid.\n",
        "</p>\n",
        "</details>\n",
        "\n",
        "Hur mycket blir det per person? Räkna med att det ungefär fanns 7 miljarder människor år 2014.\n",
        "\n",
        "<details>\n",
        "<summary markdown=\"span\">\n",
        "Svar\n",
        "</summary>\n",
        "<p>\n",
        "Vi släppte ut cirka 5 ton per person under 2014\n",
        "</p>\n",
        "</details>\n"
      ]
    },
    {
      "cell_type": "markdown",
      "metadata": {
        "id": "Iur1KkmtzBUs",
        "colab_type": "text"
      },
      "source": [
        "Vi ska nu kolla på vilket land som släppte ut mest under ett specifikt år med hjälp av ett cirkeldiagram. Sätt ett värde på variabeln `year` nedan. Förslagsvis kan du kolla på ditt födelseår."
      ]
    },
    {
      "cell_type": "code",
      "metadata": {
        "id": "fAFwn--ivjT8",
        "colab_type": "code",
        "colab": {}
      },
      "source": [
        "#Testar att bli av med värden när man hovrar. Behövde göras med go istället för px.\n",
        "\n",
        "year = 1992\n",
        "\n",
        "# välj ut data från det valda året\n",
        "country_co2_year = country_co2[country_co2['year'] == year]\n",
        "\n",
        "total_co2 = sum(country_co2_year['yearly_emissions_tonnes'])\n",
        "\n",
        "# rita ut cirkeldiagrammet\n",
        "fig = go.Figure(data=[go.Pie(labels=country_co2_year['name'],\n",
        "                             values=country_co2_year['yearly_emissions_tonnes'])])\n",
        "fig.update_traces(hoverinfo='label+percent', textposition='inside', textinfo='percent')\n",
        "\n",
        "fig.update_layout(\n",
        "    title_text='Totalt utsläpp ' + str(total_co2) + ' ton CO2 år ' + str(year)\n",
        ")\n",
        "fig.show()"
      ],
      "execution_count": null,
      "outputs": []
    },
    {
      "cell_type": "markdown",
      "metadata": {
        "id": "pcvejXx2fecN",
        "colab_type": "text"
      },
      "source": [
        "Vilket släppte ut mest koldioxid under för ditt år? Hovra över diagrammet för att se vilken tårtbit som tillhör vilket land. \n",
        "\n",
        "Vi ska nu kolla lite närmare på 2014. Byt ut `year` till 2014 och kör kodrutan igen. Vi ser då hur det såg ut under 2014.\n",
        "\n",
        "Vilket land släppte ut mest under 2014? Hur mycket släppte de ut?\n",
        "\n",
        "<details>\n",
        "<summary markdown=\"span\">\n",
        "Svar\n",
        "</summary>\n",
        "<p>\n",
        "Kina släppte ut mest, cirka 10 miljarder ton koldioxid.\n",
        "</p>\n",
        "</details>"
      ]
    },
    {
      "cell_type": "markdown",
      "metadata": {
        "id": "Hh8w3ltCjTEF",
        "colab_type": "text"
      },
      "source": [
        "# Kumulativa utsläpp\n",
        "\n",
        "Från cirkeldigrammet över utsläppen för år 2014 verkar det kanske som att Kina är den största utsläppsboven. Den höga koldioxidhalten i atmosfären beror på att vi har släppt ut stora mängder koldioxid i över hundra år. \n",
        "\n",
        "Ett annat sätt att kolla på koldioxidutsläpp blir då att se på den totala mängden koldioxid varje land har släppt ut. Vi kallar detta för kumulativa koldioxidutsläpp. Som tidigare så visar vi utsläppen med ett cirkeldiagram. \n",
        "\n"
      ]
    },
    {
      "cell_type": "code",
      "metadata": {
        "id": "DkPHGdE4s72z",
        "colab_type": "code",
        "colab": {}
      },
      "source": [
        "# välj ut kumulativa utsläpp fram till 2014\n",
        "kumu_co2 = kumu_co2[kumu_co2['year'] == 2014]\n",
        "\n",
        "# rita diagrammet\n",
        "fig = px.pie(kumu_co2, values=\"cumulative_co2_emissions_tonnes\", names='name')\n",
        "fig.update_traces(textposition='inside', textinfo='percent')\n",
        "fig.show()"
      ],
      "execution_count": null,
      "outputs": []
    },
    {
      "cell_type": "markdown",
      "metadata": {
        "id": "vsaIucfZt0oz",
        "colab_type": "text"
      },
      "source": [
        "Andelen ser nu annorlunda ut. Kina har forfarande stora utsläpp men USA står för den största delen med ett utsläpp på 376 miljarder ton. \n",
        "\n",
        "Vi ska nu kolla lite närmare på Storbritannien. Hur andel andel av utsläppen står Storbritannien för i den kumulativa datan? Hur stor är andelen för datan över 2014?\n",
        "\n",
        "<details>\n",
        "<summary markdown=\"span\">\n",
        "Svar\n",
        "</summary>\n",
        "<p>\n",
        "Storbritannien stod för 1,23% av utsläppen år 2014 men hela 5,27% i den kumulativa datan. \n",
        "</p>\n",
        "</details>\n",
        "\n",
        "Kommer du på någon förklaring till detta?\n",
        "\n",
        "<details>\n",
        "<summary markdown=\"span\">\n",
        "Svar\n",
        "</summary>\n",
        "<p>\n",
        "Ett möjligt förklaring är att Storbritannien, Tyskland och andra västeuropeiska länder industraliserades tidigt och har därför \"hunnit\" släppa ut mer koldioxid än länder som Indien, vars industrialisering kom senare.\n",
        "</p>\n",
        "</details>\n"
      ]
    },
    {
      "cell_type": "markdown",
      "metadata": {
        "id": "6H_6V2j-sE-6",
        "colab_type": "text"
      },
      "source": [
        "# Utsläpp per capita\n",
        "\n",
        "Nu ska vi kolla på hur mycket utsläpp som varje land släpper ut, per person. Välj igen ett år som du vill kolla på. "
      ]
    },
    {
      "cell_type": "code",
      "metadata": {
        "id": "-8FMMcPdshXH",
        "colab_type": "code",
        "colab": {}
      },
      "source": [
        "# välj ett år!\n",
        "year = 2014\n",
        "\n",
        "# tar fram data för det valda året\n",
        "co2_per_cap_year = co2_per_cap[co2_per_cap['year'] == year]\n",
        "\n",
        "# ritar digrammet\n",
        "fig = px.bar(co2_per_cap_year, x=\"name\", y=\"co2Percap\",\n",
        "             labels={\"yearly_emissions_tonnes\": \"co2-utsläpp i tusentals ton\",\n",
        "                     \"year\": \"år\"},\n",
        "             color=\"world_4region\")\n",
        "fig.show()"
      ],
      "execution_count": null,
      "outputs": []
    },
    {
      "cell_type": "markdown",
      "metadata": {
        "id": "ePLwgaynvO-Q",
        "colab_type": "text"
      },
      "source": [
        "Vad står färgerna för? \n",
        "<details>\n",
        "<summary markdown=\"span\">\n",
        "Svar\n",
        "</summary>\n",
        "<p>\n",
        "Vi delar upp världens länder i fyra delar: Afrika, Amerika (Syd- och nordamerika), Asien (med Australien) och Europa\n",
        "\n",
        "Varje färg står för en sådan del. \n",
        "</p>\n",
        "</details>\n",
        "\n",
        "---\n",
        "Testa några olika år. Kan du se några skillnader mot tidigare grafer? Vilka länder verkar släppa ut mest koldioxid per capita? Har de något gemensamt? \n",
        "\n",
        "\n",
        "Vi ska nu kolla på hur de olika länderna står sig mot hela världens medelvärde. Vi gör detta genom att dela upp länderna i två kategorier: de som släpper ut mer än medelvärdet per person och de som släpper ut mindre per person. \n",
        "\n",
        "Sedan visar vi detta på en karta där de olika kategorierna representeras av olika färger. \n",
        "\n",
        "Fyll i medelutsläppet i ton per år nedan, ändra alltså värdet på variabeln `average_co2`. \n",
        "\n"
      ]
    },
    {
      "cell_type": "code",
      "metadata": {
        "id": "eZP1fZSPNf6G",
        "colab_type": "code",
        "colab": {}
      },
      "source": [
        "\n",
        "\n",
        "# välj värdet som vi ska \n",
        "average_co2 = 5\n",
        "co2_per_cap_year.loc[: , 'country'] = co2_per_cap_year['country'].map(lambda s: s.upper())\n",
        "co2_per_cap_year['emission_category'] = co2_per_cap_year.apply(lambda row: 1 if row.co2Percap > average_co2 else 2, axis=1)\n",
        "\n",
        "max_val = math.ceil(max(co2_per_cap_year['co2Percap']))\n",
        "mid_val = co2_per_cap_year['co2Percap'].mean() / max_val\n",
        "fig = px.choropleth(co2_per_cap_year, locations=\"country\",\n",
        "                    color=\"emission_category\",\n",
        "                    hover_name=\"co2Percap\" # column to add to hover information\n",
        "                    )\n",
        "fig.update(layout_coloraxis_showscale=False)\n",
        "fig.show()\n"
      ],
      "execution_count": null,
      "outputs": []
    },
    {
      "cell_type": "markdown",
      "metadata": {
        "id": "dNruUuOXeF9m",
        "colab_type": "text"
      },
      "source": [
        "Ser du några mönster? Finns det något gemensamt med länder som, per capita,  släpper ut mindre än medelvärdet? Hur är det med länder som släpper ut mycket per capita?\n",
        "\n",
        "Något man måste tänka på är att denna data endast visar territoriella utsläpp, alltså utsläppen som sker inom ett lands gränser. När vi i Sverige köper en t-shirt som har tillverkats i Bangladesh så räknas de utsläpp som krävdes för att tillverka tröjan till Bangladeshs siffror. \n",
        "\n",
        "Om man istället skulle kolla på konsumptionsbaserade utsläpp så skulle länder som Sverige ligga över medelvärdet av utsläpp per capita."
      ]
    },
    {
      "cell_type": "markdown",
      "metadata": {
        "id": "PLsZ30m5tlCf",
        "colab_type": "text"
      },
      "source": [
        "# Avslutning\n",
        "\n",
        "Vi har nu kollat på tre olika sätt man kan jämföra koldioxidutsläpp mellan länder: totala utsläpp, kumulativa utsläpp och per-capita utsläpp. \n",
        "\n"
      ]
    }
  ]
}