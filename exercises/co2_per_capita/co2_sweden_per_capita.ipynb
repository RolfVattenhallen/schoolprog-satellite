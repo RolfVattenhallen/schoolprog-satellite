{
  "nbformat": 4,
  "nbformat_minor": 0,
  "metadata": {
    "colab": {
      "name": "co2 sweden per capita",
      "version": "0.3.2",
      "provenance": [],
      "private_outputs": true,
      "collapsed_sections": [],
      "toc_visible": true
    },
    "kernelspec": {
      "name": "python3",
      "display_name": "Python 3"
    }
  },
  "cells": [
    {
      "cell_type": "markdown",
      "metadata": {
        "id": "LN7Dkof13VyV",
        "colab_type": "text"
      },
      "source": [
        "# Koldioxidutsläpp per capita\n",
        "## 1. Ladda ner data\n",
        "När man vill jämföra koldioxidustläppen mellan två olika stora länder brukar man omvandla värdet till per capita. Dvs hur mycket koldioxid släpper landet ut per person. Genom att använda detta måttet kan vi jämföra ett litet land som Sverige med exempelvis Tyskland. \n",
        "\n",
        "Ett per capita-värde kan också vara intressant när vi vill kolla på hur våra utsläpp har förändrats historiskt. Som vi såg i den föregående uppgiften hade våra utsläpp sjunkit något sedan 1990 talet. Men hur har utsläppen förändrats i förhållande till befolkningsmängden? \n",
        "\n",
        "För att kolla på detta behöver vi statistik över hur befolkningsmängden har förändrats. Detta kan vi hitta på Statistiska centralbyråns statistikdatabas. Här kan man hitta information om allt möjligt. Vi är ute efter befolkningsmänden år 1990-2017, de år vi hade statistik över utsläppen i föregående uppgift. \n",
        "\n",
        "**Uppdrag:** Försök själv ladda ner en `.txt`-fil med befolkningsmängden genom att klicka dig vidare på följande länk: http://www.statistikdatabasen.scb.se/pxweb/sv/ssd/\n",
        "\n",
        "<details><summary markdown=\"span\">Tips</summary>\n",
        "<p>Klick på Befolkning -> Befolkningsstatistik -> Folkmängd -> Befolkning efter ålder och kön. Under ålder \"välj ålder, totalt, alla redovisade åldrar\". Vi vill inte ha datan uppdelad efter kön så fyll inte i något där. Välj sedan år 1990-2017. Välj \"Relationstabell som textfil (txt)\"\" innan du klickar fortsätt. </p>\n",
        "</details>\n",
        "\n",
        "Om du har lyckats ladda ner filen behöver vi nu ladda upp den till Colab. Börja med att öppna \"Table of contents\" antingen genom att klicka på den lilla pilen uppe till vänster eller välj \"View\" -> \"Table of contents\" i menyn. Välj sedan fliken \"Files\" och klicka \"Upload\". Välj filen vi precis hämtade från statistikdatabasen. \n",
        "\n",
        "<details><summary markdown=\"span\">Nödlösning</summary>\n",
        "<p> Om du inte klarar eller har stött på problem när det gäller att hämta och ladda upp filen kan du köra följande kod för att hämta filen och gå vidare till nästa del istället.\n",
        " <pre>!wget https://github.com/lunduniversity/schoolprog-satellite/raw/master/exercises/co2-utsl%C3%A4pp_sverige/folkmangd.zip --no-verbose\n",
        "import zipfile\n",
        "zip_ref = zipfile.ZipFile('folkmangd.zip')\n",
        "zip_ref.extractall()\n",
        "zip_ref.close()</pre></p>\n",
        "  \n",
        "</details>"
      ]
    },
    {
      "cell_type": "code",
      "metadata": {
        "id": "PLQ0f2C8DqfG",
        "colab_type": "code",
        "colab": {}
      },
      "source": [
        ""
      ],
      "execution_count": 0,
      "outputs": []
    },
    {
      "cell_type": "markdown",
      "metadata": {
        "id": "MsnIZ1HLGPXx",
        "colab_type": "text"
      },
      "source": [
        "## 2. Läs in och formatera data\n",
        "\n",
        "Vi vill nu skapa en lista med befolkningen för varje år, där befolkningen för 1990 är det första elementet. Vi kommer behöva läsa in från fil, använda `split()` och ta bort de delar vi inte vill ha med, exempelvis första raden och varje årtal. Obs! Filen vi har hämtat har en annan sorts encoding. Även om texten ser ut att vara vanlig text måste vi ange en specifik encoding när vi läser in filen. Tänk på att ändra filnamnet till det du själv har valt!\n",
        "\n",
        "**Uppdrag:** Skapa listan `population` enligt beskrivningen ovan."
      ]
    },
    {
      "cell_type": "code",
      "metadata": {
        "id": "A68h6aDiHVcd",
        "colab_type": "code",
        "colab": {}
      },
      "source": [
        "with open(\"folkmängd.txt\", \"r\", encoding='ISO-8859-1') as f:\n",
        "  #Skriv din kod här..\n"
      ],
      "execution_count": 0,
      "outputs": []
    },
    {
      "cell_type": "markdown",
      "metadata": {
        "id": "OjyyqP44JI-D",
        "colab_type": "text"
      },
      "source": [
        "<details><summary markdown=\"span\">Tips</summary>\n",
        "<p>När man hämtar data själv är den inte alltid på det formatet man vill ha. Vi måste därför ta bort den första raden som motsvarar rubriken. Ibland kan man även få en tom rad i slutet om filen är avslutad med en radbrytning. Denna fil innehåller det och vi behöver således även ta bort den sista raden. </p>\n",
        "</details>\n",
        "\n",
        "<details><summary markdown=\"span\">Lösning</summary>\n",
        "  <p><pre>with open(\"folkmängd.txt\", \"r\", encoding='ISO-8859-1') as f:\n",
        "    data = f.read()\n",
        "data = data.split(\"\\n\")\n",
        "population=[]\n",
        "for line in data[1:-1]: #här slicar vi data så att vi klipper bort det första och sista elementet\n",
        "    population.append(line.split(\"\\t\")[1])</pre> </p>\n",
        "</details>"
      ]
    },
    {
      "cell_type": "markdown",
      "metadata": {
        "id": "u1XV3UDEELpG",
        "colab_type": "text"
      },
      "source": [
        "Vi behöver nu datan med koldioxidutsläppen som vi använde i föregående uppgift. Kör följande kod för att hämta den och läsa in datan i listan `emission`:"
      ]
    },
    {
      "cell_type": "code",
      "metadata": {
        "id": "hHCWilnfEuFE",
        "colab_type": "code",
        "colab": {}
      },
      "source": [
        "!wget https://github.com/lunduniversity/schoolprog-satellite/raw/master/exercises/co2-utsl%C3%A4pp_sverige/data.zip --no-verbose\n",
        "import zipfile\n",
        "import matplotlib.pyplot as plt\n",
        "import numpy as np\n",
        "zip_ref = zipfile.ZipFile('data.zip')\n",
        "zip_ref.extractall()\n",
        "zip_ref.close()\n",
        "\n",
        "with open(\"data.txt\", \"r\") as f:\n",
        "    data = f.read()\n",
        "data = data.split(\"\\n\")\n",
        "raw_data = []\n",
        "for line in data:\n",
        "    raw_data.append(line.split(\"\\t\"))\n",
        "raw_data = raw_data[1:]\n",
        "data_by_category = {}\n",
        "for measure in raw_data:\n",
        "    if(measure[1] not in data_by_category):\n",
        "        data_by_category[measure[1]]=[]\n",
        "    data_by_category[measure[1]].append(float(measure[3]))\n",
        "\n",
        "emission = data_by_category['NATIONELL TOTAL (exklusive LULUCF, inklusive internationella transporter)']\n"
      ],
      "execution_count": 0,
      "outputs": []
    },
    {
      "cell_type": "markdown",
      "metadata": {
        "id": "a_VU8bSjKgYk",
        "colab_type": "text"
      },
      "source": [
        "Vi har nu en lista med utsläpp: `emission` och en lista med befolkningsmängd: `population`. Vi vill nu dividera dessa listorna med varandra elementvis. \n",
        "\n",
        "**Uppdrag:** Skapa en ny lista `emissionpercapita` där det första elementet motsvarar det första elementet i `emission` dividerat med det första elementet i `population` osv."
      ]
    },
    {
      "cell_type": "code",
      "metadata": {
        "id": "ucMbYLXRF8lj",
        "colab_type": "code",
        "colab": {}
      },
      "source": [
        ""
      ],
      "execution_count": 0,
      "outputs": []
    },
    {
      "cell_type": "markdown",
      "metadata": {
        "id": "tQ-dboV3ns1j",
        "colab_type": "text"
      },
      "source": [
        "<details><summary markdown=\"span\">Tips</summary>\n",
        "    <p>Vi kan göra detta med exempelvis en <code>for</code>-loop som indexerar i de båda listorna eller omvandla listorna till numpy-arrayer som vi då kan dividera direkt.</p>\n",
        "</details>\n",
        "\n",
        "<details><summary markdown=\"span\">Lösning</summary>\n",
        "<p><pre>emissionpercapita= []\n",
        "for i in range(0,len(emission)):\n",
        "    emissionpercapita.append((emission[i])/float(population[i]))</pre></p>\n",
        "</details>\n",
        "\n",
        "Om vi nu printar vår lista kommer vi se att vi har väldigt små decimaltal. Detta beror på att vi har enheten tusen ton CO2 ekv. per capita. \n",
        "\n",
        "**Uppdrag:** Omvandla `emissionpercapita` så att värdena har enheten ton CO2 ekv. per capita istället."
      ]
    },
    {
      "cell_type": "code",
      "metadata": {
        "id": "DIX3G6lVzVhE",
        "colab_type": "code",
        "colab": {}
      },
      "source": [
        ""
      ],
      "execution_count": 0,
      "outputs": []
    },
    {
      "cell_type": "markdown",
      "metadata": {
        "id": "HM_I5uh1ogC8",
        "colab_type": "text"
      },
      "source": [
        "\n",
        "<details><summary markdown=\"span\">Lösning</summary>\n",
        "<p>Detta går att göra väldigt smidigt med numpy arrays.<pre>emissionpercapita = np.array(emissionpercapita)*1000</pre></p>\n",
        "</details>\n",
        "\n",
        "## 3. Plotta data\n",
        "Vi vill nu plotta datan som finns i `emissionpercapita`. Du vet ju redan hur man plottar en vanlig figur, men nu vill vi gärna kunna jämföra  hur det totala utsläppet ser ut jämfört med utsläppet per capita. Därför skulle vi vilja se graferna bredvid varandra i samma figur. För detta kan vi använda `plt.subplots()`. \n",
        "\n",
        "**Uppdrag:** Kör koden nedan och sätt passande labels på de båda plottarna. Snygga även till plottarna efter ditt behag. Förstår du vad de olika delarna gör?"
      ]
    },
    {
      "cell_type": "code",
      "metadata": {
        "id": "TmNwwZxffixA",
        "colab_type": "code",
        "colab": {}
      },
      "source": [
        "years = [i for i in range(1990, 2018)]\n",
        "(fig, plots) = plt.subplots(1, 2, gridspec_kw={'wspace': 0.4}, figsize=(20, 10))\n",
        "total = plots[0]\n",
        "percapita = plots[1]\n",
        "percapita.plot(years, emissionpercapita, \"-o\")\n",
        "percapita.set_ylim(0,10)\n",
        "percapita.set_title(\"Växthusgas\")\n",
        "percapita.set_ylabel(\"någon enhet\")\n",
        "percapita.grid(True)\n",
        "total.plot(years, emission)\n",
        "total.set_ylim(0, 100000)\n",
        "total.set_xlabel(\"År\")\n",
        "total.grid(True)\n",
        "fig.show()"
      ],
      "execution_count": 0,
      "outputs": []
    },
    {
      "cell_type": "markdown",
      "metadata": {
        "id": "lDFeVxbFgcGt",
        "colab_type": "text"
      },
      "source": [
        "<details><summary markdown=\"span\">Svar</summary>\n",
        "<p> <ul>\n",
        "    <li><code>plt.subplots()</code> tar först in antalet rader och kolumner av subplots du ska ha. Det finns även flera valbara parametrar. Vi har ökat det hortisontella avståndet til 0.4 och satt en storlek för hela figuren. <code>plt.subplots()</code> returnerar en figure och en array av axes-objekt. Man kan säga att ett axes-objekt är det som ligger under när vi skriver <code>plt.funktion()</code>, man kan säga att axes-objekt är själva plotten.  </li>\n",
        "    <li>Vi plockar ut axes-objekten för att kunna anropa dem var för sig genom att skriva <code>total = plots[0]</code> och <code>percapita = plots[1]</code>. </li>\n",
        "    <li>Vi anropar metoder ni känner igen sen tidigare för de individuella plottarna. Nu har dock vissa metoder <code>set_</code> framför. </li>\n",
        "    <li>Till sist visar vi hela figuren med <code>fig.show()</code> som visar hela figuren som består av de två plottarna. </li>\n",
        "    </ul></p>\n",
        "</details>\n",
        "\n",
        "<details><summary markdown=\"span\">Exempellösning</summary>\n",
        "<p><pre>years = [i for i in range(1990, 2018)]\n",
        "(fig, plots) = plt.subplots(1, 2, gridspec_kw={'wspace': 0.4}, figsize=(20, 10))\n",
        "total = plots[0]\n",
        "percapita = plots[1]\n",
        "percapita.plot(years, emissionpercapita, \"-o\")\n",
        "percapita.set_ylim(0,10)\n",
        "percapita.set_title(\"Växthusgasutsläpp per capita i Sverige\")\n",
        "percapita.set_ylabel(\"CO2-utsläpp (ton CO2 ekv. per capita)\")\n",
        "percapita.set_xlabel(\"År\")\n",
        "percapita.grid(True)\n",
        "total.plot(years, emission, \"-o\", color=\"red\")\n",
        "total.set_ylim(0, 100000)\n",
        "total.set_title(\"Totala växthusgasutsläpp i Sverige\")\n",
        "total.set_ylabel(\"CO2-utsläpp (tusen ton CO2 ekv.)\")\n",
        "total.set_xlabel(\"År\")\n",
        "total.grid(True)\n",
        "fig.show()\n",
        "</pre></p>\n",
        "</details>\n",
        "\n",
        "Nu kan man dock ställa sig frågan: är dessa två grafer ens jämförbara? Vi har olika enheter på x-axlarna och det är svårt att jämföra den procentuella förändringen bara genom att kolla på dem. Därför ska vi nu plotta just den procentuella förändringen. \n",
        "\n",
        "**Uppdrag:** Plotta istället för de absoluta värdena den procentuella förändningen sedan 1990 för både totala utsläpp och per capita i samma fönster. Du ska alltså låta värdet för 1990 vara 100% och de andra procentsatserna ska sättas relativt 1990 års värde.\n"
      ]
    },
    {
      "cell_type": "code",
      "metadata": {
        "id": "iN2_NVJAmxxZ",
        "colab_type": "code",
        "colab": {}
      },
      "source": [
        ""
      ],
      "execution_count": 0,
      "outputs": []
    },
    {
      "cell_type": "markdown",
      "metadata": {
        "id": "YlrQF372myhm",
        "colab_type": "text"
      },
      "source": [
        "<details><summary markdown=\"span\">Tips</summary>\n",
        "<p> Det enda du behöver göra för att få procentuella förändringen är att dela med värdet från 1990 och sen multiplicera med 100.</p>\n",
        "</details>\n",
        "\n",
        "<details><summary markdown=\"span\">Exempellösning</summary>\n",
        "<p><pre>epc_procent = np.array(emissionpercapita) / emissionpercapita[0] * 100\n",
        "e_procent = np.array(emission) / emission[0] * 100\n",
        "plt.figure(figsize=(10, 10))\n",
        "plt.plot(years, epc_procent, 'b-o')\n",
        "plt.plot(years, e_procent, 'r-^')\n",
        "plt.grid(True)\n",
        "plt.title(\"Procentuell förändring\")\n",
        "plt.xlabel(\"År\")\n",
        "plt.ylabel(\"Procentuell förändring sedan 1990\")\n",
        "plt.legend([\"Utsläpp per capita\", \"Totala utsläpp\"])\n",
        "plt.ylim(0, 130)\n",
        "plt.show()\n",
        "</pre></p>\n",
        "</details>\n",
        "\n",
        "\n",
        "Vad kan vi lära oss från dessa grafer? Den procentuella minskningen är större när man kollar per capita. Detta beror på att befolkningen har växt. Vi kan se att vi nästan är nere på 6 ton CO2 ekv. per capita 2017 och att vi 1996 var uppe på ungefär 9 ton CO2 ekv. per capita. Så det går att förbättra, men vi har fortfarande en lång väg att gå! "
      ]
    }
  ]
}