{
  "nbformat": 4,
  "nbformat_minor": 0,
  "metadata": {
    "colab": {
      "name": "Introduktion NumPy",
      "version": "0.3.2",
      "provenance": []
    },
    "kernelspec": {
      "name": "python3",
      "display_name": "Python 3"
    }
  },
  "cells": [
    {
      "cell_type": "markdown",
      "metadata": {
        "id": "pqKcH1Ydo2-v",
        "colab_type": "text"
      },
      "source": [
        "# Introduktion till NumPy\n",
        "I denna uppgift kommer vi kolla på biblioteket NumPy. Centralt i NumPy är arrayer. Dessa kan man oftast tänka sig som en- eller tvådimensionella listor fast med andra egenskaper. Varför då använda arrayer och inte bara vanliga listor? Anledningen är delvis att NumPy kan utföra operationer på arrayer mycket snabbare än vad man kan göra på vanliga listor och framför allt är det mycket smidigare att utföra operationer på arrayer jämfört med vanliga listor. Dessutom finns det en massa andra bibliotek som använder NumPy-arrayer, bland annat `matplotlib` som du känner till.\n",
        "\n",
        "Om man har kommit väldigt långt i matten och läst lite linjär algebra kan man säga att NumPy behandlar matriser och vektorer effektivt. \n",
        "\n",
        "\n",
        "## 1. Din första NumPy array\n",
        "I sin lättaste form kan arrayer vara väldigt lika vanliga listor. För att använda arrayer måste vi importera NumPy biblioteket. Skriv följande kod:"
      ]
    },
    {
      "cell_type": "code",
      "metadata": {
        "id": "S2QolGiXot-u",
        "colab_type": "code",
        "colab": {}
      },
      "source": [
        "import numpy as np"
      ],
      "execution_count": 0,
      "outputs": []
    },
    {
      "cell_type": "markdown",
      "metadata": {
        "id": "y804xOjVo1nt",
        "colab_type": "text"
      },
      "source": [
        "Vi kan nu skapa en array genom att skriva:"
      ]
    },
    {
      "cell_type": "code",
      "metadata": {
        "id": "2q4Xi70KpGnU",
        "colab_type": "code",
        "colab": {}
      },
      "source": [
        "a = np.array([1,2,3])\n",
        "print(a)"
      ],
      "execution_count": 0,
      "outputs": []
    },
    {
      "cell_type": "markdown",
      "metadata": {
        "id": "Bf2aZhDqpFLe",
        "colab_type": "text"
      },
      "source": [
        "Som du ser så kan vi använda en vanlig python lista som argument till `array()`. Detta gör att vi till exempel kan ta färdiga listor och på ett enkelt sätt omvandla till en array. Det finns såklart även många andra sätt att skapa nya arrayer. Om man till exempel vill ha en array med nollor kan man skriva: "
      ]
    },
    {
      "cell_type": "code",
      "metadata": {
        "id": "_ALrL6ChpWyD",
        "colab_type": "code",
        "colab": {}
      },
      "source": [
        "a = np.zeros(10)"
      ],
      "execution_count": 0,
      "outputs": []
    },
    {
      "cell_type": "markdown",
      "metadata": {
        "id": "l2sYaxocpbiK",
        "colab_type": "text"
      },
      "source": [
        "**Uppdrag:** Använd `print()` för att se hur arrayen `a` ser ut.\n",
        "\n",
        "<details>\n",
        "<summary markdown=\"span\">\n",
        "Lösning \n",
        "</summary>\n",
        "<p><pre>a = np.zeros(10)\n",
        "print(a)</pre>\n",
        "</p>\n",
        "</details>\n",
        "\n",
        "Vi kan även skapa arrayer av olika rank. En arrays rank motsvarar hur många dimensioner arrayen utgör. En vanliga lista motsvarar rank 1 medan en tvådimensionell lista, eller rutnät motsvarar rank 2. På samma sätt som en bild kan vara 2D eller 3D kan en array ha olika många dimensioner. Om vi vill skapa vår tidigare array fast nu i rank 2 istället kan vi skriva:"
      ]
    },
    {
      "cell_type": "code",
      "metadata": {
        "id": "-OqulGc1piXF",
        "colab_type": "code",
        "colab": {}
      },
      "source": [
        "a = np.zeros((10,10))"
      ],
      "execution_count": 0,
      "outputs": []
    },
    {
      "cell_type": "markdown",
      "metadata": {
        "id": "Rm7uWBNapkcN",
        "colab_type": "text"
      },
      "source": [
        "Om du printar denna på samma sätt som tidigare kommer du se att vi nu har fått en array av rank 2. Vi kan även skapa en liknande array med ettor genom att skriva:"
      ]
    },
    {
      "cell_type": "code",
      "metadata": {
        "id": "RyFoFk8cpmrN",
        "colab_type": "code",
        "colab": {}
      },
      "source": [
        "a = np.ones((10,5))"
      ],
      "execution_count": 0,
      "outputs": []
    },
    {
      "cell_type": "markdown",
      "metadata": {
        "id": "HGqSEKoGpo8C",
        "colab_type": "text"
      },
      "source": [
        "**Uppdrag:** Skapa en array `b` av rank 1 med 5 valfria tal. Skriv sedan `print(a*b)`. Vad hände?"
      ]
    },
    {
      "cell_type": "code",
      "metadata": {
        "id": "prhz4he8q-lQ",
        "colab_type": "code",
        "colab": {}
      },
      "source": [
        ""
      ],
      "execution_count": 0,
      "outputs": []
    },
    {
      "cell_type": "markdown",
      "metadata": {
        "id": "FGO_GCysq-zI",
        "colab_type": "text"
      },
      "source": [
        "Som du såg så multiplicerades din array elementvis med varje rad av arrayen med ettor. Vi kommer kolla mer på hur detta och liknanande funktioner kan användas i nästa del.\n",
        "\n",
        "Vill du skapa en array av rank 2 kan du också använda `array()`-metoden fast på en tvådimensionell lista. \n",
        "\n",
        "**Uppdrag:** Kör följande kod och variera parametrarna för att se vad som händer:"
      ]
    },
    {
      "cell_type": "code",
      "metadata": {
        "id": "SmLq44onproU",
        "colab_type": "code",
        "colab": {}
      },
      "source": [
        "a = np.array([[1, 2, 3], [4, 5, 6]])\n",
        "print(a)"
      ],
      "execution_count": 0,
      "outputs": []
    },
    {
      "cell_type": "markdown",
      "metadata": {
        "id": "aDgmhNP_puIh",
        "colab_type": "text"
      },
      "source": [
        "## 2. Operationer på arrayer\n",
        "När det kommer till operationer skiljer sig arrayer en hel del från listor. Om vi tidigare har velat lägga ihop två listor elementvis har vi varit tvugna att själva loopa igenom listorna och lägga ihop elementen. Skriv följande kod:"
      ]
    },
    {
      "cell_type": "code",
      "metadata": {
        "id": "2CVfevSypxNH",
        "colab_type": "code",
        "colab": {}
      },
      "source": [
        "a = [1,2,3]\n",
        "b = [4,5,6]\n",
        "print(a+b)\n",
        "\n",
        "npa = np.array([1,2,3])\n",
        "npb = np.array([4,5,6])\n",
        "print(npa+npb)"
      ],
      "execution_count": 0,
      "outputs": []
    },
    {
      "cell_type": "markdown",
      "metadata": {
        "id": "gkPFDIwapzb-",
        "colab_type": "text"
      },
      "source": [
        "**Uppdrag:** Vad blev skillnaden i ovanstående kod?\n",
        "\n",
        "<details>\n",
        "<summary markdown=\"span\">\n",
        "Svar\n",
        "</summary>\n",
        "<p>När vi använder <code>+</code> mellan vanliga listor läggs de ihop till en lista medan <code>+</code> mellan arrayer adderas arrayerna elementvis. \n",
        "</p>\n",
        "</details>\n",
        "\n",
        "Denna egenskap gör att det blir väldigt smidigt att använda arrayer för just matematiska beräkningar. De flesta operationer som går att köra på ett tal, går att köra på en array och körs då elementvis. Det går även att skriva tillexemepel `array + 2` där vi kommer då lägga till två på varje plats i arrayen `array`.\n",
        "\n",
        "**Uppdrag:** Skapa en valfri array och testa operationer så som `*`,`**`, `-` och `/`."
      ]
    },
    {
      "cell_type": "code",
      "metadata": {
        "id": "GOUUJPVpq5nH",
        "colab_type": "code",
        "colab": {}
      },
      "source": [
        ""
      ],
      "execution_count": 0,
      "outputs": []
    },
    {
      "cell_type": "markdown",
      "metadata": {
        "id": "x78CBN2Qp4g_",
        "colab_type": "text"
      },
      "source": [
        "## 3. Använd NumPy för att plotta funktioner\n",
        "Ett vanligt användningsområde för NumPy är när man vill skapa grafer till funktioner. I uppgiften \"Plotta funktioner\" som du kanske redan har gjort har du plottat funktioner med hjälp av listor. Men vi ska visa hur vi enklare kan göra det med arrayer.\n",
        "\n",
        "För att börja måste vi skapa x-värdena för punkterna vi vill plotta. Detta kan göras med `np.linspace(start, stop, nbr_points)` som skapar en array av rank 1 vars första värde är `start`, sista värdet är `stop` och den inntehåller `nbr_points` stycken värden.\n",
        "\n",
        "**Uppdrag:** Kör följande kod och variera de olika parametrarna för att se vad som händer."
      ]
    },
    {
      "cell_type": "code",
      "metadata": {
        "id": "SH4O_G9bp7m3",
        "colab_type": "code",
        "colab": {}
      },
      "source": [
        "a = np.linspace(0, 10, 5)\n",
        "print(a)"
      ],
      "execution_count": 0,
      "outputs": []
    },
    {
      "cell_type": "markdown",
      "metadata": {
        "id": "Pt-1cgxhp9nr",
        "colab_type": "text"
      },
      "source": [
        "Det finns också en annan funktion lik `linspace()` för att skapa liknande arrayer av rank 1. Denna funktion är `arange(start, stop, step)` som ger en array av rank 1 som börjar på `start` och ökar med `step` i varje steg, och dess sista värde är precis mindre än `stop`, det vill säga, om man hade gått ett steg till hade värdet blivit större än eller lika med `stop`. \n",
        "\n",
        "**Uppdrag:** Kör följande kod och variera de olika parametrarna för att se vad som händer. "
      ]
    },
    {
      "cell_type": "code",
      "metadata": {
        "id": "KLoE4ndhp_3F",
        "colab_type": "code",
        "colab": {}
      },
      "source": [
        "a = np.arange(0, 10, 2)\n",
        "print(a)"
      ],
      "execution_count": 0,
      "outputs": []
    },
    {
      "cell_type": "markdown",
      "metadata": {
        "id": "CUMMlIFDqGAE",
        "colab_type": "text"
      },
      "source": [
        "Fördelen med `linspace()` är att man får precis de start- och slutpunkter man vill och kan lätt bestämma hur många punkter man vill ha, medans detta är inte är fallet för `arange()`, den är istället bra när man vill ange specifikt hur långa steg man ska ta. \n",
        "\n",
        "För att få punkter vi kan ge till `matplotlib` vill vi nu använda funkioner på värdena vi får från exempelvis `linspace()`. Och här kommer en av de stora fördelarna med NumPy: Vi kan väldigt lätt applicera funktioner elementvis på arrayer. Till exempel finns det `np.cos(x)` som applicerar cosinusfunktionen elementvis på arrayen och det finns många andra som till exempel `np.exp(x)` som är exponentialfunktionen elementvis. De flesta funktioner man kan tänkas behöva finns. För en utförligare lista över funktionerna kan man se [denna sida](https://www.geeksforgeeks.org/numpy-mathematical-function/).\n",
        "\n",
        "**Uppdrag:** Kör följande kod och se vad som händer. Vad betyder de olika delarna? Vad händer när du varierar antalet punkter i `linspace()`? "
      ]
    },
    {
      "cell_type": "code",
      "metadata": {
        "id": "6_FLkSDPqM-j",
        "colab_type": "code",
        "colab": {}
      },
      "source": [
        "import matplotlib.pyplot as plt\n",
        "x = np.linspace(0, 10, 100)\n",
        "y = np.sin(x)\n",
        "plt.plot(x, y)\n",
        "plt.savefig(\"myplot.png\")"
      ],
      "execution_count": 0,
      "outputs": []
    },
    {
      "cell_type": "markdown",
      "metadata": {
        "id": "WSkA6o32qPMS",
        "colab_type": "text"
      },
      "source": [
        "<details>\n",
        "<summary markdown=\"span\">\n",
        "Svar\n",
        "</summary>\n",
        "<p>\n",
        "<code>x = np.linspace(0, 10, 100)</code> skapar en array av x-värden. <code>y = np.sin(x)</code> applicerar sinusfunktionen elementvis på var av dessa värden. Detta gör att vi får massa punkter på grafen till sinusfunktionen. Sist plottar vi den som vanligt. Ju fler punkter man har i linspace, desto \"mjukare\" blir kurvan. \n",
        "</p>\n",
        "</details>\n",
        "\n",
        "\n",
        "**Uppdrag:** Plotta exponentialfunktionen mellan -1 och 1.\n",
        "\n"
      ]
    },
    {
      "cell_type": "code",
      "metadata": {
        "id": "GKwpt722qvND",
        "colab_type": "code",
        "colab": {}
      },
      "source": [
        ""
      ],
      "execution_count": 0,
      "outputs": []
    },
    {
      "cell_type": "markdown",
      "metadata": {
        "id": "O95ks3Apqzez",
        "colab_type": "text"
      },
      "source": [
        "<details><summary markdown=\"span\">Lösning</summary>\n",
        "<p>\n",
        "<pre><code>x = np.linspace(-1, 1, 100)\n",
        "y = np.exp(x)\n",
        "plt.plot(x, y)\n",
        "plt.savefig(\"myplot.png\")\n",
        "</code></pre></p>\n",
        "</details>\n",
        "\n",
        "## Fortsättningsuppgifter\n",
        "\n",
        "- Plotta tangensfunktionen. Går det fläckfritt eller stöter du på några problem? Hur löser du dem?"
      ]
    }
  ]
}