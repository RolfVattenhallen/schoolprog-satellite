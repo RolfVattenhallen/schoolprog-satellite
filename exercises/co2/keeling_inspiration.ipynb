{
  "nbformat": 4,
  "nbformat_minor": 0,
  "metadata": {
    "colab": {
      "name": "keeling_inspiration.ipynb",
      "provenance": [],
      "authorship_tag": "ABX9TyPsiqAGas/Pb37N1VKvF2Bq",
      "include_colab_link": true
    },
    "kernelspec": {
      "name": "python3",
      "display_name": "Python 3"
    }
  },
  "cells": [
    {
      "cell_type": "markdown",
      "metadata": {
        "id": "view-in-github",
        "colab_type": "text"
      },
      "source": [
        "<a href=\"https://colab.research.google.com/github/lunduniversity/schoolprog-satellite/blob/master/exercises/co2/keeling_inspiration.ipynb\" target=\"_parent\"><img src=\"https://colab.research.google.com/assets/colab-badge.svg\" alt=\"Open In Colab\"/></a>"
      ]
    },
    {
      "cell_type": "markdown",
      "metadata": {
        "id": "pyLrSKhhbfmN",
        "colab_type": "text"
      },
      "source": [
        "# Keeling-kurvan: Inspirationsuppdrag\n",
        "\n",
        "1958 påbörjade forskaren Charles Keeling mätningar av koldioxidhalten på vulkanen Mauna Loa på Hawaii.\n",
        "\n",
        "I denna övning ska vi använda programmering för att undersöka dessa mätningar. Vi kommer att använda programspråket Python."
      ]
    },
    {
      "cell_type": "markdown",
      "metadata": {
        "id": "ao3IjtcE5-H5",
        "colab_type": "text"
      },
      "source": [
        "#1. Kör lite kod\n",
        "Vi börjar med att kontrollera att vi kan köra programkod.\n",
        "\n",
        "**Uppdrag 1a** Vi behöver vara uppkopplade \"connectad\" till Colab för att kunna köra kod.\n",
        "\n",
        "  * Ser du att det står \"RAM\" och \"Disk\" uppe till höger i fönstret? I så fall är du uppkopplad.\n",
        "  * Annars så finns det en knapp `connect` uppe till höger. Klicka i så fall på den.\n",
        "  * Det kan komma upp en varning som du behöver godkänna.\n",
        "  * Nu bör det stå \"RAM\" och \"Disk\" i stället för `connect`-knappen.\n",
        "\n",
        "**Uppdrag 1b** Prova nu att köra \"kodcellen\" nedan genom att klicka på koden och sedan på den lilla pilen till vänster i kodcellen.\n"
      ]
    },
    {
      "cell_type": "code",
      "metadata": {
        "id": "Fg1qiMjQ8Cq3",
        "colab_type": "code",
        "colab": {}
      },
      "source": [
        "for _ in range(3):\n",
        "  print(\"Aloha!\")"
      ],
      "execution_count": 0,
      "outputs": []
    },
    {
      "cell_type": "markdown",
      "metadata": {
        "id": "sb3pdbQt8-cj",
        "colab_type": "text"
      },
      "source": [
        "Fick du det att fungera? Vad skrivs ut?\n",
        "\n",
        "<details>\n",
        "<summary markdown=\"span\">\n",
        "Svar\n",
        "</summary>\n",
        "<p>Texten \"Aloha!\" skrivs ut tre gånger. Aloha betyder \"hej\" på Hawaiianska.</p>\n",
        "</details>\n",
        "\n",
        "**Uppdrag 1c** Prova att ändra från 3 till 5 i programmet. Kör koden igen. Vad händer?"
      ]
    },
    {
      "cell_type": "markdown",
      "metadata": {
        "id": "bFm1FiHk17vj",
        "colab_type": "text"
      },
      "source": [
        "## 2. Var ligger Mauna Loa?\n",
        "\n",
        "Nu skall vi se var mätstationen Mauna Loa ligger. I kodcellen nedan finns Python-kod för att visa en interaktiv karta.\n",
        "\n",
        "**Uppdrag 2a** Kör koden nedan. Får du upp kartan? Kan du se var Mauna Loa ligger i förhållande till olika världsdelar?\n",
        "\n",
        "<details>\n",
        "<summary markdown=\"span\">\n",
        "Svar\n",
        "</summary>\n",
        "<p>Mauna Loa ligger på ön Hawaii som är den största ön i ö-riket Hawaii. Om du zoomar ut ser du att Hawaii-öarna ligger mitt ute i Stilla Havet, med Asien och Australien på västra sidan och Amerika på östra.</p>\n",
        "</details>"
      ]
    },
    {
      "cell_type": "code",
      "metadata": {
        "id": "SQgikmZRbanZ",
        "colab_type": "code",
        "colab": {}
      },
      "source": [
        "#Import modules:\n",
        "import folium\n",
        "\n",
        "#Create map object:\n",
        "m = folium.Map(location=[19.5362, -155.5763], zoom_start=7)\n",
        "\n",
        "#Add marker:\n",
        "folium.Marker(location=[19.5362, -155.5763],\n",
        "              popup='Mauna Loa Mätstation',\n",
        "              icon=folium.Icon(color='darkred', icon='cloud')).add_to(m)\n",
        "\n",
        "#Show map\n",
        "m"
      ],
      "execution_count": 0,
      "outputs": []
    },
    {
      "cell_type": "markdown",
      "metadata": {
        "id": "wmjADKfAApKD",
        "colab_type": "text"
      },
      "source": [
        "Prova gärna att ändra lite i koden ovan för att göra markören för Mauna Loa i en annan färg än `darkred` och med en annan ikon än ett moln (`cloud`). Andra färger du kan prova är t.ex. `blue` eller `green`. Andra ikoner du kan prova är t.ex. `star` eller `flag`.\n"
      ]
    },
    {
      "cell_type": "markdown",
      "metadata": {
        "id": "IIkPRFZfDITA",
        "colab_type": "text"
      },
      "source": [
        "**Uppdrag 2b** Vad kan vara för- och nackdelar med att mäta koldioxidhalten just på Mauna Loa? Fundera och diskutera gärna med en kompis innan du tittar på svaret nedan.\n",
        "\n",
        "<details>\n",
        "<summary markdown=\"span\">\n",
        "Svar\n",
        "</summary>\n",
        "<p>Genom sitt läge mitt i Stilla Havet blir mätningarna oberoende av lokala effekter. Det finns t.ex. inga stora skogar i närheten som tar upp koldioxid. Det finns inte heller några stora industrier eller mycket bilar som släpper ut koldioxid. Mätstationen är högt uppe på ett berg och man undviker därmed lokala effekter som kan finnas i dalar. Man kan anta att mätningarna visar ett medelvärde för hela Stilla Havet. Hur mätvärdena ändrar sig med tiden kan antas vara representativt för hela jorden.</p>\n",
        "<p>En sak som dock kan påverka lokalt är om det råkar bli ett vulkanutbrott i närheten vilket händer då och då på Hawaii. De mätvärdena får då sorteras bort.</p>\n",
        "</details>\n"
      ]
    },
    {
      "cell_type": "markdown",
      "metadata": {
        "id": "WCbQvweeHT10",
        "colab_type": "text"
      },
      "source": [
        "#3. Mätvärdena\n",
        "..."
      ]
    }
  ]
}