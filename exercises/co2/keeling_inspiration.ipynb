{
  "nbformat": 4,
  "nbformat_minor": 0,
  "metadata": {
    "colab": {
      "name": "keeling_inspiration.ipynb",
      "provenance": [],
      "authorship_tag": "ABX9TyOnkcNHIcyxWSOVxmSHxSrq",
      "include_colab_link": true
    },
    "kernelspec": {
      "name": "python3",
      "display_name": "Python 3"
    }
  },
  "cells": [
    {
      "cell_type": "markdown",
      "metadata": {
        "id": "view-in-github",
        "colab_type": "text"
      },
      "source": [
        "<a href=\"https://colab.research.google.com/github/lunduniversity/schoolprog-satellite/blob/master/exercises/co2/keeling_inspiration.ipynb\" target=\"_parent\"><img src=\"https://colab.research.google.com/assets/colab-badge.svg\" alt=\"Open In Colab\"/></a>"
      ]
    },
    {
      "cell_type": "markdown",
      "metadata": {
        "id": "pyLrSKhhbfmN",
        "colab_type": "text"
      },
      "source": [
        "# Keeling-kurvan: Inspirationsuppdrag\n",
        "\n",
        "1958 började forskaren Charles Keeling mäta koldioxidhalten från en mätstation på vulkanen Mauna Loa på Hawaii.\n",
        "\n",
        "I denna övning ska vi använda programmering för att undersöka hur koldioxidhalten ändrats de senaste åren. Vi kommer att använda programspråket Python.\n",
        "\n",
        "Vi kommer inte att förklara detaljerna i programmeringen, men du kommer att se vad man kan använda programmering till.\n",
        "\n",
        "<img src=\"https://github.com/lunduniversity/schoolprog-satellite/blob/master/exercises/co2/figs/hawaii.png?raw=1\" width=\"750\" align=\"center\"/>\n",
        "\n",
        "<hr size=5 noshade>"
      ]
    },
    {
      "cell_type": "markdown",
      "metadata": {
        "id": "ao3IjtcE5-H5",
        "colab_type": "text"
      },
      "source": [
        "#1. Kör lite kod\n",
        "Vi börjar med att kontrollera att vi kan köra programkod.\n",
        "\n",
        "-----\n",
        "\n",
        "**Uppdrag 1a:** Vi behöver vara uppkopplade (\"connected\") till Colab för att kunna köra kod.\n",
        "\n",
        "  * Uppe till höger i fönstret kan det stå \"RAM\" och \"Disk\". I så fall är du uppkopplad. I annat fall bör det finnas en knapp `Connect`. Klicka i så fall på den.\n",
        "  * Efter en stund bör du se att det står \"RAM\" och Disk\" uppe till höger i stället för `Connect`-knappen. Då är du uppkopplad och kan gå vidare.\n",
        "\n",
        "-----\n",
        "\n",
        "**Uppdrag 1b:** Prova nu att köra \"kodcellen\" nedan genom att klicka på koden och sedan på den lilla pilen till vänster i kodcellen.\n",
        "\n",
        "Första gången du kör något kan det komma upp en varning som du behöver godkänna.\n",
        "\n"
      ]
    },
    {
      "cell_type": "code",
      "metadata": {
        "id": "Fg1qiMjQ8Cq3",
        "colab_type": "code",
        "colab": {}
      },
      "source": [
        "for _ in range(3):\n",
        "  print(\"Aloha!\")"
      ],
      "execution_count": 0,
      "outputs": []
    },
    {
      "cell_type": "markdown",
      "metadata": {
        "id": "sb3pdbQt8-cj",
        "colab_type": "text"
      },
      "source": [
        "Fick du det att fungera? Vad skrivs ut?\n",
        "\n",
        "<details>\n",
        "<summary markdown=\"span\">\n",
        "Svar\n",
        "</summary>\n",
        "<p>Texten \"Aloha!\" skrivs ut tre gånger. Aloha betyder \"hej\" på Hawaiianska.</p>\n",
        "</details>\n",
        "\n",
        "-----\n",
        "\n",
        "**Uppdrag 1c:** Prova att ändra från 3 till 5 i programmet. Kör koden igen. Vad händer?\n",
        "\n",
        "-----"
      ]
    },
    {
      "cell_type": "markdown",
      "metadata": {
        "id": "bFm1FiHk17vj",
        "colab_type": "text"
      },
      "source": [
        "## 2. Var ligger Mauna Loa?\n",
        "\n",
        "Nu skall vi se var mätstationen Mauna Loa ligger. I kodcellen nedan finns Python-kod för att visa en interaktiv karta.\n",
        "\n",
        "-----\n",
        "\n",
        "**Uppdrag 2a:** Kör koden nedan. Får du upp kartan? "
      ]
    },
    {
      "cell_type": "code",
      "metadata": {
        "id": "SQgikmZRbanZ",
        "colab_type": "code",
        "colab": {}
      },
      "source": [
        "#Import modules:\n",
        "import folium\n",
        "\n",
        "#Create map object:\n",
        "m = folium.Map(location=[19.5362, -155.5763], zoom_start=7)\n",
        "\n",
        "#Add marker:\n",
        "folium.Marker(location=[19.5362, -155.5763],\n",
        "              popup='Mauna Loa Observatory',\n",
        "              icon=folium.Icon(color='darkred', icon='cloud')).add_to(m)\n",
        "\n",
        "#Show map\n",
        "m"
      ],
      "execution_count": 0,
      "outputs": []
    },
    {
      "cell_type": "markdown",
      "metadata": {
        "id": "eoB4WlY2DqXh",
        "colab_type": "text"
      },
      "source": [
        "-----\n",
        "\n",
        "**Uppdrag 2b:** Kan du se var Mauna Loa ligger i förhållande till olika världsdelar?\n",
        "\n",
        "<details>\n",
        "<summary markdown=\"span\">\n",
        "Svar\n",
        "</summary>\n",
        "<p>Mauna Loa ligger på ön Hawaii som är den största ön i ö-riket Hawaii. Om du zoomar ut ser du att Hawaii-öarna ligger mitt ute i Stilla Havet, med Asien och Australien på västra sidan och Amerika på östra.</p>\n",
        "</details>\n",
        "\n",
        "-----"
      ]
    },
    {
      "cell_type": "markdown",
      "metadata": {
        "id": "wmjADKfAApKD",
        "colab_type": "text"
      },
      "source": [
        "**Uppdrag 2c:** Prova gärna att ändra lite i koden ovan för att göra markören för Mauna Loa i en annan färg än `darkred` och med en annan ikon än ett moln (`cloud`). Andra färger du kan prova är t.ex. `blue` eller `green`. Andra ikoner du kan prova är t.ex. `star` eller `flag`.\n",
        "\n",
        "-----\n"
      ]
    },
    {
      "cell_type": "markdown",
      "metadata": {
        "id": "IIkPRFZfDITA",
        "colab_type": "text"
      },
      "source": [
        "**Uppdrag 2d:** Vad kan vara för- och nackdelar med att mäta koldioxidhalten just på Mauna Loa? Fundera och diskutera gärna med en kompis innan du tittar på svaret nedan.\n",
        "\n",
        "<details>\n",
        "<summary markdown=\"span\">\n",
        "Svar\n",
        "</summary>\n",
        "<p>Genom sitt läge mitt i Stilla Havet blir mätningarna oberoende av lokala effekter. Det finns inga stora skogar i närheten som tar upp koldioxid. Det finns inte heller några stora industrier eller mycket bilar som släpper ut koldioxid. Mätstationen är högt uppe på ett berg och man undviker därmed lokala effekter som kan finnas i dalar.</p>\n",
        "<p>Man kan anta att mätningarna visar ett medelvärde för hela Stilla Havet. Hur mätvärdena ändrar sig med tiden kan antas vara representativt för hela jorden.</p>\n",
        "<p>En sak som dock kan påverka lokalt är om det råkar bli ett vulkanutbrott i närheten vilket händer då och då på Hawaii. De mätvärdena får då sorteras bort.</p>\n",
        "</details>\n",
        "\n",
        "-----\n"
      ]
    },
    {
      "cell_type": "markdown",
      "metadata": {
        "id": "WCbQvweeHT10",
        "colab_type": "text"
      },
      "source": [
        "#3. Mätvärdena\n",
        "Mätvärdena från Mauna Loa finns fritt tillgängliga i en fil på internet på följande länk: <a href=\"ftp://aftp.cmdl.noaa.gov/products/trends/co2/co2_mm_mlo.txt\" target=\"_blank\">ftp://aftp.cmdl.noaa.gov/products/trends/co2/co2_mm_mlo.txt</a>\n",
        "\n",
        "-----\n",
        "\n",
        "**Uppdrag 3a:** Titta på mätvärdena för att få en uppfattning om hur datan ser ut. Ta reda på när den första mätningen gjordes. Tag också reda på när den senaste mätningen gjordes. Observera att:\n",
        "  * Längst upp finns \"metadata\", det vill säga information om vad filen innehåller. Varje metadata-rad startar med tecknet `#`.\n",
        "  * Sedan kommer mätvärdena. Varje mätvärde har en egen rad som börjar med år och månad.\n",
        "\n",
        "<details>\n",
        "<summary markdown=\"span\">\n",
        "Svar\n",
        "</summary>\n",
        "<p>Den första mätningen gjordes i mars 1958.</p>\n",
        "<p>Scrolla till slutet av filen för att se när den senaste mätningen gjordes. Det bör vara ganska nyligen. Filen uppdateras efter hand med nya värden.</p>\n",
        "</details>\n",
        "\n",
        "-----\n"
      ]
    },
    {
      "cell_type": "markdown",
      "metadata": {
        "id": "X8fzEj8xVQRP",
        "colab_type": "text"
      },
      "source": [
        "Vårt nästa steg är att använda programkod för att hämta filen så att vi sedan kan analysera mätvärdena.\n",
        "\n",
        "-----\n",
        "\n",
        "**Uppdrag 3b:** Kör koden nedan. Följande görs:\n",
        "  * Filen hämtas till programmet.\n",
        "  * Raderna med metadata rensas bort. Vi vill nämligen bara ha kvar själva mätvärdena när vi ska programmera.\n",
        "  * De första 5 raderna med mätvärden skrivs ut.\n",
        "\n"
      ]
    },
    {
      "cell_type": "code",
      "metadata": {
        "id": "TJyKDI-OXL_r",
        "colab_type": "code",
        "colab": {}
      },
      "source": [
        "#Get the file\n",
        "from ftplib import FTP\n",
        "ftp = FTP('aftp.cmdl.noaa.gov') \n",
        "ftp.login()\n",
        "raw_data = []\n",
        "ftp.retrlines('RETR /products/trends/co2/co2_mm_mlo.txt', raw_data.append)\n",
        "ftp.quit()\n",
        "\n",
        "#The file data is now in the variable raw_data\n",
        "\n",
        "#Remove the metadata lines\n",
        "data = [line for line in raw_data if not line.startswith('#')]\n",
        "\n",
        "#The measurements are now in the variable data\n",
        "\n",
        "#Print the first 5 measurements\n",
        "for i in range(5):\n",
        "  print(data[i])"
      ],
      "execution_count": 0,
      "outputs": []
    },
    {
      "cell_type": "markdown",
      "metadata": {
        "id": "r8XymX85DdDj",
        "colab_type": "text"
      },
      "source": [
        "Får du ut de första 5 raderna? Om du vill kan du ändra koden så att de första 10 raderna skrivs ut i stället.\n",
        "\n",
        "-----"
      ]
    },
    {
      "cell_type": "markdown",
      "metadata": {
        "id": "44V-L-mfXWTu",
        "colab_type": "text"
      },
      "source": [
        "#4. Plotta Keeling-kurvan\n",
        "\n",
        "Vi vill nu se hur koldioxidhalten ändrat sig över tiden genom att plotta mätvärdena så vi får en kurva. Kurvan kallas *Keeling-kurvan*, efter Charles Keeling som började göra mätningarna.\n",
        "\n",
        "Vi kommer att använda värdena i tredje kolumnen (tidpunkten) och värdena i femte kolumnen (mätvärden). \n",
        "\n",
        "Det är egentligen värdena i den fjärde kolumnen som är de riktiga uppmätta värdena. Men vissa värden kan saknas, t.ex. om mätutrustningen var sönder eller om mätningen störts, t.ex. av ett vulkanutbrott i närheten. Sådana värden visas som `-99.99`. I femte kolumnen har saknade värden ersatts med gissade värden, som  räknats fram med hjälp av de närmast föregående och efterföljande värdena.\n",
        "\n",
        "Koldioxidhalten mäts i \"ppm\" vilket betyder \"parts per million\". Man mäter hur många CO<sub>2</sub>-molekyler det finns, och jämför med totala antalet molekyler i torkad luft. Värdena beskriver alltså hur många CO<sub>2</sub>-molekyler det finns per miljon molekyler i luften (vatten borträknat).\n",
        "\n",
        "-----\n",
        "\n",
        "**Uppdrag 4a:** Plotta Keeling-kurvan genom att köra koden nedan. \n",
        "\n"
      ]
    },
    {
      "cell_type": "code",
      "metadata": {
        "id": "kTtEO_A26VZv",
        "colab_type": "code",
        "colab": {}
      },
      "source": [
        "#Extract the years and the co2 measurements\n",
        "years = []\n",
        "co2 = []\n",
        "for line in data:\n",
        "  splitted = line.split()\n",
        "  years.append(float(splitted[2])) #Third column\n",
        "  co2.append(float(splitted[4]))   #Fifth column\n",
        "\n",
        "#Plot the measurements\n",
        "import matplotlib.pyplot as plt\n",
        "plt.plot(years, co2)\n",
        "plt.grid()\n"
      ],
      "execution_count": 0,
      "outputs": []
    },
    {
      "cell_type": "markdown",
      "metadata": {
        "id": "Bz3OmscJ6qc-",
        "colab_type": "text"
      },
      "source": [
        "-----\n",
        "\n",
        "**Uppdrag 4b:** Cirka hur många ppm koldioxid var det när man började mäta? Cirka hur många ppm är det nu? Läs av i kurvan.\n",
        "\n",
        "<details>\n",
        "<summary markdown=\"span\">\n",
        "Svar\n",
        "</summary>\n",
        "<p>I slutet av 50-talet var koldioxidhalten strax under 320 ppm.</p>\n",
        "<p>Runt 2015 passerades 400 ppm. Det är alltså en enormt kraftig ökning av koldioxidhalten i atmosfären på bara drygt 50 år.</p>\n",
        "</details>\n",
        "\n",
        "-----\n"
      ]
    },
    {
      "cell_type": "markdown",
      "metadata": {
        "id": "5r6ZZdFC7eSF",
        "colab_type": "text"
      },
      "source": [
        "<hr size=5 noshade>\n",
        "\n",
        "#Avslutning\n",
        "Vi hoppas du har fått lite inblick i vad man kan använda programmering till.\n",
        "\n",
        "För forskare är programmering ett centralt verktyg för att kunna analysera data och förstå vad som händer i vår miljö.\n",
        "\n",
        "Om du vill lära dig mer om programmering och hur man kan använda den för att analysera miljödata, så titta gärna på våra uppgifter på https://github.com/lunduniversity/schoolprog-satellite/blob/master/exercises/README.md\n"
      ]
    }
  ]
}