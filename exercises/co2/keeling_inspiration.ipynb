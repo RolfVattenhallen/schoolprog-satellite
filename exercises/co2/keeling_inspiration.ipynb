{
  "nbformat": 4,
  "nbformat_minor": 0,
  "metadata": {
    "colab": {
      "name": "keeling_inspiration.ipynb",
      "provenance": [],
      "authorship_tag": "ABX9TyO4X4OhuEocUTeau3O+EZ7y",
      "include_colab_link": true
    },
    "kernelspec": {
      "name": "python3",
      "display_name": "Python 3"
    }
  },
  "cells": [
    {
      "cell_type": "markdown",
      "metadata": {
        "id": "view-in-github",
        "colab_type": "text"
      },
      "source": [
        "<a href=\"https://colab.research.google.com/github/lunduniversity/schoolprog-satellite/blob/master/exercises/co2/keeling_inspiration.ipynb\" target=\"_parent\"><img src=\"https://colab.research.google.com/assets/colab-badge.svg\" alt=\"Open In Colab\"/></a>"
      ]
    },
    {
      "cell_type": "markdown",
      "metadata": {
        "id": "pyLrSKhhbfmN",
        "colab_type": "text"
      },
      "source": [
        "# Keeling-kurvan: Inspirationsuppdrag\n",
        "\n",
        "1958 påbörjade forskaren Charles Keeling mätningar av koldioxidhalten på vulkanen Mauna Loa på Hawaii.\n",
        "\n",
        "I denna övning ska vi använda programmering för att undersöka dessa mätningar. Vi kommer att använda programspråket Python."
      ]
    },
    {
      "cell_type": "markdown",
      "metadata": {
        "id": "ao3IjtcE5-H5",
        "colab_type": "text"
      },
      "source": [
        "#1. Kör lite kod\n",
        "Vi börjar med att kontrollera att vi kan köra programkod.\n",
        "\n",
        "**Uppdrag 1a** Vi behöver vara uppkopplade \"connectad\" till Colab för att kunna köra kod.\n",
        "\n",
        "  * Ser du att det står \"RAM\" och \"Disk\" uppe till höger i fönstret? I så fall är du uppkopplad.\n",
        "  * Annars så finns det en knapp `connect` uppe till höger. Klicka i så fall på den.\n",
        "  * Det kan komma upp en varning som du behöver godkänna.\n",
        "  * Nu bör det stå \"RAM\" och \"Disk\" i stället för `connect`-knappen.\n",
        "\n",
        "**Uppdrag 1b** Prova nu att köra \"kodcellen\" nedan genom att klicka på koden och sedan på den lilla pilen till vänster i kodcellen.\n"
      ]
    },
    {
      "cell_type": "code",
      "metadata": {
        "id": "Fg1qiMjQ8Cq3",
        "colab_type": "code",
        "colab": {
          "base_uri": "https://localhost:8080/",
          "height": 51
        },
        "outputId": "01a3dc3d-4ddb-41c2-83c8-11d7daedf9bf"
      },
      "source": [
        "for _ in range(2):\n",
        "  print(\"Aloha!\")"
      ],
      "execution_count": 14,
      "outputs": [
        {
          "output_type": "stream",
          "text": [
            "Aloha!\n",
            "Aloha!\n"
          ],
          "name": "stdout"
        }
      ]
    },
    {
      "cell_type": "markdown",
      "metadata": {
        "id": "sb3pdbQt8-cj",
        "colab_type": "text"
      },
      "source": [
        "Fick du det att fungera? Vad skrivs ut?\n",
        "\n",
        "<details>\n",
        "<summary markdown=\"span\">\n",
        "Svar\n",
        "</summary>\n",
        "<p>Texten \"Aloha!\" skrivs ut tre gånger. Aloha betyder \"hej\" på Hawaiianska.</p>\n",
        "</details>\n",
        "\n",
        "**Uppdrag 1c** Prova att ändra från 3 till 5 i programmet. Kör koden igen. Vad händer?"
      ]
    },
    {
      "cell_type": "markdown",
      "metadata": {
        "id": "bFm1FiHk17vj",
        "colab_type": "text"
      },
      "source": [
        "## 2. Var ligger Mauna Loa?\n",
        "\n",
        "Nu skall vi se var mätstationen Mauna Loa ligger. I kodcellen nedan finns Python-kod för att visa en interaktiv karta.\n",
        "\n",
        "**Uppdrag 2a** Kör koden nedan. Får du upp kartan? Kan du se var Mauna Loa ligger i förhållande till olika världsdelar?\n",
        "\n",
        "<details>\n",
        "<summary markdown=\"span\">\n",
        "Svar\n",
        "</summary>\n",
        "<p>Mauna Loa ligger på ön Hawaii som är den största ön i ö-riket Hawaii. Om du zoomar ut ser du att Hawaii-öarna ligger mitt ute i Stilla Havet, med Asien och Australien på västra sidan och Amerika på östra.</p>\n",
        "</details>"
      ]
    },
    {
      "cell_type": "code",
      "metadata": {
        "id": "SQgikmZRbanZ",
        "colab_type": "code",
        "outputId": "51aa7a4a-db49-4eec-aa8a-80fd8af626ae",
        "colab": {
          "base_uri": "https://localhost:8080/",
          "height": 591
        }
      },
      "source": [
        "#Import modules:\n",
        "import folium\n",
        "\n",
        "#Create map object:\n",
        "m = folium.Map(location=[19.5362, -155.5763], zoom_start=7)\n",
        "\n",
        "#Add marker:\n",
        "folium.Marker(location=[19.5362, -155.5763],\n",
        "              popup='Mauna Loa Mätstation',\n",
        "              icon=folium.Icon(color='darkred', icon='cloud')).add_to(m)\n",
        "\n",
        "#Show map\n",
        "m"
      ],
      "execution_count": 17,
      "outputs": [
        {
          "output_type": "execute_result",
          "data": {
            "text/html": [
              "<div style=\"width:100%;\"><div style=\"position:relative;width:100%;height:0;padding-bottom:60%;\"><iframe src=\"about:blank\" style=\"position:absolute;width:100%;height:100%;left:0;top:0;border:none !important;\" data-html=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 onload=\"this.contentDocument.open();this.contentDocument.write(atob(this.getAttribute('data-html')));this.contentDocument.close();\" allowfullscreen webkitallowfullscreen mozallowfullscreen></iframe></div></div>"
            ],
            "text/plain": [
              "<folium.folium.Map at 0x7f74444fa550>"
            ]
          },
          "metadata": {
            "tags": []
          },
          "execution_count": 17
        }
      ]
    },
    {
      "cell_type": "markdown",
      "metadata": {
        "id": "wmjADKfAApKD",
        "colab_type": "text"
      },
      "source": [
        "Prova gärna att ändra lite i koden ovan för att göra markören för Mauna Loa i en annan färg än `darkred` och med en annan ikon än ett moln (`cloud`). Andra färger du kan prova är t.ex. `blue` eller `green`. Andra ikoner du kan prova är t.ex. `star` eller `flag`.\n"
      ]
    },
    {
      "cell_type": "markdown",
      "metadata": {
        "id": "IIkPRFZfDITA",
        "colab_type": "text"
      },
      "source": [
        "**Uppdrag 2b** Vad kan vara för- och nackdelar med att mäta koldioxidhalten just på Mauna Loa? Fundera och diskutera gärna med en kompis innan du tittar på svaret nedan.\n",
        "\n",
        "<details>\n",
        "<summary markdown=\"span\">\n",
        "Svar\n",
        "</summary>\n",
        "<p>Genom sitt läge mitt i Stilla Havet blir mätningarna oberoende av lokala effekter. Det finns t.ex. inga stora skogar i närheten som tar upp koldioxid. Det finns inte heller några stora industrier eller mycket bilar som släpper ut koldioxid. Mätstationen är högt uppe på ett berg och man undviker därmed lokala effekter som kan finnas i dalar. Man kan anta att mätningarna visar ett medelvärde för hela Stilla Havet. Hur mätvärdena ändrar sig med tiden kan antas vara representativt för hela jorden.</p>\n",
        "<p>En sak som dock kan påverka lokalt är om det råkar bli ett vulkanutbrott i närheten vilket händer då och då på Hawaii. De mätvärdena får då sorteras bort.</p>\n",
        "</details>\n"
      ]
    },
    {
      "cell_type": "markdown",
      "metadata": {
        "id": "WCbQvweeHT10",
        "colab_type": "text"
      },
      "source": [
        "#3. Mätvärdena\n",
        "..."
      ]
    }
  ]
}