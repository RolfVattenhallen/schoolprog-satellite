{
  "nbformat": 4,
  "nbformat_minor": 0,
  "metadata": {
    "colab": {
      "name": "keeling_inspiration.ipynb",
      "provenance": [],
      "authorship_tag": "ABX9TyN5PKeuJrEXKtsGppoR1BjE",
      "include_colab_link": true
    },
    "kernelspec": {
      "name": "python3",
      "display_name": "Python 3"
    }
  },
  "cells": [
    {
      "cell_type": "markdown",
      "metadata": {
        "id": "view-in-github",
        "colab_type": "text"
      },
      "source": [
        "<a href=\"https://colab.research.google.com/github/lunduniversity/schoolprog-satellite/blob/master/exercises/co2/keeling_inspiration.ipynb\" target=\"_parent\"><img src=\"https://colab.research.google.com/assets/colab-badge.svg\" alt=\"Open In Colab\"/></a>"
      ]
    },
    {
      "cell_type": "markdown",
      "metadata": {
        "id": "pyLrSKhhbfmN",
        "colab_type": "text"
      },
      "source": [
        "# Keeling-kurvan: Inspirationsuppdrag\n",
        "\n",
        "1958 påbörjade forskaren Charles Keeling mätningar av koldioxidhalten på vulkanen Mauna Loa på Hawaii.\n",
        "\n",
        "I denna övning ska vi använda programmering för att undersöka dessa mätningar. Vi kommer att använda programspråket Python."
      ]
    },
    {
      "cell_type": "markdown",
      "metadata": {
        "id": "ao3IjtcE5-H5",
        "colab_type": "text"
      },
      "source": [
        "#1. Kör lite kod\n",
        "Vi börjar med att kontrollera att vi kan köra programkod.\n",
        "\n",
        "**Uppdrag 1a** Vi behöver vara uppkopplade \"connectad\" till Colab för att kunna köra kod.\n",
        "\n",
        "  * Ser du en knapp `Connect` uppe till höger i fönstret? Klicka i så fall på den.\n",
        "  * Efter en stund bör du se att det står \"RAM\" och Disk\" uppe till höger i stället för `Connect`-knappen. Då är du uppkopplad och kan gå vidare.\n",
        "\n",
        "**Uppdrag 1b** Prova nu att köra \"kodcellen\" nedan genom att klicka på koden och sedan på den lilla pilen till vänster i kodcellen.\n",
        "\n",
        "Första gången du kör något kan det komma upp en varning som du behöver godkänna.\n",
        "\n"
      ]
    },
    {
      "cell_type": "code",
      "metadata": {
        "id": "Fg1qiMjQ8Cq3",
        "colab_type": "code",
        "colab": {}
      },
      "source": [
        "for _ in range(3):\n",
        "  print(\"Aloha!\")"
      ],
      "execution_count": 0,
      "outputs": []
    },
    {
      "cell_type": "markdown",
      "metadata": {
        "id": "sb3pdbQt8-cj",
        "colab_type": "text"
      },
      "source": [
        "Fick du det att fungera? Vad skrivs ut?\n",
        "\n",
        "<details>\n",
        "<summary markdown=\"span\">\n",
        "Svar\n",
        "</summary>\n",
        "<p>Texten \"Aloha!\" skrivs ut tre gånger. Aloha betyder \"hej\" på Hawaiianska.</p>\n",
        "</details>\n",
        "\n",
        "**Uppdrag 1c** Prova att ändra från 3 till 5 i programmet. Kör koden igen. Vad händer?"
      ]
    },
    {
      "cell_type": "markdown",
      "metadata": {
        "id": "bFm1FiHk17vj",
        "colab_type": "text"
      },
      "source": [
        "## 2. Var ligger Mauna Loa?\n",
        "\n",
        "Nu skall vi se var mätstationen Mauna Loa ligger. I kodcellen nedan finns Python-kod för att visa en interaktiv karta.\n",
        "\n",
        "**Uppdrag 2a** Kör koden nedan. Får du upp kartan? Kan du se var Mauna Loa ligger i förhållande till olika världsdelar?\n",
        "\n",
        "<details>\n",
        "<summary markdown=\"span\">\n",
        "Svar\n",
        "</summary>\n",
        "<p>Mauna Loa ligger på ön Hawaii som är den största ön i ö-riket Hawaii. Om du zoomar ut ser du att Hawaii-öarna ligger mitt ute i Stilla Havet, med Asien och Australien på västra sidan och Amerika på östra.</p>\n",
        "</details>"
      ]
    },
    {
      "cell_type": "code",
      "metadata": {
        "id": "SQgikmZRbanZ",
        "colab_type": "code",
        "colab": {}
      },
      "source": [
        "#Import modules:\n",
        "import folium\n",
        "\n",
        "#Create map object:\n",
        "m = folium.Map(location=[19.5362, -155.5763], zoom_start=7)\n",
        "\n",
        "#Add marker:\n",
        "folium.Marker(location=[19.5362, -155.5763],\n",
        "              popup='Mauna Loa Mätstation',\n",
        "              icon=folium.Icon(color='darkred', icon='cloud')).add_to(m)\n",
        "\n",
        "#Show map\n",
        "m"
      ],
      "execution_count": 0,
      "outputs": []
    },
    {
      "cell_type": "markdown",
      "metadata": {
        "id": "wmjADKfAApKD",
        "colab_type": "text"
      },
      "source": [
        "Prova gärna att ändra lite i koden ovan för att göra markören för Mauna Loa i en annan färg än `darkred` och med en annan ikon än ett moln (`cloud`). Andra färger du kan prova är t.ex. `blue` eller `green`. Andra ikoner du kan prova är t.ex. `star` eller `flag`.\n"
      ]
    },
    {
      "cell_type": "markdown",
      "metadata": {
        "id": "IIkPRFZfDITA",
        "colab_type": "text"
      },
      "source": [
        "**Uppdrag 2b** Vad kan vara för- och nackdelar med att mäta koldioxidhalten just på Mauna Loa? Fundera och diskutera gärna med en kompis innan du tittar på svaret nedan.\n",
        "\n",
        "<details>\n",
        "<summary markdown=\"span\">\n",
        "Svar\n",
        "</summary>\n",
        "<p>Genom sitt läge mitt i Stilla Havet blir mätningarna oberoende av lokala effekter. Det finns t.ex. inga stora skogar i närheten som tar upp koldioxid. Det finns inte heller några stora industrier eller mycket bilar som släpper ut koldioxid. Mätstationen är högt uppe på ett berg och man undviker därmed lokala effekter som kan finnas i dalar.</p>\n",
        "<p>Man kan anta att mätningarna visar ett medelvärde för hela Stilla Havet. Hur mätvärdena ändrar sig med tiden kan antas vara representativt för hela jorden.</p>\n",
        "<p>En sak som dock kan påverka lokalt är om det råkar bli ett vulkanutbrott i närheten vilket händer då och då på Hawaii. De mätvärdena får då sorteras bort.</p>\n",
        "</details>\n"
      ]
    },
    {
      "cell_type": "markdown",
      "metadata": {
        "id": "WCbQvweeHT10",
        "colab_type": "text"
      },
      "source": [
        "#3. Mätvärdena\n",
        "Mätvärdena från Mauna Loa finns fritt tillgängliga i en fil på internet på följande länk: <a href=\"ftp://aftp.cmdl.noaa.gov/products/trends/co2/co2_mm_mlo.txt\" target=\"_blank\">ftp://aftp.cmdl.noaa.gov/products/trends/co2/co2_mm_mlo.txt</a>\n",
        "\n",
        "**Uppdrag 3a:** Länken ovan öppnas i en ny tabb. Titta på mätvärdena för att få en uppfattning om hur datan ser ut. Observera att:\n",
        "  * Längst upp finns \"metadata\", det vill säga information om vad filen innehåller. Varje metadata-rad startar med tecknet `#`.\n",
        "  * Sedan kommer mätvärdena. Varje mätvärde har en egen rad som börjar med år och månad.\n",
        "  * Scrolla ner till slutet så ser du att de färskaste värdena är ganska nya. Filen uppdateras efter hand med nya värden."
      ]
    },
    {
      "cell_type": "markdown",
      "metadata": {
        "id": "X8fzEj8xVQRP",
        "colab_type": "text"
      },
      "source": [
        "Vårt nästa steg är att använda programkod för att hämta filen så att vi kan använda programmering för att analysera datan i filen.\n",
        "\n",
        "**Uppdrag 3b:** Kör koden nedan. Följande görs:\n",
        "  * Filen hämtas och alla raderna lagras i en \"variabel\" `raw_data`.\n",
        "  * Raderna med metadata i filen rensas bort. Vi vill nämligen bara ha kvar själva mätvärdena när vi ska programmera. Dessa värden lagras i en variabel `data`.\n",
        "  * De första 5 raderna i datan skrivs ut.\n",
        "Får du ut de första 5 raderna? Om du vill kan du ändra koden så att de första 10 raderna skrivs ut i stället."
      ]
    },
    {
      "cell_type": "code",
      "metadata": {
        "id": "TJyKDI-OXL_r",
        "colab_type": "code",
        "colab": {}
      },
      "source": [
        "#Get the file\n",
        "#import requests\n",
        "#response = requests.get(\"ftp://aftp.cmdl.noaa.gov/products/trends/co2/co2_mm_mlo.txt\")\n",
        "#raw_data = response.text.splitlines()\n",
        "#print(raw_data[0:9])\n",
        "\n",
        "#from ftplib import FTP\n",
        "#ftp = FTP('aftp.cmdl.noaa.gov')\n",
        "#urllib.urlretrieve('ftp://aftp.cmdl.noaa.gov/products/trends/co2/co2_mm_mlo.txt', 'file')\n",
        "#print(file)\n",
        "\n",
        "#Remove the metadata\n",
        "#\n",
        "\n",
        "#Print the first lines\n",
        "#..."
      ],
      "execution_count": 0,
      "outputs": []
    },
    {
      "cell_type": "markdown",
      "metadata": {
        "id": "44V-L-mfXWTu",
        "colab_type": "text"
      },
      "source": [
        "#4. Plotta Keeling-kurvan\n"
      ]
    }
  ]
}