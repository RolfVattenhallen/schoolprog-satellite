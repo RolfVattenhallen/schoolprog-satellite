{
  "nbformat": 4,
  "nbformat_minor": 0,
  "metadata": {
    "colab": {
      "name": "keeling_inspiration.ipynb",
      "provenance": [],
      "authorship_tag": "ABX9TyMu6aBKSznbKNfdtnQXp8kU",
      "include_colab_link": true
    },
    "kernelspec": {
      "name": "python3",
      "display_name": "Python 3"
    }
  },
  "cells": [
    {
      "cell_type": "markdown",
      "metadata": {
        "id": "view-in-github",
        "colab_type": "text"
      },
      "source": [
        "<a href=\"https://colab.research.google.com/github/lunduniversity/schoolprog-satellite/blob/master/exercises/co2/keeling_inspiration.ipynb\" target=\"_parent\"><img src=\"https://colab.research.google.com/assets/colab-badge.svg\" alt=\"Open In Colab\"/></a>"
      ]
    },
    {
      "cell_type": "markdown",
      "metadata": {
        "id": "pyLrSKhhbfmN"
      },
      "source": [
        "# Keeling-kurvan: Inspirationsuppdrag\n",
        "\n",
        "1958 började forskaren Charles Keeling mäta koldioxidhalten från en mätstation på vulkanen Mauna Loa på Hawaii.\n",
        "\n",
        "I denna övning använder vi programmering för att undersöka hur koldioxidhalten ändrats de senaste åren. Vi använder programspråket Python.\n",
        "\n",
        "Vi kommer inte att förklara detaljerna i programmeringen, men du kommer att se vad man kan använda programmering till.\n",
        "\n",
        "<img src=\"https://github.com/lunduniversity/schoolprog-satellite/blob/master/exercises/co2/figs/hawaii.png?raw=1\" width=\"750\" align=\"center\"/>\n",
        "\n",
        "<hr size=5 noshade>"
      ]
    },
    {
      "cell_type": "markdown",
      "metadata": {
        "id": "ao3IjtcE5-H5"
      },
      "source": [
        "#1. Kör lite kod\n",
        "Vi börjar med att kontrollera att vi kan köra programkod.\n",
        "\n",
        "-----\n",
        "\n",
        "**Uppdrag 1a:** Du behöver vara uppkopplad (\"connected\") till Colab för att kunna köra kod.\n",
        "\n",
        "  * Uppe till höger i fönstret kan det stå \"RAM\" och \"Disk\". I så fall är du uppkopplad. I annat fall bör det finnas en knapp `Anslut` eller `Connect`. Klicka i så fall på den.\n",
        "  * Efter en stund bör du se att det står \"RAM\" och Disk\" uppe till höger i stället för `Anslut`-knappen. Då är du uppkopplad och kan gå vidare.\n",
        "\n",
        "<details>\n",
        "<summary markdown=\"span\">\n",
        "Problem?\n",
        "</summary>\n",
        "<p>\n",
        "För att kunna göra Anslut behöver du vara inloggad på ett Google-konto. Om du är inloggad så finns det en färgad cirkel uppe till höger i fönstret. Annars står det \"Logga in\" där. \n",
        "</p><p>\n",
        "Om du fortfarande har problem, kontrollera vilken browser du kör. Det kan vara problem om du kör Edge. Byt i så fall till Chrome eller Firefox. Safari brukar också fungera. </p>\n",
        "</details>\n",
        "\n",
        "-----\n",
        "\n",
        "**Uppdrag 1b:** Prova nu att köra \"kodcellen\" nedan genom att hålla musen över koden och sedan klicka på den lilla pilen till vänster i kodcellen.\n",
        "\n",
        "Första gången du kör något kan det komma upp en varning som du behöver godkänna.\n",
        "\n"
      ]
    },
    {
      "cell_type": "code",
      "metadata": {
        "id": "Fg1qiMjQ8Cq3"
      },
      "source": [
        "for _ in range(3):\n",
        "  print(\"Aloha!\")"
      ],
      "execution_count": null,
      "outputs": []
    },
    {
      "cell_type": "markdown",
      "metadata": {
        "id": "sb3pdbQt8-cj"
      },
      "source": [
        "Fick du det att fungera? Vad skrivs ut?\n",
        "\n",
        "<details>\n",
        "<summary markdown=\"span\">\n",
        "Svar\n",
        "</summary><p>\n",
        "Texten \"Aloha!\" skrivs ut tre gånger. Aloha betyder \"hej\" på Hawaiianska.</p>\n",
        "</details>\n",
        "\n",
        "-----\n",
        "\n",
        "**Uppdrag 1c:** Prova att ändra från 3 till 5 i programmet. Kör koden igen (genom att klicka på den lilla pilen till vänster i kodcellen). Vad händer?\n",
        "\n",
        "-----"
      ]
    },
    {
      "cell_type": "markdown",
      "metadata": {
        "id": "bFm1FiHk17vj"
      },
      "source": [
        "## 2. Var ligger Mauna Loa?\n",
        "\n",
        "Nu skall vi se var mätstationen Mauna Loa ligger. I kodcellen nedan finns Python-kod för att visa en interaktiv karta.\n",
        "\n",
        "-----\n",
        "\n",
        "**Uppdrag 2a:** Kör koden nedan. Får du upp kartan? "
      ]
    },
    {
      "cell_type": "code",
      "metadata": {
        "id": "SQgikmZRbanZ"
      },
      "source": [
        "# Importera modul för kartor\n",
        "import folium\n",
        "\n",
        "# Skapa karta över rätt område\n",
        "m = folium.Map(location=[19.5362, -155.5763], zoom_start=7)\n",
        "\n",
        "# Lägg till en markör på kartan\n",
        "folium.Marker(location=[19.5362, -155.5763],\n",
        "              popup='Mauna Loa Observatory',\n",
        "              icon=folium.Icon(color='darkred', icon='cloud')).add_to(m)\n",
        "\n",
        "# Visa kartan\n",
        "m"
      ],
      "execution_count": null,
      "outputs": []
    },
    {
      "cell_type": "markdown",
      "metadata": {
        "id": "eoB4WlY2DqXh"
      },
      "source": [
        "-----\n",
        "\n",
        "**Uppdrag 2b:** Kan du se var Mauna Loa ligger i förhållande till olika världsdelar?\n",
        "\n",
        "<details>\n",
        "<summary markdown=\"span\">\n",
        "Svar\n",
        "</summary>\n",
        "<p>Mauna Loa ligger på ön Hawaii som är den största ön i ö-riket Hawaii. Om du zoomar ut ser du att Hawaii-öarna ligger mitt ute i Stilla Havet, med Asien och Australien på västra sidan och Amerika på östra.</p>\n",
        "</details>\n",
        "\n",
        "-----"
      ]
    },
    {
      "cell_type": "markdown",
      "metadata": {
        "id": "wmjADKfAApKD"
      },
      "source": [
        "**Uppdrag 2c:** Prova gärna att ändra lite i koden ovan för att göra markören för Mauna Loa i en annan färg än `darkred` och med en annan ikon än ett moln (`cloud`). Andra färger du kan prova är t.ex. `blue` eller `green`. Andra ikoner du kan prova är t.ex. `star` eller `flag`.\n",
        "\n",
        "-----\n"
      ]
    },
    {
      "cell_type": "markdown",
      "metadata": {
        "id": "IIkPRFZfDITA"
      },
      "source": [
        "**Uppdrag 2d:** Vad kan vara för- och nackdelar med att mäta koldioxidhalten just på Mauna Loa? Fundera och diskutera gärna med en kompis innan du tittar på svaret nedan.\n",
        "\n",
        "<details>\n",
        "<summary markdown=\"span\">\n",
        "Svar\n",
        "</summary>\n",
        "<p>Genom sitt läge mitt i Stilla Havet blir mätningarna oberoende av lokala effekter. Det finns inga stora skogar i närheten som tar upp koldioxid. Det finns inte heller några stora industrier eller mycket bilar som släpper ut koldioxid. Mätstationen är högt uppe på ett berg och man undviker därmed lokala effekter som kan finnas i dalar.</p>\n",
        "<p>Man kan anta att mätningarna visar ett medelvärde för hela Stilla Havet. Hur mätvärdena ändrar sig med tiden kan antas vara representativt för hela jorden.</p>\n",
        "<p>En sak som dock kan påverka lokalt är om det råkar bli ett vulkanutbrott i närheten vilket händer då och då på Hawaii. De mätvärdena får då sorteras bort.</p>\n",
        "</details>\n",
        "\n",
        "-----\n"
      ]
    },
    {
      "cell_type": "markdown",
      "metadata": {
        "id": "WCbQvweeHT10"
      },
      "source": [
        "#3. Mätvärdena\n",
        "Mätvärdena från Mauna Loa finns fritt tillgängliga i en fil på internet på följande länk: https://scrippsco2.ucsd.edu/assets/data/atmospheric/stations/in_situ_co2/monthly/monthly_in_situ_co2_mlo.csv\n",
        "\n",
        "-----\n",
        "\n",
        "**Uppdrag 3a:** Titta på mätvärdena för att få en uppfattning om hur datan ser ut. Ta reda på när den första mätningen gjordes. Tag också reda på när den senaste mätningen gjordes. Observera att:\n",
        "  * Längst upp finns \"metadata\", det vill säga information om vad filen innehåller. Varje metadata-rad har citationstecken `\"...\"` runt texten.\n",
        "  * Sedan kommer rader indelade i tio kolumner.\n",
        "  * Först rubrikrader för varje kolumn. T.ex. `Yr` för år och `Mn` för månad för de första två kolumnerna.\n",
        "  * Sedan en rad för varje mätning, med år, månad, och olika varianter av mätvärdet.\n",
        "  * Några värden fattas. Det står då ett negativt värde i stället, t.ex. `-99.99`.\n",
        "\n",
        "<details>\n",
        "<summary markdown=\"span\">\n",
        "Svar\n",
        "</summary>\n",
        "<p>Den första mätningen gjordes i mars 1958.</p>\n",
        "<p>Scrolla till slutet av filen för att se när den senaste mätningen gjordes. Det bör vara ganska nyligen. Filen uppdateras efter hand med nya värden.</p>\n",
        "</details>\n",
        "\n",
        "<details>\n",
        "<summary markdown=\"span\">\n",
        "Problem?\n",
        "</summary>\n",
        "<p>\n",
        "Om du inte kan titta på informationen, eller om innehållet inte verkar stämma, så kanske filen har flyttats, eller dess format har ändrats. Prova i så fall att använda en version av filen vi sparat ner i december 2020. Du gör detta genom att i stället titta på följande fil:\n",
        "<a href=\"https://raw.githubusercontent.com/lunduniversity/schoolprog-satellite/master/exercises/co2/monthly_in_situ_co2_mlo.csv\">https://raw.githubusercontent.com/lunduniversity/schoolprog-satellite/master/exercises/co2/monthly_in_situ_co2_mlo.csv</a>\n",
        "</p>\n",
        "</details>\n",
        "\n",
        "-----\n"
      ]
    },
    {
      "cell_type": "markdown",
      "metadata": {
        "id": "X8fzEj8xVQRP"
      },
      "source": [
        "Vårt nästa steg är att använda programkod för att hämta filen så att vi sedan kan analysera mätvärdena.\n",
        "\n",
        "-----\n",
        "\n",
        "**Uppdrag 3b:** Kör koden nedan. Följande görs:\n",
        "  * Filen hämtas till programmet.\n",
        "  * Raderna med metadata och rubrikerna för kolumnerna rensas bort. Vi vill nämligen bara ha kvar själva mätvärdena när vi ska programmera.\n",
        "  * De första 5 raderna med mätvärden skrivs ut.\n",
        "\n"
      ]
    },
    {
      "cell_type": "code",
      "metadata": {
        "id": "JREAwuceygZ-"
      },
      "source": [
        "# Hämta filen från internet\n",
        "import requests\n",
        "response = requests.get(\"https://scrippsco2.ucsd.edu/assets/data/atmospheric/stations/in_situ_co2/monthly/monthly_in_situ_co2_mlo.csv\")\n",
        "raw_text = response.text\n",
        "raw_lines = raw_text.splitlines()\n",
        "# Filens data finns nu i variabeln \"raw_lines\" - en lista av textrader\n",
        "\n",
        "# Ta bort raderna med metadata (rader som startar med citationstecken)\n",
        "raw_lines_data = [line for line in raw_lines if not line.startswith('\"')]\n",
        "\n",
        "# Ta bort de 3 första raderna som innehåller rubriker.\n",
        "data = raw_lines_data[3:]\n",
        "# Raderna med mätvärden finns nu i variabeln \"data\"\n",
        "\n",
        "# Skriv ut de 5 första raderna\n",
        "for i in range(5):\n",
        "  print(data[i])"
      ],
      "execution_count": null,
      "outputs": []
    },
    {
      "cell_type": "markdown",
      "metadata": {
        "id": "r8XymX85DdDj"
      },
      "source": [
        "Får du ut de första 5 raderna? Om du vill kan du ändra koden så att de första 10 raderna skrivs ut i stället. Ser du att vissa värden är negativa? Detta motsvarar saknade eller ogiltiga mätningar.\n",
        "\n",
        "<details>\n",
        "<summary markdown=\"span\">\n",
        "Problem?\n",
        "</summary>\n",
        "<p>\n",
        "Om du inte får ut informationen så kanske filen har flyttats, eller dess format har ändrats. Prova i så fall att använda en version av filen vi sparat ner i december 2020. Du gör detta genom att ändra url:en i koden ovan till  \n",
        "</p>\n",
        "<p><code>\n",
        "https://raw.githubusercontent.com/lunduniversity/schoolprog-satellite/master/exercises/co2/monthly_in_situ_co2_mlo.csv\n",
        "</code></p>\n",
        "</details>\n",
        "\n",
        "\n",
        "\n",
        "-----"
      ]
    },
    {
      "cell_type": "markdown",
      "metadata": {
        "id": "44V-L-mfXWTu"
      },
      "source": [
        "#4. Plotta Keeling-kurvan\n",
        "\n",
        "Vi vill nu se hur koldioxidhalten ändrat sig över tiden genom att plotta mätvärdena så vi får en kurva. Kurvan kallas *Keeling-kurvan*, efter Charles Keeling som började göra mätningarna.\n",
        "\n",
        "Vi kommer att använda värdena i fjärde kolumnen (tidpunkten decimalt) och värdena i nionde kolumnen (mätvärden). \n",
        "\n",
        "Det är egentligen värdena i den femte kolumnen som är de riktiga uppmätta värdena. Men vissa värden kan saknas, t.ex. om mätutrustningen var sönder eller om mätningen störts, t.ex. av ett vulkanutbrott i närheten. Sådana värden visas som `-99.99`. I nionde kolumnen har saknade värden ersatts med uppskattade värden, som räknats fram med hjälp av de närmast föregående och efterföljande värdena.\n",
        "\n",
        "Koldioxidhalten mäts i \"ppm\" vilket betyder \"parts per million\". Man mäter hur många CO<sub>2</sub>-molekyler det finns, och jämför med totala antalet molekyler i torkad luft. Värdena beskriver alltså hur många CO<sub>2</sub>-molekyler det finns per miljon molekyler i luften (vatten borträknat).\n",
        "\n",
        "-----\n",
        "\n",
        "**Uppdrag 4a:** Plotta Keeling-kurvan genom att köra koden nedan. \n",
        "\n"
      ]
    },
    {
      "cell_type": "code",
      "metadata": {
        "id": "9V6uWQ4WZ1pJ"
      },
      "source": [
        "# Plocka ut år-värden och co2-mätvärden från varje rad\n",
        "years = []\n",
        "co2 = []\n",
        "for line in data:\n",
        "  splitted = line.split(\",\")\n",
        "  y = float(splitted[3]) # fjärde kolumnen, år\n",
        "  c = float(splitted[8]) # nionde kolumnen, co2\n",
        "  if c > 0:  # Lägg till värdena om co2-värdet är ett giltigt värde\n",
        "    years.append(y)\n",
        "    co2.append(c)\n",
        "\n",
        "# Plotta mätvärdena med år på x-axeln och co2 på y-axeln\n",
        "import matplotlib.pyplot as plt\n",
        "plt.plot(years, co2)\n",
        "plt.grid()\n"
      ],
      "execution_count": null,
      "outputs": []
    },
    {
      "cell_type": "markdown",
      "metadata": {
        "id": "Bz3OmscJ6qc-"
      },
      "source": [
        "-----\n",
        "\n",
        "**Uppdrag 4b:** Cirka hur många ppm koldioxid var det när man började mäta? Cirka hur många ppm är det nu? Läs av i kurvan.\n",
        "\n",
        "<details>\n",
        "<summary markdown=\"span\">\n",
        "Svar\n",
        "</summary>\n",
        "<p>I slutet av 50-talet var koldioxidhalten strax under 320 ppm.</p>\n",
        "<p>Runt 2015 passerades 400 ppm och kurvan fortsätter bara uppåt. Det är alltså en enormt kraftig ökning av koldioxidhalten i atmosfären på bara drygt 50 år. </p>\n",
        "</details>\n",
        "\n",
        "-----\n",
        "\n",
        "Vi skall titta närmre på den senaste tidens mätningar.\n",
        "\n",
        "-----\n",
        "\n",
        "**Uppdrag 4c:** Kör koden nedan som visar de 75 senaste mätningarna.\n"
      ]
    },
    {
      "cell_type": "code",
      "metadata": {
        "id": "z3NIzgJ51yYI"
      },
      "source": [
        "plt.plot(years[-75:], co2[-75:])\n",
        "plt.grid()"
      ],
      "execution_count": null,
      "outputs": []
    },
    {
      "cell_type": "markdown",
      "metadata": {
        "id": "tT8W9ePj17IA"
      },
      "source": [
        "Hur varierar mätvärdena över ett år? Vad tror du det beror på? Fundera på detta.\n",
        "\n",
        "<details>\n",
        "<summary markdown=\"span\">\n",
        "Svar\n",
        "</summary><p>\n",
        "Växter tar upp koldioxid genom fotosyntes. Det växer som mest när norra halvklotet har sommar och tidig höst (största delen av jordens landyta ligger på norra halvklotet). Därför går koldioxidhalten ner under denna period.</p>\n",
        "<p>\n",
        "Du kan lära dig mer om detta i aktiviteten\n",
        "<a href=\"https://lunduniversity.github.io/schoolprog-satellite/exercises/inspiration.html\">Svartberget</a> </p>\n",
        "</details>\n",
        "\n",
        "\n",
        "\n",
        "------\n",
        "\n",
        "I medeltal verkar ju halten av koldioxid öka hela tiden. Frågan är om det märks någon avmattning på sista tiden? Koden nedan visar även värdena i den sjätte kolumnen. Detta är *trend-värden*, dvs en slags medelvärden som jämnar ut den årliga variationen.\n",
        "\n",
        "-----\n",
        "\n",
        "**Uppgift 4d:** Kör koden nedan som visar trendkurvan.\n"
      ]
    },
    {
      "cell_type": "code",
      "metadata": {
        "id": "wM4SZPJHdsxW"
      },
      "source": [
        "# Plocka ut år-värden och co2-mätvärden från varje rad\n",
        "trend = []\n",
        "for line in data:\n",
        "  splitted = line.split(\",\")\n",
        "  c = float(splitted[8]) # nionde kolumnen, co2\n",
        "  t = float(splitted[9]) # tionde kolumnen, trend\n",
        "  if c > 0:  # Lägg till värdet bara om co2-värdet är ett riktigt värde\n",
        "    trend.append(t)\n",
        "plt.plot(years, co2)\n",
        "plt.plot(years, trend)\n",
        "plt.grid()"
      ],
      "execution_count": null,
      "outputs": []
    },
    {
      "cell_type": "markdown",
      "metadata": {
        "id": "zNvzR6mn3VjF"
      },
      "source": [
        "För att se noggrannare på ett visst intervall, t.ex. de senaste 75 värdena, kan du köra koden nedan."
      ]
    },
    {
      "cell_type": "code",
      "metadata": {
        "id": "e43FCxYmeOJ7"
      },
      "source": [
        "plt.plot(years[-75:], co2[-75:])\n",
        "plt.plot(years[-75:], trend[-75:])\n",
        "plt.grid()"
      ],
      "execution_count": null,
      "outputs": []
    },
    {
      "cell_type": "markdown",
      "metadata": {
        "id": "c75ORmFm4KI4"
      },
      "source": [
        "Ser du någon avmattning i trendkurvan? Verkar ökningstakten av koldioxid minska?\n",
        "\n",
        "<details>\n",
        "<summary markdown=\"span\">\n",
        "Svar\n",
        "</summary>\n",
        "<p>\n",
        "I slutet av 2020 märktes ännu ingen avmattning. Vi vet att Corona-pandemin under 2020 har lett till något minskade utsläpp, men samtidigt har skogsbränder ökat. Det är också ganska stora naturliga variationer, vilket gör att det kan ta tid innan man ser ändringar. (Källa: <a href=\"https://www.esrl.noaa.gov/gmd/ccgg/covid2.html\">NOAA</a>)</p>\n",
        "</details>"
      ]
    },
    {
      "cell_type": "markdown",
      "metadata": {
        "id": "5r6ZZdFC7eSF"
      },
      "source": [
        "<hr size=5 noshade>\n",
        "\n",
        "#Avslutning\n",
        "Vi hoppas du har fått lite inblick i vad man kan använda programmering till.\n",
        "\n",
        "För forskare är programmering ett centralt verktyg för att kunna analysera data och förstå vad som händer i vår miljö.\n",
        "\n",
        "Om du vill lära dig mer om programmering och hur man kan analysera miljödata, så titta gärna på våra andra uppgifter på [LU Miljödataprogrammering](https://lunduniversity.github.io/schoolprog-satellite/)\n"
      ]
    },
    {
      "cell_type": "markdown",
      "metadata": {
        "id": "_5-1dP11XCr7"
      },
      "source": [
        "<hr size=5 noshade>\n",
        "<small>\n",
        "Denna uppgift ingår i <a href=\"https://lunduniversity.github.io/schoolprog-satellite/\">LU Miljödataprogrammering</a>. Copyright © 2020 Lunds universitet, ICOS Carbon Portal och Svenska Science Centers. License: <a href=\"http://creativecommons.org/licenses/by/4.0/\">CC BY 4.0</a>\n",
        "</small>"
      ]
    }
  ]
}