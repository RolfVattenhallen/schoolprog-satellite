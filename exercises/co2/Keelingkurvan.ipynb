{
  "nbformat": 4,
  "nbformat_minor": 0,
  "metadata": {
    "colab": {
      "name": "Keelingkurvan.ipynb",
      "version": "0.3.2",
      "provenance": []
    },
    "kernelspec": {
      "name": "python3",
      "display_name": "Python 3"
    }
  },
  "cells": [
    {
      "cell_type": "markdown",
      "metadata": {
        "id": "sZyYycZESpny",
        "colab_type": "text"
      },
      "source": [
        "# Keelingkurvan\n",
        "I denna uppgift kommer vi utforska Keelingkurvan som beskriver koldioxidhalten i atmosfären. Mätningarna har utförts på Hawaii i ett laboratorium som befinner sig på vulkanen Mauna Loa sedan 1958. Observationerna på Mauna Loa var de första att tyda på att koldioxidhalten ökar i vår atmosfär.\n",
        "\n"
      ]
    },
    {
      "cell_type": "markdown",
      "metadata": {
        "id": "N84OVtoHTUjr",
        "colab_type": "text"
      },
      "source": [
        "Kör följande kod stycke för att ladda in datan som vi kommer använda i denna uppgift."
      ]
    },
    {
      "cell_type": "code",
      "metadata": {
        "id": "obKjd5POSsAh",
        "colab_type": "code",
        "colab": {}
      },
      "source": [
        "!wget https://github.com/lunduniversity/schoolprog-satellite/raw/master/exercises/co2/data.tar.gz --no-verbose\n",
        "import tarfile\n",
        "tf = tarfile.open(\"data.tar.gz\")\n",
        "tf.extractall()"
      ],
      "execution_count": 0,
      "outputs": []
    },
    {
      "cell_type": "markdown",
      "metadata": {
        "id": "qPMFGu2ZS08K",
        "colab_type": "text"
      },
      "source": [
        "## 1. Inläsning och plottning av data\n",
        "Koden ovan har laddat in `data.txt`. Denna fil innehåller all data ni kommer behöva. Filen består av 7 kolumner och ett antal rader, en rad är mätningen från en månad. De första två kolumnerna innehåller året och månaden för mätningen. Den tredje kolumnen innehåller året på decimalform, vilket är smidigt för att få rätt tidsskala på x-axeln. Den fjärde kolumnen innehåller det uppmätta medelvärdet för den månaden mätt i ppm CO2-molekyler i torkad luft. ppm står för points per million så värdena beskriver hur många CO2-molekyler per miljon luftmolekyler det finns i luften. Vissa av dessa värden är -99.99. Detta beror på att mätvärdena för denna månaden inte blev tillräckligt bra. För att lösa detta problem har värden *interpolerats* med hjälp av resterande uppmätta värden. Detta innebär i princip att man räknar ut vad värdet borde ha varit om det förändras regelbundet. Vi kommer främst att använda de färdiginterpolerade värdena som finns i den femte kolumnen. I den sjätte kolumnen finns värden som beskriver en trend. \n",
        "\n",
        "**Uppdrag:** Läs in åren på decimalform i en lista `years` och de interpolerade CO2-värdena i en lista `co2`. "
      ]
    },
    {
      "cell_type": "code",
      "metadata": {
        "id": "T3btvwMITluy",
        "colab_type": "code",
        "colab": {}
      },
      "source": [
        ""
      ],
      "execution_count": 0,
      "outputs": []
    },
    {
      "cell_type": "markdown",
      "metadata": {
        "id": "8MREJCT6TmHN",
        "colab_type": "text"
      },
      "source": [
        "<details>\n",
        "<summary markdown=\"span\">\n",
        "Tips\n",
        "</summary>\n",
        "<p>\n",
        "Använd <code>with open(\"data.txt\", \"r\") as f:</code> och <code>data=f.read()</code> för att få hela filen som en sträng. Används sedan <code>data.split(\"\\n\")</code> för att dela upp filen vid varje rad. \n",
        "</p>\n",
        "</details>\n",
        "\n",
        "<details><summary markdown=\"span\">Lösning</summary>\n",
        "<p>\n",
        "<pre><code>with open(\"data.txt\", \"r\") as f:\n",
        "    data=f.read()\n",
        "data = data.split(\"\\n\")\n",
        "years=[]\n",
        "co2=[]\n",
        "for line in data:\n",
        "    splitted = line.split()\n",
        "    years.append(float(splitted[2]))\n",
        "    co2.append(float(splitted[4]))\n",
        "</code></pre></p>\n",
        "</details>"
      ]
    },
    {
      "cell_type": "markdown",
      "metadata": {
        "id": "qEK2DzzCTq20",
        "colab_type": "text"
      },
      "source": [
        "\n",
        "Nu vill vi givetvis visualisera datan för att se hur keelingkurvan faktiskt ser ut.\n",
        "\n",
        "**Uppdrag:** Kör följande kod och variera olika plotparametrar för att förstå vad de gör. "
      ]
    },
    {
      "cell_type": "code",
      "metadata": {
        "id": "8IOEV-YlTp7Q",
        "colab_type": "code",
        "colab": {}
      },
      "source": [
        "import matplotlib.pyplot as plt\n",
        "plt.figure(figsize=(10,10))\n",
        "plt.plot(years, co2, color=\"red\", linestyle=\"solid\", marker=\"o\", markersize=1.5, linewidth=0.5)\n",
        "plt.savefig(\"keeling.png\")"
      ],
      "execution_count": 0,
      "outputs": []
    },
    {
      "cell_type": "markdown",
      "metadata": {
        "id": "pQmibZleTxf6",
        "colab_type": "text"
      },
      "source": [
        "För ytterligare parametrar och information om de vi använder kan man läsa [här](https://matplotlib.org/2.1.1/api/_as_gen/matplotlib.pyplot.plot.html).\n",
        "\n",
        "Vi vill gärna se trenden i samma plot. \n",
        "\n",
        "**Uppdrag:** Läs in värdena från den sjätte kolumnen och spara dem i listan `trend` som du ska plotta i samma graf. Denna linje ska vara blå."
      ]
    },
    {
      "cell_type": "code",
      "metadata": {
        "id": "iACOKbxgT-rw",
        "colab_type": "code",
        "colab": {}
      },
      "source": [
        ""
      ],
      "execution_count": 0,
      "outputs": []
    },
    {
      "cell_type": "markdown",
      "metadata": {
        "id": "4R7zJf9AUFdS",
        "colab_type": "text"
      },
      "source": [
        "\n",
        "<details>\n",
        "<summary markdown=\"span\">\n",
        "Tips\n",
        "</summary>\n",
        "<p>\n",
        "Skriv ytterligare en <code>plt.plot()</code> direkt efter den första fast med trenden för att få dem i samma figur.\n",
        "</p>\n",
        "</details>\n",
        "\n",
        "<details><summary markdown=\"span\">Lösning</summary>\n",
        "<p>\n",
        "<pre><code>with open(\"data.txt\", \"r\") as f:\n",
        "    data=f.read()\n",
        "data = data.split(\"\\n\")\n",
        "years=[]\n",
        "co2=[]\n",
        "trend=[]\n",
        "for line in data:\n",
        "    splitted = line.split()\n",
        "    years.append(float(splitted[2]))\n",
        "    co2.append(float(splitted[4]))\n",
        "    trend.append(float(splitted[5]))\n",
        "import matplotlib.pyplot as plt\n",
        "plt.figure(figsize=(10,10))\n",
        "plt.plot(years, co2, color=\"red\", linewidth=0.5)\n",
        "plt.plot(years, trend, color=\"blue\", linewidth=0.7)\n",
        "plt.savefig(\"keeling.png\")\n",
        "</code></pre></p>\n",
        "</details>\n"
      ]
    },
    {
      "cell_type": "markdown",
      "metadata": {
        "id": "HLUUnuKoUXvU",
        "colab_type": "text"
      },
      "source": [
        "Nu har du förhoppningsvis en ganska fin graf men du tänker kanske att den inte särskilt förklarande, till exempel står det inte på axlarna vilka enheter det är och en utomstående person förstår nog inte vad de olika linjerna betyder. Det finns ännu fler saker som saknas för att det ska blir en riktigt bra graf. Detta problemet ska vi lösa nu! Ändra din förra plot-kod till följande:"
      ]
    },
    {
      "cell_type": "code",
      "metadata": {
        "id": "Cb_92jb6UGDw",
        "colab_type": "code",
        "colab": {}
      },
      "source": [
        "plt.figure(figsize=(10,10))\n",
        "plt.plot(years, co2, color=\"red\", linewidth=0.5)\n",
        "plt.plot(years, trend, color=\"blue\", linewidth=0.7)\n",
        "plt.xlabel(\"År\")\n",
        "plt.ylabel(\"ppm CO2\")\n",
        "plt.title(\"Keelingkurvan\")\n",
        "plt.legend([\"CO2\", \"Trend\"])\n",
        "plt.grid(True)\n",
        "plt.savefig(\"keeling.png\")"
      ],
      "execution_count": 0,
      "outputs": []
    },
    {
      "cell_type": "markdown",
      "metadata": {
        "id": "6xldmmS_Uxnx",
        "colab_type": "text"
      },
      "source": [
        "**Uppdrag:** Lek runt lite med de olika parametrarna och se hur grafen ändras för att förstå vad de har för innebörd. \n",
        "\n",
        "De flesta metoderna är ganska självförklarande men vi listar ändå lite korta förklaringar här.\n",
        "- `plt.xlabel()` tar en sträng och sätter texten på x-axeln till detta. \n",
        "- `plt.ylabel()` funkar likadant fast för y-axeln.\n",
        "- `plt.title()` sätter en titel för hela grafen. \n",
        "- `plt.legend()` lägger till en liten ruta som beskriver de olika linjerna. Den tar en lista av strängar, en sträng för varje linje. \n",
        "- `plt.grid()` avgör om grafen ska ha något rutnät eller inte.\n",
        "\n",
        "Alla dessa metoderna går att variera ytterligare efter användarens önskan och det finns många fler valbara parametrar än vad vi skriver om här. För att lära sig mer kan man läsa på [här](https://matplotlib.org/3.1.0/api/_as_gen/matplotlib.pyplot.html#module-matplotlib.pyplot).\n"
      ]
    },
    {
      "cell_type": "markdown",
      "metadata": {
        "id": "dbSf8l0xU3_4",
        "colab_type": "text"
      },
      "source": [
        "## 2. Förenkla datanvändningen med hjälp av dict\n",
        "Om vi lättare vill kunna kolla på ett specifikt år eller månad skulle vi kunna lagra vår data i en `dict` istället. Vi skulle då kunna använda ett år och månad som nyckel för att lättare kunna plocka ut värden för ett motsvarande datum.\n",
        "\n",
        "**Uppdrag:** Skapa en `dict` med tuplar `(year, month)` som nycklar för ett smotsvarande mätvärde. `year` och `month` kan båda var heltal där `month` representeras av talen 1 till 12. \n"
      ]
    },
    {
      "cell_type": "code",
      "metadata": {
        "id": "tXGL59HEUzTg",
        "colab_type": "code",
        "colab": {}
      },
      "source": [
        ""
      ],
      "execution_count": 0,
      "outputs": []
    },
    {
      "cell_type": "markdown",
      "metadata": {
        "id": "6SDjIvKxU9wc",
        "colab_type": "text"
      },
      "source": [
        "<details>\n",
        "<summary markdown=\"span\">\n",
        "Tips\n",
        "</summary>\n",
        "<p>\n",
        "Du kan använda kod liknande den du använde för att bygga upp listorna innan, men istället lägga in det i en <code>dict</code>.\n",
        "</p>\n",
        "</details>\n",
        "\n",
        "\n",
        "<details>\n",
        "<summary markdown=\"span\">\n",
        "Lösning\n",
        "</summary>\n",
        "<p><pre>with open(\"data.txt\", \"r\") as f:\n",
        "    data=f.read()\n",
        "data = data.split(\"\\n\")\n",
        "co2_dict = {}\n",
        "for line in data:\n",
        "    splitted = line.split()\n",
        "    co2_dict[(int(splitted[0]), int(splitted[1]))] = float(splitted[4])</pre>\n",
        "</p>\n",
        "</details>"
      ]
    },
    {
      "cell_type": "markdown",
      "metadata": {
        "id": "q53c3d2zVCn_",
        "colab_type": "text"
      },
      "source": [
        "\n",
        "## 3. Medelvärde för varje år\n",
        "\n",
        "Vi vill nu använda vår `dict` för att räkna ut ett medelvärde för varje år. För att göra detta kan vi skapa en funktion `avg_year(year)` som tar in ett heltal `year` och returnerar ett genomsnittligt värde för hela året. \n",
        "\n",
        "**Uppdrag:** Skriv funktionen `avg_year(year)`.\n"
      ]
    },
    {
      "cell_type": "code",
      "metadata": {
        "id": "dxBXv54-U_jN",
        "colab_type": "code",
        "colab": {}
      },
      "source": [
        ""
      ],
      "execution_count": 0,
      "outputs": []
    },
    {
      "cell_type": "markdown",
      "metadata": {
        "id": "O8eQegFuVJYR",
        "colab_type": "text"
      },
      "source": [
        "\n",
        "<details>\n",
        "<summary markdown=\"span\">\n",
        "Lösning\n",
        "</summary>\n",
        "<p><pre>def avg_year(year):\n",
        "    total = 0\n",
        "    for i in range(1,13):\n",
        "        total += co2_dict[(year,i)]\n",
        "    return total/12</pre>\n",
        "</p>\n",
        "</details>\n",
        "\n",
        "**Uppdrag:** Kommer lösningen till föregående uppgift fungera för alla år? Vad returnerar `avg_year(1958)`? Är din lösning bättre?\n"
      ]
    },
    {
      "cell_type": "code",
      "metadata": {
        "id": "bJxbVfw5VJ0N",
        "colab_type": "code",
        "colab": {}
      },
      "source": [
        ""
      ],
      "execution_count": 0,
      "outputs": []
    },
    {
      "cell_type": "markdown",
      "metadata": {
        "id": "PaLdT9amVOZz",
        "colab_type": "text"
      },
      "source": [
        "<details>\n",
        "<summary markdown=\"span\">\n",
        "Svar\n",
        "</summary>\n",
        "<p>Åren 1958 och 2019 har inte data för alla månader. Vår funktion antar att alla månader finns med för alla år i <code>co2_dict</code>, vilket gör att programmet kraschar.  \n",
        "</p>\n",
        "</details>\n",
        "\n",
        "En viktig detalj i programmering är att komma ihåg undantagsfallen som koden måste klara av. Det är lätt hänt att man bara testar <i>korrekt</i> indata och glömmer bort undantagsfall. I detta fall måste vi se till att vår metod klarar av de fallen då vi inte har mätdata för alla månader.\n",
        "\n",
        "**Uppdrag:** Ändra funktionen `avg_year(year)` så att den inte kraschar då data fattas utan istället använder den data som finns för att räkna ut medelvärdet.\n"
      ]
    },
    {
      "cell_type": "code",
      "metadata": {
        "id": "za_Be1q6VO_8",
        "colab_type": "code",
        "colab": {}
      },
      "source": [
        ""
      ],
      "execution_count": 0,
      "outputs": []
    },
    {
      "cell_type": "markdown",
      "metadata": {
        "id": "5iLu0T6KVgx4",
        "colab_type": "text"
      },
      "source": [
        "<details>\n",
        "<summary markdown=\"span\">\n",
        "Tips\n",
        "</summary>\n",
        "<p>För att kolla om det finns ett värde kopplat till en viss nyckel kan du skriva: <code>(year, month) in co2_dict</code>, vilket kommer returnera <code>True</code> om det finns och annars <code>False</code>.\n",
        "</p>\n",
        "</details>\n",
        "    \n",
        "<details>\n",
        "<summary markdown=\"span\">\n",
        "Lösning\n",
        "</summary>\n",
        "<p><pre>def avg_year(year):\n",
        "    total = 0\n",
        "    values = 0\n",
        "    for i in range(1,13):\n",
        "        if((year,i) in co2_dict):\n",
        "            total += co2_dict[(year,i)]\n",
        "            values += 1\n",
        "    return total/values</pre>\n",
        "</p>\n",
        "</details>\n",
        "\n",
        "Vi kan nu ta fram en lista som inehåller medelvärde för åren 1958 till 2019 med hjälp av vår nya metod. \n",
        "\n",
        "**Uppdrag:** Skapa listan `mean_year` med hjälp av funktionen `avg_year(year)`.\n"
      ]
    },
    {
      "cell_type": "code",
      "metadata": {
        "id": "p6c5vrGvVhTd",
        "colab_type": "code",
        "colab": {}
      },
      "source": [
        ""
      ],
      "execution_count": 0,
      "outputs": []
    },
    {
      "cell_type": "markdown",
      "metadata": {
        "id": "1lhif-SkVniZ",
        "colab_type": "text"
      },
      "source": [
        "<details>\n",
        "<summary markdown=\"span\">\n",
        "Lösning\n",
        "</summary>\n",
        "<p><pre>mean_year = []\n",
        "for i in range(1958,2020):\n",
        "    mean_year.append(avg_year(i))\n",
        "</pre>\n",
        "</p>\n",
        "</details>\n",
        "\n",
        "**Uppdrag:** Plotta nu samma sak som i avsnitt 1 fast med `mean_year` istället för `trend`. Ser du någon skillnad när du använder `mean_year` istället för `trend`?\n"
      ]
    },
    {
      "cell_type": "code",
      "metadata": {
        "id": "dvvTGN7bVn2o",
        "colab_type": "code",
        "colab": {}
      },
      "source": [
        ""
      ],
      "execution_count": 0,
      "outputs": []
    },
    {
      "cell_type": "markdown",
      "metadata": {
        "id": "Za12q6YnVtUh",
        "colab_type": "text"
      },
      "source": [
        "<details>\n",
        "<summary markdown=\"span\">\n",
        "Lösning\n",
        "</summary><p><pre>\n",
        "plt.figure(figsize=(10,10))\n",
        "plt.plot(years, co2, color=\"red\", linewidth=0.5)\n",
        "plt.plot(range(1958, 2020), mean_year, color=\"blue\", linewidth=0.7)\n",
        "plt.xlabel(\"År\")\n",
        "plt.ylabel(\"ppm CO2\")\n",
        "plt.title(\"Keelingkurvan\")\n",
        "plt.legend([\"CO2\", \"Årsmedelvärde\"])\n",
        "plt.grid(True)\n",
        "plt.savefig(\"year_mean.png\")\n",
        "</pre></p>\n",
        "</details>\n",
        "\n",
        "<details>\n",
        "<summary markdown=\"span\">\n",
        "Svar\n",
        "</summary>\n",
        "<p>Om din kod är lik lösningsförslagen borde det se ut som <code>mean_year</code> hela tiden ligger lite högre än vad <code>trend</code> gör. Vad kan detta bero på?\n",
        "</p>\n",
        "</details>\n",
        "\n",
        "<details>\n",
        "<summary markdown=\"span\">\n",
        "Svar\n",
        "</summary>\n",
        "<p><code>mean_year</code> har bara ett värde per år medan <code>trend</code> har tolv. Detta gör att <code>mean_year</code> blir lite missvisande då hela årsgenomsnittet kommer hamna på motsvarande plats för januari i <code>trend</code>. Med andra ord blir hela grafen förskjuten ett halvår åt vänster. \n",
        "</p>\n",
        "</details>\n",
        "\n",
        "**Uppdrag:** Förskjut `mean_year` ett halvår till höger för att bättre representera medelvärdet.\n",
        "\n"
      ]
    },
    {
      "cell_type": "code",
      "metadata": {
        "id": "D1AmR7fUVt0i",
        "colab_type": "code",
        "colab": {}
      },
      "source": [
        ""
      ],
      "execution_count": 0,
      "outputs": []
    },
    {
      "cell_type": "markdown",
      "metadata": {
        "id": "nseMJd18VxtV",
        "colab_type": "text"
      },
      "source": [
        "<details>\n",
        "<summary markdown=\"span\">\n",
        "Lösning\n",
        "</summary><p><pre>actual_years = [i+0.5 for i in range(1958, 2020)]\n",
        "plt.figure(figsize=(10,10))\n",
        "plt.plot(years, co2, color=\"red\", linewidth=0.5)\n",
        "plt.plot(actual_years, mean_year, color=\"blue\", linewidth=0.7)\n",
        "plt.xlabel(\"År\")\n",
        "plt.ylabel(\"ppm CO2\")\n",
        "plt.title(\"Keelingkurvan\")\n",
        "plt.legend([\"CO2\", \"Årsmedelvärde\"])\n",
        "plt.grid(True)\n",
        "plt.savefig(\"year_mean.png\")\n",
        "</pre></p>\n",
        "</details>"
      ]
    },
    {
      "cell_type": "markdown",
      "metadata": {
        "id": "5SCQU9fsV1Mh",
        "colab_type": "text"
      },
      "source": [
        "## 4. Hur ser ökningen ut? \n",
        "\n",
        "Genom att studera kurvorna kan vi ganska enkelt dra slutsatsen att koldioxidhalten i atmosfären har ökat sedan 1958. En intressant detalj kan vara att kolla på om själva ökningen ökar eller minskar för varje år (detta motsvarar andraderivatan som du kanske känner igen från matten). De senaste åren har man pratat väldigt mycket om att vi måste bromsa våra koldioxidutsläpp (växthuseffekten). Vad visar våra siffror? Kan vi se att ökningen har börjat bromsa in?\n",
        "\n",
        "**Uppdrag:** Skapa en lista `mean_diff` med alla skillnaderna mellan två på varandra följande års medelvärde.\n"
      ]
    },
    {
      "cell_type": "code",
      "metadata": {
        "id": "QiWFI5CwVyh7",
        "colab_type": "code",
        "colab": {}
      },
      "source": [
        ""
      ],
      "execution_count": 0,
      "outputs": []
    },
    {
      "cell_type": "markdown",
      "metadata": {
        "id": "sdcdCU3pV5i4",
        "colab_type": "text"
      },
      "source": [
        "<details>\n",
        "<summary markdown=\"span\">\n",
        "Tips\n",
        "</summary>\n",
        "<p>Du kan tillexempel bestämma ökningen mellan 2018 och 2019 med <code>avg_year(2019)-avg_year(2018)</code>.\n",
        "</p>\n",
        "</details>\n",
        "\n",
        "<details>\n",
        "<summary markdown=\"span\">\n",
        "Lösning\n",
        "</summary><p><pre>mean_diff = []\n",
        "for i in range(1958,2018):\n",
        "    diff = avg_year(i+1)-avg_year(i)\n",
        "    mean_diff.append(diff)</pre>(Då medelvärdet för 2019 inte är baserat på alla månader kommer ökningen inte motsvara den faktiskt ökningen och vi väljer därför att inte ta med den.)</p>\n",
        "</details>\n",
        "\n",
        "**Uppdrag:** Plotta `mean_diff`. Hur ser ökningen ut? Har vi börjat bromsa in ökningen? \n"
      ]
    },
    {
      "cell_type": "code",
      "metadata": {
        "id": "fi8lRN8YV56O",
        "colab_type": "code",
        "colab": {}
      },
      "source": [
        ""
      ],
      "execution_count": 0,
      "outputs": []
    },
    {
      "cell_type": "markdown",
      "metadata": {
        "id": "m60K1YRHV8h_",
        "colab_type": "text"
      },
      "source": [
        "<details>\n",
        "<summary markdown=\"span\">\n",
        "Lösning\n",
        "</summary><p><pre>plt.figure(figsize=(10,10))\n",
        "plt.plot(range(1958,2018), mean_diff)\n",
        "plt.savefig(\"mean_diff.png\")</pre></p>\n",
        "</details>\n",
        "\n",
        "<details>\n",
        "<summary markdown=\"span\">\n",
        "Svar\n",
        "</summary><p>Ökningen varierar en del från år till år vilket gör att grafen blir ganska spretig. Det ser dock ut som att ökningen har ökat sedan 1958. Det ser inte ut som någon inbromsning har börjat.</p>\n",
        "</details>\n"
      ]
    },
    {
      "cell_type": "markdown",
      "metadata": {
        "id": "SeOPG_nGV_-E",
        "colab_type": "text"
      },
      "source": [
        "## 5. Koldioxidcykeln under ett år\n",
        "Om man zoomar in och kollar närmre på keelingkurvan ser man att den svänger väldigt kraftigt och regelbundet. Detta fenomen ska vi undersöka närmre.\n",
        "\n",
        "**Uppdrag:** Skriv en funktion `plot_co2_year` som givet ett år plottar koldioxidnivån från varje månad tillsammans med trenden som finns i `trend`. Använd funktionen för att plotta koldioxidnivåerna under 2018. Hur ser den ut? Varför tror du den ser ut som den gör?\n"
      ]
    },
    {
      "cell_type": "code",
      "metadata": {
        "id": "Agn5Zl99V9Aq",
        "colab_type": "code",
        "colab": {}
      },
      "source": [
        ""
      ],
      "execution_count": 0,
      "outputs": []
    },
    {
      "cell_type": "markdown",
      "metadata": {
        "id": "tDjEbbneWFvQ",
        "colab_type": "text"
      },
      "source": [
        "<details>\n",
        "<summary markdown=\"span\">\n",
        "Tips\n",
        "</summary>\n",
        "<p>\n",
        "Det blir lättare att plotta ett specifikt år om du använder en <code>dict</code> för trenden också. \n",
        "</p>\n",
        "</details>\n",
        "\n",
        "<details>\n",
        "<summary markdown=\"span\">\n",
        "Lösning\n",
        "</summary><p><pre>trend_dict={}\n",
        "for line in data:\n",
        "    splitted = line.split()\n",
        "    trend_dict[(int(splitted[0]), int(splitted[1]))] = float(splitted[5])\n",
        "def plot_co2_year(year):\n",
        "    co2_year = []\n",
        "    trend_year = []\n",
        "    for i in range(1, 13):\n",
        "        co2_year.append(co2_dict[(year, i)])\n",
        "        trend_year.append(trend_dict[(year, i)])\n",
        "    plt.figure(figsize=(10,10))\n",
        "    plt.plot(range(1, 13), co2_year, color=\"red\", linewidth=2, marker=\"o\")\n",
        "    plt.plot(range(1, 13), trend_year, color=\"blue\", linewidth=2, marker=\"^\")\n",
        "    plt.xlabel(\"Månad\")\n",
        "    plt.ylabel(\"ppm CO2\")\n",
        "    plt.title(\"Keelingkurvan 2018\")\n",
        "    plt.legend([\"CO2\", \"Trend\"])\n",
        "    plt.grid(True)\n",
        "    plt.savefig(\"month_mean.png\")\n",
        "plot_co2_year(2018)\n",
        "</pre></p>\n",
        "</details>\n",
        "\n",
        "<details>\n",
        "<summary markdown=\"span\">\n",
        "Svar\n",
        "</summary>\n",
        "<p>\n",
        "Vi ser att koldioxidnivåerna ökar mycket under vintern/våren och minskar mycket under sommar/höst. Detta kan förklaras med att växterna absorberar en hel del koldioxid under sommaren och hösten, medans växterna dör eller temporärt slutar ta upp koldioxid under vintern/våren. \n",
        "</p>\n",
        "</details>\n"
      ]
    },
    {
      "cell_type": "markdown",
      "metadata": {
        "id": "q6FDKWa1WKUI",
        "colab_type": "text"
      },
      "source": [
        "## Fortsättningsuppgifter\n",
        "\n",
        "- Som vi beskriv i början var vissa mätpunkter för dåliga i datan. Till exempel saknas ett månadsmedelvärde från april 1984. Används datan i den fjärde kolumnen för att skriva interpolera ett värde för april 1984. Kolla hur nära du kommer värdet i femte kolumnen.\n",
        "- Försök att själv ta fram en egen trend likt den sjätte kolumnen i datan. Jämför sedan din trens med trenden som ges i sjätte kolumnen.\n"
      ]
    }
  ]
}