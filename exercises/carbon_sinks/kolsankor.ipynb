{
  "nbformat": 4,
  "nbformat_minor": 0,
  "metadata": {
    "colab": {
      "name": "Kolsänkor.ipynb",
      "provenance": [],
      "collapsed_sections": [],
      "toc_visible": true
    },
    "kernelspec": {
      "name": "python3",
      "display_name": "Python 3"
    }
  },
  "cells": [
    {
      "cell_type": "markdown",
      "metadata": {
        "id": "34trwhFydmmn",
        "colab_type": "text"
      },
      "source": [
        "# Kolsänkor och kolkällor i Sveriges skogar"
      ]
    },
    {
      "cell_type": "markdown",
      "metadata": {
        "id": "wFd2kRAOdhTw",
        "colab_type": "text"
      },
      "source": [
        "![Bild på en skog](https://storage.needpix.com/rsynced_images/forest-964118_1280.jpg)\n",
        "[Foto](https://www.needpix.com/photo/462394/forest-solar-pine-light-sun-morning-evening-tall-trees-free-pictures) från Needpix / [CC0](https://creativecommons.org/publicdomain/zero/1.0/)"
      ]
    },
    {
      "cell_type": "markdown",
      "metadata": {
        "id": "PeDK4UtSmoGx",
        "colab_type": "text"
      },
      "source": [
        "# Intro till for-loopar\n",
        "För att kunna utföra den här uppgiften behöver du först veta hur loopar fungerar. En loop är ett sätt att utföra operationer systematiskt utan att behöva upprepa samma kod om och om igen. Om man vet precis hur många gånger ett kodblock behöver upprepas eller *itereras* är for-loopen det vanligaste alternativet.\n",
        "\n",
        "För att skapa en for-loop i python kan man använda sig av följande struktur:\n",
        "\n",
        "\n",
        "```\n",
        "for i in range(N):\n",
        "    Kod som ska köras N gånger\n",
        "```\n",
        "\n",
        "Här är `i` en integer som börjar på 0 (om inget annat specificeras). För varje iterering kommer värdet på `i` att öka med ett fram tills `i` får samma värde som talet `N`. Då bryts loopen.\n",
        "\n",
        "Övning: Skriv kod för en for-loop som skriver ut alla tal mellan 1-10:\n",
        "\n",
        "\n",
        "\n",
        "\n",
        "\n"
      ]
    },
    {
      "cell_type": "code",
      "metadata": {
        "id": "6eF52JW8xO-k",
        "colab_type": "code",
        "colab": {}
      },
      "source": [
        "#Skriv din for-loop här:\n"
      ],
      "execution_count": null,
      "outputs": []
    },
    {
      "cell_type": "markdown",
      "metadata": {
        "id": "giXaBGoMxoqG",
        "colab_type": "text"
      },
      "source": [
        "<details>\n",
        "<summary markdown=\"span\">\n",
        "Lösning\n",
        "</summary>\n",
        "<p>\n",
        "\n",
        "```python\n",
        "for i in range(10):\n",
        "  print(i+1)\n",
        "```\n",
        "</p>\n",
        "</details>"
      ]
    },
    {
      "cell_type": "markdown",
      "metadata": {
        "id": "pPuzlZtRxPc8",
        "colab_type": "text"
      },
      "source": [
        "\n",
        "Den tillfälliga variabeln `i` behöver inte vara ett tal, det kan också vara ett element i en lista:\n",
        "\n",
        "```\n",
        "for i in list:\n",
        "    Kod som ska köras för hela längden på listan\n",
        "```\n",
        "\n",
        "I det här exemplet kommer `i` till en början ha samma värde som det första elementet i listan. Elementet kan vara en sträng, float, en lista eller något helt annat. Det behöver inte vara en integer som i det tidigare exemplet. I nästa iteration byter `i` värde till nästa element i listan. Loopen fortsätter tills listan tar slut. \n",
        "\n",
        "Övning: Skriv en for-loop som lägger till kvadrerade värden av elementen i listan x till den tomma listan x2. Om du är osäker på hur man lägger till värden i en lista, kolla under tips-fliken.\n"
      ]
    },
    {
      "cell_type": "code",
      "metadata": {
        "id": "h_ve3DCN2Fqm",
        "colab_type": "code",
        "colab": {}
      },
      "source": [
        "x=[2,4,6,8,10,12,14,16,18,20]\n",
        "x2=[]\n",
        "\n",
        "#Lägg till din for-loop här:\n",
        "\n",
        "\n",
        "#Printa din lista x2 för att se om du fått rätt\n",
        "print(x2)\n",
        "  \n"
      ],
      "execution_count": null,
      "outputs": []
    },
    {
      "cell_type": "markdown",
      "metadata": {
        "id": "xFtXV0lb5inV",
        "colab_type": "text"
      },
      "source": [
        "<details>\n",
        "<summary markdown=\"span\">\n",
        "Tips\n",
        "</summary>\n",
        "<p> item läggs till i list med hjälp av funktionen append:\n",
        "\n",
        "\n",
        "```\n",
        "list.append(item)\n",
        "```\n",
        "\n",
        "\n",
        "</p>\n",
        "</details>"
      ]
    },
    {
      "cell_type": "markdown",
      "metadata": {
        "id": "tcdAtlFA6A4W",
        "colab_type": "text"
      },
      "source": [
        "<details>\n",
        "<summary markdown=\"span\">\n",
        "Lösning\n",
        "</summary>\n",
        "<p>\n",
        "\n",
        "```python\n",
        "for i in x:\n",
        "  x2.append(i*i)\n",
        "```\n",
        "\n",
        "</p>\n",
        "</details>"
      ]
    },
    {
      "cell_type": "markdown",
      "metadata": {
        "id": "mC4S0gQO_Guo",
        "colab_type": "text"
      },
      "source": [
        "# Intro till if-satser\n",
        "\n",
        "En if-sats är ett sätt att välja vilken kod som ska köras eller inte, beroende på omständigheterna (variablerna) som påverkar koden."
      ]
    },
    {
      "cell_type": "markdown",
      "metadata": {
        "id": "fyRItCYL_pCw",
        "colab_type": "text"
      },
      "source": [
        "Det första vi måste förstå med if-satser är boolska uttryck. Ett boolskt uttryck är något som antingen blir sant eller falskt (`True` eller `False` i python). \n",
        "\n",
        "Nedan är ett exempel på ett boolska uttryck."
      ]
    },
    {
      "cell_type": "code",
      "metadata": {
        "id": "PBm10z9t-2u2",
        "colab_type": "code",
        "colab": {}
      },
      "source": [
        "x = 5 #Tilldelning\n",
        "\n",
        "#Boolska uttryck\n",
        "print(x == 4) #Blir False\n",
        "print(x == 5) #Blir True\n",
        "print(x*2 < 7) #Blir False"
      ],
      "execution_count": null,
      "outputs": []
    },
    {
      "cell_type": "markdown",
      "metadata": {
        "id": "fT8W-7pwAoNY",
        "colab_type": "text"
      },
      "source": [
        "Operationen `==` kollar alltså om två saker är lika med varandra, och blir `True` eller `False` därefter. Notera att detta skiljer sig från matematikens = som säger att något uttryck alltid är detsamma som ett annat. Till exempel $a^2 + b^2 = c^2$. Det skiljer sig också från den första raden i programmet, `x = 5` som säger att variabeln `x` blir något (i detta fall 5).\n",
        "\n",
        "Utöver `==` finns det andra boolska operationer:\n",
        "\n",
        "\n",
        "*   `<` Mindre än\n",
        "*   `>=` Större än eller lika med\n",
        "*   `!=` Inte lika med\n",
        "\n",
        "Skriv ett boolskt uttryck som blir `True` om variabeln `x` är större än 0."
      ]
    },
    {
      "cell_type": "code",
      "metadata": {
        "id": "gcpK5LWWDErx",
        "colab_type": "code",
        "colab": {}
      },
      "source": [
        "x = 5\n",
        "\n",
        "print(...) #True om x är större än 0. Annars False"
      ],
      "execution_count": null,
      "outputs": []
    },
    {
      "cell_type": "markdown",
      "metadata": {
        "id": "uuK66XEvDOS1",
        "colab_type": "text"
      },
      "source": [
        "Testa din kod genom att ändra värdet på x längst upp. Blir det rätt i specialfall, som när `x` är 0?\n",
        "\n",
        "<details>\n",
        "<summary markdown=\"span\">\n",
        "Lösning\n",
        "</summary>\n",
        "<p>\n",
        "\n",
        "```python\n",
        "print(x > 0)\n",
        "```\n",
        "</p>\n",
        "</details>"
      ]
    },
    {
      "cell_type": "markdown",
      "metadata": {
        "id": "JUZb0x13DysW",
        "colab_type": "text"
      },
      "source": [
        "Boolska uttryck kan i sig användas för att göra andra boolska uttryck. Det finns tre vanliga sätt att göra detta.\n",
        "\n",
        "\n",
        "*   `not` tar ett boolskt uttryck och byter på `True` och `False`\n",
        "*   `and` tar två boolska uttryck och blir `True` om båda dessa är `True`\n",
        "*   `or` tar två boolska uttryck och blir `True` om minst ett av dessa är `True`\n",
        "\n",
        "Man kan tänka på `not`, `and` och `or` som 'inte', 'och' samt 'eller' i vanligt språk. Det finns dock en fallgrop, som är att 'eller' i vanligt tal ibland betyder exakt ett av alternativen. Om någon frågar dig \"Vill du ha te eller kaffe\" så menar nog personen att du får ett av alternativen. I programmering hade det varit helt ok med både te och kaffe.\n",
        "\n",
        "Här kommer lite exempel på boolska uttryck som använder `not`, `and` och `or`, samt lite du får fylla i själv.\n"
      ]
    },
    {
      "cell_type": "code",
      "metadata": {
        "id": "um14XJhNGER0",
        "colab_type": "code",
        "colab": {}
      },
      "source": [
        "a = 5\n",
        "s = \"Hejsan\"\n",
        "b = 7\n",
        "\n",
        "print(not a < b) #False\n",
        "print(a == 5 or s == \"Tjena\") #True\n",
        "print(a > b and b == 7 and a != 6) #False\n",
        "print(b == 7 or a != 10) #True trots att båda stämmer, fallgrop med vanligt tal.\n",
        "\n",
        "#Skriv ett logiskt uttryck som kollar om b är mellan 0 och 10\n",
        "print(...)\n",
        "\n",
        "#Skriv ett logiskt uttryck som blir False oavsett vad.\n",
        "print(...)"
      ],
      "execution_count": null,
      "outputs": []
    },
    {
      "cell_type": "markdown",
      "metadata": {
        "id": "K8yDmL5vG9cv",
        "colab_type": "text"
      },
      "source": [
        "Notera att i det tredje exemplet har vi skrivit tre uttryck med två `and` mellan. Man kan se det som att de två första uttrycken med `and` mellan blir ett nytt uttryck, som sedan paras ihop med det sista uttrycket.\n",
        "\n",
        "<details>\n",
        "<summary markdown=\"span\">\n",
        "Lösning\n",
        "</summary>\n",
        "<p>\n",
        "\n",
        "```python\n",
        "print(0 <= b and b <= 10)\n",
        "```\n",
        "\n",
        "Detta kan faktiskt förkortas i python till något likt det man skriver i matten:\n",
        "\n",
        "```python\n",
        "print(0 <= b <= 10)\n",
        "```\n",
        "</p>\n",
        "</details>"
      ]
    },
    {
      "cell_type": "markdown",
      "metadata": {
        "id": "MfJpi7PYHPZv",
        "colab_type": "text"
      },
      "source": [
        "<details>\n",
        "<summary markdown=\"span\">\n",
        "Lösning\n",
        "</summary>\n",
        "<p>\n",
        "Till exempel:\n",
        "\n",
        "```python\n",
        "print(b == 5 and b > 6)\n",
        "```\n",
        "\n",
        "Man kan också, om man är lite lurig, använda `False` direkt.\n",
        "\n",
        "```python\n",
        "print(False)\n",
        "```\n",
        "</p>\n",
        "</details>"
      ]
    },
    {
      "cell_type": "markdown",
      "metadata": {
        "id": "8GWSlOV2H8Zq",
        "colab_type": "text"
      },
      "source": [
        "Nu när du har koll på logiska uttryck kan du lätt förstå if-satser. En if-sats har följande struktur:\n",
        "\n",
        "```\n",
        "if logiskt uttryck:\n",
        "  kod som ska köras om logiskt uttryck är True\n",
        "```\n",
        "\n",
        "Se exemplet nedan:"
      ]
    },
    {
      "cell_type": "code",
      "metadata": {
        "id": "Om-gYPpWIYeK",
        "colab_type": "code",
        "colab": {}
      },
      "source": [
        "x = 15\n",
        "\n",
        "if x > 10:\n",
        "  print (\"Jag kan inte räkna till x på fingrarna!\")\n",
        "  print (\"Men med siffror går det bra:\", x)"
      ],
      "execution_count": null,
      "outputs": []
    },
    {
      "cell_type": "markdown",
      "metadata": {
        "id": "e0_0xRM8JXS9",
        "colab_type": "text"
      },
      "source": [
        "Skriv kod som tilldelar en variabel `b` ett heltal, sen kollar om `b` är något av talen 2, 3, 5 eller 7 och i så fall skriver ut \n",
        "`b är ett ensiffrigt primtal`"
      ]
    },
    {
      "cell_type": "code",
      "metadata": {
        "id": "q5Vpqpk4KCaK",
        "colab_type": "code",
        "colab": {}
      },
      "source": [
        ""
      ],
      "execution_count": null,
      "outputs": []
    },
    {
      "cell_type": "markdown",
      "metadata": {
        "id": "CFJVh_coKDcd",
        "colab_type": "text"
      },
      "source": [
        "<details>\n",
        "<summary markdown=\"span\">\n",
        "Lösning\n",
        "</summary>\n",
        "<p>\n",
        "\n",
        "```python\n",
        "b = 6\n",
        "if b == 2 or b == 3 or b == 5 or b == 7:\n",
        "  print (\"b är ett ensiffrigt primtal\")\n",
        "```\n",
        "\n",
        "Man kan också använda en lista och operationen `in`. `in` blir i den här kontexten inte samma som när vi pratade om for-loopar.\n",
        "\n",
        "```python\n",
        "b = 6\n",
        "if b in [2, 3, 5, 7]:\n",
        "  print (\"b är ett ensiffrigt primtal\")\n",
        "```\n",
        "</p>\n",
        "</details>"
      ]
    },
    {
      "cell_type": "markdown",
      "metadata": {
        "id": "_JeBLEQ7MV_-",
        "colab_type": "text"
      },
      "source": [
        "Strukturen för en if-sats kan uttökas med en else-sats. Det är något som körs om if-satsen inte körs. \n",
        "```\n",
        "if logiskt uttryck:\n",
        "  kod som ska köras om logiskt uttryck är True\n",
        "else:\n",
        "  kod som ska köras om logiskt uttryck är False\n",
        "```"
      ]
    },
    {
      "cell_type": "markdown",
      "metadata": {
        "id": "GetblEk_MzcD",
        "colab_type": "text"
      },
      "source": [
        "Skriv kod med en if-sats och en else-sats som skriver om ett tal `x` är positivt eller negativt. När du tror att du är klar kan du testa genom att ändra värdet på x."
      ]
    },
    {
      "cell_type": "code",
      "metadata": {
        "id": "CnsAWJhqM9V7",
        "colab_type": "code",
        "colab": {}
      },
      "source": [
        "x = 5\n",
        "\n",
        "#Skriv kod som printar 'positiv' om x är positiv och 'negativ' om x är negativ. Om x är 0 ska 'positiv' skrivas ut."
      ],
      "execution_count": null,
      "outputs": []
    },
    {
      "cell_type": "markdown",
      "metadata": {
        "id": "xB9bgQjnNUhD",
        "colab_type": "text"
      },
      "source": [
        "<details>\n",
        "<summary markdown=\"span\">\n",
        "Lösning\n",
        "</summary>\n",
        "<p>\n",
        "\n",
        "```python\n",
        "if x >= 0:\n",
        "  print(\"positiv\")\n",
        "else:\n",
        "  print(\"negativ\")\n",
        "```\n",
        "</p>\n",
        "</details>"
      ]
    },
    {
      "cell_type": "markdown",
      "metadata": {
        "id": "aKsjabNHXB2F",
        "colab_type": "text"
      },
      "source": [
        "# Vad är en kolsänka?\n",
        "I den här uppgiften kommer du få undersöka vilka delar av skogen som fungerar som källor respektive sänkor av koldioxid. En sänka till koldioxid tar upp mer koldioxid från atmosfären än vad som släpps ut. För en källa gäller det motsatta.\n",
        "\n",
        "Till vår hjälp har vi data från Naturvårdsverket med data som behandlar koldioxidutsläpp och upptag från Sveriges skogar. Börja med att ladda ner datan genom att köra kodblocket nedan."
      ]
    },
    {
      "cell_type": "code",
      "metadata": {
        "id": "UvPPaiB8Eci2",
        "colab_type": "code",
        "cellView": "form",
        "colab": {}
      },
      "source": [
        "#@title Ladda ner data här!\n",
        "!wget https://github.com/lunduniversity/schoolprog-satellite/raw/master/exercises/carbonsink/carbonsink19902016.xlsx -q\n"
      ],
      "execution_count": null,
      "outputs": []
    },
    {
      "cell_type": "markdown",
      "metadata": {
        "id": "or1ZAAxpaVyR",
        "colab_type": "text"
      },
      "source": [
        "Kör kodblocket nedan för att läsa in datan som en tabell. Som du ser är utsläppen sorterade i sex underkategorier, så kallade kolpooler, samt en totalsumma som Naturvårdsverket kallar 'sammantagna och upptagna utsläpp'. Datan är insamlad mellan åren 1990-2016. "
      ]
    },
    {
      "cell_type": "code",
      "metadata": {
        "id": "t2l0zcfuNIUh",
        "colab_type": "code",
        "colab": {}
      },
      "source": [
        "import pandas as pd\n",
        "import matplotlib.pyplot as plt\n",
        "forestcarbon='carbonsink19902016.xlsx'\n",
        "df = pd.read_excel(forestcarbon,header=None)\n",
        "tabell = df.values.tolist() #Skapar en matris med innehållet från första\n",
        "                              #databladet i excel-filen\n",
        "print(pd.DataFrame(tabell)) #Printad som tabell\n",
        "\n"
      ],
      "execution_count": null,
      "outputs": []
    },
    {
      "cell_type": "markdown",
      "metadata": {
        "id": "fKFmoQPZmEZP",
        "colab_type": "text"
      },
      "source": [
        "Till att börja med vill vi skapa en ny lista `years` som innehåller alla årtalen. Enklast är att använda slicing, vilket du borde känna igen sen tidigare. \n",
        "Tabellen med all data har listor som element. Det första elementet i listan är en sträng som förklarar vilken typ av data som listan innehåller. Den här strängen vill vi bli av med. Hur ska man göra för att bli av med den i följande kodstycke: "
      ]
    },
    {
      "cell_type": "code",
      "metadata": {
        "id": "Av0dlecq_kt4",
        "colab_type": "code",
        "colab": {}
      },
      "source": [
        "#Lägg till kod för att bli av med det första elementet i years\n",
        "\n",
        "years=tabell[0]\n",
        "print(years)\n"
      ],
      "execution_count": null,
      "outputs": []
    },
    {
      "cell_type": "markdown",
      "metadata": {
        "id": "kOf1dMVEEGJM",
        "colab_type": "text"
      },
      "source": [
        "<details>\n",
        "<summary markdown=\"span\">\n",
        "Lösning\n",
        "</summary>\n",
        "<p>\n",
        "\n",
        "```python\n",
        "years=tabell[0][1:]\n",
        "print(years)\n",
        "```\n",
        "</p>\n",
        "</details>"
      ]
    },
    {
      "cell_type": "markdown",
      "metadata": {
        "id": "iWxEdAGmY99E",
        "colab_type": "text"
      },
      "source": [
        "Nu vill vi göra något liknande med resten av tabellen. Vi är intresserade av underkategorierna, som har index 1-6 i tabellen och alla tillhörande mätvärden. Skriv kod som plockar ut endast dem."
      ]
    },
    {
      "cell_type": "code",
      "metadata": {
        "id": "tVO-yoj4aI67",
        "colab_type": "code",
        "colab": {}
      },
      "source": [
        "subtabell = ???\n",
        "\n",
        "print(pd.DataFrame(subtabell))"
      ],
      "execution_count": null,
      "outputs": []
    },
    {
      "cell_type": "markdown",
      "metadata": {
        "id": "SjjsY_QGaaei",
        "colab_type": "text"
      },
      "source": [
        "<details>\n",
        "<summary markdown=\"span\">\n",
        "Lösning\n",
        "</summary>\n",
        "<p>\n",
        "\n",
        "```python\n",
        "subtabell=tabell[1:7]\n",
        "```\n",
        "</p>\n",
        "</details>"
      ]
    },
    {
      "cell_type": "markdown",
      "metadata": {
        "id": "LKFQLbQFFPYy",
        "colab_type": "text"
      },
      "source": [
        "Nu vill vi dela upp vår tabell till två nya. En tabell som kallas `sink`, och innehåller data för de kategorier som räknas som en kolsänka. Vi vill även ha motsvarande tabell `source`, för de kategorier som räknas som källor till CO2. När du skriver din if-sats tänk på att första elementet i listan kommer vara en sträng. Det behöver behandlas på liknande sätt som listan `years`."
      ]
    },
    {
      "cell_type": "code",
      "metadata": {
        "id": "rnPHteEwFv0W",
        "colab_type": "code",
        "colab": {}
      },
      "source": [
        "sink=[]\n",
        "source=[]\n",
        "for row in subtabell:\n",
        "  if #Skriv in ett logiskt uttryck som kollar om summan av mätvärdena är större än noll \n",
        "   #Tilldela elementet till source\n",
        "  else:\n",
        "    #Tilldela elementet till sink\n",
        "\n",
        "print(pd.DataFrame(source))\n",
        "print(pd.DataFrame(sink))"
      ],
      "execution_count": null,
      "outputs": []
    },
    {
      "cell_type": "markdown",
      "metadata": {
        "id": "8vwHuEXSGU7q",
        "colab_type": "text"
      },
      "source": [
        "<details>\n",
        "<summary markdown=\"span\">\n",
        "Lösning\n",
        "</summary>\n",
        "<p>\n",
        "\n",
        "```python\n",
        "for row in subtabell:\n",
        "  if sum(row[1:])>0:\n",
        "    #Tilldela elementet till source\n",
        "   source.append(row)\n",
        "  else:\n",
        "    #Tilldela elementet till sink\n",
        "    sink.append(row)\n",
        "```\n",
        "</p>\n",
        "</details>"
      ]
    },
    {
      "cell_type": "markdown",
      "metadata": {
        "id": "QWimoBE3QESw",
        "colab_type": "text"
      },
      "source": [
        "Nu vill vi undersöka skogens kolkällor och sänkor var för sig genom att skapa cirkeldiagram eller \"pie-charts\" som det heter i Python. Ett cirkeldiagram visar tydligt det procentuella förhållandet mellan olika kategorier. Två listor: `labels` och `means` behöver skapas. Labels ska innehålla de beskrivande text-strängar som vi sett finns lagrade i första kolumnen i `source`- och `sink`-tabellerna. Listan `means` ska i sin tur innehålla beräknade medelvärden för alla kategorier Du kommer väl ihåg hur medelvärden räknas ut? Kolla under tipsfliken annars!"
      ]
    },
    {
      "cell_type": "markdown",
      "metadata": {
        "id": "DSnT5MO6Wql5",
        "colab_type": "text"
      },
      "source": [
        "<details>\n",
        "<summary markdown=\"span\">\n",
        "Tips!\n",
        "</summary>\n",
        "<p>\n",
        "Medelvärde för listan L kan räknas ut enligt följande:\n",
        "\n",
        "```python\n",
        "list_mean=sum(L)/len(L)\n",
        "```\n",
        "</p>\n",
        "</details>"
      ]
    },
    {
      "cell_type": "code",
      "metadata": {
        "id": "VbrFfNi7JjC5",
        "colab_type": "code",
        "colab": {}
      },
      "source": [
        "# Pie chart, skogens källor till CO2\n",
        "labels=[]\n",
        "means=[]\n",
        "for row in source:\n",
        "  #Skriv kod som lägger till rätt namn för alla kategorier i listan labels:\n",
        "\n",
        "  #Skriv kod som lägger till det beräknade medelvärdet i listan means:\n",
        "\n",
        "\n",
        "colors = ['gold', 'brown', 'green']\n",
        "fig1, ax1 = plt.subplots()\n",
        "ax1.pie(means, labels=labels, colors=colors, autopct='%1.1f%%',\n",
        "        shadow=True, startangle=90)\n",
        "ax1.axis('equal')  \n",
        "plt.show()"
      ],
      "execution_count": null,
      "outputs": []
    },
    {
      "cell_type": "markdown",
      "metadata": {
        "id": "rVbLZSVuaV2u",
        "colab_type": "text"
      },
      "source": [
        "<details>\n",
        "<summary markdown=\"span\">\n",
        "Lösning\n",
        "</summary>\n",
        "<p>\n",
        "\n",
        "```python\n",
        "for row in source:\n",
        "  #Skriv kod som lägger till rätt namn för alla kategorier i listan labels:\n",
        "  labels.append(row[0])\n",
        "  #Skriv kod som lägger till det beräknade medelvärdet i listan means:\n",
        "  means.append(sum(row[1:])/len(row[1:]))\n",
        "```\n",
        "</p>\n",
        "</details>"
      ]
    },
    {
      "cell_type": "markdown",
      "metadata": {
        "id": "iS_7XvFrYlXP",
        "colab_type": "text"
      },
      "source": [
        "Vilka tre kategorier visade sig vara källor till koldioxid? Vilken kategori släpper ut mest koldioxid per år? Varför gör den det?\n",
        "\n",
        "\n",
        "Gör nu samma sak, fast för listan `sink` istället. I detta fallet behöver du komma ihåg att värdena är negativa. För att kunna skapa ett cirkeldiagram behöver värdena vara positiva. Den inbyggda funktionen `abs(x)` kan man använda till detta, den returnerar absolutbeloppet (positivt värde) av ett tal `x`. Modifiera koden så att medelvärdena i `means` blir positiva."
      ]
    },
    {
      "cell_type": "code",
      "metadata": {
        "id": "pEIsbYAiMr6l",
        "colab_type": "code",
        "colab": {}
      },
      "source": [
        "# Pie chart, kolsänkor\n",
        "labels=[]\n",
        "means=[]\n",
        "for row in sink:\n",
        " #Skriv kod som lägger till rätt namn för alla kategorier i listan labels:\n",
        " \n",
        " #Skriv kod som lägger till det (positiva) beräknade medelvärdet i listan means:\n",
        "\n",
        "\n",
        "\n",
        "colors = ['yellowgreen', 'brown', 'green']\n",
        "fig1, ax1 = plt.subplots()\n",
        "ax1.pie(means, labels=labels, colors=colors, autopct='%1.1f%%',\n",
        "        shadow=True, startangle=90)\n",
        "ax1.axis('equal')\n",
        "plt.show()"
      ],
      "execution_count": null,
      "outputs": []
    },
    {
      "cell_type": "markdown",
      "metadata": {
        "id": "2J5Kcp88aw23",
        "colab_type": "text"
      },
      "source": [
        "<details>\n",
        "<summary markdown=\"span\">\n",
        "Lösning\n",
        "</summary>\n",
        "<p>\n",
        "\n",
        "```python\n",
        "for row in source:\n",
        "  #Skriv kod som lägger till rätt namn för alla kategorier i listan labels:\n",
        "  labels.append(row[0])\n",
        "  #Skriv kod som lägger till det beräknade medelvärdet i listan means:\n",
        "  means.append(abs(sum(row[1:])/len(row[1:])))\n",
        "```\n",
        "</p>\n",
        "</details>"
      ]
    },
    {
      "cell_type": "markdown",
      "metadata": {
        "id": "BhYM5BKMdaNp",
        "colab_type": "text"
      },
      "source": [
        "Vilka tre kategorier visade sig vara kolsänkor? Vilken kategori är den största sänkan? \n",
        "\n",
        "Avslutningsvis vill vi undersöka varje kategori lite närmare. Kör kodblocket nedan!\n",
        "Prova att se vad som händer om du byter värdet på idx till ett värde mellan 1-7. Upprepa tills alla plottar har visats. Svara sedan på frågorna nedan. "
      ]
    },
    {
      "cell_type": "code",
      "metadata": {
        "id": "7VJU3621gPUj",
        "colab_type": "code",
        "colab": {}
      },
      "source": [
        "#Ändra idx mellan 1-7\n",
        "#1  Övriga utsläpp från skogsmarker (gödsling, dränering)\n",
        "#2  Levande träd och växter (nettoupptag) \n",
        "#3  Döda träd och växter (nettoutsläpp)  \n",
        "#4  Jordar  \n",
        "#5  Torvmarker \n",
        "#6  Averkade träprodukter  \n",
        "#7  Sammantagna och upptagna utsläpp\n",
        "\n",
        "idx=1\n",
        "\n",
        "plt.plot(tabell[0][1:],tabell[idx][1:])\n",
        "plt.xlabel('År')\n",
        "plt.ylabel('Tusen ton koldioxidekvivalenter')\n",
        "plt.title(tabell[idx][0])\n",
        "plt.show()"
      ],
      "execution_count": null,
      "outputs": []
    },
    {
      "cell_type": "markdown",
      "metadata": {
        "id": "edhtpeY3vrAf",
        "colab_type": "text"
      },
      "source": [
        "Vilket år fungerade döda träd och växter som en kolsänka? "
      ]
    },
    {
      "cell_type": "markdown",
      "metadata": {
        "id": "vIHltNxN4bPa",
        "colab_type": "text"
      },
      "source": [
        "<details>\n",
        "<summary markdown=\"span\">\n",
        "Svar\n",
        "</summary>\n",
        "<p>\n",
        "År 2001\n",
        "</p>\n",
        "</details>"
      ]
    },
    {
      "cell_type": "markdown",
      "metadata": {
        "id": "b-qRjuT4oRjG",
        "colab_type": "text"
      },
      "source": [
        "Vilka källor till koldioxidutsläpp har lägre utsläpp 2016 jämfört med vid början av mätningarna?"
      ]
    },
    {
      "cell_type": "markdown",
      "metadata": {
        "id": "X1XBECB5oxXx",
        "colab_type": "text"
      },
      "source": [
        "<details>\n",
        "<summary markdown=\"span\">\n",
        "Svar\n",
        "</summary>\n",
        "<p>\n",
        "Övriga utsläpp från skogsmarker samt torvmarker har båda nedåtgående trender\n",
        "</p>\n",
        "</details>"
      ]
    },
    {
      "cell_type": "markdown",
      "metadata": {
        "id": "aAgYFucq4rwQ",
        "colab_type": "text"
      },
      "source": [
        "Vilket år var nettoupptaget för levande träd och växter som minst? (Kom ihåg att vi har negativa värden på y-axeln. De minsta absolutvärdena är de som är närmast nollan)\n",
        "\n"
      ]
    },
    {
      "cell_type": "markdown",
      "metadata": {
        "id": "Cc-QpfX442v4",
        "colab_type": "text"
      },
      "source": [
        "<details>\n",
        "<summary markdown=\"span\">\n",
        "Svar\n",
        "</summary>\n",
        "<p>\n",
        "År 2006\n",
        "</p>\n",
        "</details>"
      ]
    },
    {
      "cell_type": "markdown",
      "metadata": {
        "id": "q1rSro1u7sCh",
        "colab_type": "text"
      },
      "source": [
        "Varför kan avverkad skog fungera som en kolsänka?"
      ]
    },
    {
      "cell_type": "markdown",
      "metadata": {
        "id": "w9ZGRLtM71TH",
        "colab_type": "text"
      },
      "source": [
        "<details>\n",
        "<summary markdown=\"span\">\n",
        "Svar\n",
        "</summary>\n",
        "<p>\n",
        "Kolet som bundits i avverkad skog återförs inte direkt till atmosfären. Kolet är istället fortsatt bundet i möbler, husbyggnader och liknande.\n",
        "</p>\n",
        "</details>"
      ]
    },
    {
      "cell_type": "markdown",
      "metadata": {
        "id": "o9IbImSl5JRL",
        "colab_type": "text"
      },
      "source": [
        "Avverkades det mer eller mindre träprodukter än normalt år 2006? Kan du komma på varför?"
      ]
    },
    {
      "cell_type": "markdown",
      "metadata": {
        "id": "aIn7htLY5Umx",
        "colab_type": "text"
      },
      "source": [
        "<details>\n",
        "<summary markdown=\"span\">\n",
        "Svar\n",
        "</summary>\n",
        "<p>\n",
        "Det avverkades mer än vanligt, anledningen var stormen Gudrun som i januari 2005 blåste ner fyra årsavverkningar skog på några timmar.\n",
        "\n",
        "Lär mer om stormen Gudrun: https://www.sodra.com/sv/se/om-sodra/sodrahistorien/skogen/den-varsta-stormen/\n",
        "</p>\n",
        "</details>"
      ]
    },
    {
      "cell_type": "markdown",
      "metadata": {
        "id": "EIRBNDA9qpvs",
        "colab_type": "text"
      },
      "source": [
        "# Quiz\n",
        "Kolla hur mycket du kan om if-satser och skogens kolsänkor i ett quiz!"
      ]
    },
    {
      "cell_type": "code",
      "metadata": {
        "id": "hTfvb070r046",
        "colab_type": "code",
        "cellView": "form",
        "colab": {}
      },
      "source": [
        "#@title Starta quizzet!\n",
        "!wget https://raw.githubusercontent.com/lunduniversity/schoolprog-satellite/master/for_developers/quiz.py -q\n",
        "!wget https://github.com/lunduniversity/schoolprog-satellite/raw/master/exercises/carbonsink/quiz_carbonsink.json -q\n",
        "import json\n",
        "import quiz\n",
        "with open('quiz_carbonsink.json', 'r') as f:\n",
        "  questions_dict = json.load(f)\n",
        "quiz.main(questions_dict)\n"
      ],
      "execution_count": null,
      "outputs": []
    },
    {
      "cell_type": "markdown",
      "metadata": {
        "id": "pGS3S4DVvf-U",
        "colab_type": "text"
      },
      "source": [
        "## Fördjupning / Projektidéer\n",
        "\n",
        "* Gå in på [naturvårdsverket](https://www.naturvardsverket.se/Sa-mar-miljon/Statistik-A-O/) och hämta valfri statistik om miljö, anpassa sedan koden för att ladda in den och analysera statistiken."
      ]
    }
  ]
}