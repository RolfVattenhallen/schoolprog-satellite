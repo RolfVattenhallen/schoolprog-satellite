{
  "nbformat": 4,
  "nbformat_minor": 0,
  "metadata": {
    "colab": {
      "name": "Lake.ipynb",
      "provenance": [],
      "collapsed_sections": []
    },
    "kernelspec": {
      "name": "python3",
      "display_name": "Python 3"
    }
  },
  "cells": [
    {
      "cell_type": "markdown",
      "metadata": {
        "id": "FAzvhBnvzxS5",
        "colab_type": "text"
      },
      "source": [
        "# Räkna vattendrag i Sverige\n",
        "\n",
        "I den här uppgiften ska vi räkna hur många vattendrag det finns i en satellibild av en del av Sverige.\n",
        "\n",
        "Programmeringsmässigt går den här uppgiften rätt långt på djupet, där vi lär oss om djupetförst-sökning (DFS). "
      ]
    },
    {
      "cell_type": "markdown",
      "metadata": {
        "id": "Zm52asP-DMHQ",
        "colab_type": "text"
      },
      "source": [
        "Genom att köra den dolda kodrutan nedan kan du se vilket område vi kommer titta på i satellitbilden:"
      ]
    },
    {
      "cell_type": "code",
      "metadata": {
        "id": "JDenTv_rERJL",
        "colab_type": "code",
        "cellView": "form",
        "colab": {}
      },
      "source": [
        "#@title Kod för att rita karta\n",
        "import folium\n",
        "m = folium.Map(\n",
        "    location=[66,17.75],\n",
        "    tiles='Stamen Terrain',\n",
        "    zoom_start=9\n",
        ")\n",
        "\n",
        "folium.Rectangle(\n",
        "    bounds=[(65.79,17.22), (66.26,18.31)],\n",
        "    fill=False\n",
        ").add_to(m)\n",
        "\n",
        "\n",
        "m"
      ],
      "execution_count": 0,
      "outputs": []
    },
    {
      "cell_type": "markdown",
      "metadata": {
        "id": "mxoYj1zBHLEG",
        "colab_type": "text"
      },
      "source": [
        "Zooma ut så att du ser var i Sverige bilden är tagen.\n",
        "\n",
        "I den här uppgiften ska vi försöka räkna hur många sjöar det är i området. Utzoomat kanske det ser ut som att det bara är en eller några få sjöar. Zoomar man in så ser man dock att det dyker upp betydligt fler och de som tidigare såg ut att hänga ihop inte gör det.\n",
        "\n",
        "Det kommer i princip vara omöjligt att räkna antalet sjöar för hand, därför ska vi ta hjälp av programmering!"
      ]
    },
    {
      "cell_type": "markdown",
      "metadata": {
        "id": "PDCdAXf8CIUe",
        "colab_type": "text"
      },
      "source": [
        "Det vi kollade på ovan var en karta. För att ladda in den riktiga satellitbilden behöver vi köra koden här nedanför."
      ]
    },
    {
      "cell_type": "code",
      "metadata": {
        "id": "jBevuXN1MI4w",
        "colab_type": "code",
        "colab": {}
      },
      "source": [
        "!wget https://github.com/lunduniversity/schoolprog-satellite-data/raw/master/lake/lake.npz --quiet\n",
        "import numpy as np\n",
        "import matplotlib.pyplot as plt\n",
        "\n",
        "bands = np.load('lake.npz')\n",
        "\n",
        "# Visa skalor i ovankant av grafer:\n",
        "plt.rcParams['xtick.bottom'] = plt.rcParams['xtick.labelbottom'] = False\n",
        "plt.rcParams['xtick.top'] = plt.rcParams['xtick.labeltop'] = True"
      ],
      "execution_count": 0,
      "outputs": []
    },
    {
      "cell_type": "markdown",
      "metadata": {
        "id": "KapKeij4CXi0",
        "colab_type": "text"
      },
      "source": [
        "Innehållet i filen vi laddade ner har lagts in i variabeln `bands`. Satellitbilden är inte en bild, utan flera bilder för olika band. Ett band betyder att man har tagit en bild men bara för ljus med vissa våglängder.\n",
        "\n",
        "`Bands` är en dictionary som innehåller mätningar för de olika banden. Vi kan se vilka band som finns genom att skriva ut nycklarna."
      ]
    },
    {
      "cell_type": "code",
      "metadata": {
        "id": "EW1LN0gzN7Ol",
        "colab_type": "code",
        "colab": {}
      },
      "source": [
        "print(list(bands.keys()))"
      ],
      "execution_count": 0,
      "outputs": []
    },
    {
      "cell_type": "markdown",
      "metadata": {
        "id": "BArGCa8VCsaH",
        "colab_type": "text"
      },
      "source": [
        "Vi har rött, grönt blått och nära infrarött ljus att jobba med. Det nära infraröda ljuset kallar vi för ```nir``` (near infrared). Nära infrarött ljus kan vi inte se med våra mänskliga ögon men det kan vara till stor hjälp ändå. I denna uppgift kommer vi utnyttja att vatten inte reflekterar nära infrarött men reflekterar små mängder rött ljus. Detta gör att vi kommer kunna skilja vatten från växtlighet och bebyggelse.\n",
        "\n",
        "Vi sparar varje band i vars en variabel så att det blir lättare att jobba med."
      ]
    },
    {
      "cell_type": "code",
      "metadata": {
        "id": "jJAoibKjOXJ_",
        "colab_type": "code",
        "colab": {}
      },
      "source": [
        "red  =bands[\"red\"]\n",
        "blue =bands[\"blue\"]\n",
        "green=bands[\"green\"]\n",
        "nir  =bands[\"nir\"]\n"
      ],
      "execution_count": 0,
      "outputs": []
    },
    {
      "cell_type": "markdown",
      "metadata": {
        "id": "CFd8uJ4g1Ecl",
        "colab_type": "text"
      },
      "source": [
        "Så vad innehåller de här banden? Skriv ut något av dem för att se vad de innehåller."
      ]
    },
    {
      "cell_type": "code",
      "metadata": {
        "id": "RVrrl9353-Q-",
        "colab_type": "code",
        "colab": {}
      },
      "source": [
        "# Skriv ut något av banden\n",
        "print(...)"
      ],
      "execution_count": 0,
      "outputs": []
    },
    {
      "cell_type": "markdown",
      "metadata": {
        "id": "4nbjREmu4EMA",
        "colab_type": "text"
      },
      "source": [
        "Varje band verkar bara vara en stor tabell med tal. Kanske verkar det konstigt att detta kan vara en bild, men det är faktiskt sant. \n",
        "\n",
        "Varje tal i tabellen motsvarar en pixel, alltså en liten ruta. Talet säger oss hur ljust det ska vara i just den pixeln, för ljusfrekvensen som bandet har mätt på. \n",
        "\n",
        "Vi kan göra en bild av till exempel det gröna bandet med koden nedan.\n",
        "\n"
      ]
    },
    {
      "cell_type": "code",
      "metadata": {
        "id": "Q-uXsCkCOkSU",
        "colab_type": "code",
        "colab": {}
      },
      "source": [
        "plt.figure(figsize=(10,10))\n",
        "plt.imshow(green)\n",
        "plt.ylim(green.shape[0], 0)\n",
        "plt.xlim(0, green.shape[0])\n",
        "plt.show()"
      ],
      "execution_count": 0,
      "outputs": []
    },
    {
      "cell_type": "markdown",
      "metadata": {
        "id": "JHptK1X45tlE",
        "colab_type": "text"
      },
      "source": [
        "Det ser inte riktigt ut som en vanlig kamerabild, men du kanske kan se att det är samma område som på karta längre upp. \n",
        "\n",
        "Att det inte ser ut som en vanlig bild beror på att vi bara kollat på det gröna ljuset. Sen har `matplotlib.pyplot`, eller `plt`, valt en egen färgskala när den visar bilden."
      ]
    },
    {
      "cell_type": "markdown",
      "metadata": {
        "id": "9ElMVzi8746B",
        "colab_type": "text"
      },
      "source": [
        "För att få en vanlig bild behöver vi använda rött, grönt och blått. För var och en av färgerna kan vi välja ett tal mellan 0 och 255 som är hur mycket den färgen ska vara med i en pixel. Genom att kombinera olika mycket av de olika färgerna så kan man skapa alla färger. Till exempel om man har 255 rött, 0 grönt och 255 blått så får man lila. 0 i allt blir svart, 255 i allt blir vitt. Såhär funkar i princip alla färgskärmar, troligen skärmen du använder just nu. \n",
        "\n",
        "I princip så motsvarar intervallet 0 till 255 också talen som är uppmätta för varje band. Som du kanske såg så var dock talen uppmätta för banden betydligt större (det beror lite på vilket band du skrev ut i en tidigare uppgift, men det finns i alla fall tal som är större än 1000). Därför måste vi omvandla de stora talen till mindre. Det gör koden nedan. Kör den så får du en bild. Det kan ta 10 - 20 sekunder."
      ]
    },
    {
      "cell_type": "code",
      "metadata": {
        "id": "vmcxwLUsO_Ft",
        "colab_type": "code",
        "colab": {}
      },
      "source": [
        "from PIL import Image\n",
        "rgb = np.zeros([1000, 1000, 3], dtype=np.uint8)\n",
        "\n",
        "divide = 8 # Testa att ändra! Bör vara mellan 3 och 30 ungefär.\n",
        "\n",
        "for x in range(1000):\n",
        "  for y in range(1000):\n",
        "    r = min(255, red[x][y]/divide)\n",
        "    g = min(255, green[x][y]/divide)\n",
        "    b = min(255, blue[x][y]/divide)\n",
        "    rgb[x][y] = [r,g,b]\n",
        "\n",
        "img = Image.fromarray(rgb)\n",
        "display(img)"
      ],
      "execution_count": 0,
      "outputs": []
    },
    {
      "cell_type": "markdown",
      "metadata": {
        "id": "ssTCjh3I-Zw5",
        "colab_type": "text"
      },
      "source": [
        "Testa att ändra variabeln divide ovan. Vad händer med bilden? \n",
        "\n",
        "<details>\n",
        "<summary markdown=\"span\">\n",
        "Svar\n",
        "</summary>\n",
        "<p>\n",
        "Hur ljus bilden är ändras. Om `divide` är liten blir bilden väldigt ljus, om `divide` är stor blir den väldigt mörk. `divide` styr i princip hur stor skillnad de är på de olika färgerna i bilden. \n",
        "\n",
        "För att få en sanningsenlig bild ska `divide` väljas till 14, då blir dock bilden ganska mörk. För 8 är det lättare att se de olika nyanserna i bilden.\n",
        "</p>\n",
        "</details>"
      ]
    },
    {
      "cell_type": "markdown",
      "metadata": {
        "id": "wnS0Uo22A0rf",
        "colab_type": "text"
      },
      "source": [
        "Eftersom vi ska räkna sjöar i bilden vill vi ha ett bra sätt att veta vad som är vatten. Vi kommer använda oss av NDVI som du bör ha stött på i tidigare uppgifter. NDVI kollar på hur det nära infraröda bandet skiljer sig från det röda bandet."
      ]
    },
    {
      "cell_type": "code",
      "metadata": {
        "id": "3ziYX7SVx5Md",
        "colab_type": "code",
        "colab": {}
      },
      "source": [
        "ndvi = (nir-red)/(nir+red) #Skapar en ny variabel 'ndvi' med samma format som de andra banden.\n",
        "\n",
        "plt.figure(figsize=(10,10))\n",
        "plt.pcolormesh(ndvi, cmap='PiYG')\n",
        "plt.ylim(ndvi.shape[0], 0)\n",
        "plt.clim(-1.0, 1.0)\n",
        "plt.colorbar(label='NDVI')\n",
        "plt.show()"
      ],
      "execution_count": 0,
      "outputs": []
    },
    {
      "cell_type": "markdown",
      "metadata": {
        "id": "pSs7_QdoBgrn",
        "colab_type": "text"
      },
      "source": [
        "NDVI blir ett tal mellan -1 och 1. I bilden ser vi att vatten blir rosa, det vill säga NDVI är litet  för vatten. En regel vi kan ha är att om NDVI är mellan -1 och -0.1 så är det vatten i pixeln."
      ]
    },
    {
      "cell_type": "markdown",
      "metadata": {
        "id": "w8JoTc9WCqRG",
        "colab_type": "text"
      },
      "source": [
        "Varje pixel i bilden motsvarar ett område som är $50*50$ meter. Som man kan se av skalan så är det $1000*1000$ pixlar i bilden.\n",
        "\n",
        "Hur brett och högt är området på bilden?\n",
        "\n",
        "<details>\n",
        "<summary markdown=\"span\">\n",
        "Lösning\n",
        "</summary>\n",
        "<p>\n",
        "Varje pixel är $50m$ bred, totalt är området $50*1000 = 50000 m = 50 km$ brett. Det samma gäller höjden på bilden.\n",
        "</p>\n",
        "</details>"
      ]
    },
    {
      "cell_type": "markdown",
      "metadata": {
        "id": "d2KDf7BNFRaj",
        "colab_type": "text"
      },
      "source": [
        "Hur stor är arean av hela området?\n",
        "\n",
        "<details>\n",
        "<summary markdown=\"span\">\n",
        "Lösning\n",
        "</summary>\n",
        "<p>\n",
        "$50 km * 50 km = 2500 km^2$\n",
        "</p>\n",
        "</details>"
      ]
    },
    {
      "cell_type": "markdown",
      "metadata": {
        "id": "u_Kjee6pF-u0",
        "colab_type": "text"
      },
      "source": [
        "Ungfär hur många sjöar/vattendrag tror du att det är?\n",
        "\n",
        "<details>\n",
        "<summary markdown=\"span\">\n",
        "Svar\n",
        "</summary>\n",
        "<p>\n",
        "Detta kan vi förstås inte skriva ett svar på här, det är ju det vi ska räkna ut i resten av uppgiften! Dock kanske du kan konstatera att det verkar vara väldigt många, fler än du skulle kunna/vilja räkna för hands.\n",
        "</p>\n",
        "</details>"
      ]
    },
    {
      "cell_type": "markdown",
      "metadata": {
        "id": "BiddOScfHHA3",
        "colab_type": "text"
      },
      "source": [
        "För att slippa tänka på NDVI i fortsättningen, vill vi göra en tabell som är `True` för pixlar det är vatten, och `False` annars. Fyll i koden nedan så att tabellen `water` beskriver just detta. "
      ]
    },
    {
      "cell_type": "code",
      "metadata": {
        "id": "-I7etrmTHfkJ",
        "colab_type": "code",
        "colab": {}
      },
      "source": [
        "water = np.zeros([1000, 1000], dtype=np.bool)\n",
        "for x in range(1000):\n",
        "  for y in range(1000):\n",
        "    if ...: # Skriv ett vilkor så att vi vet om det är vatten här eller inte.\n",
        "      water[x][y] = True\n",
        "    else:\n",
        "      water[x][y] = False"
      ],
      "execution_count": 0,
      "outputs": []
    },
    {
      "cell_type": "markdown",
      "metadata": {
        "id": "D_ZT1wLpH2AL",
        "colab_type": "text"
      },
      "source": [
        "<details>\n",
        "<summary markdown=\"span\">\n",
        "Tips\n",
        "</summary>\n",
        "<p>\n",
        "Givet värdet på NDVI, hur vet vi om det är vatten då?\n",
        "</p>\n",
        "</details>\n",
        "\n",
        "<details>\n",
        "<summary markdown=\"span\">\n",
        "Svar\n",
        "</summary>\n",
        "<p>\n",
        "\n",
        "```python\n",
        "water = np.zeros([1000, 1000], dtype=np.bool)\n",
        "for x in range(1000):\n",
        "  for y in range(1000):\n",
        "    if ndvi[x][y] < -0.1: # Skriv ett vilkor så att vi vet om det är vatten här eller inte.\n",
        "      water[x][y] = True\n",
        "    else:\n",
        "      water[x][y] = False\n",
        "```\n",
        "</p>\n",
        "</details>"
      ]
    },
    {
      "cell_type": "markdown",
      "metadata": {
        "id": "m2M3nFk8BaNW",
        "colab_type": "text"
      },
      "source": [
        "Vi kan nu göra om tabellen till en svartvit bild."
      ]
    },
    {
      "cell_type": "code",
      "metadata": {
        "id": "z7GZ7r3cX7I_",
        "colab_type": "code",
        "colab": {}
      },
      "source": [
        "waterpic = np.zeros([1000, 1000], dtype=np.uint8)\n",
        "\n",
        "for x in range(1000):\n",
        "  for y in range(1000):\n",
        "    if water[x,y]:\n",
        "      waterpic[x,y]=255\n",
        "\n",
        "\n",
        "img = Image.fromarray(waterpic)\n",
        "display(img)"
      ],
      "execution_count": 0,
      "outputs": []
    },
    {
      "cell_type": "markdown",
      "metadata": {
        "id": "9axankeok-Kr",
        "colab_type": "text"
      },
      "source": [
        "Nu ska vi släppa vattendragen en liten stund och istället gå in lite på djupet i hur vi ska lösa det här problemet med programmering."
      ]
    },
    {
      "cell_type": "markdown",
      "metadata": {
        "id": "Lr5R2ESbI5kp",
        "colab_type": "text"
      },
      "source": [
        "### Att hitta komponenter med hjälp av DFS\n",
        "\n",
        "I uppgifterna ovan har vi kommit fram till en tabell som i varje pixel säger oss om det är vatten där eller inte. Många pixlar med vatten kommer att \"sitta ihop\" och tillsammans bilda en sjö. Vi behöver nu på något sätt klumpa ihop pixlarna så att vi vet vilka pixlar som sitter ihop med varandra. Vi kan kalla pixlar som sitter ihop för en komponent. \n",
        "\n",
        "Vi kan tänka att vi ska börja i en pixel med vatten, och sen gå ut från den så att vi hittar alla pixlar den sitter ihop med. I varje steg så har vi en nuvarande pixel och tittar på alla dess närliggande pixlar. De som vi inte varit på innan och som är vatten lägger vi till i en lista som håller reda på vilka pixlar vi har kvar att besöka. Sen påbörjar vi ett nytt steg där vi tar bort den sista pixeln i listan och väljer till vår nuvarande punkt. Sen fortsätter vi på det sättet \n",
        "\n"
      ]
    },
    {
      "cell_type": "markdown",
      "metadata": {
        "id": "pTDK2v3kUBdg",
        "colab_type": "text"
      },
      "source": [
        "Vi börjar med att göra en stor tabell som för varje pixel håller reda på vilken sjö den tillhör. I början är alla värden 0 i tabellen vilket betyder att pixeln inte hamnat i en sjö än."
      ]
    },
    {
      "cell_type": "code",
      "metadata": {
        "id": "FwRuuZLiT6Wj",
        "colab_type": "code",
        "colab": {}
      },
      "source": [
        "lakenumbers = np.zeros([1000, 1000], dtype=np.uint16)"
      ],
      "execution_count": 0,
      "outputs": []
    },
    {
      "cell_type": "markdown",
      "metadata": {
        "id": "r_3dWBpnWJ_i",
        "colab_type": "text"
      },
      "source": [
        "Skriv en hjälp-funktion som kollar om en punkt ligger i bilden. Tänk på att bilden är $1000*1000$ pixlar stor."
      ]
    },
    {
      "cell_type": "code",
      "metadata": {
        "id": "TMnKLKUlWWPu",
        "colab_type": "code",
        "colab": {}
      },
      "source": [
        "#Blir True om punkten (x,y) ligger i bilden, annars False\n",
        "def in_picture(x,y):\n",
        "  # Skriv din kod här:"
      ],
      "execution_count": 0,
      "outputs": []
    },
    {
      "cell_type": "markdown",
      "metadata": {
        "id": "01s95sTpWgjG",
        "colab_type": "text"
      },
      "source": [
        "<details>\n",
        "<summary markdown=\"span\">\n",
        "Tips\n",
        "</summary>\n",
        "<p>\n",
        "Både x och y ska vara ett värde mellan 0 och 999.\n",
        "</p>\n",
        "</details>\n",
        "<details>\n",
        "<summary markdown=\"span\">\n",
        "Lösning\n",
        "</summary>\n",
        "<p>\n",
        "\n",
        "```python\n",
        "def in_picture(x,y):\n",
        "  return 0 <= x < 1000 and 0 <= y < 1000\n",
        "```\n",
        "</p>\n",
        "</details>"
      ]
    },
    {
      "cell_type": "markdown",
      "metadata": {
        "id": "8C5b_fInbcpY",
        "colab_type": "text"
      },
      "source": [
        "Nu ska du snart skriva en funktion som utgår från en punkt och hittar alla punkter med vatten som sitter ihop med den och markerar dessa med talet lakenumber. \n",
        "\n",
        "Psuedokod finns inskrivet, som säger vad som ska göras i varje steg. \n",
        "\n",
        "Det kan vara några begrepp du inte sett innan eller som du behöver friska upp minnet för. "
      ]
    },
    {
      "cell_type": "markdown",
      "metadata": {
        "id": "nR6Njeizbnqz",
        "colab_type": "text"
      },
      "source": [
        "#### Begrepp som kan vara användbara"
      ]
    },
    {
      "cell_type": "markdown",
      "metadata": {
        "id": "xXanVSvUdk66",
        "colab_type": "text"
      },
      "source": [
        "Tuplar är ett enkelt sätt att gruppera saker i python.  \n",
        "\n",
        "*   De fungerar ungefär som listor men kan inte ändras.\n",
        "*   Skriver man `a = (5,2,\"hejsan\")` så blir `a` en tupel med talen 5 och 2 samt strängen `\"hejsan\"`.\n",
        "*   Man kan få ut respektive element på samma sätt som med en lista: `print(a[1])` skriver ut `2`.\n",
        "*   Man kan dock inte ändra i tupeln: `a[2] = \"tjena\"` ger ett fel.\n",
        "*   Man kan 'packa upp' tupeln genom att skriva: `x,y,z = a`, så blir `x`, `y` och `z` vars ett av elementen som ligger i `a`.\n",
        "\n",
        "Testa att packa upp tuplen nedan i rätt ordning."
      ]
    },
    {
      "cell_type": "code",
      "metadata": {
        "id": "tYZQgBAIefGk",
        "colab_type": "code",
        "colab": {}
      },
      "source": [
        "a = (\"dig!\", \"på\", \"Hej\")\n",
        "\n",
        "#Skriv kod här för att packa upp tuplen i rätt ordning!\n",
        "\n",
        "print(x,y,z) # Utskriften ska bli: Hej på dig!\n"
      ],
      "execution_count": 0,
      "outputs": []
    },
    {
      "cell_type": "markdown",
      "metadata": {
        "id": "8IbGDIcZfhpb",
        "colab_type": "text"
      },
      "source": [
        "Pop är en funktion som tar ut det sista elementet i en lista.\n",
        "\n",
        "*   `last = list.pop()` Tar bort det sista elementet ur `list` och lägger i variabeln `last`.\n",
        "\n",
        "Vad skriver följande kodcell ut? Förstår du varför?"
      ]
    },
    {
      "cell_type": "code",
      "metadata": {
        "id": "UyN8WkAffhak",
        "colab_type": "code",
        "colab": {}
      },
      "source": [
        "a = [\"dig!\", \"på\", \"Hej\"]\n",
        "print(a.pop(), a.pop(), a.pop())\n"
      ],
      "execution_count": 0,
      "outputs": []
    },
    {
      "cell_type": "markdown",
      "metadata": {
        "id": "5ioozvqjgL_O",
        "colab_type": "text"
      },
      "source": [
        "<details>\n",
        "<summary markdown=\"span\">\n",
        "Lösning\n",
        "</summary>\n",
        "<p>\n",
        "Då pop plockar ut det sista elementet ur listan kommer det vara ett nytt element som ligger sist i listan 'a' varje gång vi anropar pop.  \n",
        "</p>\n",
        "</details>"
      ]
    },
    {
      "cell_type": "markdown",
      "metadata": {
        "id": "3B1k_Oj9Wy3U",
        "colab_type": "text"
      },
      "source": [
        "\n",
        "\n",
        "\n",
        "\n",
        "\n",
        "\n",
        "En while-loop körs så länge ett visst villkor är uppfyllt.\n",
        "Till exempel:\n",
        "```\n",
        "i = 10\n",
        "while i > 5:\n",
        "  print(i)\n",
        "  i = i-1\n",
        "```\n",
        "\n",
        "Skriver ut talen `10, 9, 8, 7, 6` på vars en rad.\n",
        "\n",
        "Kan du skriva ett villkor till while-loopen nedan så att den kör tills listan är tom?"
      ]
    },
    {
      "cell_type": "code",
      "metadata": {
        "id": "5AbLkFS5hKE6",
        "colab_type": "code",
        "colab": {}
      },
      "source": [
        "a = [\"!\",\"g\",\"i\",\"d\",\" \",\"å\",\"p\",\" \",\"j\",\"e\",\"H\"]\n",
        "\n",
        "while ... : #Byt ut ... mot ett villkor.\n",
        "  print(a.pop())"
      ],
      "execution_count": 0,
      "outputs": []
    },
    {
      "cell_type": "markdown",
      "metadata": {
        "id": "qBraphw-iWNx",
        "colab_type": "text"
      },
      "source": [
        "<details>\n",
        "<summary markdown=\"span\">\n",
        "Tips\n",
        "</summary>\n",
        "<p>\n",
        "Du kan exempelvis kolla om längden av listan 'a' är större än 0. \n",
        "</p>\n",
        "</details>\n",
        "<details>\n",
        "<summary markdown=\"span\">\n",
        "Lösning\n",
        "</summary>\n",
        "<p>\n",
        "\n",
        "```python\n",
        "\n",
        "while len(a) > 0 : \n",
        "  print(a.pop())\n",
        "\n",
        "```\n",
        "\n",
        "</p>\n",
        "</details>"
      ]
    },
    {
      "cell_type": "markdown",
      "metadata": {
        "id": "ZCmtSDjZbuOP",
        "colab_type": "text"
      },
      "source": [
        "#### Skriv funktion för att hitta komponenter med DFS"
      ]
    },
    {
      "cell_type": "markdown",
      "metadata": {
        "id": "_8s797JGbxaz",
        "colab_type": "text"
      },
      "source": [
        "Fyll i kod som det finns psuedokod för här nedan."
      ]
    },
    {
      "cell_type": "code",
      "metadata": {
        "id": "TZ4mSTO9Ts4Z",
        "colab_type": "code",
        "colab": {}
      },
      "source": [
        "def find_component(startx, starty, lakenumber):\n",
        "  #Skapa en lista points och stoppa in tupeln (startx,starty) i den\n",
        "  #Sätt att lakenumbers[startx][starty] är lakenumber\n",
        "  #så länge points inte är tom gör följande:\n",
        "    #Plocka bort den sista punkten i points och lägg i variablerna x och y\n",
        "    #Skapa en lista med alla närliggande punkter som gränsar till (x, y) (upp,ner,vänster,höger)\n",
        "    #Skapa en loop som går igenom listan av grannar:\n",
        "      #kalla den nya punkten för (nx, ny)\n",
        "      #om (nx,ny) ligger i bilden, är vatten, och det står 0 i lakenumbers[nx][ny]:\n",
        "        #Sätt att lakenumbers[nx][ny] är lakenumber\n",
        "        #Lägg in tupeln (nx,ny) längst bak i listan points.\n",
        "\n"
      ],
      "execution_count": 0,
      "outputs": []
    },
    {
      "cell_type": "markdown",
      "metadata": {
        "id": "9eCxGTa1cjW6",
        "colab_type": "text"
      },
      "source": [
        "<details>\n",
        "<summary markdown=\"span\">\n",
        "Om det är för svårt kan du istället börja med följande kodskelett\n",
        "</summary>\n",
        "<p>\n",
        "\n",
        "```python\n",
        "def find_component(startx, starty, lakenumber):\n",
        "  points = [...]\n",
        "  lakenumbers[startx][starty] = ...\n",
        "  while ...:\n",
        "    x,y = ... \n",
        "    neighbours = [(... , ...),(... , ...),(... , ...),(... , ...)]\n",
        "    for neighbour in ...:\n",
        "      nx = ...\n",
        "      ny = ...\n",
        "      if ... and ... and ... :\n",
        "        lakenumbers[nx][ny] = ...\n",
        "        points.append(...)\n",
        "```\n",
        "</p>\n",
        "</details>\n",
        "<details>\n",
        "<summary markdown=\"span\">\n",
        "Tips\n",
        "</summary>\n",
        "<p>\n",
        "Begreppen som vi tidigare kollade på kan komma till stor användning. \n",
        "Vi kan använda tuplar för att hålla koll på x och y kordinater, och packa upp dem när det behövs.\n",
        "Vi såg att pop kan användas för att plocka ut det sista elementet. \n",
        "En while-loop kan användas för att göra något flera gånger så länge ett villkor är uppfyllt.\n",
        "\n",
        "</p>\n",
        "</details>\n",
        "<details>\n",
        "<summary markdown=\"span\">\n",
        "Lösning\n",
        "</summary>\n",
        "<p>\n",
        "\n",
        "```python\n",
        "def find_component(startx, starty, lakenumber):\n",
        "  points = [(startx,starty)]\n",
        "  lakenumbers[startx][starty] = lakenumber\n",
        "  while len(points) > 0:\n",
        "    x,y = points.pop()\n",
        "    neighbours = [(x-1,y),(x+1,y),(x,y-1),(x,y+1)]\n",
        "    for neighbour in neighbours:\n",
        "      nx = neighbour[0]\n",
        "      ny = neighbour[1]\n",
        "      if in_picture(nx,ny) and water[nx][ny] and lakenumbers[nx][ny] == 0:\n",
        "        lakenumbers[nx][ny] = lakenumber\n",
        "        points.append((nx,ny))\n",
        "```\n",
        "</p>\n",
        "</details>"
      ]
    },
    {
      "cell_type": "markdown",
      "metadata": {
        "id": "btXBZFp1ez18",
        "colab_type": "text"
      },
      "source": [
        "När koden är färdig kan vi testa att funktionen fungerar som den ska. Följande kod borde visa hur vi hittar en sjö uppe till vänster. Tar det väldigt lång tid utan att hända något kan din funktion ovanför vara felaktig."
      ]
    },
    {
      "cell_type": "code",
      "metadata": {
        "id": "UzklpPoqe5NV",
        "colab_type": "code",
        "colab": {}
      },
      "source": [
        "lakenumbers = np.zeros([1000, 1000], dtype=np.uint8)\n",
        "find_component(0,30,255)\n",
        "\n",
        "img = Image.fromarray(lakenumbers)\n",
        "display(img)"
      ],
      "execution_count": 0,
      "outputs": []
    },
    {
      "cell_type": "markdown",
      "metadata": {
        "id": "o-mHOX8I3hNv",
        "colab_type": "text"
      },
      "source": [
        "Det hade varit smidigt om vi visste hur stor sjön vi hittar är när vi anropar `find_component`. Längre fram vill vi nämligen utesluta de komponenter som är för små för att räknas som sjöar.\n",
        "\n",
        "Kopiera in din tidigare kod för `find_component` och ändra så att den returnerar antalet pixlar i komponenten som hittades.\n",
        "\n",
        "<details>\n",
        "<summary markdown=\"span\">\n",
        "Tips\n",
        "</summary>\n",
        "<p>\n",
        "\n",
        "Ha en variabel som räknar upp 1 varje gång en punkt/pixel läggs in i listan points. Returnera variabeln i slutet av funktionen.\n",
        "</p>\n",
        "</details>\n",
        "\n"
      ]
    },
    {
      "cell_type": "code",
      "metadata": {
        "id": "UUaTcVKo4Z3t",
        "colab_type": "code",
        "colab": {}
      },
      "source": [
        "# Kopiera in din tidigare kod här, och ändra den.\n"
      ],
      "execution_count": 0,
      "outputs": []
    },
    {
      "cell_type": "markdown",
      "metadata": {
        "id": "6jmzdJL54cGk",
        "colab_type": "text"
      },
      "source": [
        "<details>\n",
        "<summary markdown=\"span\">\n",
        "Lösning\n",
        "</summary>\n",
        "<p>\n",
        "\n",
        "```python\n",
        "def find_component(startx, starty, lakenumber):\n",
        "  points = [(startx,starty)]\n",
        "  component_size = 1\n",
        "  lakenumbers[startx][starty] = lakenumber\n",
        "  while len(points) > 0:\n",
        "    x,y = points.pop()\n",
        "    steps = [(1,0),(-1,0),(0,1),(0,-1)]\n",
        "    for step in steps:\n",
        "      nx = x+step[0]\n",
        "      ny = y+step[1]\n",
        "      if in_picture(nx,ny) and water[nx][ny] and lakenumbers[nx][ny] == 0:\n",
        "        lakenumbers[nx][ny] = lakenumber\n",
        "        points.append((nx,ny))\n",
        "        component_size += 1\n",
        "  return component_size\n",
        "```\n",
        "</p>\n",
        "</details>"
      ]
    },
    {
      "cell_type": "markdown",
      "metadata": {
        "id": "s8RqrJob61sf",
        "colab_type": "text"
      },
      "source": [
        "Vad är en sjö och vad är en pöl? I sverige har vi satt gränsen vid 1 hektar. Det vill säga om vattensamlingen är större än ett område som är $100 * 100$ meter så räknas det som en sjö. \n",
        "Om du minns så representerade pixlarna i bilden ett område på $50 * 50$ meter. Hur många pixlar krävs för att vattensamlingen ska räknas som en sjö? Fyll i i koden nedan och kör för att se hur många sjöar det är på bilden."
      ]
    },
    {
      "cell_type": "code",
      "metadata": {
        "id": "1kX9iJ29k_uu",
        "colab_type": "code",
        "colab": {}
      },
      "source": [
        "\n",
        "lakenumbers = np.zeros([1000, 1000], dtype=np.uint16)\n",
        "\n",
        "min_number_pixels = ??? # Fyll i minsta antal pixlar för en sjö\n",
        "\n",
        "lakenumber = 1\n",
        "lakesfound = 0\n",
        "for x in range(1000):\n",
        "  for y in range(1000):\n",
        "    if water[x][y] and lakenumbers[x][y] == 0:\n",
        "      if find_component(x,y,lakenumber)>=min_number_pixels:\n",
        "        lakesfound+=1\n",
        "      lakenumber += 1\n",
        "print (\"Antal sjöar hittade:\")\n",
        "print (lakesfound)"
      ],
      "execution_count": 0,
      "outputs": []
    },
    {
      "cell_type": "markdown",
      "metadata": {
        "id": "6oOoUCBX-nVh",
        "colab_type": "text"
      },
      "source": [
        "Hur många sjöar finns det totalt i bilden? \n",
        "\n",
        "<details>\n",
        "<summary markdown=\"span\">\n",
        "Svar\n",
        "</summary>\n",
        "<p>\n",
        "Det ska finnas 674 sjöar totalt.\n",
        "</p>\n",
        "</details>\n",
        "\n",
        "\n"
      ]
    },
    {
      "cell_type": "markdown",
      "metadata": {
        "id": "Tm7-GcdmAQrv",
        "colab_type": "text"
      },
      "source": [
        "Testa att ändra gränsen för hur stor en sjö måste vara. Hur många sjöar blir det om det räcker med en pixel för att räknas som en sjö?\n",
        "\n",
        "Enligt [SMHI](https://www.smhi.se/kunskapsbanken/hydrologi/sveriges-sjoar-1.4221) finns det totalt nästan 100000 sjöar i Sverige. Jämför detta med antalet sjöar vi hittade i vår bild. Verkar det rimligt? Du kan scrolla upp och titta på kartan längst upp för att se hur stort område satellitbilden täckte.\n",
        "\n",
        "<details>\n",
        "<summary markdown=\"span\">\n",
        "Svar\n",
        "</summary>\n",
        "<p>\n",
        "De 674 sjöarna vi hittade motsvarar knappt 1% av alla sveriges sjöar. Om vi scrollar upp och tittar på kartan över Sverige verkar detta rimligt, satellitbilden täcker ungefär så stor del av Sveriges yta.\n",
        "</p>\n",
        "</details>"
      ]
    }
  ]
}