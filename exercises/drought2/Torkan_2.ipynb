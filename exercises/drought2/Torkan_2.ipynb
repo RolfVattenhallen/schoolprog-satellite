{
  "nbformat": 4,
  "nbformat_minor": 0,
  "metadata": {
    "colab": {
      "name": "Torkan 2.ipynb",
      "version": "0.3.2",
      "provenance": [],
      "collapsed_sections": [],
      "toc_visible": true
    },
    "kernelspec": {
      "name": "python3",
      "display_name": "Python 3"
    }
  },
  "cells": [
    {
      "cell_type": "markdown",
      "metadata": {
        "id": "_1RHIy0v0dqx",
        "colab_type": "text"
      },
      "source": [
        "# Torkan 2\n",
        "Denna uppgiften är en fortsättningsuppgift på [torkan](https://github.com/lunduniversity/schoolprog-satellite/tree/master/exercises/drought). Vi rekommenderar att du gör den först. \n",
        "\n",
        "I denna uppgift ska vi undersöka hur man nogrannare kan undersöka om det är torka. Detta kommer vi göra med bland annat hjälp av NDVI som du känner igen från torkan men vi kommer också introducera NDWI (Normalized Difference Water Index) som istället för vegetation kollar på vatteninnehåll. Likt NDVI ger inte NDWI själv någon bild av hur det ser ur jämfört med tidigare år. Detta är varför vi även ska kolla på VCI (vegetation condition index). VCI används för att jämföra ett år med andra för att se hur högt eller lågt NDVI/NDWI är relativt de andra åren. Vi kommer ha med korta teoriavsnitt om både VCI och NDWI. \n",
        "\n",
        "## 1. Ladda in datan från drive\n",
        "Innan vi kan börja analysera data måste vi ladda in data. Kör följande block för att installera och importera biblioteken du behöver:"
      ]
    },
    {
      "cell_type": "code",
      "metadata": {
        "id": "l03j-vu9M9QE",
        "colab_type": "code",
        "colab": {}
      },
      "source": [
        "!pip3 install PyDrive\n",
        "import os\n",
        "from pydrive.auth import GoogleAuth\n",
        "from pydrive.drive import GoogleDrive\n",
        "from google.colab import auth\n",
        "from oauth2client.client import GoogleCredentials  "
      ],
      "execution_count": 0,
      "outputs": []
    },
    {
      "cell_type": "markdown",
      "metadata": {
        "id": "43ttpLolkcJ7",
        "colab_type": "text"
      },
      "source": [
        "Vi kommer ladda ner datan från google drive. För att göra detta måste du logga in på ditt googlekonto genom att klicka på länken som visas när du kör koden nedan. Detta kommer ge dig en verifikationskod som du ska klistra in i fältet som genereras av samma kod."
      ]
    },
    {
      "cell_type": "code",
      "metadata": {
        "id": "_PKm6YmoNIbg",
        "colab_type": "code",
        "colab": {}
      },
      "source": [
        "auth.authenticate_user()\n",
        "gauth = GoogleAuth()\n",
        "gauth.credentials = GoogleCredentials.get_application_default()\n",
        "drive = GoogleDrive(gauth)"
      ],
      "execution_count": 0,
      "outputs": []
    },
    {
      "cell_type": "markdown",
      "metadata": {
        "id": "BSkly9vTlBds",
        "colab_type": "text"
      },
      "source": [
        "Följande block laddar in och packar upp datan. Du kan se i rutan till vänster om koden vilka filer du har. "
      ]
    },
    {
      "cell_type": "code",
      "metadata": {
        "id": "_jVzB4TGNX0v",
        "colab_type": "code",
        "colab": {}
      },
      "source": [
        "download = drive.CreateFile({'id': '1PsNbvr9Kch4UtQXsohtXViJo07VSg-N9'})\n",
        "download.GetContentFile('sentinel2_sw_scania.tar.gz')\n",
        "\n",
        "import tarfile\n",
        "tf = tarfile.open('sentinel2_sw_scania.tar.gz')\n",
        "tf.extractall()"
      ],
      "execution_count": 0,
      "outputs": []
    },
    {
      "cell_type": "markdown",
      "metadata": {
        "id": "7dfrWN0H8xHC",
        "colab_type": "text"
      },
      "source": [
        "## 2. Hjälpmetoder och imports till NDVI och NDWI"
      ]
    },
    {
      "cell_type": "markdown",
      "metadata": {
        "id": "gSpSa-wtl9Oq",
        "colab_type": "text"
      },
      "source": [
        "För att alla delar i programmet ska fungera behöver vi importera biblioteken i blocket nedan. För att underlätta för er har vi också skrivit två hjälpfunktioner som reducerar arrayer. Detta innebär att de tar en array som är av storlek $h \\times w$ och reducerar den till en array av storlek $\\frac{h}{n} \\times \\frac{w}{n}$ där $n$ är parameter till funktionen. Vad detta innebär är att bilderna vi senare kollar på inte tar lika mycket plats som de annars skulle gjort, detta gör att våra beräkning går mycket snabbare. "
      ]
    },
    {
      "cell_type": "code",
      "metadata": {
        "id": "gEgOaeHET4G6",
        "colab_type": "code",
        "colab": {}
      },
      "source": [
        "from osgeo import gdal\n",
        "import numpy as np\n",
        "import matplotlib.pyplot as plt\n",
        "import gc\n",
        "\n",
        "def reduce_array(n, arr):\n",
        "    r = arr.shape[0]\n",
        "    c = arr.shape[1]\n",
        "    out = np.empty(((r + n-1)//n, (c+n-1)//n))\n",
        "    for i in range((r + n-1)//n):\n",
        "        for j in range((c+n-1)//n):\n",
        "            summa = 0\n",
        "            num = 0\n",
        "            for di in range(n):\n",
        "                for dj in range(n):\n",
        "                    if(i*n + di >= r or j*n + dj >= c):\n",
        "                        continue\n",
        "                    summa += arr[i*n+di][j*n+dj]\n",
        "                    num += 1\n",
        "            out[i][j] = summa/num\n",
        "    return out\n",
        "\n",
        "def reduce_array_2(n, arr):\n",
        "    r = arr.shape[0]\n",
        "    c = arr.shape[1]\n",
        "    out = np.empty(((r + n-1)//n, (c+n-1)//n))\n",
        "    for i in range((r + n-1)//n):\n",
        "        for j in range((c+n-1)//n):\n",
        "            if(i*n >= r or j*n >= c):\n",
        "                continue\n",
        "            out[i][j]=arr[i*n][j*n]\n",
        "    return out"
      ],
      "execution_count": 0,
      "outputs": []
    },
    {
      "cell_type": "markdown",
      "metadata": {
        "id": "Dkhb5zrIzAjU",
        "colab_type": "text"
      },
      "source": [
        "## 3. NDVI och dess VCI\n",
        "Nu ska vi börja beräkna NDVI och VCI! (Vi förutsätter att du redan vet hur man beräknar NDVI, om du behöver pigga upp minnet, kolla på uppgiften torkan.) Nu ska vi kort förklara vad VCI är för något. VCI används för att jämföra ett NDVI för ett visst år med värden uppmätta de senate åren. VCI är en procentandel som visar var det nuvarande värdet befinner sig i förhållande till det största respektive minsta värdet under de undersökta åren. Ett lågt VCI indikerar på lågt NDVI jämfört med föregående år och därmed också ett en dålig växtlighet och ett tecken på torka.  Högt VCI tyder däremot på att att det är hög växtlighet jämfört med tidigare år och att det inte är torrt. VCI räknas ut genom \n",
        "\n",
        "<br>\n",
        "\n",
        "$$VCI = \\frac{NDVI_{\\text{current}} - NDVI_{\\text{min}}}{NDVI_{\\text{max}} - NDVI_{\\text{min}}} \\times 100$$\n",
        "\n",
        "<br>\n",
        "\n",
        "för varje pixel. $NDVI_{\\text{current}}$ är NDVI för året vi kollar på. $NDVI_{\\text{min}}$ är det minsta NDVI-värdet för den pixeln under alla åren vi kollar på. Liknande är $NDVI_{\\text{max}}$ det största NDVI-värdet  för den pixeln under alla åren vi kollar på. \n",
        "\n",
        "För att läsa in datan till programmet används funktionen nedan.\n",
        "\n",
        "**Uppdrag:** Definiera funktionen genom att köra koden i blocket nedan. Läs sedan in datan i variabeln `raw_ndvi_data`. Vad betyder de olika stegen i funktionen? Vad får `raw_ndvi_data` för typ? Hur gör man för att komma åt det röda bandet från 2016? Hur många gånger har bilderna reducerats?"
      ]
    },
    {
      "cell_type": "code",
      "metadata": {
        "id": "1rLdr2qwW_fL",
        "colab_type": "code",
        "colab": {}
      },
      "source": [
        "def get_raw_ndvi_data():\n",
        "    ndvi_data = {}\n",
        "    ndvi_data[2015] = {}\n",
        "    ndvi_data[2015][\"red\"] = reduce_array_2(10, gdal.Open(\"sentinel2_sw_scania/2015/S2A_OPER_MSI_L1C_TL_EPA__20160721T205724_A000634_T33UUB_B04.jp2\").ReadAsArray())\n",
        "    ndvi_data[2015][\"nir\"] = reduce_array_2(10, gdal.Open(\"sentinel2_sw_scania/2015/S2A_OPER_MSI_L1C_TL_EPA__20160721T205724_A000634_T33UUB_B08.jp2\").ReadAsArray())\n",
        "    print(\"-----2015-done-----\")\n",
        "    ndvi_data[2016] = {}\n",
        "    ndvi_data[2016][\"red\"] = reduce_array_2(10, gdal.Open(\"sentinel2_sw_scania/2016/S2A_OPER_MSI_L1C_TL_SGS__20160721T154816_A005639_T33UUB_B04.jp2\").ReadAsArray())\n",
        "    ndvi_data[2016][\"nir\"] = reduce_array_2(10, gdal.Open(\"sentinel2_sw_scania/2016/S2A_OPER_MSI_L1C_TL_SGS__20160721T154816_A005639_T33UUB_B08.jp2\").ReadAsArray())\n",
        "    print(\"-----2016-done-----\")\n",
        "    ndvi_data[2017] = {}\n",
        "    ndvi_data[2017][\"red\"] = reduce_array_2(10, gdal.Open(\"sentinel2_sw_scania/2017/T33UUB_20170706T102021_B04.jp2\").ReadAsArray())\n",
        "    ndvi_data[2017][\"nir\"] = reduce_array_2(10, gdal.Open(\"sentinel2_sw_scania/2017/T33UUB_20170706T102021_B08.jp2\").ReadAsArray())\n",
        "    print(\"-----2017-done-----\")\n",
        "    ndvi_data[2018] = {}\n",
        "    ndvi_data[2018][\"red\"] = reduce_array_2(10, gdal.Open(\"sentinel2_sw_scania/2018/T33UUB_20180726T102019_B04.jp2\").ReadAsArray())\n",
        "    ndvi_data[2018][\"nir\"] = reduce_array_2(10, gdal.Open(\"sentinel2_sw_scania/2018/T33UUB_20180726T102019_B08.jp2\").ReadAsArray())\n",
        "    print(\"-----2018-done-----\")\n",
        "    return ndvi_data"
      ],
      "execution_count": 0,
      "outputs": []
    },
    {
      "cell_type": "code",
      "metadata": {
        "id": "pOB4uG4gW4rI",
        "colab_type": "code",
        "colab": {}
      },
      "source": [
        ""
      ],
      "execution_count": 0,
      "outputs": []
    },
    {
      "cell_type": "markdown",
      "metadata": {
        "id": "iJ4uGE3YrhQ-",
        "colab_type": "text"
      },
      "source": [
        "<details><summary markdown=\"span\">Lösning</summary>\n",
        "<p>\n",
        "<pre><code>raw_ndvi_data = get_raw_ndvi_data()\n",
        "</code></pre>\n",
        "</details>\n",
        "\n",
        "<details><summary markdown=\"span\">Svar</summary>\n",
        "<p>\n",
        "    <code>raw_ndvi_data</code> är en <code>dict</code> med nycklar som är år. Värdet för varje år är ytterligare en <code>dict</code> med nycklarna <code>\"red\"</code> och <code>\"nir\"</code> som innehåller det röda och nära infraröda bandet. För att komma åt det röda bandet från 2016 skriver man därför <code>raw_ndvi_data[2016][\"red\"]</code>. Bilden har reducerats 10 gånger. Detta ser man eftersom det första agumentet till <code>reduce_array_2()</code> är 10. \n",
        "</details>\n",
        "\n",
        "Nu ska vi beräkna NDVI precis som vi gjort innan. \n",
        "\n",
        "**Uppdrag:** Skapa en `dict` som heter `ndvi` som ska ha år som nycklar och innehålla NDVI för det året. Raden `np.seterr(divide='ignore', invalid='ignore')` gör att ni inte får problem om ni skulle råka dela med 0."
      ]
    },
    {
      "cell_type": "code",
      "metadata": {
        "id": "TcRvHiPaauxH",
        "colab_type": "code",
        "colab": {}
      },
      "source": [
        "np.seterr(divide='ignore', invalid='ignore')\n"
      ],
      "execution_count": 0,
      "outputs": []
    },
    {
      "cell_type": "markdown",
      "metadata": {
        "id": "aSkuLDw2uEJ0",
        "colab_type": "text"
      },
      "source": [
        "<details><summary markdown=\"span\">Tips</summary>\n",
        "<p>\n",
        "    Gör en <code>for</code>-loop för att loopa igenom åren. \n",
        "    </p>   \n",
        "</details>\n",
        "\n",
        "<details><summary markdown=\"span\">Lösning</summary>\n",
        "<p>\n",
        "<pre><code>ndvi = {}\n",
        "for i in range(2015, 2019):\n",
        "    ndvi[i] = (raw_ndvi_data[i][\"nir\"] - raw_ndvi_data[i][\"red\"])/(raw_ndvi_data[i][\"nir\"] + raw_ndvi_data[i][\"red\"])\n",
        "</code></pre>\n",
        "</details>\n",
        "\n",
        "**Uppdrag:** Plotta NDVI för något år. Vilket ställe ser man på bilden?"
      ]
    },
    {
      "cell_type": "code",
      "metadata": {
        "id": "qvgrlA_xcU1t",
        "colab_type": "code",
        "colab": {}
      },
      "source": [
        ""
      ],
      "execution_count": 0,
      "outputs": []
    },
    {
      "cell_type": "markdown",
      "metadata": {
        "id": "G0iTNPus0XqX",
        "colab_type": "text"
      },
      "source": [
        "<details><summary markdown=\"span\">Tips</summary>\n",
        "<p>\n",
        "    Kolla hur du gjorde i förra uppgiften.\n",
        "    </p>   \n",
        "</details>\n",
        "\n",
        "<details><summary markdown=\"span\">Lösning</summary>\n",
        "<p>\n",
        "<pre><code>plt.figure(figsize=(10,10))\n",
        "plt.imshow(ndvi[2018], aspect='auto', cmap='PiYG')\n",
        "plt.clim(-1.0, 1.0)\n",
        "plt.colorbar(label='NDVI ')\n",
        "plt.show()\n",
        "plt.savefig(\"ndvi.png\")\n",
        "plt.close()\n",
        "</code></pre>\n",
        "</details>\n",
        "\n",
        "<details><summary markdown=\"span\">Svar</summary>\n",
        "<p>\n",
        "   Man kan se sydvästra Skåne och en del av Danmark. \n",
        "    </p>   \n",
        "</details>\n",
        "\n",
        "Nu ska vi beräkna VCI.\n",
        "\n",
        "**Uppdrag:** Skriv en funktion `calc_vci_ndvi(year)` som tar in ett år och beräknar VCI för detta året. Du ska returnera en array."
      ]
    },
    {
      "cell_type": "code",
      "metadata": {
        "id": "ldRcWktqnEik",
        "colab_type": "code",
        "colab": {}
      },
      "source": [
        ""
      ],
      "execution_count": 0,
      "outputs": []
    },
    {
      "cell_type": "markdown",
      "metadata": {
        "id": "HBcfOEIt10-O",
        "colab_type": "text"
      },
      "source": [
        "<details><summary markdown=\"span\">Tips</summary>\n",
        "<p>\n",
        "    Använd antingen en <code>for</code>-loop för att loopa igenom alla pixlar eller så kan du använda <code>np.maximum(a, b)</code> och <code>np.minimum(a, b)</code> som returnerar en array där varje värde är det största respektive minsta värdet av <code>a</code> och <code>b</code> på den positionen.\n",
        "    </p>   \n",
        "</details>\n",
        "\n",
        "<details><summary markdown=\"span\">Lösning</summary>\n",
        "<p>\n",
        "<pre><code>def calc_vci_ndvi(year):\n",
        "    max1 = np.maximum(ndvi[2015], ndvi[2016])\n",
        "    max2 = np.maximum(ndvi[2017], ndvi[2018])\n",
        "    max_total = np.maximum(max1, max2)\n",
        "    min1 = np.minimum(ndvi[2015], ndvi[2016])\n",
        "    min2 = np.minimum(ndvi[2017], ndvi[2018])\n",
        "    min_total = np.minimum(min1, min2)\n",
        "    vci = (ndvi[year] - min_total)/(max_total - min_total)\n",
        "    return vci * 100\n",
        "</code></pre>\n",
        "</details>\n",
        "\n",
        "Nu ska vi plotta VCI för att se hur mycket torka det är. \n",
        "\n",
        "**Uppdrag:** Skriv en funktion `plot_vci_ndvi(year)` som tar ett år och plottar VCI för det året. Använd denna funktionen för att plotta VCI för 2018. Ser det ut att vara torka?"
      ]
    },
    {
      "cell_type": "code",
      "metadata": {
        "id": "PAy9irkPx7kl",
        "colab_type": "code",
        "colab": {}
      },
      "source": [
        ""
      ],
      "execution_count": 0,
      "outputs": []
    },
    {
      "cell_type": "markdown",
      "metadata": {
        "id": "zbTbOd0S3YSg",
        "colab_type": "text"
      },
      "source": [
        "<details><summary markdown=\"span\">Tips</summary>\n",
        "<p>\n",
        "    Gör liknande som när du plottade NDVI. \n",
        "    </p>   \n",
        "</details>\n",
        "\n",
        "<details><summary markdown=\"span\">Lösning</summary>\n",
        "<p>\n",
        "<pre><code>def plot_vci_ndvi(year):\n",
        "    vci_ndvi = calc_vci_ndvi(year)\n",
        "    plt.figure(figsize=(10,10))\n",
        "    plt.imshow(vci_ndvi, aspect='auto', cmap='PiYG')\n",
        "    plt.clim(0, 100)\n",
        "    plt.colorbar(label='VCI-NDVI '+str(year))\n",
        "    plt.show()\n",
        "    plt.savefig(\"vci_ndvi\" + str(year) + \".png\")\n",
        "    plt.close()\n",
        "\n",
        "plot_vci_ndvi(2018)\n",
        "</code></pre>\n",
        "</details>\n",
        "\n",
        "<details><summary markdown=\"span\">Svar</summary>\n",
        "<p>\n",
        "   Det ser ganska lila ut, vilket betyder att 2018 har bland de lägre NDVI-värdena av de fyra åren. Detta tyder på torka.\n",
        "    </p>   \n",
        "</details>"
      ]
    },
    {
      "cell_type": "markdown",
      "metadata": {
        "id": "CrlqA-67y6mz",
        "colab_type": "text"
      },
      "source": [
        "## 4. NDWI och dess VCI\n",
        "Nu ska vi kolla på det liknande NDWI istället för NDVI. De är ganska snarlika, men man kan säga att NDVI mäter vegetation medans NDWI snarare mäter fuktighet. Eftersom NDWI mäter fuktighet kan detta vara bra att kolla på för att undersöka torka. Vi ska nu gå igenom hur man kan beräkna NDWI.\n",
        "\n",
        "Beräkningen är ganska lik NDVI men vi använder ett annat band. Vi använder fortfarande NIR men vi kommer också använda SWIR som står för Short-Wave Infrared band. Formeln är \n",
        "\n",
        "<br>\n",
        "\n",
        "$$NDWI = \\frac{(NIR-SWIR)}{(NIR+SWIR)}.$$\n",
        "\n",
        "<br>\n",
        "\n",
        "Även NDWI kommer alltid vara mellan -1och 1. Ett högt NDWI-värde indikerar på hög fuktighet, medans ett lågt indikerar på låg fuktighet. För ytterligare information om NDWI kan du läsa [här](https://en.wikipedia.org/wiki/Normalized_difference_water_index).\n",
        "\n",
        "Vi kommer även kolla på VCI för NDWI. Som tur är funkar detta nästan exakt likadant. Formeln för VCI för NDWI är \n",
        "\n",
        "<br>\n",
        "\n",
        "$$VCI = \\frac{NDWI_{\\text{current}} - NDWI_{\\text{min}}}{NDWI_{\\text{max}} - NDWI_{\\text{min}}} \\times 100.$$\n",
        "\n",
        "<br>\n",
        "\n",
        "Åter igen tyder ett lågt VCI på att detta året hade ovanlig lågt NDWI, medans ett högt tyder på att det hade ett högt NDWI.\n",
        "\n",
        "**Uppdrag:** Kör följande kod för att definiera funktionen `get_raw_ndwi_data()` och spara datan i variabeln `raw_ndwi_data`. Vad är `raw_ndvi_data` för typ? Hur gör man för att komma åt NIR från 2016? Hur mycket reduceras bilden?"
      ]
    },
    {
      "cell_type": "code",
      "metadata": {
        "id": "c56r1S2PfoOZ",
        "colab_type": "code",
        "colab": {}
      },
      "source": [
        "def get_raw_ndwi_data():\n",
        "    ndwi_data = {}\n",
        "    ndwi_data[2015] = {}\n",
        "    ndwi_data[2015][\"swir\"] = reduce_array_2(5, gdal.Open(\"sentinel2_sw_scania/2015/S2A_OPER_MSI_L1C_TL_EPA__20160721T205724_A000634_T33UUB_B11.jp2\").ReadAsArray())\n",
        "    ndwi_data[2015][\"nir\"] = reduce_array_2(5, gdal.Open(\"sentinel2_sw_scania/2015/S2A_OPER_MSI_L1C_TL_EPA__20160721T205724_A000634_T33UUB_B8A.jp2\").ReadAsArray())\n",
        "    print(\"-----2015-done-----\")\n",
        "    ndwi_data[2016] = {}\n",
        "    ndwi_data[2016][\"swir\"] = reduce_array_2(5, gdal.Open(\"sentinel2_sw_scania/2016/S2A_OPER_MSI_L1C_TL_SGS__20160721T154816_A005639_T33UUB_B11.jp2\").ReadAsArray())\n",
        "    ndwi_data[2016][\"nir\"] = reduce_array_2(5, gdal.Open(\"sentinel2_sw_scania/2016/S2A_OPER_MSI_L1C_TL_SGS__20160721T154816_A005639_T33UUB_B8A.jp2\").ReadAsArray())\n",
        "    print(\"-----2016-done-----\")\n",
        "    ndwi_data[2017] = {}\n",
        "    ndwi_data[2017][\"swir\"] = reduce_array_2(5, gdal.Open(\"sentinel2_sw_scania/2017/T33UUB_20170706T102021_B11.jp2\").ReadAsArray())\n",
        "    ndwi_data[2017][\"nir\"] = reduce_array_2(5, gdal.Open(\"sentinel2_sw_scania/2017/T33UUB_20170706T102021_B8A.jp2\").ReadAsArray())\n",
        "    print(\"-----2017-done-----\")\n",
        "    ndwi_data[2018] = {}\n",
        "    ndwi_data[2018][\"swir\"] = reduce_array_2(5, gdal.Open(\"sentinel2_sw_scania/2018/T33UUB_20180726T102019_B11.jp2\").ReadAsArray())\n",
        "    ndwi_data[2018][\"nir\"] = reduce_array_2(5, gdal.Open(\"sentinel2_sw_scania/2018/T33UUB_20180726T102019_B8A.jp2\").ReadAsArray())\n",
        "    print(\"-----2018-done-----\")\n",
        "    return ndwi_data"
      ],
      "execution_count": 0,
      "outputs": []
    },
    {
      "cell_type": "code",
      "metadata": {
        "id": "NZmP5P2UfHYD",
        "colab_type": "code",
        "colab": {}
      },
      "source": [
        ""
      ],
      "execution_count": 0,
      "outputs": []
    },
    {
      "cell_type": "markdown",
      "metadata": {
        "id": "_9cFIfrQ8VXo",
        "colab_type": "text"
      },
      "source": [
        "<details><summary markdown=\"span\">Lösning</summary>\n",
        "<p>\n",
        "<pre><code>raw_ndwi_data = get_raw_ndwi_data()\n",
        "</code></pre>\n",
        "</details>\n",
        "\n",
        "<details><summary markdown=\"span\">Svar</summary>\n",
        "<p>\n",
        "    <code>raw_ndwi_data</code> är en <code>dict</code> med nycklar som är år. Värdet för varje år är ytterligare en <code>dict</code> med nycklarna <code>\"swir\"</code> och <code>\"nir\"</code> som innehåller det kort våglängd infraröda bandet och nära infraröda bandet. För att komma åt det nära infraröda bandet från 2016 skriver man därför <code>raw_ndwi_data[2016][\"nir\"]</code>. Bilden har reducerats 5 gånger. Detta ser man eftersom det första agumentet till <code>reduce_array_2()</code> är 5. \n",
        "</details>\n",
        "\n",
        "**Uppdrag:** Skapa nu en `dict` som heter `ndwi` som ska innehålla NDWI för varje år. "
      ]
    },
    {
      "cell_type": "code",
      "metadata": {
        "id": "nRuFx0dShJi4",
        "colab_type": "code",
        "colab": {}
      },
      "source": [
        "np.seterr(divide='ignore', invalid='ignore')\n"
      ],
      "execution_count": 0,
      "outputs": []
    },
    {
      "cell_type": "markdown",
      "metadata": {
        "id": "Ck4F2PZj-Yz2",
        "colab_type": "text"
      },
      "source": [
        "<details><summary markdown=\"span\">Tips</summary>\n",
        "<p>\n",
        "  Du kan återanvända mycket av koden du skrev innan för NDVI.\n",
        "</details>\n",
        "\n",
        "<details><summary markdown=\"span\">Lösning</summary>\n",
        "<p>\n",
        "<pre><code>ndwi = {}\n",
        "for i in range(2015, 2019):\n",
        "    ndwi[i] = (raw_ndwi_data[i][\"nir\"] - raw_ndwi_data[i][\"swir\"])/(raw_ndwi_data[i][\"nir\"] + raw_ndwi_data[i][\"swir\"])\n",
        "</code></pre>\n",
        "</details>\n",
        "\n",
        "**Uppdrag:** Gör nu liknande det du gjorde innan en funktion `calc_vci_ndwi(year)` och `plot_vci_ndwi(year)` fast för NDWI istället för NDVI. Använd detta för att plotta NDWI för 2018. Ser det torrt ut?"
      ]
    },
    {
      "cell_type": "code",
      "metadata": {
        "id": "FikRYPCrkvs5",
        "colab_type": "code",
        "colab": {}
      },
      "source": [
        ""
      ],
      "execution_count": 0,
      "outputs": []
    },
    {
      "cell_type": "markdown",
      "metadata": {
        "id": "-qSmTv-D_czS",
        "colab_type": "text"
      },
      "source": [
        "<details><summary markdown=\"span\">Tips</summary>\n",
        "<p>\n",
        "    Du kan återanvända mycket av koden du använde för NDVI. \n",
        "    </p>   \n",
        "</details>\n",
        "\n",
        "<details><summary markdown=\"span\">Lösning</summary>\n",
        "<p>\n",
        "<pre><code>def calc_vci_ndwi(year):\n",
        "    max1 = np.maximum(ndwi[2015], ndwi[2016])\n",
        "    max2 = np.maximum(ndwi[2017], ndwi[2018])\n",
        "    max_total = np.maximum(max1, max2)\n",
        "    min1 = np.minimum(ndwi[2015], ndwi[2016])\n",
        "    min2 = np.minimum(ndwi[2017], ndwi[2018])\n",
        "    min_total = np.minimum(min1, min2)\n",
        "    vci = (ndwi[year] - min_total)/(max_total - min_total)\n",
        "    return vci*100\n",
        "    \n",
        "def plot_vci_ndwi(year):\n",
        "    vci_ndwi = calc_vci_ndwi(year)\n",
        "    plt.figure(figsize=(10,10))\n",
        "    plt.imshow(vci_ndwi, aspect='auto', cmap='PiYG')\n",
        "    plt.clim(0, 100)\n",
        "    plt.colorbar(label='VCI-NDWI '+str(year))\n",
        "    plt.show()\n",
        "    plt.savefig(\"vci_ndwi\" + str(year) + \".png\")\n",
        "    plt.close()\n",
        "    \n",
        "plot_vci_ndwi(2018)\n",
        "</code></pre>\n",
        "</details>\n",
        "\n",
        "<details><summary markdown=\"span\">Svar</summary>\n",
        "<p>\n",
        "   Det ser ganska lila ut, vilket betyder att 2018 har bland de lägre NDWI-värdena av de fyra åren. Detta tyder på torka.\n",
        "    </p>   \n",
        "</details>\n",
        "\n",
        "## Fortsättningsuppgifter\n",
        "- Studera `reduce_array()` och `reduce_array_2()`. Hur fungerar dem, vad gör dem? Vilken är snabbare och varför? Testa att skriva en egen funktion som komprimerar arrayer. "
      ]
    }
  ]
}