{
  "nbformat": 4,
  "nbformat_minor": 0,
  "metadata": {
    "colab": {
      "name": "Weatherdata",
      "provenance": [],
      "private_outputs": true,
      "collapsed_sections": []
    },
    "kernelspec": {
      "name": "python3",
      "display_name": "Python 3"
    }
  },
  "cells": [
    {
      "cell_type": "markdown",
      "metadata": {
        "id": "soe-RVD7R_rS",
        "colab_type": "text"
      },
      "source": [
        "# Använd riktig väderdata för att analysera hur temperaturen förändrats i Sverige de senaste 50 åren"
      ]
    },
    {
      "cell_type": "markdown",
      "metadata": {
        "id": "_uY9zt8XSFVH",
        "colab_type": "text"
      },
      "source": [
        "I den här uppgiften kommer vi använda python för att analysera data som är jobbig att räkna på för hand.\n",
        "Vi kommer att kolla på hur man kan använda data från filer i sitt program.\n",
        "\n",
        "Om du inte vill använda Colaboratory kan du ladda ner filerna från [GitHub](https://github.com/lunduniversity/schoolprog-satellite/tree/master/exercises/weatherdata) istället.\n",
        "\n",
        "Vi börjar med att kolla på ett mindre exempel för att se hur inläsning från fil fungerar."
      ]
    },
    {
      "cell_type": "markdown",
      "metadata": {
        "id": "kGtO57PgSJgF",
        "colab_type": "text"
      },
      "source": [
        "## 1. Inläsning från fil\n",
        "\n",
        "Tidigare har vi testat att mata in data till programmet genom consolen. När man vill skicka in mycket information till ett program kan det vara lättare att låta programmet läsa från en fil.\n",
        "Vi har förberett en fil med medeltemperaturer i Lund från april 2017. Hämta filen genom att köra följande kod:"
      ]
    },
    {
      "cell_type": "code",
      "metadata": {
        "id": "ELqT69rndDdA",
        "colab_type": "code",
        "colab": {}
      },
      "source": [
        "# Hämta zip-fil från GitHub och packa upp den\n",
        "!wget https://github.com/lunduniversity/schoolprog-satellite-data/raw/master/smhi/data_2017.zip --no-verbose\n",
        "!wget https://github.com/lunduniversity/schoolprog-satellite-data/raw/master/smhi/1961.all.ssv.gz --no-verbose\n",
        "import zipfile\n",
        "zip_ref = zipfile.ZipFile('data_2017.zip')\n",
        "zip_ref.extractall()\n",
        "zip_ref.close()\n",
        "!ls"
      ],
      "execution_count": 0,
      "outputs": []
    },
    {
      "cell_type": "markdown",
      "metadata": {
        "id": "PaNgS8BQfDJI",
        "colab_type": "text"
      },
      "source": [
        "Vi ska börja med att kolla på textfilen \"april_2017.txt\". Kör följande kod för att läsa in filen."
      ]
    },
    {
      "cell_type": "code",
      "metadata": {
        "id": "3leq6zoPSMJT",
        "colab_type": "code",
        "colab": {}
      },
      "source": [
        "# Läser innehållet från filen\n",
        "with open(\"april_2017.txt\", \"r\") as f:\n",
        "  data = f.read()\n",
        "print(data)  "
      ],
      "execution_count": 0,
      "outputs": []
    },
    {
      "cell_type": "markdown",
      "metadata": {
        "id": "uS5Hb3xISOHI",
        "colab_type": "text"
      },
      "source": [
        "**Uppdrag:** Vad hände? Förstår du vad programmet gör?"
      ]
    },
    {
      "cell_type": "markdown",
      "metadata": {
        "id": "IIBcAnBiSSdk",
        "colab_type": "text"
      },
      "source": [
        "Programmet läste först in all information från filen för att sedan skriva ut det igen i console-vyn. Man kan säga att vi öppnar vår fil `april_2017.txt` och kallar filen `f`. Vi öppnar den i <i>read</i>-läge, där av `\"r\"` i koden. Därefter läser vi från filen med metoden `read()` och sparar detta i vår variabel `data`.\n",
        "\n",
        "Kan vi kombinera inläsning från fil med plottning av grafer med hjälp av `matplotlib`? Vi kan inte plotta direkt eftersom formatet på vår data inte matchar det `plt.plot()` vill ha, en lista av tal. Vi måste därför utföra lite typomvandling på vår data först. Funktionen `read()` som vi använder för att läsa in datan från filen sparar allt innehåll som en enda lång sträng. Vi kan dela upp en sträng till flera genom att anropa ```split()```. Vi kan till exempel välja ett dela upp vår sträng vid varje radbrytning med ```data.split(\"\\n\")```. Vår data kommer då vara lagrad som en lista av mindre strängar istället.\n",
        "\n",
        "\n",
        "**Uppdrag:** Testa nu skriva stycket nedan. Vad blir typen? Varför?"
      ]
    },
    {
      "cell_type": "code",
      "metadata": {
        "id": "peHX9IfeSavf",
        "colab_type": "code",
        "colab": {}
      },
      "source": [
        "data = data.split(\"\\n\")"
      ],
      "execution_count": 0,
      "outputs": []
    },
    {
      "cell_type": "markdown",
      "metadata": {
        "id": "HeeHoPl1SW52",
        "colab_type": "text"
      },
      "source": [
        "<details>\n",
        "<summary markdown=\"span\">\n",
        "Svar\n",
        "</summary>\n",
        "<p>Typen blir en <code>'list'</code> som innehåller strängar.</p>\n",
        "</details>\n",
        "\n",
        "För att vårt program ska kunna plotta värdena behöver vi göra om våra strängar till tal, eller mer specifikt flyttal (decimaltal). Detta kan vi göra genom att använda listcomprehension som vi tidigare kollat på. Stycket nedan gör om alla strängar till floats"
      ]
    },
    {
      "cell_type": "code",
      "metadata": {
        "id": "g1ML4GRtTBeF",
        "colab_type": "code",
        "colab": {}
      },
      "source": [
        "datafloat = [float(x) for x in data]"
      ],
      "execution_count": 0,
      "outputs": []
    },
    {
      "cell_type": "markdown",
      "metadata": {
        "id": "2txk_CmnSSks",
        "colab_type": "text"
      },
      "source": [
        "**Uppdrag:** Vad blir typen av datafloat? Varför? Vad är skillnaden jämfört med data? Testa skriva ut både data och datafloat.\n"
      ]
    },
    {
      "cell_type": "code",
      "metadata": {
        "id": "5AtqnZyGTG2M",
        "colab_type": "code",
        "colab": {}
      },
      "source": [
        ""
      ],
      "execution_count": 0,
      "outputs": []
    },
    {
      "cell_type": "markdown",
      "metadata": {
        "id": "ajyZaLc2TJDp",
        "colab_type": "text"
      },
      "source": [
        "<details>\n",
        "<summary markdown=\"span\">\n",
        "Svar\n",
        "</summary>\n",
        "\n",
        "<p>Typen blir fortfarande <code>'list'</code> men innehåller nu floats istället. Om vi printar ut listorna kan vi se en liten skillnad eftersom strängar representeras med apostrofer före och efter.</p>\n",
        "</details>\n"
      ]
    },
    {
      "cell_type": "markdown",
      "metadata": {
        "id": "IuBhYs1UTQYT",
        "colab_type": "text"
      },
      "source": [
        "**Uppdrag:** Vår datafloat är nu redo att plottas! Vad visar diagrammet?"
      ]
    },
    {
      "cell_type": "code",
      "metadata": {
        "id": "Cn-_sqOETJt_",
        "colab_type": "code",
        "colab": {}
      },
      "source": [
        ""
      ],
      "execution_count": 0,
      "outputs": []
    },
    {
      "cell_type": "markdown",
      "metadata": {
        "id": "Qbq1BhdKTV_L",
        "colab_type": "text"
      },
      "source": [
        "<details>\n",
        "<summary markdown=\"span\">\n",
        "Har du glömt hur man plottar med <code>matplotlib</code>?\n",
        "</summary>\n",
        "<p>\n",
        "<pre><code>import matplotlib.pyplot as plt\n",
        "plt.plot(datafloat)\n",
        "plt.savefig(\"data.png\")</code>\n",
        "</pre>\n",
        "</p>\n",
        "</details>"
      ]
    },
    {
      "cell_type": "markdown",
      "metadata": {
        "id": "Bvgt1kbKTfdX",
        "colab_type": "text"
      },
      "source": [
        "## 2. Inläsning av mer data\n",
        "Nu har vi testat hur man kan läsa in en fil själv från grunden. Det kanske verkade krångligt och det skulle inte varit så jobbigt att manuellt skriva in 30 värden. Men när mängden data växer är det en klar fördel att använda inläsning av filer.\n",
        "\n",
        "Innan kollade vi på medeltemperaturen från varje dag under en månad i Lund, men nu ska vi istället studera medeltemperaturen från varje dag från 1961 till och med 2017. Här blir det ganska jobbigt att läsa in datan själv jämfört med förut, så det har vi hjälpt till med här.\n",
        "\n",
        "I filen rutan nedan finns det några funktioner som är användbara för att lösa den här uppgiften. \n",
        "\n",
        "Det finns en funktion som heter ```get_station_data```, denna funktion öppnar och läser en komprimerad fil med väderdata. ```get_station_data``` läser in data från flera olika stationer, så för att organisera detta används en ```dict``` som är kort för dictionary. En ```dict``` funkar likt en lista, men istället för index använder man nycklar för att komma åt elementen. I vårt fall används väderstationsnamn som nycklar.\n",
        "\n",
        "För att skriva ut vilka väderstationer som finns kan ni kör följande två kodrutor:\n"
      ]
    },
    {
      "cell_type": "code",
      "metadata": {
        "id": "mJoSD2yaiUO5",
        "colab_type": "code",
        "colab": {}
      },
      "source": [
        "import gzip\n",
        "import matplotlib.pyplot as plt\n",
        "\n",
        "\n",
        "def get_station_data():\n",
        "    result = {}\n",
        "    with gzip.open('1961.all.ssv.gz', 'rt') as f:\n",
        "        raw_data = f.read().split('\\n\\n')\n",
        "        for s in raw_data:\n",
        "            station_data = s.split('\\n')\n",
        "            name = ' '.join(station_data[0].split()[1:])\n",
        "            data = []\n",
        "            for entry in station_data[1:]:\n",
        "                y, m, d, t = entry.split()\n",
        "                data.append((int(y), int(m), int(d), float(t)))\n",
        "            if(len(name) > 0):\n",
        "                result[name] = data\n",
        "    return result\n",
        "\n",
        "\n",
        "def plot(x=None, y=None, fname=\"plot.png\"):\n",
        "    if x: \n",
        "        plt.plot(x, y)\n",
        "    else:\n",
        "        plt.plot(y)\n",
        "    plt.savefig(fname)\n",
        "    plt.show()"
      ],
      "execution_count": 0,
      "outputs": []
    },
    {
      "cell_type": "code",
      "metadata": {
        "id": "5ER3eiVNTWsc",
        "colab_type": "code",
        "colab": {}
      },
      "source": [
        "data = get_station_data()\n",
        "print(list(data.keys()))"
      ],
      "execution_count": 0,
      "outputs": []
    },
    {
      "cell_type": "markdown",
      "metadata": {
        "id": "FqoKifmyTmBO",
        "colab_type": "text"
      },
      "source": [
        "Programmet skriver ut olika städer.\n",
        "\n",
        "**Uppdrag:** Varför skrivs dessa städer ut? Vad gör ```list(data.keys())```?"
      ]
    },
    {
      "cell_type": "code",
      "metadata": {
        "id": "gRKsFS1ZTmgi",
        "colab_type": "code",
        "colab": {}
      },
      "source": [
        ""
      ],
      "execution_count": 0,
      "outputs": []
    },
    {
      "cell_type": "markdown",
      "metadata": {
        "id": "ZIPsk7c4TpTj",
        "colab_type": "text"
      },
      "source": [
        "<details>\n",
        "<summary markdown=\"span\">\n",
        "Svar\n",
        "</summary>\n",
        "<p>Dessa är städerna där temperaturen är mätt. <code>list(data.keys())</code> returnerar en lista med alla nycklar som används. </p>\n",
        "</details>\n",
        "\n",
        "För att undersöka hur datan ser ut kan det vara bra att printa ut en del av den. Kör följande kod:"
      ]
    },
    {
      "cell_type": "code",
      "metadata": {
        "id": "yqvcZIeLTqPK",
        "colab_type": "code",
        "colab": {}
      },
      "source": [
        "lund = data[\"Lund\"]\n",
        "print(lund[:10])"
      ],
      "execution_count": 0,
      "outputs": []
    },
    {
      "cell_type": "markdown",
      "metadata": {
        "id": "hCu718ogTvpT",
        "colab_type": "text"
      },
      "source": [
        "Då hamnar Lunds data i listan `lund` och de `10` första datapunkterna skrivs ut för Lund. Här används något som kallas <i>list slicing</i>. Skriver man `lund[:10]` betyder det att man tar med allt till och med det tionde elementet. Skulle man däremot skrivit `lund[10:]` tar man det elfte elementet och alla som kommer efteråt. För mer information om <i>list slicing</i> kan man läsa en tutorial [här](https://www.programiz.com/python-programming/methods/built-in/slice).\n",
        "\n",
        "**Uppdrag:** Vad betyder betyder datan som skrivs ut?\n",
        "\n",
        "<details>\n",
        "<summary markdown=\"span\">\n",
        "Svar\n",
        "</summary>\n",
        "<p>De tre första talen i varje element anger datumet på formatet <code>yyyy, mm, dd</code>. Det sista talet är medeltemperaturen för den dagen. </p>\n",
        "</details>"
      ]
    },
    {
      "cell_type": "markdown",
      "metadata": {
        "id": "Z80Mgh6gUDiq",
        "colab_type": "text"
      },
      "source": [
        "Nu ska vi äntligen börja plotta datan vi har läst in. För detta behöver vi en lista som innehåller alla temperaturer från listan `lund`.\n",
        "\n",
        "**Uppdrag:** Skapa en lista `temps` som innehåller alla temperaturer från `lund`."
      ]
    },
    {
      "cell_type": "code",
      "metadata": {
        "id": "DdJO9VQMUA6q",
        "colab_type": "code",
        "colab": {}
      },
      "source": [
        ""
      ],
      "execution_count": 0,
      "outputs": []
    },
    {
      "cell_type": "markdown",
      "metadata": {
        "id": "rIviR1zuUIEd",
        "colab_type": "text"
      },
      "source": [
        "<details>\n",
        "<summary markdown=\"span\">\n",
        "Tips\n",
        "</summary>\n",
        "<p>Loopa igenom <code>lund</code> med en <code>for</code>-loop. Till exempel ger <code>lund[0][3]</code> medeltemperaturen den första januari 1961.</p>\n",
        "</details>\n",
        "\n",
        "<details>\n",
        "<summary markdown=\"span\">\n",
        "Lösning\n",
        "</summary>\n",
        "<p><pre><code>temps = []\n",
        "for day in lund:\n",
        "  temps.append(day[3])</code>\n",
        "</pre>\n",
        "</p>\n",
        "</details>\n",
        "\n",
        "Nu vill vi dock visualisera datan vi har i `temps`. Istället för att använda `matplotlib` direkt kan du använda funktionen `plot` som finns i `api`. Kör följande kod och se vad som händer:\n"
      ]
    },
    {
      "cell_type": "code",
      "metadata": {
        "id": "C2y7Ua4YUIur",
        "colab_type": "code",
        "colab": {}
      },
      "source": [
        "plot(y=temps)"
      ],
      "execution_count": 0,
      "outputs": []
    },
    {
      "cell_type": "markdown",
      "metadata": {
        "id": "LqxTCTeiULIh",
        "colab_type": "text"
      },
      "source": [
        "**Uppdrag:** Vad betyder plotten? Var betyder värdena på x-axeln respektive y-axeln?\n",
        "\n",
        "<details>\n",
        "<summary markdown=\"span\">\n",
        "Svar\n",
        "</summary>\n",
        "<p>Plottat är medeltemperaturen för varje dag från 1961 till 2017. Temperaturerna finns på y-axeln och på x-axeln finns indexet för temperaturen i listan.</p>\n",
        "</details>\n",
        "\n",
        "*Kommentar:* Du kanske har märkt att det i koden ovan används `plot(y=temps)` och inte bara `plot(temps)`. Detta är för att `plot` är en funktion som har <i>valbara parametrar</i>, detta betyder att funktionen inte behöver alla parametrar som kan matas in och om inget värde anges finns det ett standardvärde som den parametern får. `plot` har totalt tre parametrar, `x`, `y` och `fname`. `x` är en lista med mätpunkternas x-värden, `y` är en lista med mätpunkternas y-värden och `fname` är en sträng där man kan välja vilket namn figuren ska sparas som. Till exempel kan man skriva `plot(x=times, y=temps, fname=\"weather.png\")` för att plotta temperaturer i `temps` som är uppmätte vid tiderna i `times` och sedan spara grafen som `weather.png`.\n"
      ]
    },
    {
      "cell_type": "markdown",
      "metadata": {
        "id": "770MsNlnUPAi",
        "colab_type": "text"
      },
      "source": [
        "  Om vi istället vill ha årtal med x-axeln behöver vi även en lista som innehåller motsvarande datum för temperaturerna, representerat i år. Till exempel vill vi att första juli 2000 ska representeras som ungefär 2000,5.\n",
        "\n",
        "**Uppdrag:** Skapa en lista `times` som innehåller alla datum, representerat i år, för de uppmätta temperaturerna i Lund. Om du vill kan du anta att varje månad har 30 dagar för att göra koden lite lättare att skriva."
      ]
    },
    {
      "cell_type": "code",
      "metadata": {
        "id": "WPL2K8abURcQ",
        "colab_type": "code",
        "colab": {}
      },
      "source": [
        ""
      ],
      "execution_count": 0,
      "outputs": []
    },
    {
      "cell_type": "markdown",
      "metadata": {
        "id": "nQ-zQ_cVUUqc",
        "colab_type": "text"
      },
      "source": [
        "<details>\n",
        "<summary markdown=\"span\">\n",
        "Tips\n",
        "</summary>\n",
        "<p>\n",
        "Vi måste omvandla våra månader och dagar till år. Om vi omvandlar månader till dagar kan vi dela antalet dagar på 365 för att få ett decimaltal som representerar en del av ett år.  \n",
        "</p>\n",
        "</details>\n",
        "\n",
        "\n",
        "<details>\n",
        "<summary markdown=\"span\">\n",
        "Lösning\n",
        "</summary>\n",
        "<p><pre><code>times = []\n",
        "for datum in lund:\n",
        "    (y, m, d, t) = datum\n",
        "    times.append(y+((m-1)*30+d)/365)</code>\n",
        "</pre>\n",
        "</p>\n",
        "</details>\n",
        "\n",
        "*Kommentar:* Om du tänker efter ser du att uträkningen i lösningen ovan inte blir helt exakt. Till exempel blir sista decemeber dag 361. Kan vi göra detta mer exakt? Bör vi ta hänsyn till skottår? Kommer vi se någon skillnad på grafen?\n",
        "\n",
        "**Uppdrag:** Testa nu att plotta grafen igen men denna gång använder vi vår nya lista `times` för att representera x-axeln. Vad blev skillnaden?"
      ]
    },
    {
      "cell_type": "code",
      "metadata": {
        "id": "5RbszxMdUVcV",
        "colab_type": "code",
        "colab": {}
      },
      "source": [
        ""
      ],
      "execution_count": 0,
      "outputs": []
    },
    {
      "cell_type": "markdown",
      "metadata": {
        "id": "0XR0t56pUV7R",
        "colab_type": "text"
      },
      "source": [
        "<details>\n",
        "<summary markdown=\"span\">\n",
        "Lösning\n",
        "</summary>\n",
        "<p>\n",
        "<code>plot(x=times, y=temps)</code>\n",
        "</p>\n",
        "</details>\n",
        "\n",
        "<details>\n",
        "<summary markdown=\"span\">\n",
        "Svar\n",
        "</summary>\n",
        "<p>\n",
        "Vår graf har nu fått år från 1960 till 2020 på x-axeln.\n",
        "</p>\n",
        "</details>"
      ]
    },
    {
      "cell_type": "markdown",
      "metadata": {
        "id": "qFaa8i7SUbAK",
        "colab_type": "text"
      },
      "source": [
        "# 3. Temperaturförändring under ett år\n",
        "\n",
        "I våra tidigare grafer har vi sett hur temperaturer skiljer sig från dag till dag. I dessa grafer kan det dock vara svårt att se hur temperaturen skiljer sig under bara ett år eftersom ett år representeras av en väldigt liten del av x-axeln. För att kunna besvara frågor som: \"Vilka månader var varmast repsektive kallast?\" Vi vill nu försöka plotta ut medeltemperaturer för endast ett år istället. För att kunna göra detta måste vi på något sätt filtrera vår data så vi endast har data från ett specifikt år.\n",
        "\n",
        "**Uppdrag:** Skriv en funktion `data_by_year(year, city_data)` som plockar ut alla temperaturer för ett specifikt år och stad. Parametern `year` är ett heltal som representerar ett år och `city_data` är vår data för en specifik stad, till exempel kan vi mata in listan `lund`."
      ]
    },
    {
      "cell_type": "code",
      "metadata": {
        "id": "hrEsrtfIUb_4",
        "colab_type": "code",
        "colab": {}
      },
      "source": [
        ""
      ],
      "execution_count": 0,
      "outputs": []
    },
    {
      "cell_type": "markdown",
      "metadata": {
        "id": "SkCce96dUeQg",
        "colab_type": "text"
      },
      "source": [
        "<details>\n",
        "<summary markdown=\"span\">\n",
        "Tips\n",
        "</summary>\n",
        "<p>\n",
        "Vi kan till exempel använda en <code>if</code>-sats inuti en <code>for</code>-loop för att sålla ut all data som inte har med det specifika året att göra.\n",
        "</p>\n",
        "</details>\n",
        "\n",
        "<details>\n",
        "<summary markdown=\"span\">\n",
        "Lösning\n",
        "</summary>\n",
        "<p><pre><code>def data_by_year(year, city_data):\n",
        "    result = []\n",
        "    for datum in city_data:\n",
        "        if datum[0] == year:\n",
        "            result.append(datum[3])\n",
        "    return result</code>\n",
        "</pre>\n",
        "</p>\n",
        "</details>\n",
        "\n",
        "Vi kan nu använda vår funktion för att skapa en graf som visar temperaturen från varje dag under ett år.\n",
        "\n",
        "**Uppdrag:** Använd din funktion och plotta temperaturen under 2016 i Lund."
      ]
    },
    {
      "cell_type": "code",
      "metadata": {
        "id": "oKOvphDgU01U",
        "colab_type": "code",
        "colab": {}
      },
      "source": [
        ""
      ],
      "execution_count": 0,
      "outputs": []
    },
    {
      "cell_type": "markdown",
      "metadata": {
        "id": "5BJ-pydcU1NU",
        "colab_type": "text"
      },
      "source": [
        "<details>\n",
        "<summary markdown=\"span\">\n",
        "Lösning\n",
        "</summary>\n",
        "<p><pre><code>lund2016 = data_by_year(2016, lund)\n",
        "plot(y=lund2016)</code>\n",
        "</pre>\n",
        "</p>\n",
        "</details>"
      ]
    },
    {
      "cell_type": "markdown",
      "metadata": {
        "id": "g_XbJD86U2aH",
        "colab_type": "text"
      },
      "source": [
        "## 4. Medeltemperaturen för varje år\n",
        "Efter att ha sett plotten från varje år kan man fråga sig om vi kan se någon trend. Blir det varmare, kallare eller håller det sig ungefär konstant? Eftersom vi plottar medeltemperaturen från varje dag kan det vara ganska svårt att se någon trend eftersom grafen hoppar mycket upp och ner. För att lösa detta kan man plotta medeltemperaturen från varje år istället. För att göra detta behöver vi kunna räkna ut medeltemperaturen för ett år.\n",
        "\n",
        "**Uppdrag:** Skriv en funktion `avg(data)` som tar en lista `data` med flyttal som returnerar medelvärdet av talen i `data`."
      ]
    },
    {
      "cell_type": "code",
      "metadata": {
        "id": "6y4ZbqzhU4ep",
        "colab_type": "code",
        "colab": {}
      },
      "source": [
        ""
      ],
      "execution_count": 0,
      "outputs": []
    },
    {
      "cell_type": "markdown",
      "metadata": {
        "id": "0RFJFeBPU6fF",
        "colab_type": "text"
      },
      "source": [
        "<details>\n",
        "<summary markdown=\"span\">\n",
        "Lösning\n",
        "</summary>\n",
        "<p><pre><code>def avg(data):\n",
        "    summa = 0\n",
        "    for tal in data:\n",
        "        summa += tal\n",
        "    medel = summa / len(data)\n",
        "    return medel</code>\n",
        "</pre>\n",
        "</p>\n",
        "</details>\n",
        "\n",
        "Nu behöver vi få ut datan från varje år och mata in den i `avg()`. Till detta ska vi ta hjälp av funktionen `data_by_year()` du precis skrivit.\n",
        "\n",
        "**Uppdrag:** Skapa en lista `avg_temps` som innehåller medeltemperaturen från varje år. Skapa också en lista `years` som innehåller åren för de olika medeltemperaturerna."
      ]
    },
    {
      "cell_type": "code",
      "metadata": {
        "id": "AP5mRGHXU7Fk",
        "colab_type": "code",
        "colab": {}
      },
      "source": [
        ""
      ],
      "execution_count": 0,
      "outputs": []
    },
    {
      "cell_type": "markdown",
      "metadata": {
        "id": "3A702JeoU87u",
        "colab_type": "text"
      },
      "source": [
        "<details>\n",
        "<summary markdown=\"span\">\n",
        "Lösning\n",
        "</summary>\n",
        "<p><pre><code>years = []\n",
        "avg_temps = []\n",
        "for year in range(1961, 2018):\n",
        "    years.append(year)\n",
        "    avg_temps.append(avg(data_by_year(year, lund)))</code>\n",
        "</pre>\n",
        "</p>\n",
        "</details>\n",
        "\n",
        "Nu vill vi givetvis se resultatet och vill därför plotta medeltemperaturerna.\n",
        "\n",
        "**Uppdrag:** Plotta medeltemperaturerna varje år. Kan du se några trender?"
      ]
    },
    {
      "cell_type": "code",
      "metadata": {
        "id": "pvCHdEWIU9w4",
        "colab_type": "code",
        "colab": {}
      },
      "source": [
        ""
      ],
      "execution_count": 0,
      "outputs": []
    },
    {
      "cell_type": "markdown",
      "metadata": {
        "id": "hNmrNQ0SVA8p",
        "colab_type": "text"
      },
      "source": [
        "<details>\n",
        "<summary markdown=\"span\">\n",
        "Lösning\n",
        "</summary>\n",
        "<p><pre><code>plot(x=years, y=avg_temps)</code>\n",
        "</pre>\n",
        "</p>\n",
        "</details>"
      ]
    },
    {
      "cell_type": "markdown",
      "metadata": {
        "id": "P6qY8P8zVEdS",
        "colab_type": "text"
      },
      "source": [
        "## 5. Medeltemperaturen för hela Sverige\n",
        "Vill vi se tydligare trender vill vi kolla på så mycket data som möjligt. Totalt har vi ungefär 500 000 datapunkter men vi har bara utnyttjat ungefär 20 000 eftersom vi bara kollar på Lund. För att utnyttja all data ska vi skriva hjälpfunktioner.\n",
        "\n",
        "*Kommentar:* En hjälpfunktion är en funktion som egentligen inte hade behövt vara en funktion för sig själv, men som gör koden betydligt smidigare och mer lättförståelig. Generellt sett vill man dela upp en stor uppgift i mindre deluppgifter, där deluppgifterna kan lösas med hjälpfunktioner. I föregående uppgift finns ett bra exempel på en hjälpfunktion, nämligen `avg(data)`. För att beräkna medeltemperaturen för varje år behöver vi kunna beräkna medeltemperaturen för ett år i taget, och denna deluppgiften löser `avg(data)`.\n",
        "\n",
        "**Uppdrag:** Skriv en funktion `mean_by_year(city, year)` som tar in en sträng `city` som namnet på staden samt heltalet `year` som är vilket år vi vill beräkna medelvärdet för. Returnera medeltemperaturen från det året i den staden."
      ]
    },
    {
      "cell_type": "code",
      "metadata": {
        "id": "BMZC20ZzVIRe",
        "colab_type": "code",
        "colab": {}
      },
      "source": [
        ""
      ],
      "execution_count": 0,
      "outputs": []
    },
    {
      "cell_type": "markdown",
      "metadata": {
        "id": "Xp-_6bDRVIv6",
        "colab_type": "text"
      },
      "source": [
        "<details>\n",
        "<summary markdown=\"span\">\n",
        "Lösning\n",
        "</summary>\n",
        "<p><pre><code>def mean_by_year(city, year):\n",
        "    city_data = data[city]\n",
        "    year_temps = data_by_year(year, city_data)\n",
        "    return avg(year_temps)</code>\n",
        "</pre>\n",
        "</p>\n",
        "</details>\n",
        "\n",
        "Nu när vi kan få fram medelvärdet från varje stad vill vi ta medelvärdet av alla dessa olika värden.\n",
        "\n",
        "**Uppdrag:** Skapa en lista `total_mean` och en lista `years` på liknande sätt som vi gjorde med Lund. `total_mean` ska innehålla medelvärdet från varje stad av värdena vi får från `mean_by_year` och `years` ska innehålla varje år för medeltemperaturerna. Slutligen ska du plotta värdena. Ser du fortfarande en trend? Är den tydligare eller otydligare? Varför?"
      ]
    },
    {
      "cell_type": "code",
      "metadata": {
        "id": "diEFZiMOVOBT",
        "colab_type": "code",
        "colab": {}
      },
      "source": [
        ""
      ],
      "execution_count": 0,
      "outputs": []
    },
    {
      "cell_type": "markdown",
      "metadata": {
        "id": "-m7nAI-LVOW2",
        "colab_type": "text"
      },
      "source": [
        "<details>\n",
        "<summary markdown=\"span\">\n",
        "Lösning\n",
        "</summary>\n",
        "<p><pre><code>total_mean = []\n",
        "years = []\n",
        "for year in range(1961, 2018):\n",
        "    cities = list(data.keys())\n",
        "    city_means = []\n",
        "    for city in cities:\n",
        "        city_means.append(mean_by_year(city, year))\n",
        "    total_mean.append(avg(city_means))\n",
        "    years.append(year)\n",
        "plot(x=years, y=total_mean)</code>\n",
        "</pre>\n",
        "</p>\n",
        "</details>\n"
      ]
    },
    {
      "cell_type": "markdown",
      "metadata": {
        "id": "tKjk6cVDVPQG",
        "colab_type": "text"
      },
      "source": [
        "## 6. Frivilligt: Refaktorisering med hjälp av nya funktioner\n",
        "\n",
        "Många av upppdragen som vi här löst med `for`-loopar går även att lösa med funktionen `filter()`. Tillexempel kan man skriva `list(filter(lambda x: x[0] == 2016, lund))` för att plocka ut all data där året motsvarar 2016 för `lund`. `filter()` tar emot en funktion och en lista. Den kör funktionen på varje element i listan och om resultatet är `True` så behåller filter värdet, annars slängs det.`filter()` returnerar dock inte en lista direkt, så vi använder `list()` för att få det som en lista igen.\n",
        "\n",
        "Det finns även en funktion `map()` som kan vara användbar för vissa av de tidigare uppdragen. `map()` tar emot en funktion och en lista för att sedan köra funktionen på varje element i listan. `map()`, likt `filter()`, returnerar inte en lista direkt så du behöver använda `list(map())` för att lägga tillbaka ditt resultat i en lista.\n",
        "\n",
        "**Uppdrag:** Försök lösa något av de tidigare uppdragen med `filter()` eller `map()` istället!"
      ]
    },
    {
      "cell_type": "code",
      "metadata": {
        "id": "9EhHCgK8VS9u",
        "colab_type": "code",
        "colab": {}
      },
      "source": [
        ""
      ],
      "execution_count": 0,
      "outputs": []
    },
    {
      "cell_type": "markdown",
      "metadata": {
        "id": "TOFArrPCVTaU",
        "colab_type": "text"
      },
      "source": [
        "<details>\n",
        "<summary markdown=\"span\">\n",
        "Tips för <code>map()</code>\n",
        "</summary>\n",
        "<p>Du kan till exempel använda <code>map()</code> för att ta fram listan <code>temps</code>.\n",
        "</p>\n",
        "</details>\n",
        "\n",
        "<details>\n",
        "<summary markdown=\"span\">\n",
        "Tips för <code>filter()</code>\n",
        "</summary>\n",
        "<p> Funktionen <code>data_by_year()</code> kan skrivas med <code>filter()</code>, kan du komma på hur?\n",
        "</p>\n",
        "</details>\n",
        "\n",
        "<details>\n",
        "<summary markdown=\"span\">\n",
        "Exempellösning för <code>map()</code>\n",
        "</summary>\n",
        "<p><code>temps = list(map(lambda x: x[3], lund))</code>\n",
        "</p>\n",
        "</details>\n",
        "\n",
        "<details>\n",
        "<summary markdown=\"span\">\n",
        "Exempellösning för <code>filter()</code>\n",
        "</summary>\n",
        "<p><pre>def data_by_year(year, city_data):\n",
        "    return list(filter(lambda x: x[0] == year, city_data))</pre>\n",
        "</p>\n",
        "</details>    \n",
        "\n",
        "# Fortsättningsuppgifter\n",
        "- Utforska mer med hjälp av datan. Hur ser det ut om du till exempel tar medelvärdet över var femte år istället för varje år?\n",
        "- Vilken dag har varit kallast respektive varmast?\n",
        "- Vilka år har det (troligtvis) varit snö på julafton? Hur avgör du detta?"
      ]
    }
  ]
}